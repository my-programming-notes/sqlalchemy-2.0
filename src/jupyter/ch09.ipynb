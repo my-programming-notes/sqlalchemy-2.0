{
 "cells": [
  {
   "cell_type": "markdown",
   "metadata": {},
   "source": [
    "# Chapter 9: Using the Session"
   ]
  },
  {
   "cell_type": "markdown",
   "metadata": {},
   "source": [
    "Postponed Evaluation of Annotations:"
   ]
  },
  {
   "cell_type": "code",
   "execution_count": 359,
   "metadata": {},
   "outputs": [],
   "source": [
    "from __future__ import annotations"
   ]
  },
  {
   "cell_type": "markdown",
   "metadata": {},
   "source": [
    "Necessary imports:"
   ]
  },
  {
   "cell_type": "code",
   "execution_count": 360,
   "metadata": {},
   "outputs": [],
   "source": [
    "from sqlalchemy import create_engine"
   ]
  },
  {
   "cell_type": "code",
   "execution_count": 361,
   "metadata": {},
   "outputs": [],
   "source": [
    "from sqlalchemy.orm import sessionmaker"
   ]
  },
  {
   "cell_type": "markdown",
   "metadata": {},
   "source": [
    "We will use memory storage for this chapter:"
   ]
  },
  {
   "cell_type": "code",
   "execution_count": 362,
   "metadata": {},
   "outputs": [],
   "source": [
    "DATABASE_URL = \"sqlite+pysqlite:///:memory:\""
   ]
  },
  {
   "cell_type": "markdown",
   "metadata": {},
   "source": [
    "Engine:"
   ]
  },
  {
   "cell_type": "code",
   "execution_count": 363,
   "metadata": {},
   "outputs": [],
   "source": [
    "engine = create_engine(\n",
    "    DATABASE_URL,\n",
    "    echo=True,\n",
    ")"
   ]
  },
  {
   "cell_type": "markdown",
   "metadata": {},
   "source": [
    "Configuring a session factory:"
   ]
  },
  {
   "cell_type": "code",
   "execution_count": 364,
   "metadata": {},
   "outputs": [],
   "source": [
    "SessionMaker = sessionmaker(\n",
    "    bind=engine,\n",
    "    expire_on_commit=True,\n",
    "    autoflush=True,\n",
    ")"
   ]
  },
  {
   "cell_type": "markdown",
   "metadata": {},
   "source": [
    "Imports and re-usable types:"
   ]
  },
  {
   "cell_type": "code",
   "execution_count": 365,
   "metadata": {},
   "outputs": [],
   "source": [
    "import datetime\n",
    "from typing import Annotated\n",
    "\n",
    "from sqlalchemy import (CheckConstraint, ForeignKey, String)\n",
    "from sqlalchemy.orm import (DeclarativeBase, Mapped, MappedAsDataclass,\n",
    "                            mapped_column, relationship,)"
   ]
  },
  {
   "cell_type": "code",
   "execution_count": 366,
   "metadata": {},
   "outputs": [],
   "source": [
    "int_pk = Annotated[\n",
    "    int,\n",
    "    mapped_column(\n",
    "        primary_key=True,\n",
    "    )\n",
    "]\n",
    "date_auto = Annotated[\n",
    "    datetime.date,\n",
    "    mapped_column(\n",
    "        default=datetime.date.today,\n",
    "    )\n",
    "]\n",
    "str_127 = Annotated[\n",
    "    str,\n",
    "    mapped_column(\n",
    "        String(127),\n",
    "    )\n",
    "]"
   ]
  },
  {
   "cell_type": "markdown",
   "metadata": {},
   "source": [
    "Declarative base class with dataclass integration:"
   ]
  },
  {
   "cell_type": "code",
   "execution_count": 367,
   "metadata": {},
   "outputs": [],
   "source": [
    "class Base(MappedAsDataclass, DeclarativeBase):\n",
    "    pass"
   ]
  },
  {
   "cell_type": "markdown",
   "metadata": {},
   "source": [
    "Employee model:"
   ]
  },
  {
   "cell_type": "code",
   "execution_count": 368,
   "metadata": {},
   "outputs": [],
   "source": [
    "class Employee(Base):\n",
    "    __tablename__ = \"employee\"\n",
    "\n",
    "    employee_id: Mapped[int_pk] = mapped_column(init=False)\n",
    "\n",
    "    manager_id: Mapped[int | None] = mapped_column(\n",
    "        ForeignKey(\"employee.employee_id\"),\n",
    "        default=None,\n",
    "    )\n",
    "\n",
    "    name: Mapped[str_127] = mapped_column(\n",
    "        CheckConstraint(\n",
    "            \"length(name)>0\",\n",
    "            name=\"name_length_must_be_at_least_one_character\",\n",
    "        ),\n",
    "        default=\"\",\n",
    "    )\n",
    "    is_manager: Mapped[bool] = mapped_column(default=False)\n",
    "    hire_date: Mapped[date_auto] = mapped_column(default=None)\n",
    "\n",
    "    # self-referential relationship: manager/employees\n",
    "    manager: Mapped[Employee] = relationship(\n",
    "        back_populates=\"employees\",\n",
    "        remote_side=[employee_id],\n",
    "        init=False,\n",
    "        repr=False,\n",
    "    )\n",
    "    employees: Mapped[list[Employee]] = relationship(\n",
    "        back_populates=\"manager\",\n",
    "        init=False,\n",
    "        repr=False,\n",
    "    )"
   ]
  },
  {
   "cell_type": "code",
   "execution_count": 369,
   "metadata": {},
   "outputs": [
    {
     "name": "stdout",
     "output_type": "stream",
     "text": [
      "2024-03-26 11:18:24,633 INFO sqlalchemy.engine.Engine BEGIN (implicit)\n",
      "2024-03-26 11:18:24,633 INFO sqlalchemy.engine.Engine PRAGMA main.table_info(\"employee\")\n",
      "2024-03-26 11:18:24,634 INFO sqlalchemy.engine.Engine [raw sql] ()\n",
      "2024-03-26 11:18:24,635 INFO sqlalchemy.engine.Engine PRAGMA temp.table_info(\"employee\")\n",
      "2024-03-26 11:18:24,635 INFO sqlalchemy.engine.Engine [raw sql] ()\n",
      "2024-03-26 11:18:24,636 INFO sqlalchemy.engine.Engine \n",
      "CREATE TABLE employee (\n",
      "\temployee_id INTEGER NOT NULL, \n",
      "\tmanager_id INTEGER, \n",
      "\tname VARCHAR(127) NOT NULL CONSTRAINT name_length_must_be_at_least_one_character CHECK (length(name)>0), \n",
      "\tis_manager BOOLEAN NOT NULL, \n",
      "\thire_date DATE NOT NULL, \n",
      "\tPRIMARY KEY (employee_id), \n",
      "\tFOREIGN KEY(manager_id) REFERENCES employee (employee_id)\n",
      ")\n",
      "\n",
      "\n",
      "2024-03-26 11:18:24,637 INFO sqlalchemy.engine.Engine [no key 0.00033s] ()\n",
      "2024-03-26 11:18:24,637 INFO sqlalchemy.engine.Engine COMMIT\n"
     ]
    }
   ],
   "source": [
    "Base.metadata.create_all(engine)"
   ]
  },
  {
   "cell_type": "markdown",
   "metadata": {},
   "source": [
    "## Object States in a Session"
   ]
  },
  {
   "cell_type": "code",
   "execution_count": 370,
   "metadata": {},
   "outputs": [],
   "source": [
    "from sqlalchemy import inspect"
   ]
  },
  {
   "cell_type": "code",
   "execution_count": 371,
   "metadata": {},
   "outputs": [],
   "source": [
    "session = SessionMaker()"
   ]
  },
  {
   "cell_type": "markdown",
   "metadata": {},
   "source": [
    "A new ORM object starts in the **transient** state:"
   ]
  },
  {
   "cell_type": "code",
   "execution_count": 372,
   "metadata": {},
   "outputs": [],
   "source": [
    "nobody = Employee(name=\"Nobody\")"
   ]
  },
  {
   "cell_type": "code",
   "execution_count": 373,
   "metadata": {},
   "outputs": [
    {
     "name": "stdout",
     "output_type": "stream",
     "text": [
      "STATE: transient True\n"
     ]
    }
   ],
   "source": [
    "print(\"STATE: transient\", inspect(nobody).transient)  # True"
   ]
  },
  {
   "cell_type": "markdown",
   "metadata": {},
   "source": [
    "Adding this object to the session using the `Session.add()` method changes its state to **pending**:"
   ]
  },
  {
   "cell_type": "code",
   "execution_count": 374,
   "metadata": {},
   "outputs": [],
   "source": [
    "session.add(nobody)"
   ]
  },
  {
   "cell_type": "code",
   "execution_count": 375,
   "metadata": {},
   "outputs": [
    {
     "name": "stdout",
     "output_type": "stream",
     "text": [
      "STATE: pending True\n"
     ]
    }
   ],
   "source": [
    "print(\"STATE: pending\", inspect(nobody).pending)  # True"
   ]
  },
  {
   "cell_type": "markdown",
   "metadata": {},
   "source": [
    "We can inspect `Session.new` to view all \"new\" instances within this session:\n"
   ]
  },
  {
   "cell_type": "code",
   "execution_count": 376,
   "metadata": {},
   "outputs": [
    {
     "name": "stdout",
     "output_type": "stream",
     "text": [
      "IdentitySet([Employee(employee_id=None, manager_id=None, name='Nobody', is_manager=False, hire_date=None)])\n"
     ]
    }
   ],
   "source": [
    "print(session.new)"
   ]
  },
  {
   "cell_type": "code",
   "execution_count": 377,
   "metadata": {},
   "outputs": [
    {
     "name": "stdout",
     "output_type": "stream",
     "text": [
      "Object in session: True\n"
     ]
    }
   ],
   "source": [
    "print(\"Object in session:\", nobody in session)  # True"
   ]
  },
  {
   "cell_type": "markdown",
   "metadata": {},
   "source": [
    "To persist this instance, invoke `Session.flush()`. This changes the object state to **persistent**:"
   ]
  },
  {
   "cell_type": "code",
   "execution_count": 378,
   "metadata": {},
   "outputs": [
    {
     "name": "stdout",
     "output_type": "stream",
     "text": [
      "2024-03-26 11:18:24,701 INFO sqlalchemy.engine.Engine BEGIN (implicit)\n",
      "2024-03-26 11:18:24,703 INFO sqlalchemy.engine.Engine INSERT INTO employee (manager_id, name, is_manager, hire_date) VALUES (?, ?, ?, ?)\n",
      "2024-03-26 11:18:24,703 INFO sqlalchemy.engine.Engine [generated in 0.00063s] (None, 'Nobody', 0, '2024-03-26')\n"
     ]
    }
   ],
   "source": [
    "session.flush()"
   ]
  },
  {
   "cell_type": "code",
   "execution_count": 379,
   "metadata": {},
   "outputs": [
    {
     "name": "stdout",
     "output_type": "stream",
     "text": [
      "STATE: persistent True\n"
     ]
    }
   ],
   "source": [
    "print(\"STATE: persistent\", inspect(nobody).persistent) # True"
   ]
  },
  {
   "cell_type": "markdown",
   "metadata": {},
   "source": [
    "A primary key is generated and can be used to retrieve an instance using `Session.get()`:"
   ]
  },
  {
   "cell_type": "code",
   "execution_count": 380,
   "metadata": {},
   "outputs": [
    {
     "name": "stdout",
     "output_type": "stream",
     "text": [
      "Employee(employee_id=1, manager_id=None, name='Nobody', is_manager=False, hire_date=datetime.date(2024, 3, 26))\n"
     ]
    }
   ],
   "source": [
    "print(session.get(Employee, nobody.employee_id))"
   ]
  },
  {
   "cell_type": "markdown",
   "metadata": {},
   "source": [
    "When you delete an instance and \"flush\", the instance state transitions to **deleted**:"
   ]
  },
  {
   "cell_type": "code",
   "execution_count": 381,
   "metadata": {},
   "outputs": [],
   "source": [
    "session.delete(nobody)"
   ]
  },
  {
   "cell_type": "code",
   "execution_count": 382,
   "metadata": {},
   "outputs": [
    {
     "name": "stdout",
     "output_type": "stream",
     "text": [
      "2024-03-26 11:18:24,722 INFO sqlalchemy.engine.Engine SELECT employee.employee_id AS employee_employee_id, employee.manager_id AS employee_manager_id, employee.name AS employee_name, employee.is_manager AS employee_is_manager, employee.hire_date AS employee_hire_date \n",
      "FROM employee \n",
      "WHERE ? = employee.manager_id\n",
      "2024-03-26 11:18:24,723 INFO sqlalchemy.engine.Engine [generated in 0.00055s] (1,)\n",
      "2024-03-26 11:18:24,726 INFO sqlalchemy.engine.Engine DELETE FROM employee WHERE employee.employee_id = ?\n",
      "2024-03-26 11:18:24,726 INFO sqlalchemy.engine.Engine [generated in 0.00039s] (1,)\n"
     ]
    }
   ],
   "source": [
    "session.flush()"
   ]
  },
  {
   "cell_type": "code",
   "execution_count": 383,
   "metadata": {},
   "outputs": [
    {
     "name": "stdout",
     "output_type": "stream",
     "text": [
      "STATE: deleted True\n"
     ]
    }
   ],
   "source": [
    "print(\"STATE: deleted\", inspect(nobody).deleted)  # True"
   ]
  },
  {
   "cell_type": "markdown",
   "metadata": {},
   "source": [
    "After you commit the current transaction and close the session, the instance enters the **detached** state:"
   ]
  },
  {
   "cell_type": "code",
   "execution_count": 384,
   "metadata": {},
   "outputs": [
    {
     "name": "stdout",
     "output_type": "stream",
     "text": [
      "2024-03-26 11:18:24,734 INFO sqlalchemy.engine.Engine COMMIT\n"
     ]
    }
   ],
   "source": [
    "session.commit()"
   ]
  },
  {
   "cell_type": "code",
   "execution_count": 385,
   "metadata": {},
   "outputs": [],
   "source": [
    "session.close()"
   ]
  },
  {
   "cell_type": "code",
   "execution_count": 386,
   "metadata": {},
   "outputs": [
    {
     "name": "stdout",
     "output_type": "stream",
     "text": [
      "STATE: detached True\n"
     ]
    }
   ],
   "source": [
    "print(\"STATE: detached\", inspect(nobody).detached)  # True"
   ]
  },
  {
   "cell_type": "markdown",
   "metadata": {},
   "source": [
    "## Commit styles"
   ]
  },
  {
   "cell_type": "markdown",
   "metadata": {},
   "source": [
    "Dummy employee data:"
   ]
  },
  {
   "cell_type": "code",
   "execution_count": 387,
   "metadata": {},
   "outputs": [],
   "source": [
    "employee1 = Employee(name=\"One\")"
   ]
  },
  {
   "cell_type": "code",
   "execution_count": 388,
   "metadata": {},
   "outputs": [],
   "source": [
    "employee2 = Employee(name=\"Two\")"
   ]
  },
  {
   "cell_type": "code",
   "execution_count": 389,
   "metadata": {},
   "outputs": [],
   "source": [
    "employee3 = Employee(name=\"Three\")"
   ]
  },
  {
   "cell_type": "markdown",
   "metadata": {},
   "source": [
    "commit-as-you-go:"
   ]
  },
  {
   "cell_type": "code",
   "execution_count": 390,
   "metadata": {},
   "outputs": [
    {
     "name": "stdout",
     "output_type": "stream",
     "text": [
      "2024-03-26 11:18:24,756 INFO sqlalchemy.engine.Engine BEGIN (implicit)\n",
      "2024-03-26 11:18:24,757 INFO sqlalchemy.engine.Engine INSERT INTO employee (manager_id, name, is_manager, hire_date) VALUES (?, ?, ?, ?)\n",
      "2024-03-26 11:18:24,757 INFO sqlalchemy.engine.Engine [cached since 0.055s ago] (None, 'One', 0, '2024-03-26')\n",
      "2024-03-26 11:18:24,758 INFO sqlalchemy.engine.Engine COMMIT\n",
      "2024-03-26 11:18:24,759 INFO sqlalchemy.engine.Engine BEGIN (implicit)\n",
      "2024-03-26 11:18:24,759 INFO sqlalchemy.engine.Engine INSERT INTO employee (manager_id, name, is_manager, hire_date) VALUES (?, ?, ?, ?)\n",
      "2024-03-26 11:18:24,760 INFO sqlalchemy.engine.Engine [cached since 0.05707s ago] (None, 'Two', 0, '2024-03-26')\n",
      "2024-03-26 11:18:24,760 INFO sqlalchemy.engine.Engine COMMIT\n"
     ]
    }
   ],
   "source": [
    "with SessionMaker() as session:\n",
    "    session.add(employee1)\n",
    "    session.commit()  # commit as often as you need\n",
    "\n",
    "    session.add(employee2)\n",
    "    session.commit()  # commit as often as you need"
   ]
  },
  {
   "cell_type": "markdown",
   "metadata": {},
   "source": [
    "begin-once:"
   ]
  },
  {
   "cell_type": "code",
   "execution_count": 391,
   "metadata": {},
   "outputs": [
    {
     "name": "stdout",
     "output_type": "stream",
     "text": [
      "2024-03-26 11:18:24,764 INFO sqlalchemy.engine.Engine BEGIN (implicit)\n",
      "2024-03-26 11:18:24,765 INFO sqlalchemy.engine.Engine INSERT INTO employee (manager_id, name, is_manager, hire_date) VALUES (?, ?, ?, ?)\n",
      "2024-03-26 11:18:24,765 INFO sqlalchemy.engine.Engine [cached since 0.06244s ago] (None, 'Three', 0, '2024-03-26')\n",
      "2024-03-26 11:18:24,766 INFO sqlalchemy.engine.Engine COMMIT\n"
     ]
    }
   ],
   "source": [
    "with SessionMaker.begin() as session:\n",
    "    session.add(employee3)\n",
    "# commits transaction and closes session"
   ]
  },
  {
   "cell_type": "markdown",
   "metadata": {},
   "source": [
    "Let's check what has been written to the employee table:"
   ]
  },
  {
   "cell_type": "code",
   "execution_count": 392,
   "metadata": {},
   "outputs": [],
   "source": [
    "from sqlalchemy import select"
   ]
  },
  {
   "cell_type": "code",
   "execution_count": 393,
   "metadata": {},
   "outputs": [],
   "source": [
    "stmt = select(Employee)"
   ]
  },
  {
   "cell_type": "code",
   "execution_count": 394,
   "metadata": {},
   "outputs": [
    {
     "name": "stdout",
     "output_type": "stream",
     "text": [
      "2024-03-26 11:18:24,776 INFO sqlalchemy.engine.Engine BEGIN (implicit)\n",
      "2024-03-26 11:18:24,777 INFO sqlalchemy.engine.Engine SELECT employee.employee_id, employee.manager_id, employee.name, employee.is_manager, employee.hire_date \n",
      "FROM employee\n",
      "2024-03-26 11:18:24,777 INFO sqlalchemy.engine.Engine [generated in 0.00038s] ()\n",
      "Employee(employee_id=1, manager_id=None, name='One', is_manager=False, hire_date=datetime.date(2024, 3, 26))\n",
      "Employee(employee_id=2, manager_id=None, name='Two', is_manager=False, hire_date=datetime.date(2024, 3, 26))\n",
      "Employee(employee_id=3, manager_id=None, name='Three', is_manager=False, hire_date=datetime.date(2024, 3, 26))\n",
      "2024-03-26 11:18:24,778 INFO sqlalchemy.engine.Engine ROLLBACK\n"
     ]
    }
   ],
   "source": [
    "with SessionMaker() as session:\n",
    "    for employee in session.scalars(stmt):\n",
    "        print(employee)"
   ]
  }
 ],
 "metadata": {
  "kernelspec": {
   "display_name": "mybook_py310",
   "language": "python",
   "name": "python3"
  },
  "language_info": {
   "codemirror_mode": {
    "name": "ipython",
    "version": 3
   },
   "file_extension": ".py",
   "mimetype": "text/x-python",
   "name": "python",
   "nbconvert_exporter": "python",
   "pygments_lexer": "ipython3",
   "version": "3.10.10"
  }
 },
 "nbformat": 4,
 "nbformat_minor": 2
}
