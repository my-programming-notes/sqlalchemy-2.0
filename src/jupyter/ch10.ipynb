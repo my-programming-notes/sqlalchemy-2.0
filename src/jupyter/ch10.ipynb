{
 "cells": [
  {
   "cell_type": "markdown",
   "metadata": {},
   "source": [
    "# Chapter 10: Working with Data (ORM)"
   ]
  },
  {
   "cell_type": "markdown",
   "metadata": {},
   "source": [
    "We would be using ORM models with Python dataclass integration. These are copied\n",
    "from chapter 8.\n"
   ]
  },
  {
   "cell_type": "code",
   "execution_count": 164,
   "metadata": {},
   "outputs": [],
   "source": [
    "import logging\n",
    "\n",
    "DEBUG = True  # control logs with this variable\n",
    "\n",
    "if not DEBUG:\n",
    "    logging.disable(logging.INFO)"
   ]
  },
  {
   "cell_type": "markdown",
   "metadata": {},
   "source": [
    "Postponed Evaluation of Annotations:"
   ]
  },
  {
   "cell_type": "code",
   "execution_count": 165,
   "metadata": {},
   "outputs": [],
   "source": [
    "from __future__ import annotations  # PEP-563"
   ]
  },
  {
   "cell_type": "markdown",
   "metadata": {},
   "source": [
    "Necessary imports:"
   ]
  },
  {
   "cell_type": "code",
   "execution_count": 166,
   "metadata": {},
   "outputs": [],
   "source": [
    "import datetime\n",
    "import enum\n",
    "from decimal import Decimal\n",
    "from typing import Annotated\n",
    "\n",
    "from sqlalchemy import (CheckConstraint, ForeignKey, Index, Numeric, String,\n",
    "                        create_engine)\n",
    "from sqlalchemy.ext.associationproxy import AssociationProxy, association_proxy\n",
    "from sqlalchemy.orm import (DeclarativeBase, Mapped, MappedAsDataclass,\n",
    "                            mapped_column, query_expression, relationship,\n",
    "                            sessionmaker)"
   ]
  },
  {
   "cell_type": "markdown",
   "metadata": {},
   "source": [
    "SQLite database:"
   ]
  },
  {
   "cell_type": "code",
   "execution_count": 167,
   "metadata": {},
   "outputs": [],
   "source": [
    "DATABASE_URL = \"sqlite+pysqlite:///store.db\""
   ]
  },
  {
   "cell_type": "code",
   "execution_count": 168,
   "metadata": {},
   "outputs": [],
   "source": [
    "engine = create_engine(\n",
    "    DATABASE_URL,\n",
    "    echo=True,\n",
    ")"
   ]
  },
  {
   "cell_type": "markdown",
   "metadata": {},
   "source": [
    "Session maker factory:"
   ]
  },
  {
   "cell_type": "code",
   "execution_count": 169,
   "metadata": {},
   "outputs": [],
   "source": [
    "SessionMaker = sessionmaker(\n",
    "    bind=engine,\n",
    "    expire_on_commit=True,  # default\n",
    "    autoflush=True,  # default\n",
    ")"
   ]
  },
  {
   "cell_type": "markdown",
   "metadata": {},
   "source": [
    "Base class with Python dataclass integration:"
   ]
  },
  {
   "cell_type": "code",
   "execution_count": 170,
   "metadata": {},
   "outputs": [],
   "source": [
    "class Base(MappedAsDataclass, DeclarativeBase):\n",
    "    pass"
   ]
  },
  {
   "cell_type": "markdown",
   "metadata": {},
   "source": [
    "Product type enumeration:"
   ]
  },
  {
   "cell_type": "code",
   "execution_count": 171,
   "metadata": {},
   "outputs": [],
   "source": [
    "class ProductType(enum.Enum):\n",
    "    PHONE = 0\n",
    "    ACCESSORY = 1\n",
    "    OTHER = 2"
   ]
  },
  {
   "cell_type": "markdown",
   "metadata": {},
   "source": [
    "Re-usable types:"
   ]
  },
  {
   "cell_type": "code",
   "execution_count": 172,
   "metadata": {},
   "outputs": [],
   "source": [
    "int_pk = Annotated[\n",
    "    int,\n",
    "    mapped_column(\n",
    "        primary_key=True,\n",
    "    )\n",
    "]\n",
    "date_auto = Annotated[\n",
    "    datetime.date,\n",
    "    mapped_column(\n",
    "        default=datetime.date.today,\n",
    "    )\n",
    "]\n",
    "timestamp_auto = Annotated[\n",
    "    datetime.datetime,\n",
    "    mapped_column(\n",
    "        default=datetime.datetime.now,\n",
    "    ),\n",
    "]\n",
    "str_127 = Annotated[\n",
    "    str,\n",
    "    mapped_column(\n",
    "        String(127),\n",
    "    )\n",
    "]\n",
    "str_255 = Annotated[\n",
    "    str,\n",
    "    mapped_column(\n",
    "        String(255),\n",
    "    )\n",
    "]\n",
    "num_12_2 = Annotated[\n",
    "    Decimal,\n",
    "    mapped_column(\n",
    "        Numeric(12, 2),\n",
    "    )\n",
    "]"
   ]
  },
  {
   "cell_type": "markdown",
   "metadata": {},
   "source": [
    "Employee:"
   ]
  },
  {
   "cell_type": "code",
   "execution_count": 173,
   "metadata": {},
   "outputs": [],
   "source": [
    "class Employee(Base):\n",
    "    __tablename__ = \"employee\"\n",
    "\n",
    "    employee_id: Mapped[int_pk] = mapped_column(init=False)\n",
    "\n",
    "    manager_id: Mapped[int | None] = mapped_column(\n",
    "        ForeignKey(\"employee.employee_id\"),\n",
    "        default=None,\n",
    "    )\n",
    "\n",
    "    name: Mapped[str_127] = mapped_column(\n",
    "        CheckConstraint(\n",
    "            \"length(name)>0\",\n",
    "            name=\"name_length_must_be_at_least_one_character\",\n",
    "        ),\n",
    "        default=\"\",\n",
    "    )\n",
    "    is_manager: Mapped[bool] = mapped_column(default=False)\n",
    "    hire_date: Mapped[date_auto] = mapped_column(default=None)\n",
    "\n",
    "    # self-referential relationship: manager/employees\n",
    "    manager: Mapped[Employee] = relationship(\n",
    "        back_populates=\"employees\",\n",
    "        remote_side=[employee_id],\n",
    "        init=False,\n",
    "        repr=False,\n",
    "    )\n",
    "    employees: Mapped[list[Employee]] = relationship(\n",
    "        back_populates=\"manager\",\n",
    "        init=False,\n",
    "        repr=False,\n",
    "    )\n",
    "\n",
    "    orders: Mapped[list[Order]] = relationship(\n",
    "        back_populates=\"employee\",\n",
    "        init=False,\n",
    "        repr=False,\n",
    "    )"
   ]
  },
  {
   "cell_type": "markdown",
   "metadata": {},
   "source": [
    "Customer:"
   ]
  },
  {
   "cell_type": "code",
   "execution_count": 174,
   "metadata": {},
   "outputs": [],
   "source": [
    "class Customer(Base):\n",
    "    __tablename__ = \"customer\"\n",
    "\n",
    "    customer_id: Mapped[int_pk] = mapped_column(init=False)\n",
    "\n",
    "    first_name: Mapped[str_127]\n",
    "    last_name: Mapped[str_127]\n",
    "    address: Mapped[str_255] = mapped_column(\n",
    "        # deferring will cause this column to be\n",
    "        # updated by session.merge() every time!\n",
    "        deferred=True,  # lazy load this column\n",
    "        deferred_group=\"customer_attributes\",\n",
    "    )\n",
    "    email: Mapped[str_127] = mapped_column(unique=True)\n",
    "\n",
    "    order_count: Mapped[int] = query_expression(repr=False)\n",
    "\n",
    "    __table_args__ = (\n",
    "        Index(\"customer_full_name\", \"first_name\", \"last_name\"),\n",
    "    )\n",
    "\n",
    "    orders: Mapped[list[Order]] = relationship(\n",
    "        # lazy loading (default): \"select\" (named since a SELECT is emitted)\n",
    "        # eager loading: \"selectin\", \"joined\"\n",
    "        lazy=\"select\",\n",
    "        back_populates=\"customer\",\n",
    "        init=False,\n",
    "        repr=False,\n",
    "        order_by=\"desc(Order.order_id)\",\n",
    "    )"
   ]
  },
  {
   "cell_type": "markdown",
   "metadata": {},
   "source": [
    "Order:"
   ]
  },
  {
   "cell_type": "code",
   "execution_count": 175,
   "metadata": {},
   "outputs": [],
   "source": [
    "class Order(Base):\n",
    "    __tablename__ = \"order\"\n",
    "\n",
    "    order_id: Mapped[int_pk] = mapped_column(init=False)\n",
    "\n",
    "    customer_id: Mapped[int] = mapped_column(\n",
    "        ForeignKey(\"customer.customer_id\"),\n",
    "        default=None,\n",
    "    )\n",
    "    employee_id: Mapped[int | None] = mapped_column(\n",
    "        ForeignKey(\"employee.employee_id\"),\n",
    "        default=None,\n",
    "    )\n",
    "\n",
    "    order_datetime: Mapped[timestamp_auto] = mapped_column(init=False)\n",
    "    is_shipped: Mapped[bool] = mapped_column(default=False)\n",
    "\n",
    "    customer: Mapped[Customer] = relationship(\n",
    "        back_populates=\"orders\",\n",
    "        init=False,\n",
    "        repr=False,\n",
    "    )\n",
    "    employee: Mapped[Employee | None] = relationship(\n",
    "        back_populates=\"orders\",\n",
    "        init=False,\n",
    "        repr=False,\n",
    "    )\n",
    "\n",
    "    # relationship with associative table:\n",
    "    order_details: Mapped[list[OrderDetail]] = relationship(\n",
    "        back_populates=\"order\",\n",
    "        init=False,\n",
    "        repr=False,\n",
    "        # cascade delete and delete orphan (matches database FK constraint)\n",
    "        cascade=\"all, delete-orphan\",\n",
    "        # indicates cascade rule already set on FK\n",
    "        # and does not load unloaded children\n",
    "        passive_deletes=True,\n",
    "    )\n",
    "\n",
    "    # many-to-many relationship with `Product`, bypassing `OrderDetail`\n",
    "    products: Mapped[list[Product]] = relationship(\n",
    "        init=False,\n",
    "        repr=False,\n",
    "        secondary=\"order_detail\",\n",
    "        back_populates=\"orders\",\n",
    "        viewonly=True,  # avoid conflicting changes between relations\n",
    "    )\n",
    "\n",
    "    product_names: AssociationProxy[list[str]] = association_proxy(\n",
    "        \"products\",\n",
    "        \"product_name\",\n",
    "        init=False,\n",
    "        repr=False,\n",
    "    )"
   ]
  },
  {
   "cell_type": "markdown",
   "metadata": {},
   "source": [
    "OrderDetail:"
   ]
  },
  {
   "cell_type": "code",
   "execution_count": 176,
   "metadata": {},
   "outputs": [],
   "source": [
    "class OrderDetail(Base):\n",
    "    \"\"\"\n",
    "    Association object pattern.\n",
    "    This uses the associative table between Order and Product.\n",
    "    \"\"\"\n",
    "    __tablename__ = \"order_detail\"\n",
    "\n",
    "    order_id: Mapped[int] = mapped_column(\n",
    "        # database side: ON DELETE CASCADE\n",
    "        ForeignKey(\"order.order_id\", ondelete=\"CASCADE\"),\n",
    "        primary_key=True,\n",
    "        default=None,\n",
    "    )\n",
    "    product_id: Mapped[int] = mapped_column(\n",
    "        ForeignKey(\"product.product_id\"),\n",
    "        primary_key=True,\n",
    "        default=None,\n",
    "    )\n",
    "\n",
    "    quantity: Mapped[int] = mapped_column(\n",
    "        CheckConstraint(\n",
    "            \"quantity>0\",\n",
    "            name=\"num_of_ordered_item_must_be_positive\",\n",
    "        ),\n",
    "        default=1,\n",
    "    )\n",
    "\n",
    "    order: Mapped[Order] = relationship(\n",
    "        back_populates=\"order_details\",\n",
    "        init=False,\n",
    "        repr=False,\n",
    "    )\n",
    "\n",
    "    product: Mapped[Product] = relationship(\n",
    "        back_populates=\"order_details\",\n",
    "        init=False,\n",
    "        repr=False,\n",
    "    )"
   ]
  },
  {
   "cell_type": "markdown",
   "metadata": {},
   "source": [
    "Product:"
   ]
  },
  {
   "cell_type": "code",
   "execution_count": 177,
   "metadata": {},
   "outputs": [],
   "source": [
    "class Product(Base, repr=False):  # type: ignore\n",
    "    __tablename__ = \"product\"\n",
    "\n",
    "    product_id: Mapped[int_pk] = mapped_column(init=False)\n",
    "\n",
    "    product_name: Mapped[str_255] = mapped_column(index=True)\n",
    "    unit_price: Mapped[num_12_2] = mapped_column(\n",
    "        CheckConstraint(\"unit_price>0\"))\n",
    "    units_in_stock: Mapped[int] = mapped_column(\n",
    "        CheckConstraint(\"units_in_stock>=0\"),\n",
    "        default=0,\n",
    "    )\n",
    "    # enum: directly use `ProductType` here:\n",
    "    type: Mapped[ProductType] = mapped_column(\n",
    "        default=ProductType.OTHER,\n",
    "    )\n",
    "\n",
    "    order_details: Mapped[list[OrderDetail]] = relationship(\n",
    "        init=False,\n",
    "        repr=False,\n",
    "        back_populates=\"product\",\n",
    "    )\n",
    "\n",
    "    # many-to-many relationship to `Order`, bypassing `OrderDetail`\n",
    "    orders: Mapped[list[Order]] = relationship(\n",
    "        init=False,\n",
    "        secondary=\"order_detail\",\n",
    "        back_populates=\"products\",\n",
    "        viewonly=True,\n",
    "    )\n",
    "\n",
    "    # customize repr:\n",
    "    def __repr__(self) -> str:\n",
    "        return (\n",
    "            \"Product(\"\n",
    "            f\"product_id={self.product_id}, \"\n",
    "            f\"product_name='{self.product_name}', \"\n",
    "            f\"unit_price={self.unit_price}, \"\n",
    "            f\"units_in_stock={self.units_in_stock}, \"\n",
    "            f\"type='{self.type.name.lower()}'\"\n",
    "            \")\"\n",
    "        )"
   ]
  },
  {
   "cell_type": "markdown",
   "metadata": {},
   "source": [
    "Drop and re-create all tables:"
   ]
  },
  {
   "cell_type": "code",
   "execution_count": 178,
   "metadata": {},
   "outputs": [
    {
     "name": "stdout",
     "output_type": "stream",
     "text": [
      "2024-03-28 17:45:17,107 INFO sqlalchemy.engine.Engine BEGIN (implicit)\n",
      "2024-03-28 17:45:17,107 INFO sqlalchemy.engine.Engine PRAGMA main.table_info(\"employee\")\n",
      "2024-03-28 17:45:17,108 INFO sqlalchemy.engine.Engine [raw sql] ()\n",
      "2024-03-28 17:45:17,109 INFO sqlalchemy.engine.Engine PRAGMA main.table_info(\"customer\")\n",
      "2024-03-28 17:45:17,109 INFO sqlalchemy.engine.Engine [raw sql] ()\n",
      "2024-03-28 17:45:17,110 INFO sqlalchemy.engine.Engine PRAGMA main.table_info(\"order\")\n",
      "2024-03-28 17:45:17,111 INFO sqlalchemy.engine.Engine [raw sql] ()\n",
      "2024-03-28 17:45:17,111 INFO sqlalchemy.engine.Engine PRAGMA main.table_info(\"order_detail\")\n",
      "2024-03-28 17:45:17,112 INFO sqlalchemy.engine.Engine [raw sql] ()\n",
      "2024-03-28 17:45:17,113 INFO sqlalchemy.engine.Engine PRAGMA main.table_info(\"product\")\n",
      "2024-03-28 17:45:17,113 INFO sqlalchemy.engine.Engine [raw sql] ()\n",
      "2024-03-28 17:45:17,114 INFO sqlalchemy.engine.Engine \n",
      "DROP TABLE order_detail\n",
      "2024-03-28 17:45:17,114 INFO sqlalchemy.engine.Engine [no key 0.00036s] ()\n",
      "2024-03-28 17:45:17,117 INFO sqlalchemy.engine.Engine \n",
      "DROP TABLE \"order\"\n",
      "2024-03-28 17:45:17,117 INFO sqlalchemy.engine.Engine [no key 0.00041s] ()\n",
      "2024-03-28 17:45:17,120 INFO sqlalchemy.engine.Engine \n",
      "DROP TABLE product\n",
      "2024-03-28 17:45:17,121 INFO sqlalchemy.engine.Engine [no key 0.00061s] ()\n",
      "2024-03-28 17:45:17,124 INFO sqlalchemy.engine.Engine \n",
      "DROP TABLE customer\n",
      "2024-03-28 17:45:17,124 INFO sqlalchemy.engine.Engine [no key 0.00076s] ()\n",
      "2024-03-28 17:45:17,128 INFO sqlalchemy.engine.Engine \n",
      "DROP TABLE employee\n",
      "2024-03-28 17:45:17,128 INFO sqlalchemy.engine.Engine [no key 0.00048s] ()\n",
      "2024-03-28 17:45:17,131 INFO sqlalchemy.engine.Engine COMMIT\n"
     ]
    }
   ],
   "source": [
    "Base.metadata.drop_all(engine)"
   ]
  },
  {
   "cell_type": "code",
   "execution_count": 179,
   "metadata": {},
   "outputs": [
    {
     "name": "stdout",
     "output_type": "stream",
     "text": [
      "2024-03-28 17:45:17,137 INFO sqlalchemy.engine.Engine BEGIN (implicit)\n",
      "2024-03-28 17:45:17,138 INFO sqlalchemy.engine.Engine PRAGMA main.table_info(\"employee\")\n",
      "2024-03-28 17:45:17,139 INFO sqlalchemy.engine.Engine [raw sql] ()\n",
      "2024-03-28 17:45:17,139 INFO sqlalchemy.engine.Engine PRAGMA temp.table_info(\"employee\")\n",
      "2024-03-28 17:45:17,140 INFO sqlalchemy.engine.Engine [raw sql] ()\n",
      "2024-03-28 17:45:17,140 INFO sqlalchemy.engine.Engine PRAGMA main.table_info(\"customer\")\n",
      "2024-03-28 17:45:17,141 INFO sqlalchemy.engine.Engine [raw sql] ()\n",
      "2024-03-28 17:45:17,141 INFO sqlalchemy.engine.Engine PRAGMA temp.table_info(\"customer\")\n",
      "2024-03-28 17:45:17,142 INFO sqlalchemy.engine.Engine [raw sql] ()\n",
      "2024-03-28 17:45:17,142 INFO sqlalchemy.engine.Engine PRAGMA main.table_info(\"order\")\n",
      "2024-03-28 17:45:17,142 INFO sqlalchemy.engine.Engine [raw sql] ()\n",
      "2024-03-28 17:45:17,143 INFO sqlalchemy.engine.Engine PRAGMA temp.table_info(\"order\")\n",
      "2024-03-28 17:45:17,143 INFO sqlalchemy.engine.Engine [raw sql] ()\n",
      "2024-03-28 17:45:17,144 INFO sqlalchemy.engine.Engine PRAGMA main.table_info(\"order_detail\")\n",
      "2024-03-28 17:45:17,144 INFO sqlalchemy.engine.Engine [raw sql] ()\n",
      "2024-03-28 17:45:17,145 INFO sqlalchemy.engine.Engine PRAGMA temp.table_info(\"order_detail\")\n",
      "2024-03-28 17:45:17,145 INFO sqlalchemy.engine.Engine [raw sql] ()\n",
      "2024-03-28 17:45:17,146 INFO sqlalchemy.engine.Engine PRAGMA main.table_info(\"product\")\n",
      "2024-03-28 17:45:17,146 INFO sqlalchemy.engine.Engine [raw sql] ()\n",
      "2024-03-28 17:45:17,147 INFO sqlalchemy.engine.Engine PRAGMA temp.table_info(\"product\")\n",
      "2024-03-28 17:45:17,147 INFO sqlalchemy.engine.Engine [raw sql] ()\n",
      "2024-03-28 17:45:17,148 INFO sqlalchemy.engine.Engine \n",
      "CREATE TABLE employee (\n",
      "\temployee_id INTEGER NOT NULL, \n",
      "\tmanager_id INTEGER, \n",
      "\tname VARCHAR(127) NOT NULL CONSTRAINT name_length_must_be_at_least_one_character CHECK (length(name)>0), \n",
      "\tis_manager BOOLEAN NOT NULL, \n",
      "\thire_date DATE NOT NULL, \n",
      "\tPRIMARY KEY (employee_id), \n",
      "\tFOREIGN KEY(manager_id) REFERENCES employee (employee_id)\n",
      ")\n",
      "\n",
      "\n",
      "2024-03-28 17:45:17,149 INFO sqlalchemy.engine.Engine [no key 0.00050s] ()\n",
      "2024-03-28 17:45:17,152 INFO sqlalchemy.engine.Engine \n",
      "CREATE TABLE customer (\n",
      "\tcustomer_id INTEGER NOT NULL, \n",
      "\tfirst_name VARCHAR(127) NOT NULL, \n",
      "\tlast_name VARCHAR(127) NOT NULL, \n",
      "\taddress VARCHAR(255) NOT NULL, \n",
      "\temail VARCHAR(127) NOT NULL, \n",
      "\tPRIMARY KEY (customer_id), \n",
      "\tUNIQUE (email)\n",
      ")\n",
      "\n",
      "\n",
      "2024-03-28 17:45:17,153 INFO sqlalchemy.engine.Engine [no key 0.00047s] ()\n",
      "2024-03-28 17:45:17,156 INFO sqlalchemy.engine.Engine CREATE INDEX customer_full_name ON customer (first_name, last_name)\n",
      "2024-03-28 17:45:17,156 INFO sqlalchemy.engine.Engine [no key 0.00036s] ()\n",
      "2024-03-28 17:45:17,159 INFO sqlalchemy.engine.Engine \n",
      "CREATE TABLE product (\n",
      "\tproduct_id INTEGER NOT NULL, \n",
      "\tproduct_name VARCHAR(255) NOT NULL, \n",
      "\tunit_price NUMERIC(12, 2) NOT NULL CHECK (unit_price>0), \n",
      "\tunits_in_stock INTEGER NOT NULL CHECK (units_in_stock>=0), \n",
      "\ttype VARCHAR(9) NOT NULL, \n",
      "\tPRIMARY KEY (product_id)\n",
      ")\n",
      "\n",
      "\n",
      "2024-03-28 17:45:17,159 INFO sqlalchemy.engine.Engine [no key 0.00035s] ()\n",
      "2024-03-28 17:45:17,162 INFO sqlalchemy.engine.Engine CREATE INDEX ix_product_product_name ON product (product_name)\n",
      "2024-03-28 17:45:17,163 INFO sqlalchemy.engine.Engine [no key 0.00038s] ()\n",
      "2024-03-28 17:45:17,165 INFO sqlalchemy.engine.Engine \n",
      "CREATE TABLE \"order\" (\n",
      "\torder_id INTEGER NOT NULL, \n",
      "\tcustomer_id INTEGER NOT NULL, \n",
      "\temployee_id INTEGER, \n",
      "\torder_datetime DATETIME NOT NULL, \n",
      "\tis_shipped BOOLEAN NOT NULL, \n",
      "\tPRIMARY KEY (order_id), \n",
      "\tFOREIGN KEY(customer_id) REFERENCES customer (customer_id), \n",
      "\tFOREIGN KEY(employee_id) REFERENCES employee (employee_id)\n",
      ")\n",
      "\n",
      "\n",
      "2024-03-28 17:45:17,166 INFO sqlalchemy.engine.Engine [no key 0.00031s] ()\n",
      "2024-03-28 17:45:17,169 INFO sqlalchemy.engine.Engine \n",
      "CREATE TABLE order_detail (\n",
      "\torder_id INTEGER NOT NULL, \n",
      "\tproduct_id INTEGER NOT NULL, \n",
      "\tquantity INTEGER NOT NULL CONSTRAINT num_of_ordered_item_must_be_positive CHECK (quantity>0), \n",
      "\tPRIMARY KEY (order_id, product_id), \n",
      "\tFOREIGN KEY(order_id) REFERENCES \"order\" (order_id) ON DELETE CASCADE, \n",
      "\tFOREIGN KEY(product_id) REFERENCES product (product_id)\n",
      ")\n",
      "\n",
      "\n",
      "2024-03-28 17:45:17,169 INFO sqlalchemy.engine.Engine [no key 0.00045s] ()\n",
      "2024-03-28 17:45:17,172 INFO sqlalchemy.engine.Engine COMMIT\n"
     ]
    }
   ],
   "source": [
    "Base.metadata.create_all(engine)"
   ]
  },
  {
   "cell_type": "markdown",
   "metadata": {},
   "source": [
    "## Creating Data"
   ]
  },
  {
   "cell_type": "code",
   "execution_count": 180,
   "metadata": {},
   "outputs": [],
   "source": [
    "session = SessionMaker()"
   ]
  },
  {
   "cell_type": "markdown",
   "metadata": {},
   "source": [
    "Create employees:"
   ]
  },
  {
   "cell_type": "markdown",
   "metadata": {},
   "source": [
    "Adding Alice and her two subordinates Bob and Cathy:"
   ]
  },
  {
   "cell_type": "code",
   "execution_count": 181,
   "metadata": {},
   "outputs": [],
   "source": [
    "from datetime import date, timedelta"
   ]
  },
  {
   "cell_type": "code",
   "execution_count": 182,
   "metadata": {},
   "outputs": [
    {
     "name": "stdout",
     "output_type": "stream",
     "text": [
      "2024-03-28 17:45:17,201 INFO sqlalchemy.engine.Engine BEGIN (implicit)\n",
      "2024-03-28 17:45:17,203 INFO sqlalchemy.engine.Engine INSERT INTO employee (manager_id, name, is_manager, hire_date) VALUES (?, ?, ?, ?)\n",
      "2024-03-28 17:45:17,203 INFO sqlalchemy.engine.Engine [generated in 0.00053s] (None, 'Alice', 1, '2024-03-27')\n",
      "2024-03-28 17:45:17,205 INFO sqlalchemy.engine.Engine INSERT INTO employee (manager_id, name, is_manager, hire_date) VALUES (?, ?, ?, ?) RETURNING employee_id\n",
      "2024-03-28 17:45:17,205 INFO sqlalchemy.engine.Engine [generated in 0.00011s (insertmanyvalues) 1/2 (ordered; batch not supported)] (1, 'Bob', 0, '2024-03-28')\n",
      "2024-03-28 17:45:17,206 INFO sqlalchemy.engine.Engine INSERT INTO employee (manager_id, name, is_manager, hire_date) VALUES (?, ?, ?, ?) RETURNING employee_id\n",
      "2024-03-28 17:45:17,206 INFO sqlalchemy.engine.Engine [insertmanyvalues 2/2 (ordered; batch not supported)] (1, 'Cathy', 0, '2024-03-28')\n"
     ]
    }
   ],
   "source": [
    "alice = Employee(\n",
    "    name=\"Alice\",\n",
    "    is_manager=True,\n",
    "    hire_date=date.today() - timedelta(days=1),\n",
    ")\n",
    "session.add(alice)\n",
    "\n",
    "bob = Employee(name=\"Bob\")\n",
    "cathy = Employee(name=\"Cathy\")\n",
    "\n",
    "alice.employees.extend([bob, cathy])\n",
    "\n",
    "session.flush()"
   ]
  },
  {
   "cell_type": "markdown",
   "metadata": {},
   "source": [
    "Continue adding other employee data:"
   ]
  },
  {
   "cell_type": "code",
   "execution_count": 183,
   "metadata": {},
   "outputs": [
    {
     "name": "stdout",
     "output_type": "stream",
     "text": [
      "2024-03-28 17:45:17,216 INFO sqlalchemy.engine.Engine INSERT INTO employee (manager_id, name, is_manager, hire_date) VALUES (?, ?, ?, ?)\n",
      "2024-03-28 17:45:17,216 INFO sqlalchemy.engine.Engine [cached since 0.01376s ago] (None, 'Louis', 1, '2024-02-27')\n",
      "2024-03-28 17:45:17,217 INFO sqlalchemy.engine.Engine INSERT INTO employee (manager_id, name, is_manager, hire_date) VALUES (?, ?, ?, ?)\n",
      "2024-03-28 17:45:17,217 INFO sqlalchemy.engine.Engine [cached since 0.01496s ago] (4, 'Lilly', 0, '2024-03-08')\n",
      "2024-03-28 17:45:17,219 INFO sqlalchemy.engine.Engine INSERT INTO employee (manager_id, name, is_manager, hire_date) VALUES (?, ?, ?, ?)\n",
      "2024-03-28 17:45:17,219 INFO sqlalchemy.engine.Engine [generated in 0.00042s] (None, 'Alice', 0, '2024-03-28')\n",
      "2024-03-28 17:45:17,220 INFO sqlalchemy.engine.Engine COMMIT\n"
     ]
    }
   ],
   "source": [
    "# Louis and his subordinate Lilly\n",
    "louis = Employee(\n",
    "    name=\"Louis\",\n",
    "    is_manager=True,\n",
    "    hire_date=date.today() - timedelta(days=30),\n",
    ")\n",
    "session.add(louis)\n",
    "\n",
    "lilly = Employee(\n",
    "    name=\"Lilly\",\n",
    "    hire_date=date.today() - timedelta(days=20),\n",
    ")\n",
    "# use the manager relationship\n",
    "lilly.manager = louis\n",
    "session.add(lilly)\n",
    "\n",
    "session.flush()\n",
    "\n",
    "# employee Alice\n",
    "alice2 = Employee(name=\"Alice\")\n",
    "session.add(alice2)\n",
    "\n",
    "session.commit()"
   ]
  },
  {
   "cell_type": "code",
   "execution_count": 184,
   "metadata": {},
   "outputs": [],
   "source": [
    "from sqlalchemy import select"
   ]
  },
  {
   "cell_type": "code",
   "execution_count": 185,
   "metadata": {},
   "outputs": [
    {
     "name": "stdout",
     "output_type": "stream",
     "text": [
      "2024-03-28 17:45:17,290 INFO sqlalchemy.engine.Engine BEGIN (implicit)\n",
      "2024-03-28 17:45:17,292 INFO sqlalchemy.engine.Engine SELECT employee.employee_id, employee.manager_id, employee.name, employee.is_manager, employee.hire_date \n",
      "FROM employee\n",
      "2024-03-28 17:45:17,292 INFO sqlalchemy.engine.Engine [generated in 0.00053s] ()\n"
     ]
    }
   ],
   "source": [
    "employees = session.scalars(select(Employee))"
   ]
  },
  {
   "cell_type": "code",
   "execution_count": 186,
   "metadata": {},
   "outputs": [
    {
     "name": "stdout",
     "output_type": "stream",
     "text": [
      "Employee(employee_id=1, manager_id=None, name='Alice', is_manager=True, hire_date=datetime.date(2024, 3, 27))\n",
      "Employee(employee_id=2, manager_id=1, name='Bob', is_manager=False, hire_date=datetime.date(2024, 3, 28))\n",
      "Employee(employee_id=3, manager_id=1, name='Cathy', is_manager=False, hire_date=datetime.date(2024, 3, 28))\n",
      "Employee(employee_id=4, manager_id=None, name='Louis', is_manager=True, hire_date=datetime.date(2024, 2, 27))\n",
      "Employee(employee_id=5, manager_id=4, name='Lilly', is_manager=False, hire_date=datetime.date(2024, 3, 8))\n",
      "Employee(employee_id=6, manager_id=None, name='Alice', is_manager=False, hire_date=datetime.date(2024, 3, 28))\n"
     ]
    }
   ],
   "source": [
    "for employee in employees:\n",
    "    print(employee)"
   ]
  },
  {
   "cell_type": "markdown",
   "metadata": {},
   "source": [
    "Product data:"
   ]
  },
  {
   "cell_type": "code",
   "execution_count": 187,
   "metadata": {},
   "outputs": [],
   "source": [
    "PRODUCT_DATA = [\n",
    "    {\n",
    "        \"product_name\": \"phone\",\n",
    "        \"unit_price\": 300.0,\n",
    "        \"units_in_stock\": 5,\n",
    "        \"type\": ProductType.PHONE,\n",
    "    },\n",
    "    {\n",
    "        \"product_name\": \"phone screen protector\",\n",
    "        \"unit_price\": 9.50,\n",
    "        \"units_in_stock\": 10,\n",
    "        \"type\": ProductType.ACCESSORY,\n",
    "    },\n",
    "    {\n",
    "        \"product_name\": \"headphone\",\n",
    "        \"unit_price\": 25.99,\n",
    "        \"units_in_stock\": 10,\n",
    "        \"type\": ProductType.ACCESSORY,\n",
    "    },\n",
    "    {\n",
    "        \"product_name\": \"digital camera\",\n",
    "        \"unit_price\": 45.99,\n",
    "        \"units_in_stock\": 5,\n",
    "        \"type\": ProductType.OTHER,\n",
    "    },\n",
    "    {\n",
    "        \"product_name\": \"memory card 256GB\",\n",
    "        \"unit_price\": 21.99,\n",
    "        \"units_in_stock\": 1,\n",
    "        \"type\": ProductType.ACCESSORY,\n",
    "    },\n",
    "]"
   ]
  },
  {
   "cell_type": "code",
   "execution_count": 188,
   "metadata": {},
   "outputs": [],
   "source": [
    "from sqlalchemy import insert"
   ]
  },
  {
   "cell_type": "markdown",
   "metadata": {},
   "source": [
    "We need to save product PKs for later use:"
   ]
  },
  {
   "cell_type": "code",
   "execution_count": 189,
   "metadata": {},
   "outputs": [],
   "source": [
    "product_ids = []"
   ]
  },
  {
   "cell_type": "markdown",
   "metadata": {},
   "source": [
    "Create products with ORM bulk insert mode:"
   ]
  },
  {
   "cell_type": "code",
   "execution_count": 190,
   "metadata": {},
   "outputs": [
    {
     "name": "stdout",
     "output_type": "stream",
     "text": [
      "2024-03-28 17:45:17,319 INFO sqlalchemy.engine.Engine INSERT INTO product (product_name, unit_price, units_in_stock, type) VALUES (?, ?, ?, ?) RETURNING product_id, product_name, unit_price, units_in_stock, type\n",
      "2024-03-28 17:45:17,319 INFO sqlalchemy.engine.Engine [generated in 0.00015s (insertmanyvalues) 1/5 (ordered; batch not supported)] ('phone', 300.0, 5, 'PHONE')\n",
      "2024-03-28 17:45:17,320 INFO sqlalchemy.engine.Engine INSERT INTO product (product_name, unit_price, units_in_stock, type) VALUES (?, ?, ?, ?) RETURNING product_id, product_name, unit_price, units_in_stock, type\n",
      "2024-03-28 17:45:17,321 INFO sqlalchemy.engine.Engine [insertmanyvalues 2/5 (ordered; batch not supported)] ('phone screen protector', 9.5, 10, 'ACCESSORY')\n",
      "2024-03-28 17:45:17,321 INFO sqlalchemy.engine.Engine INSERT INTO product (product_name, unit_price, units_in_stock, type) VALUES (?, ?, ?, ?) RETURNING product_id, product_name, unit_price, units_in_stock, type\n",
      "2024-03-28 17:45:17,322 INFO sqlalchemy.engine.Engine [insertmanyvalues 3/5 (ordered; batch not supported)] ('headphone', 25.99, 10, 'ACCESSORY')\n",
      "2024-03-28 17:45:17,322 INFO sqlalchemy.engine.Engine INSERT INTO product (product_name, unit_price, units_in_stock, type) VALUES (?, ?, ?, ?) RETURNING product_id, product_name, unit_price, units_in_stock, type\n",
      "2024-03-28 17:45:17,323 INFO sqlalchemy.engine.Engine [insertmanyvalues 4/5 (ordered; batch not supported)] ('digital camera', 45.99, 5, 'OTHER')\n",
      "2024-03-28 17:45:17,323 INFO sqlalchemy.engine.Engine INSERT INTO product (product_name, unit_price, units_in_stock, type) VALUES (?, ?, ?, ?) RETURNING product_id, product_name, unit_price, units_in_stock, type\n",
      "2024-03-28 17:45:17,323 INFO sqlalchemy.engine.Engine [insertmanyvalues 5/5 (ordered; batch not supported)] ('memory card 256GB', 21.99, 1, 'ACCESSORY')\n"
     ]
    }
   ],
   "source": [
    "products = session.scalars(\n",
    "    insert(Product).returning(\n",
    "        Product,\n",
    "        # to ensure the order (might impact performance)\n",
    "        sort_by_parameter_order=True,\n",
    "    ),\n",
    "    PRODUCT_DATA\n",
    ")"
   ]
  },
  {
   "cell_type": "code",
   "execution_count": 191,
   "metadata": {},
   "outputs": [
    {
     "name": "stdout",
     "output_type": "stream",
     "text": [
      "Product(product_id=1, product_name='phone', unit_price=300.00, units_in_stock=5, type='phone')\n",
      "Product(product_id=2, product_name='phone screen protector', unit_price=9.50, units_in_stock=10, type='accessory')\n",
      "Product(product_id=3, product_name='headphone', unit_price=25.99, units_in_stock=10, type='accessory')\n",
      "Product(product_id=4, product_name='digital camera', unit_price=45.99, units_in_stock=5, type='other')\n",
      "Product(product_id=5, product_name='memory card 256GB', unit_price=21.99, units_in_stock=1, type='accessory')\n"
     ]
    }
   ],
   "source": [
    "for product in products:\n",
    "    print(product)\n",
    "    product_ids.append(product.product_id)"
   ]
  },
  {
   "cell_type": "code",
   "execution_count": 192,
   "metadata": {},
   "outputs": [
    {
     "name": "stdout",
     "output_type": "stream",
     "text": [
      "2024-03-28 17:45:17,333 INFO sqlalchemy.engine.Engine COMMIT\n"
     ]
    }
   ],
   "source": [
    "session.commit()"
   ]
  },
  {
   "cell_type": "code",
   "execution_count": 193,
   "metadata": {},
   "outputs": [
    {
     "data": {
      "text/plain": [
       "[1, 2, 3, 4, 5]"
      ]
     },
     "execution_count": 193,
     "metadata": {},
     "output_type": "execute_result"
    }
   ],
   "source": [
    "product_ids"
   ]
  },
  {
   "cell_type": "markdown",
   "metadata": {},
   "source": [
    "Create customers:"
   ]
  },
  {
   "cell_type": "code",
   "execution_count": 194,
   "metadata": {},
   "outputs": [],
   "source": [
    "CUSTOMER_DATA = [\n",
    "    {\n",
    "        \"first_name\": \"Alex\",\n",
    "        \"last_name\": \"Smith\",\n",
    "        \"address\": \"618 Oak Lane, CA\",\n",
    "        \"email\": \"alex_smith@test.com\"\n",
    "    },\n",
    "    {\n",
    "        \"first_name\": \"Mary\",\n",
    "        \"last_name\": \"Taylor\",\n",
    "        \"address\": \"200-139 Jefferson Street, NY\",\n",
    "        \"email\": \"mary_taylor@test.com\"\n",
    "    },\n",
    "]"
   ]
  },
  {
   "cell_type": "code",
   "execution_count": 195,
   "metadata": {},
   "outputs": [],
   "source": [
    "customer_ids = [] # we need this later"
   ]
  },
  {
   "cell_type": "code",
   "execution_count": 196,
   "metadata": {},
   "outputs": [
    {
     "name": "stdout",
     "output_type": "stream",
     "text": [
      "2024-03-28 17:45:17,353 INFO sqlalchemy.engine.Engine BEGIN (implicit)\n",
      "2024-03-28 17:45:17,355 INFO sqlalchemy.engine.Engine INSERT INTO customer (first_name, last_name, address, email) VALUES (?, ?, ?, ?)\n",
      "2024-03-28 17:45:17,356 INFO sqlalchemy.engine.Engine [generated in 0.00039s] ('Alex', 'Smith', '618 Oak Lane, CA', 'alex_smith@test.com')\n",
      "2024-03-28 17:45:17,357 INFO sqlalchemy.engine.Engine INSERT INTO customer (first_name, last_name, address, email) VALUES (?, ?, ?, ?)\n",
      "2024-03-28 17:45:17,357 INFO sqlalchemy.engine.Engine [cached since 0.001823s ago] ('Mary', 'Taylor', '200-139 Jefferson Street, NY', 'mary_taylor@test.com')\n"
     ]
    }
   ],
   "source": [
    "for data in CUSTOMER_DATA:\n",
    "    customer = Customer(**data)\n",
    "    session.add(customer)\n",
    "    session.flush()  # flush to generate PKs immediately\n",
    "    customer_ids.append(customer.customer_id)"
   ]
  },
  {
   "cell_type": "code",
   "execution_count": 197,
   "metadata": {},
   "outputs": [
    {
     "name": "stdout",
     "output_type": "stream",
     "text": [
      "2024-03-28 17:45:17,361 INFO sqlalchemy.engine.Engine COMMIT\n"
     ]
    }
   ],
   "source": [
    "session.commit()"
   ]
  },
  {
   "cell_type": "code",
   "execution_count": 198,
   "metadata": {},
   "outputs": [
    {
     "data": {
      "text/plain": [
       "[1, 2]"
      ]
     },
     "execution_count": 198,
     "metadata": {},
     "output_type": "execute_result"
    }
   ],
   "source": [
    "customer_ids"
   ]
  },
  {
   "cell_type": "code",
   "execution_count": 199,
   "metadata": {},
   "outputs": [
    {
     "name": "stdout",
     "output_type": "stream",
     "text": [
      "2024-03-28 17:45:17,373 INFO sqlalchemy.engine.Engine BEGIN (implicit)\n",
      "2024-03-28 17:45:17,375 INFO sqlalchemy.engine.Engine SELECT customer.customer_id, customer.first_name, customer.last_name, customer.email \n",
      "FROM customer\n",
      "2024-03-28 17:45:17,375 INFO sqlalchemy.engine.Engine [generated in 0.00057s] ()\n"
     ]
    }
   ],
   "source": [
    "customers = session.scalars(select(Customer))"
   ]
  },
  {
   "cell_type": "code",
   "execution_count": 200,
   "metadata": {},
   "outputs": [
    {
     "name": "stdout",
     "output_type": "stream",
     "text": [
      "2024-03-28 17:45:17,381 INFO sqlalchemy.engine.Engine SELECT customer.address AS customer_address \n",
      "FROM customer \n",
      "WHERE customer.customer_id = ?\n",
      "2024-03-28 17:45:17,381 INFO sqlalchemy.engine.Engine [generated in 0.00057s] (1,)\n",
      "Customer(customer_id=1, first_name='Alex', last_name='Smith', address='618 Oak Lane, CA', email='alex_smith@test.com')\n",
      "2024-03-28 17:45:17,382 INFO sqlalchemy.engine.Engine SELECT customer.address AS customer_address \n",
      "FROM customer \n",
      "WHERE customer.customer_id = ?\n",
      "2024-03-28 17:45:17,382 INFO sqlalchemy.engine.Engine [cached since 0.001731s ago] (2,)\n",
      "Customer(customer_id=2, first_name='Mary', last_name='Taylor', address='200-139 Jefferson Street, NY', email='mary_taylor@test.com')\n"
     ]
    }
   ],
   "source": [
    "for customer in customers:\n",
    "    print(customer)"
   ]
  },
  {
   "cell_type": "markdown",
   "metadata": {},
   "source": [
    "Creating orders and order details:"
   ]
  },
  {
   "cell_type": "code",
   "execution_count": 201,
   "metadata": {},
   "outputs": [],
   "source": [
    "# customer PKs:\n",
    "alex_id, mary_id = customer_ids\n",
    "\n",
    "# product PKs:\n",
    "(\n",
    "    phone_id,\n",
    "    screen_protector_id,\n",
    "    headphone_id,\n",
    "    camera_id,\n",
    "    memory_card_id,\n",
    ") = product_ids"
   ]
  },
  {
   "cell_type": "code",
   "execution_count": 202,
   "metadata": {},
   "outputs": [
    {
     "name": "stdout",
     "output_type": "stream",
     "text": [
      "2024-03-28 17:45:17,393 INFO sqlalchemy.engine.Engine INSERT INTO \"order\" (customer_id, employee_id, order_datetime, is_shipped) VALUES (?, ?, ?, ?)\n",
      "2024-03-28 17:45:17,394 INFO sqlalchemy.engine.Engine [generated in 0.00073s] (1, None, '2024-03-28 17:45:17.393781', 0)\n",
      "2024-03-28 17:45:17,395 INFO sqlalchemy.engine.Engine INSERT INTO order_detail (order_id, product_id, quantity) VALUES (?, ?, ?)\n",
      "2024-03-28 17:45:17,396 INFO sqlalchemy.engine.Engine [generated in 0.00033s] [(1, 1, 1), (1, 2, 1), (1, 3, 1)]\n"
     ]
    }
   ],
   "source": [
    "# Alex's first order:\n",
    "order1 = Order(customer_id=alex_id)\n",
    "order1.order_details.extend([\n",
    "    OrderDetail(product_id=phone_id),\n",
    "    OrderDetail(product_id=screen_protector_id),\n",
    "    OrderDetail(product_id=headphone_id),\n",
    "])\n",
    "session.add(order1)\n",
    "session.flush()\n"
   ]
  },
  {
   "cell_type": "code",
   "execution_count": 203,
   "metadata": {},
   "outputs": [
    {
     "name": "stdout",
     "output_type": "stream",
     "text": [
      "2024-03-28 17:45:17,401 INFO sqlalchemy.engine.Engine INSERT INTO \"order\" (customer_id, employee_id, order_datetime, is_shipped) VALUES (?, ?, ?, ?)\n",
      "2024-03-28 17:45:17,402 INFO sqlalchemy.engine.Engine [cached since 0.008693s ago] (1, None, '2024-03-28 17:45:17.401588', 0)\n",
      "2024-03-28 17:45:17,403 INFO sqlalchemy.engine.Engine INSERT INTO order_detail (order_id, product_id, quantity) VALUES (?, ?, ?)\n",
      "2024-03-28 17:45:17,403 INFO sqlalchemy.engine.Engine [generated in 0.00066s] (2, 5, 1)\n"
     ]
    }
   ],
   "source": [
    "# Alex's second order:\n",
    "order2 = Order(customer_id=alex_id)\n",
    "OrderDetail(product_id=memory_card_id).order = order2\n",
    "session.add(order2)\n",
    "session.flush()"
   ]
  },
  {
   "cell_type": "code",
   "execution_count": 204,
   "metadata": {},
   "outputs": [
    {
     "name": "stdout",
     "output_type": "stream",
     "text": [
      "2024-03-28 17:45:17,409 INFO sqlalchemy.engine.Engine INSERT INTO \"order\" (customer_id, employee_id, order_datetime, is_shipped) VALUES (?, ?, ?, ?)\n",
      "2024-03-28 17:45:17,410 INFO sqlalchemy.engine.Engine [cached since 0.01682s ago] (2, None, '2024-03-28 17:45:17.409931', 0)\n"
     ]
    }
   ],
   "source": [
    "# Mary's first order, or the third order:\n",
    "order3 = Order(customer_id=mary_id)\n",
    "session.add(order3)\n",
    "session.flush()  # flush to generate ID\n",
    "od31 = OrderDetail(product_id=camera_id, order_id=order3.order_id)\n",
    "od32 = OrderDetail(\n",
    "    product_id=memory_card_id,\n",
    "    order_id=order3.order_id,\n",
    "    quantity=2,\n",
    ")\n",
    "session.add_all([od31, od32])"
   ]
  },
  {
   "cell_type": "code",
   "execution_count": 205,
   "metadata": {},
   "outputs": [
    {
     "name": "stdout",
     "output_type": "stream",
     "text": [
      "2024-03-28 17:45:17,415 INFO sqlalchemy.engine.Engine INSERT INTO order_detail (order_id, product_id, quantity) VALUES (?, ?, ?)\n",
      "2024-03-28 17:45:17,416 INFO sqlalchemy.engine.Engine [cached since 0.02035s ago] [(3, 4, 1), (3, 5, 2)]\n",
      "2024-03-28 17:45:17,416 INFO sqlalchemy.engine.Engine COMMIT\n"
     ]
    }
   ],
   "source": [
    "session.commit()"
   ]
  },
  {
   "cell_type": "markdown",
   "metadata": {},
   "source": [
    "Checking orders:"
   ]
  },
  {
   "cell_type": "code",
   "execution_count": 206,
   "metadata": {},
   "outputs": [
    {
     "name": "stdout",
     "output_type": "stream",
     "text": [
      "2024-03-28 17:45:17,423 INFO sqlalchemy.engine.Engine BEGIN (implicit)\n",
      "2024-03-28 17:45:17,424 INFO sqlalchemy.engine.Engine SELECT \"order\".order_id, \"order\".customer_id, \"order\".employee_id, \"order\".order_datetime, \"order\".is_shipped \n",
      "FROM \"order\"\n",
      "2024-03-28 17:45:17,425 INFO sqlalchemy.engine.Engine [generated in 0.00055s] ()\n"
     ]
    }
   ],
   "source": [
    "orders = session.scalars(select(Order))"
   ]
  },
  {
   "cell_type": "code",
   "execution_count": 207,
   "metadata": {},
   "outputs": [
    {
     "name": "stdout",
     "output_type": "stream",
     "text": [
      "Order(order_id=1, customer_id=1, employee_id=None, order_datetime=datetime.datetime(2024, 3, 28, 17, 45, 17, 393781), is_shipped=False)\n",
      "Order(order_id=2, customer_id=1, employee_id=None, order_datetime=datetime.datetime(2024, 3, 28, 17, 45, 17, 401588), is_shipped=False)\n",
      "Order(order_id=3, customer_id=2, employee_id=None, order_datetime=datetime.datetime(2024, 3, 28, 17, 45, 17, 409931), is_shipped=False)\n"
     ]
    }
   ],
   "source": [
    "for order in orders:\n",
    "    print(order)"
   ]
  },
  {
   "cell_type": "markdown",
   "metadata": {},
   "source": [
    "Checking order details:"
   ]
  },
  {
   "cell_type": "code",
   "execution_count": 208,
   "metadata": {},
   "outputs": [
    {
     "name": "stdout",
     "output_type": "stream",
     "text": [
      "2024-03-28 17:45:17,434 INFO sqlalchemy.engine.Engine SELECT order_detail.order_id, order_detail.product_id, order_detail.quantity \n",
      "FROM order_detail\n",
      "2024-03-28 17:45:17,434 INFO sqlalchemy.engine.Engine [generated in 0.00068s] ()\n"
     ]
    }
   ],
   "source": [
    "ods = session.scalars(select(OrderDetail))"
   ]
  },
  {
   "cell_type": "code",
   "execution_count": 209,
   "metadata": {},
   "outputs": [
    {
     "name": "stdout",
     "output_type": "stream",
     "text": [
      "OrderDetail(order_id=1, product_id=1, quantity=1)\n",
      "OrderDetail(order_id=1, product_id=2, quantity=1)\n",
      "OrderDetail(order_id=1, product_id=3, quantity=1)\n",
      "OrderDetail(order_id=2, product_id=5, quantity=1)\n",
      "OrderDetail(order_id=3, product_id=4, quantity=1)\n",
      "OrderDetail(order_id=3, product_id=5, quantity=2)\n"
     ]
    }
   ],
   "source": [
    "for od in ods:\n",
    "    print(od)"
   ]
  },
  {
   "cell_type": "markdown",
   "metadata": {},
   "source": [
    "## Reading Data"
   ]
  },
  {
   "cell_type": "markdown",
   "metadata": {},
   "source": [
    "Query for products:"
   ]
  },
  {
   "cell_type": "code",
   "execution_count": 210,
   "metadata": {},
   "outputs": [],
   "source": [
    "stmt = select(Product)"
   ]
  },
  {
   "cell_type": "code",
   "execution_count": 211,
   "metadata": {},
   "outputs": [
    {
     "name": "stdout",
     "output_type": "stream",
     "text": [
      "SELECT product.product_id, product.product_name, product.unit_price, product.units_in_stock, product.type \n",
      "FROM product\n"
     ]
    }
   ],
   "source": [
    "print(stmt)"
   ]
  },
  {
   "cell_type": "markdown",
   "metadata": {},
   "source": [
    "Note that tuples containing a single element are returned when `Session.execute()` is used:"
   ]
  },
  {
   "cell_type": "code",
   "execution_count": 212,
   "metadata": {},
   "outputs": [
    {
     "name": "stdout",
     "output_type": "stream",
     "text": [
      "2024-03-28 17:45:17,453 INFO sqlalchemy.engine.Engine SELECT product.product_id, product.product_name, product.unit_price, product.units_in_stock, product.type \n",
      "FROM product\n",
      "2024-03-28 17:45:17,453 INFO sqlalchemy.engine.Engine [generated in 0.00076s] ()\n"
     ]
    }
   ],
   "source": [
    "result = session.execute(stmt)"
   ]
  },
  {
   "cell_type": "code",
   "execution_count": 213,
   "metadata": {},
   "outputs": [
    {
     "data": {
      "text/plain": [
       "<sqlalchemy.engine.result.ChunkedIteratorResult at 0x7f89dcd6dd80>"
      ]
     },
     "execution_count": 213,
     "metadata": {},
     "output_type": "execute_result"
    }
   ],
   "source": [
    "result"
   ]
  },
  {
   "cell_type": "code",
   "execution_count": 214,
   "metadata": {},
   "outputs": [
    {
     "name": "stdout",
     "output_type": "stream",
     "text": [
      "(Product(product_id=1, product_name='phone', unit_price=300.00, units_in_stock=5, type='phone'),)\n",
      "(Product(product_id=2, product_name='phone screen protector', unit_price=9.50, units_in_stock=10, type='accessory'),)\n",
      "(Product(product_id=3, product_name='headphone', unit_price=25.99, units_in_stock=10, type='accessory'),)\n",
      "(Product(product_id=4, product_name='digital camera', unit_price=45.99, units_in_stock=5, type='other'),)\n",
      "(Product(product_id=5, product_name='memory card 256GB', unit_price=21.99, units_in_stock=1, type='accessory'),)\n"
     ]
    }
   ],
   "source": [
    "for row in result:\n",
    "    print(row)"
   ]
  },
  {
   "cell_type": "markdown",
   "metadata": {},
   "source": [
    "To directly obtain `Product` instances instead of tuples, you can use the `Session.scalars()` method:"
   ]
  },
  {
   "cell_type": "code",
   "execution_count": 215,
   "metadata": {},
   "outputs": [
    {
     "name": "stdout",
     "output_type": "stream",
     "text": [
      "2024-03-28 17:45:17,469 INFO sqlalchemy.engine.Engine SELECT product.product_id, product.product_name, product.unit_price, product.units_in_stock, product.type \n",
      "FROM product\n",
      "2024-03-28 17:45:17,470 INFO sqlalchemy.engine.Engine [cached since 0.01726s ago] ()\n",
      "Product(product_id=1, product_name='phone', unit_price=300.00, units_in_stock=5, type='phone')\n",
      "Product(product_id=2, product_name='phone screen protector', unit_price=9.50, units_in_stock=10, type='accessory')\n",
      "Product(product_id=3, product_name='headphone', unit_price=25.99, units_in_stock=10, type='accessory')\n",
      "Product(product_id=4, product_name='digital camera', unit_price=45.99, units_in_stock=5, type='other')\n",
      "Product(product_id=5, product_name='memory card 256GB', unit_price=21.99, units_in_stock=1, type='accessory')\n"
     ]
    }
   ],
   "source": [
    "for product in session.scalars(stmt):\n",
    "    print(product)"
   ]
  },
  {
   "cell_type": "markdown",
   "metadata": {},
   "source": [
    "Using `Result.all()`:"
   ]
  },
  {
   "cell_type": "markdown",
   "metadata": {},
   "source": [
    "Using `Session.execute()`:"
   ]
  },
  {
   "cell_type": "code",
   "execution_count": 216,
   "metadata": {},
   "outputs": [
    {
     "name": "stdout",
     "output_type": "stream",
     "text": [
      "2024-03-28 17:45:17,476 INFO sqlalchemy.engine.Engine SELECT product.product_id, product.product_name, product.unit_price, product.units_in_stock, product.type \n",
      "FROM product\n",
      "2024-03-28 17:45:17,476 INFO sqlalchemy.engine.Engine [generated in 0.00063s] ()\n"
     ]
    }
   ],
   "source": [
    "stmt = select(Product)\n",
    "result = session.execute(stmt)"
   ]
  },
  {
   "cell_type": "markdown",
   "metadata": {},
   "source": [
    "A list of tuples is returned:"
   ]
  },
  {
   "cell_type": "code",
   "execution_count": 217,
   "metadata": {},
   "outputs": [
    {
     "data": {
      "text/plain": [
       "[(Product(product_id=1, product_name='phone', unit_price=300.00, units_in_stock=5, type='phone'),),\n",
       " (Product(product_id=2, product_name='phone screen protector', unit_price=9.50, units_in_stock=10, type='accessory'),),\n",
       " (Product(product_id=3, product_name='headphone', unit_price=25.99, units_in_stock=10, type='accessory'),),\n",
       " (Product(product_id=4, product_name='digital camera', unit_price=45.99, units_in_stock=5, type='other'),),\n",
       " (Product(product_id=5, product_name='memory card 256GB', unit_price=21.99, units_in_stock=1, type='accessory'),)]"
      ]
     },
     "execution_count": 217,
     "metadata": {},
     "output_type": "execute_result"
    }
   ],
   "source": [
    "result.all()"
   ]
  },
  {
   "cell_type": "markdown",
   "metadata": {},
   "source": [
    "Using `Session.scalars()`:"
   ]
  },
  {
   "cell_type": "code",
   "execution_count": 218,
   "metadata": {},
   "outputs": [
    {
     "name": "stdout",
     "output_type": "stream",
     "text": [
      "2024-03-28 17:45:17,486 INFO sqlalchemy.engine.Engine SELECT product.product_id, product.product_name, product.unit_price, product.units_in_stock, product.type \n",
      "FROM product\n",
      "2024-03-28 17:45:17,487 INFO sqlalchemy.engine.Engine [cached since 0.01122s ago] ()\n"
     ]
    }
   ],
   "source": [
    "products = session.scalars(stmt)"
   ]
  },
  {
   "cell_type": "code",
   "execution_count": 219,
   "metadata": {},
   "outputs": [
    {
     "data": {
      "text/plain": [
       "<sqlalchemy.engine.result.ScalarResult at 0x7f89dce81490>"
      ]
     },
     "execution_count": 219,
     "metadata": {},
     "output_type": "execute_result"
    }
   ],
   "source": [
    "products"
   ]
  },
  {
   "cell_type": "markdown",
   "metadata": {},
   "source": [
    "A list of products is returned:"
   ]
  },
  {
   "cell_type": "code",
   "execution_count": 220,
   "metadata": {},
   "outputs": [
    {
     "data": {
      "text/plain": [
       "[Product(product_id=1, product_name='phone', unit_price=300.00, units_in_stock=5, type='phone'),\n",
       " Product(product_id=2, product_name='phone screen protector', unit_price=9.50, units_in_stock=10, type='accessory'),\n",
       " Product(product_id=3, product_name='headphone', unit_price=25.99, units_in_stock=10, type='accessory'),\n",
       " Product(product_id=4, product_name='digital camera', unit_price=45.99, units_in_stock=5, type='other'),\n",
       " Product(product_id=5, product_name='memory card 256GB', unit_price=21.99, units_in_stock=1, type='accessory')]"
      ]
     },
     "execution_count": 220,
     "metadata": {},
     "output_type": "execute_result"
    }
   ],
   "source": [
    "products.all()"
   ]
  },
  {
   "cell_type": "markdown",
   "metadata": {},
   "source": [
    "Using `Session.scalar()` to retrieve the first scalar:"
   ]
  },
  {
   "cell_type": "code",
   "execution_count": 221,
   "metadata": {},
   "outputs": [
    {
     "name": "stdout",
     "output_type": "stream",
     "text": [
      "2024-03-28 17:45:17,500 INFO sqlalchemy.engine.Engine SELECT product.product_id, product.product_name, product.unit_price, product.units_in_stock, product.type \n",
      "FROM product\n",
      "2024-03-28 17:45:17,501 INFO sqlalchemy.engine.Engine [cached since 0.0253s ago] ()\n"
     ]
    }
   ],
   "source": [
    "product = session.scalar(stmt)"
   ]
  },
  {
   "cell_type": "code",
   "execution_count": 222,
   "metadata": {},
   "outputs": [
    {
     "data": {
      "text/plain": [
       "Product(product_id=1, product_name='phone', unit_price=300.00, units_in_stock=5, type='phone')"
      ]
     },
     "execution_count": 222,
     "metadata": {},
     "output_type": "execute_result"
    }
   ],
   "source": [
    "product"
   ]
  },
  {
   "cell_type": "markdown",
   "metadata": {},
   "source": [
    "Selecting Specific Columns:"
   ]
  },
  {
   "cell_type": "code",
   "execution_count": 223,
   "metadata": {},
   "outputs": [],
   "source": [
    "stmt = select(Product.product_name, Product.unit_price)"
   ]
  },
  {
   "cell_type": "code",
   "execution_count": 224,
   "metadata": {},
   "outputs": [
    {
     "name": "stdout",
     "output_type": "stream",
     "text": [
      "SELECT product.product_name, product.unit_price \n",
      "FROM product\n"
     ]
    }
   ],
   "source": [
    "print(stmt)"
   ]
  },
  {
   "cell_type": "code",
   "execution_count": 225,
   "metadata": {},
   "outputs": [
    {
     "name": "stdout",
     "output_type": "stream",
     "text": [
      "2024-03-28 17:45:17,518 INFO sqlalchemy.engine.Engine SELECT product.product_name, product.unit_price \n",
      "FROM product\n",
      "2024-03-28 17:45:17,519 INFO sqlalchemy.engine.Engine [generated in 0.00053s] ()\n",
      "phone                 : $300.00\n",
      "phone screen protector: $9.50\n",
      "headphone             : $25.99\n",
      "digital camera        : $45.99\n",
      "memory card 256GB     : $21.99\n"
     ]
    }
   ],
   "source": [
    "for row in session.execute(stmt):\n",
    "    print(f\"{row.product_name:<22}: ${row.unit_price}\")"
   ]
  },
  {
   "cell_type": "markdown",
   "metadata": {},
   "source": [
    "Sorting:"
   ]
  },
  {
   "cell_type": "code",
   "execution_count": 226,
   "metadata": {},
   "outputs": [],
   "source": [
    "stmt = stmt.order_by(Product.unit_price.desc())"
   ]
  },
  {
   "cell_type": "code",
   "execution_count": 227,
   "metadata": {},
   "outputs": [
    {
     "name": "stdout",
     "output_type": "stream",
     "text": [
      "SELECT product.product_name, product.unit_price \n",
      "FROM product ORDER BY product.unit_price DESC\n"
     ]
    }
   ],
   "source": [
    "print(stmt)"
   ]
  },
  {
   "cell_type": "code",
   "execution_count": 228,
   "metadata": {},
   "outputs": [
    {
     "name": "stdout",
     "output_type": "stream",
     "text": [
      "2024-03-28 17:45:17,532 INFO sqlalchemy.engine.Engine SELECT product.product_name, product.unit_price \n",
      "FROM product ORDER BY product.unit_price DESC\n",
      "2024-03-28 17:45:17,533 INFO sqlalchemy.engine.Engine [generated in 0.00071s] ()\n",
      "phone                 : $300.00\n",
      "digital camera        : $45.99\n",
      "headphone             : $25.99\n",
      "memory card 256GB     : $21.99\n",
      "phone screen protector: $9.50\n"
     ]
    }
   ],
   "source": [
    "for row in session.execute(stmt):\n",
    "    print(f\"{row.product_name:<22}: ${row.unit_price}\")"
   ]
  },
  {
   "cell_type": "markdown",
   "metadata": {},
   "source": [
    "Offsetting and Limiting (pagination):"
   ]
  },
  {
   "cell_type": "code",
   "execution_count": 229,
   "metadata": {},
   "outputs": [],
   "source": [
    "stmt = stmt.offset((2 - 1) * 2).limit(2)"
   ]
  },
  {
   "cell_type": "code",
   "execution_count": 230,
   "metadata": {},
   "outputs": [
    {
     "name": "stdout",
     "output_type": "stream",
     "text": [
      "SELECT product.product_name, product.unit_price \n",
      "FROM product ORDER BY product.unit_price DESC\n",
      " LIMIT :param_1 OFFSET :param_2\n"
     ]
    }
   ],
   "source": [
    "print(stmt)"
   ]
  },
  {
   "cell_type": "code",
   "execution_count": 231,
   "metadata": {},
   "outputs": [
    {
     "name": "stdout",
     "output_type": "stream",
     "text": [
      "{'param_1': 2, 'param_2': 2}\n"
     ]
    }
   ],
   "source": [
    "print(stmt.compile().params)"
   ]
  },
  {
   "cell_type": "code",
   "execution_count": 232,
   "metadata": {},
   "outputs": [
    {
     "name": "stdout",
     "output_type": "stream",
     "text": [
      "2024-03-28 17:45:17,551 INFO sqlalchemy.engine.Engine SELECT product.product_name, product.unit_price \n",
      "FROM product ORDER BY product.unit_price DESC\n",
      " LIMIT ? OFFSET ?\n",
      "2024-03-28 17:45:17,552 INFO sqlalchemy.engine.Engine [generated in 0.00089s] (2, 2)\n",
      "headphone             : $25.99\n",
      "memory card 256GB     : $21.99\n"
     ]
    }
   ],
   "source": [
    "for row in session.execute(stmt):\n",
    "    print(f\"{row.product_name:<22}: ${row.unit_price}\")"
   ]
  },
  {
   "cell_type": "markdown",
   "metadata": {},
   "source": [
    "Filtering (by product type):"
   ]
  },
  {
   "cell_type": "markdown",
   "metadata": {},
   "source": [
    "Phones (filtering using `Select.where()`):"
   ]
  },
  {
   "cell_type": "code",
   "execution_count": 233,
   "metadata": {},
   "outputs": [],
   "source": [
    "stmt = (\n",
    "    select(Product.product_name)\n",
    "    .where(Product.type == ProductType.PHONE)\n",
    ")"
   ]
  },
  {
   "cell_type": "code",
   "execution_count": 234,
   "metadata": {},
   "outputs": [
    {
     "name": "stdout",
     "output_type": "stream",
     "text": [
      "SELECT product.product_name \n",
      "FROM product \n",
      "WHERE product.type = :type_1\n"
     ]
    }
   ],
   "source": [
    "print(stmt)"
   ]
  },
  {
   "cell_type": "code",
   "execution_count": 235,
   "metadata": {},
   "outputs": [
    {
     "name": "stdout",
     "output_type": "stream",
     "text": [
      "2024-03-28 17:45:17,565 INFO sqlalchemy.engine.Engine SELECT product.product_name \n",
      "FROM product \n",
      "WHERE product.type = ?\n",
      "2024-03-28 17:45:17,566 INFO sqlalchemy.engine.Engine [generated in 0.00060s] ('PHONE',)\n"
     ]
    },
    {
     "data": {
      "text/plain": [
       "['phone']"
      ]
     },
     "execution_count": 235,
     "metadata": {},
     "output_type": "execute_result"
    }
   ],
   "source": [
    "session.scalars(stmt).all()"
   ]
  },
  {
   "cell_type": "markdown",
   "metadata": {},
   "source": [
    "Accessories (filtering using `Select.filter_by()`):"
   ]
  },
  {
   "cell_type": "code",
   "execution_count": 236,
   "metadata": {},
   "outputs": [],
   "source": [
    "stmt = (\n",
    "    select(Product.product_name)\n",
    "    .filter_by(type=ProductType.ACCESSORY)\n",
    ")"
   ]
  },
  {
   "cell_type": "code",
   "execution_count": 237,
   "metadata": {},
   "outputs": [
    {
     "name": "stdout",
     "output_type": "stream",
     "text": [
      "SELECT product.product_name \n",
      "FROM product \n",
      "WHERE product.type = :type_1\n"
     ]
    }
   ],
   "source": [
    "print(stmt)"
   ]
  },
  {
   "cell_type": "code",
   "execution_count": 238,
   "metadata": {},
   "outputs": [
    {
     "name": "stdout",
     "output_type": "stream",
     "text": [
      "2024-03-28 17:45:17,579 INFO sqlalchemy.engine.Engine SELECT product.product_name \n",
      "FROM product \n",
      "WHERE product.type = ?\n",
      "2024-03-28 17:45:17,580 INFO sqlalchemy.engine.Engine [cached since 0.01456s ago] ('ACCESSORY',)\n"
     ]
    },
    {
     "data": {
      "text/plain": [
       "['phone screen protector', 'headphone', 'memory card 256GB']"
      ]
     },
     "execution_count": 238,
     "metadata": {},
     "output_type": "execute_result"
    }
   ],
   "source": [
    "session.scalars(stmt).all()"
   ]
  },
  {
   "cell_type": "markdown",
   "metadata": {},
   "source": [
    "Combining multiple conditions using `Select.where()`:"
   ]
  },
  {
   "cell_type": "code",
   "execution_count": 239,
   "metadata": {},
   "outputs": [],
   "source": [
    "stmt = (\n",
    "    select(Product.product_name)\n",
    "    .where(Product.type == ProductType.ACCESSORY)\n",
    "    .where(Product.unit_price < 10)\n",
    ")"
   ]
  },
  {
   "cell_type": "code",
   "execution_count": 240,
   "metadata": {},
   "outputs": [
    {
     "name": "stdout",
     "output_type": "stream",
     "text": [
      "SELECT product.product_name \n",
      "FROM product \n",
      "WHERE product.type = :type_1 AND product.unit_price < :unit_price_1\n"
     ]
    }
   ],
   "source": [
    "print(stmt)"
   ]
  },
  {
   "cell_type": "code",
   "execution_count": 241,
   "metadata": {},
   "outputs": [
    {
     "name": "stdout",
     "output_type": "stream",
     "text": [
      "{'type_1': <ProductType.ACCESSORY: 1>, 'unit_price_1': 10}\n"
     ]
    }
   ],
   "source": [
    "print(stmt.compile().params)"
   ]
  },
  {
   "cell_type": "code",
   "execution_count": 242,
   "metadata": {},
   "outputs": [
    {
     "name": "stdout",
     "output_type": "stream",
     "text": [
      "2024-03-28 17:45:17,600 INFO sqlalchemy.engine.Engine SELECT product.product_name \n",
      "FROM product \n",
      "WHERE product.type = ? AND product.unit_price < ?\n",
      "2024-03-28 17:45:17,600 INFO sqlalchemy.engine.Engine [generated in 0.00065s] ('ACCESSORY', 10)\n"
     ]
    },
    {
     "data": {
      "text/plain": [
       "['phone screen protector']"
      ]
     },
     "execution_count": 242,
     "metadata": {},
     "output_type": "execute_result"
    }
   ],
   "source": [
    "session.scalars(stmt).all()"
   ]
  },
  {
   "cell_type": "markdown",
   "metadata": {},
   "source": [
    "Get all managers who oversee at least one employee (EXISTS):"
   ]
  },
  {
   "cell_type": "code",
   "execution_count": 243,
   "metadata": {},
   "outputs": [],
   "source": [
    "stmt = (\n",
    "    select(Employee)\n",
    "    .where(Employee.employees.any())\n",
    ")"
   ]
  },
  {
   "cell_type": "markdown",
   "metadata": {},
   "source": [
    "Think of \"employee\" as the manager table and \"employee_1\" as the employee table:"
   ]
  },
  {
   "cell_type": "code",
   "execution_count": 244,
   "metadata": {},
   "outputs": [
    {
     "name": "stdout",
     "output_type": "stream",
     "text": [
      "SELECT employee.employee_id, employee.manager_id, employee.name, employee.is_manager, employee.hire_date \n",
      "FROM employee \n",
      "WHERE EXISTS (SELECT 1 \n",
      "FROM employee AS employee_1 \n",
      "WHERE employee.employee_id = employee_1.manager_id)\n"
     ]
    }
   ],
   "source": [
    "print(stmt)"
   ]
  },
  {
   "cell_type": "markdown",
   "metadata": {},
   "source": [
    "The list of managers who have at least one subordinate:"
   ]
  },
  {
   "cell_type": "code",
   "execution_count": 245,
   "metadata": {},
   "outputs": [
    {
     "name": "stdout",
     "output_type": "stream",
     "text": [
      "2024-03-28 17:45:17,617 INFO sqlalchemy.engine.Engine SELECT employee.employee_id, employee.manager_id, employee.name, employee.is_manager, employee.hire_date \n",
      "FROM employee \n",
      "WHERE EXISTS (SELECT 1 \n",
      "FROM employee AS employee_1 \n",
      "WHERE employee.employee_id = employee_1.manager_id)\n",
      "2024-03-28 17:45:17,617 INFO sqlalchemy.engine.Engine [generated in 0.00059s] ()\n",
      "Employee(employee_id=1, manager_id=None, name='Alice', is_manager=True, hire_date=datetime.date(2024, 3, 27))\n",
      "Employee(employee_id=4, manager_id=None, name='Louis', is_manager=True, hire_date=datetime.date(2024, 2, 27))\n"
     ]
    }
   ],
   "source": [
    "for employee in session.scalars(stmt):\n",
    "    print(employee)"
   ]
  },
  {
   "cell_type": "markdown",
   "metadata": {},
   "source": [
    "Conjunctions: `and_()`, `or_()`:"
   ]
  },
  {
   "cell_type": "code",
   "execution_count": 246,
   "metadata": {},
   "outputs": [],
   "source": [
    "from sqlalchemy import and_, or_"
   ]
  },
  {
   "cell_type": "markdown",
   "metadata": {},
   "source": [
    "Conjunctions using `AND`:"
   ]
  },
  {
   "cell_type": "code",
   "execution_count": 247,
   "metadata": {},
   "outputs": [],
   "source": [
    "stmt = (\n",
    "    select(Product.product_name)\n",
    "    .where(\n",
    "        and_(\n",
    "            Product.type == ProductType.ACCESSORY,\n",
    "            Product.unit_price < 10,\n",
    "        )\n",
    "    )\n",
    ")"
   ]
  },
  {
   "cell_type": "code",
   "execution_count": 248,
   "metadata": {},
   "outputs": [
    {
     "name": "stdout",
     "output_type": "stream",
     "text": [
      "SELECT product.product_name \n",
      "FROM product \n",
      "WHERE product.type = :type_1 AND product.unit_price < :unit_price_1\n"
     ]
    }
   ],
   "source": [
    "print(stmt)"
   ]
  },
  {
   "cell_type": "code",
   "execution_count": 249,
   "metadata": {},
   "outputs": [
    {
     "name": "stdout",
     "output_type": "stream",
     "text": [
      "{'type_1': <ProductType.ACCESSORY: 1>, 'unit_price_1': 10}\n"
     ]
    }
   ],
   "source": [
    "print(stmt.compile().params)"
   ]
  },
  {
   "cell_type": "code",
   "execution_count": 250,
   "metadata": {},
   "outputs": [
    {
     "name": "stdout",
     "output_type": "stream",
     "text": [
      "2024-03-28 17:45:17,648 INFO sqlalchemy.engine.Engine SELECT product.product_name \n",
      "FROM product \n",
      "WHERE product.type = ? AND product.unit_price < ?\n",
      "2024-03-28 17:45:17,649 INFO sqlalchemy.engine.Engine [generated in 0.00107s] ('ACCESSORY', 10)\n"
     ]
    },
    {
     "data": {
      "text/plain": [
       "['phone screen protector']"
      ]
     },
     "execution_count": 250,
     "metadata": {},
     "output_type": "execute_result"
    }
   ],
   "source": [
    "session.scalars(stmt).all()"
   ]
  },
  {
   "cell_type": "markdown",
   "metadata": {},
   "source": [
    "Conjunctions using `OR`:"
   ]
  },
  {
   "cell_type": "markdown",
   "metadata": {},
   "source": [
    "Employees who are either managers or employees supervised by a manager:"
   ]
  },
  {
   "cell_type": "code",
   "execution_count": 251,
   "metadata": {},
   "outputs": [],
   "source": [
    "stmt = (\n",
    "    select(Employee.employee_id, Employee.name)\n",
    "    .where(\n",
    "        or_(\n",
    "            Employee.is_manager == True,\n",
    "            Employee.manager != None,\n",
    "        )\n",
    "    )\n",
    ")"
   ]
  },
  {
   "cell_type": "code",
   "execution_count": 252,
   "metadata": {},
   "outputs": [
    {
     "name": "stdout",
     "output_type": "stream",
     "text": [
      "SELECT employee.employee_id, employee.name \n",
      "FROM employee \n",
      "WHERE employee.is_manager = true OR employee.manager_id IS NOT NULL\n"
     ]
    }
   ],
   "source": [
    "print(stmt)"
   ]
  },
  {
   "cell_type": "code",
   "execution_count": 253,
   "metadata": {},
   "outputs": [
    {
     "name": "stdout",
     "output_type": "stream",
     "text": [
      "2024-03-28 17:45:17,673 INFO sqlalchemy.engine.Engine SELECT employee.employee_id, employee.name \n",
      "FROM employee \n",
      "WHERE employee.is_manager = 1 OR employee.manager_id IS NOT NULL\n",
      "2024-03-28 17:45:17,673 INFO sqlalchemy.engine.Engine [generated in 0.00072s] ()\n",
      "(1, 'Alice')\n",
      "(2, 'Bob')\n",
      "(3, 'Cathy')\n",
      "(4, 'Louis')\n",
      "(5, 'Lilly')\n"
     ]
    }
   ],
   "source": [
    "for row in session.execute(stmt):\n",
    "    print(row)"
   ]
  },
  {
   "cell_type": "markdown",
   "metadata": {},
   "source": [
    "### Joins"
   ]
  },
  {
   "cell_type": "markdown",
   "metadata": {},
   "source": [
    "Listing order details using `Select.join()`:"
   ]
  },
  {
   "cell_type": "code",
   "execution_count": 254,
   "metadata": {},
   "outputs": [],
   "source": [
    "order_id = 1"
   ]
  },
  {
   "cell_type": "code",
   "execution_count": 255,
   "metadata": {},
   "outputs": [],
   "source": [
    "stmt = (\n",
    "    select(Product.product_name, Product.unit_price, OrderDetail.quantity)\n",
    "    .join(OrderDetail.product)\n",
    "    .join(OrderDetail.order)\n",
    "    .where(Order.order_id == order_id)\n",
    ")"
   ]
  },
  {
   "cell_type": "code",
   "execution_count": 256,
   "metadata": {},
   "outputs": [
    {
     "name": "stdout",
     "output_type": "stream",
     "text": [
      "SELECT product.product_name, product.unit_price, order_detail.quantity \n",
      "FROM order_detail JOIN product ON product.product_id = order_detail.product_id JOIN \"order\" ON \"order\".order_id = order_detail.order_id \n",
      "WHERE \"order\".order_id = :order_id_1\n"
     ]
    }
   ],
   "source": [
    "print(stmt)"
   ]
  },
  {
   "cell_type": "code",
   "execution_count": 257,
   "metadata": {},
   "outputs": [
    {
     "name": "stdout",
     "output_type": "stream",
     "text": [
      "2024-03-28 17:45:17,693 INFO sqlalchemy.engine.Engine SELECT product.product_name, product.unit_price, order_detail.quantity \n",
      "FROM order_detail JOIN product ON product.product_id = order_detail.product_id JOIN \"order\" ON \"order\".order_id = order_detail.order_id \n",
      "WHERE \"order\".order_id = ?\n",
      "2024-03-28 17:45:17,694 INFO sqlalchemy.engine.Engine [generated in 0.00060s] (1,)\n",
      "('phone', Decimal('300.00'), 1)\n",
      "('phone screen protector', Decimal('9.50'), 1)\n",
      "('headphone', Decimal('25.99'), 1)\n"
     ]
    }
   ],
   "source": [
    "for row in session.execute(stmt):\n",
    "    print(row)"
   ]
  },
  {
   "cell_type": "markdown",
   "metadata": {},
   "source": [
    "Listing order details using `Select.select_from()`, `Select.join()`:"
   ]
  },
  {
   "cell_type": "code",
   "execution_count": 258,
   "metadata": {},
   "outputs": [],
   "source": [
    "stmt = (\n",
    "    select(Product.product_name, Product.unit_price, OrderDetail.quantity)\n",
    "    .select_from(Order)\n",
    "    .join(Order.order_details)\n",
    "    .join(OrderDetail.product)\n",
    "    .where(Order.order_id == order_id)\n",
    ")"
   ]
  },
  {
   "cell_type": "code",
   "execution_count": 259,
   "metadata": {},
   "outputs": [
    {
     "name": "stdout",
     "output_type": "stream",
     "text": [
      "SELECT product.product_name, product.unit_price, order_detail.quantity \n",
      "FROM \"order\" JOIN order_detail ON \"order\".order_id = order_detail.order_id JOIN product ON product.product_id = order_detail.product_id \n",
      "WHERE \"order\".order_id = :order_id_1\n"
     ]
    }
   ],
   "source": [
    "print(stmt)"
   ]
  },
  {
   "cell_type": "code",
   "execution_count": 260,
   "metadata": {},
   "outputs": [
    {
     "name": "stdout",
     "output_type": "stream",
     "text": [
      "2024-03-28 17:45:17,708 INFO sqlalchemy.engine.Engine SELECT product.product_name, product.unit_price, order_detail.quantity \n",
      "FROM \"order\" JOIN order_detail ON \"order\".order_id = order_detail.order_id JOIN product ON product.product_id = order_detail.product_id \n",
      "WHERE \"order\".order_id = ?\n",
      "2024-03-28 17:45:17,709 INFO sqlalchemy.engine.Engine [generated in 0.00057s] (1,)\n",
      "('phone', Decimal('300.00'), 1)\n",
      "('phone screen protector', Decimal('9.50'), 1)\n",
      "('headphone', Decimal('25.99'), 1)\n"
     ]
    }
   ],
   "source": [
    "for row in session.execute(stmt):\n",
    "    print(row)"
   ]
  },
  {
   "cell_type": "markdown",
   "metadata": {},
   "source": [
    "Listing order details using `Select.join_from()`:"
   ]
  },
  {
   "cell_type": "code",
   "execution_count": 261,
   "metadata": {},
   "outputs": [],
   "source": [
    "stmt = (\n",
    "    select(Product.product_name, Product.unit_price, OrderDetail.quantity)\n",
    "    .join_from(Order, OrderDetail)\n",
    "    .join_from(OrderDetail, Product)\n",
    "    .where(Order.order_id == order_id)\n",
    ")"
   ]
  },
  {
   "cell_type": "code",
   "execution_count": 262,
   "metadata": {},
   "outputs": [
    {
     "name": "stdout",
     "output_type": "stream",
     "text": [
      "SELECT product.product_name, product.unit_price, order_detail.quantity \n",
      "FROM \"order\" JOIN order_detail ON \"order\".order_id = order_detail.order_id JOIN product ON product.product_id = order_detail.product_id \n",
      "WHERE \"order\".order_id = :order_id_1\n"
     ]
    }
   ],
   "source": [
    "print(stmt)"
   ]
  },
  {
   "cell_type": "code",
   "execution_count": 263,
   "metadata": {},
   "outputs": [
    {
     "name": "stdout",
     "output_type": "stream",
     "text": [
      "2024-03-28 17:45:17,723 INFO sqlalchemy.engine.Engine SELECT product.product_name, product.unit_price, order_detail.quantity \n",
      "FROM \"order\" JOIN order_detail ON \"order\".order_id = order_detail.order_id JOIN product ON product.product_id = order_detail.product_id \n",
      "WHERE \"order\".order_id = ?\n",
      "2024-03-28 17:45:17,724 INFO sqlalchemy.engine.Engine [generated in 0.00088s] (1,)\n",
      "('phone', Decimal('300.00'), 1)\n",
      "('phone screen protector', Decimal('9.50'), 1)\n",
      "('headphone', Decimal('25.99'), 1)\n"
     ]
    }
   ],
   "source": [
    "for row in session.execute(stmt):\n",
    "    print(row)"
   ]
  },
  {
   "cell_type": "markdown",
   "metadata": {},
   "source": [
    "### Self-Join and Alias"
   ]
  },
  {
   "cell_type": "code",
   "execution_count": 264,
   "metadata": {},
   "outputs": [],
   "source": [
    "from sqlalchemy.orm import aliased"
   ]
  },
  {
   "cell_type": "code",
   "execution_count": 265,
   "metadata": {},
   "outputs": [],
   "source": [
    "Manager = aliased(Employee, name=\"manager\")"
   ]
  },
  {
   "cell_type": "code",
   "execution_count": 266,
   "metadata": {},
   "outputs": [],
   "source": [
    "stmt = (\n",
    "    select(\n",
    "        Employee.name,\n",
    "        Employee.employee_id,\n",
    "        Manager.name.label(\"manager_name\"),\n",
    "        Manager.employee_id.label(\"manager_id\"),\n",
    "    )\n",
    "    .join(Manager, Employee.manager_id == Manager.employee_id)\n",
    "    .where(Employee.manager_id != None)\n",
    ")"
   ]
  },
  {
   "cell_type": "code",
   "execution_count": 267,
   "metadata": {},
   "outputs": [
    {
     "name": "stdout",
     "output_type": "stream",
     "text": [
      "SELECT employee.name, employee.employee_id, manager.name AS manager_name, manager.employee_id AS manager_id \n",
      "FROM employee JOIN employee AS manager ON employee.manager_id = manager.employee_id \n",
      "WHERE employee.manager_id IS NOT NULL\n"
     ]
    }
   ],
   "source": [
    "print(stmt)"
   ]
  },
  {
   "cell_type": "code",
   "execution_count": 268,
   "metadata": {},
   "outputs": [
    {
     "name": "stdout",
     "output_type": "stream",
     "text": [
      "2024-03-28 17:45:17,748 INFO sqlalchemy.engine.Engine SELECT employee.name, employee.employee_id, manager.name AS manager_name, manager.employee_id AS manager_id \n",
      "FROM employee JOIN employee AS manager ON employee.manager_id = manager.employee_id \n",
      "WHERE employee.manager_id IS NOT NULL\n",
      "2024-03-28 17:45:17,749 INFO sqlalchemy.engine.Engine [generated in 0.00059s] ()\n",
      "Bob#2 reports to Alice#1.\n",
      "Cathy#3 reports to Alice#1.\n",
      "Lilly#5 reports to Louis#4.\n"
     ]
    }
   ],
   "source": [
    "for row in session.execute(stmt):\n",
    "    print(\n",
    "        f\"{row.name}#{row.employee_id} \"\n",
    "        f\"reports to {row.manager_name}#{row.manager_id}.\"\n",
    "    )"
   ]
  },
  {
   "cell_type": "markdown",
   "metadata": {},
   "source": [
    "### Grouping"
   ]
  },
  {
   "cell_type": "code",
   "execution_count": 269,
   "metadata": {},
   "outputs": [],
   "source": [
    "from sqlalchemy.sql.functions import count\n",
    "from sqlalchemy import desc"
   ]
  },
  {
   "cell_type": "markdown",
   "metadata": {},
   "source": [
    "Displaying customers and the number of their orders:"
   ]
  },
  {
   "cell_type": "code",
   "execution_count": 270,
   "metadata": {},
   "outputs": [],
   "source": [
    "min_count = 0"
   ]
  },
  {
   "cell_type": "code",
   "execution_count": 271,
   "metadata": {},
   "outputs": [],
   "source": [
    "stmt = (\n",
    "    select(\n",
    "        Customer.first_name,\n",
    "        Customer.last_name,\n",
    "        count(Order.order_id).label(\"count\"),\n",
    "    )\n",
    "    .join(Customer.orders)\n",
    "    .group_by(Customer.customer_id)\n",
    "    .having(count(Order.order_id) > min_count)  # by default, min_count = 0\n",
    "    .order_by(desc(\"count\"))\n",
    ")"
   ]
  },
  {
   "cell_type": "code",
   "execution_count": 272,
   "metadata": {},
   "outputs": [
    {
     "name": "stdout",
     "output_type": "stream",
     "text": [
      "SELECT customer.first_name, customer.last_name, count(\"order\".order_id) AS count \n",
      "FROM customer JOIN \"order\" ON customer.customer_id = \"order\".customer_id GROUP BY customer.customer_id \n",
      "HAVING count(\"order\".order_id) > :count_1 ORDER BY count DESC\n"
     ]
    }
   ],
   "source": [
    "print(stmt)"
   ]
  },
  {
   "cell_type": "code",
   "execution_count": 273,
   "metadata": {},
   "outputs": [
    {
     "name": "stdout",
     "output_type": "stream",
     "text": [
      "2024-03-28 17:45:17,772 INFO sqlalchemy.engine.Engine SELECT customer.first_name, customer.last_name, count(\"order\".order_id) AS count \n",
      "FROM customer JOIN \"order\" ON customer.customer_id = \"order\".customer_id GROUP BY customer.customer_id \n",
      "HAVING count(\"order\".order_id) > ? ORDER BY count DESC\n",
      "2024-03-28 17:45:17,772 INFO sqlalchemy.engine.Engine [generated in 0.00057s] (0,)\n",
      "Alex Smith has 2 orders.\n",
      "Mary Taylor has 1 order.\n"
     ]
    }
   ],
   "source": [
    "for row in session.execute(stmt):\n",
    "    orders = \"order\" if (row.count == 1) else \"orders\"\n",
    "    print(f\"{row.first_name} {row.last_name} has {row.count} {orders}.\")"
   ]
  },
  {
   "cell_type": "markdown",
   "metadata": {},
   "source": [
    "### Conditional Queries"
   ]
  },
  {
   "cell_type": "code",
   "execution_count": 274,
   "metadata": {},
   "outputs": [],
   "source": [
    "from sqlalchemy.orm import Session"
   ]
  },
  {
   "cell_type": "code",
   "execution_count": 275,
   "metadata": {},
   "outputs": [],
   "source": [
    "def list_customer_orders(\n",
    "        session: Session,\n",
    "        name: str | None = None,\n",
    "        is_shipped: bool = False,\n",
    "        details: bool = True\n",
    "):\n",
    "    stmt = (\n",
    "        select(\n",
    "            Customer.first_name,\n",
    "            Customer.last_name,\n",
    "            Order.order_id,\n",
    "            Order.is_shipped,\n",
    "        )\n",
    "        .join(Customer.orders)\n",
    "        .where(Order.is_shipped == is_shipped)\n",
    "    )\n",
    "\n",
    "    if details:\n",
    "        stmt = stmt.add_columns(\n",
    "            Product.product_name,\n",
    "            OrderDetail.quantity,\n",
    "            Product.unit_price,\n",
    "        ).join(Order.order_details).join(OrderDetail.product)\n",
    "\n",
    "    if name is not None:\n",
    "        stmt = stmt.where(Customer.first_name == name)\n",
    "\n",
    "    for row in session.execute(stmt):\n",
    "        print(row)"
   ]
  },
  {
   "cell_type": "markdown",
   "metadata": {},
   "source": [
    "Orders for all customers that are not shipped, with details:"
   ]
  },
  {
   "cell_type": "code",
   "execution_count": 276,
   "metadata": {},
   "outputs": [
    {
     "name": "stdout",
     "output_type": "stream",
     "text": [
      "2024-03-28 17:45:17,788 INFO sqlalchemy.engine.Engine SELECT customer.first_name, customer.last_name, \"order\".order_id, \"order\".is_shipped, product.product_name, order_detail.quantity, product.unit_price \n",
      "FROM customer JOIN \"order\" ON customer.customer_id = \"order\".customer_id JOIN order_detail ON \"order\".order_id = order_detail.order_id JOIN product ON product.product_id = order_detail.product_id \n",
      "WHERE \"order\".is_shipped = 0\n",
      "2024-03-28 17:45:17,789 INFO sqlalchemy.engine.Engine [generated in 0.00075s] ()\n",
      "('Alex', 'Smith', 1, False, 'phone', 1, Decimal('300.00'))\n",
      "('Alex', 'Smith', 1, False, 'phone screen protector', 1, Decimal('9.50'))\n",
      "('Alex', 'Smith', 1, False, 'headphone', 1, Decimal('25.99'))\n",
      "('Alex', 'Smith', 2, False, 'memory card 256GB', 1, Decimal('21.99'))\n",
      "('Mary', 'Taylor', 3, False, 'digital camera', 1, Decimal('45.99'))\n",
      "('Mary', 'Taylor', 3, False, 'memory card 256GB', 2, Decimal('21.99'))\n"
     ]
    }
   ],
   "source": [
    "list_customer_orders(session, None, is_shipped=False, details=True)"
   ]
  },
  {
   "cell_type": "markdown",
   "metadata": {},
   "source": [
    "Orders for Alex that are not shipped, with details:"
   ]
  },
  {
   "cell_type": "code",
   "execution_count": 277,
   "metadata": {},
   "outputs": [
    {
     "name": "stdout",
     "output_type": "stream",
     "text": [
      "2024-03-28 17:45:17,795 INFO sqlalchemy.engine.Engine SELECT customer.first_name, customer.last_name, \"order\".order_id, \"order\".is_shipped, product.product_name, order_detail.quantity, product.unit_price \n",
      "FROM customer JOIN \"order\" ON customer.customer_id = \"order\".customer_id JOIN order_detail ON \"order\".order_id = order_detail.order_id JOIN product ON product.product_id = order_detail.product_id \n",
      "WHERE \"order\".is_shipped = 0 AND customer.first_name = ?\n",
      "2024-03-28 17:45:17,796 INFO sqlalchemy.engine.Engine [generated in 0.00065s] ('Alex',)\n",
      "('Alex', 'Smith', 1, False, 'phone', 1, Decimal('300.00'))\n",
      "('Alex', 'Smith', 1, False, 'phone screen protector', 1, Decimal('9.50'))\n",
      "('Alex', 'Smith', 1, False, 'headphone', 1, Decimal('25.99'))\n",
      "('Alex', 'Smith', 2, False, 'memory card 256GB', 1, Decimal('21.99'))\n"
     ]
    }
   ],
   "source": [
    "list_customer_orders(session, \"Alex\", is_shipped=False, details=True)"
   ]
  },
  {
   "cell_type": "markdown",
   "metadata": {},
   "source": [
    "Orders for Alex that are not shipped, without details:"
   ]
  },
  {
   "cell_type": "code",
   "execution_count": 278,
   "metadata": {},
   "outputs": [
    {
     "name": "stdout",
     "output_type": "stream",
     "text": [
      "2024-03-28 17:45:17,801 INFO sqlalchemy.engine.Engine SELECT customer.first_name, customer.last_name, \"order\".order_id, \"order\".is_shipped \n",
      "FROM customer JOIN \"order\" ON customer.customer_id = \"order\".customer_id \n",
      "WHERE \"order\".is_shipped = 0 AND customer.first_name = ?\n",
      "2024-03-28 17:45:17,801 INFO sqlalchemy.engine.Engine [generated in 0.00064s] ('Alex',)\n",
      "('Alex', 'Smith', 1, False)\n",
      "('Alex', 'Smith', 2, False)\n"
     ]
    }
   ],
   "source": [
    "list_customer_orders(session, \"Alex\", is_shipped=False, details=False)"
   ]
  },
  {
   "cell_type": "markdown",
   "metadata": {},
   "source": [
    "Orders for Alex that are shipped, without details (none should be listed):"
   ]
  },
  {
   "cell_type": "code",
   "execution_count": 279,
   "metadata": {},
   "outputs": [
    {
     "name": "stdout",
     "output_type": "stream",
     "text": [
      "2024-03-28 17:45:17,806 INFO sqlalchemy.engine.Engine SELECT customer.first_name, customer.last_name, \"order\".order_id, \"order\".is_shipped \n",
      "FROM customer JOIN \"order\" ON customer.customer_id = \"order\".customer_id \n",
      "WHERE \"order\".is_shipped = 1 AND customer.first_name = ?\n",
      "2024-03-28 17:45:17,807 INFO sqlalchemy.engine.Engine [generated in 0.00068s] ('Alex',)\n"
     ]
    }
   ],
   "source": [
    "list_customer_orders(session, \"Alex\", is_shipped=True, details=False)"
   ]
  },
  {
   "cell_type": "markdown",
   "metadata": {},
   "source": [
    "### Raw Queries"
   ]
  },
  {
   "cell_type": "code",
   "execution_count": 280,
   "metadata": {},
   "outputs": [],
   "source": [
    "from sqlalchemy import text"
   ]
  },
  {
   "cell_type": "code",
   "execution_count": 281,
   "metadata": {},
   "outputs": [],
   "source": [
    "clause = text(\"SELECT customer_id, first_name FROM customer\")"
   ]
  },
  {
   "cell_type": "code",
   "execution_count": 282,
   "metadata": {},
   "outputs": [
    {
     "data": {
      "text/plain": [
       "<sqlalchemy.sql.elements.TextClause object at 0x7f89dcb9f460>"
      ]
     },
     "execution_count": 282,
     "metadata": {},
     "output_type": "execute_result"
    }
   ],
   "source": [
    "clause"
   ]
  },
  {
   "cell_type": "code",
   "execution_count": 283,
   "metadata": {},
   "outputs": [
    {
     "name": "stdout",
     "output_type": "stream",
     "text": [
      "2024-03-28 17:45:17,827 INFO sqlalchemy.engine.Engine SELECT customer_id, first_name FROM customer\n",
      "2024-03-28 17:45:17,827 INFO sqlalchemy.engine.Engine [generated in 0.00065s] ()\n",
      "1 Alex\n",
      "2 Mary\n"
     ]
    }
   ],
   "source": [
    "for row in session.execute(clause):\n",
    "    print(row.customer_id, row.first_name)"
   ]
  },
  {
   "cell_type": "markdown",
   "metadata": {},
   "source": [
    "## Updating Data"
   ]
  },
  {
   "cell_type": "markdown",
   "metadata": {},
   "source": [
    "Updates using attributes of ORM-mapped objects:"
   ]
  },
  {
   "cell_type": "code",
   "execution_count": 284,
   "metadata": {},
   "outputs": [
    {
     "name": "stdout",
     "output_type": "stream",
     "text": [
      "2024-03-28 17:45:17,833 INFO sqlalchemy.engine.Engine SELECT customer.customer_id, customer.first_name, customer.last_name, customer.email \n",
      "FROM customer \n",
      "WHERE customer.first_name = ?\n",
      "2024-03-28 17:45:17,834 INFO sqlalchemy.engine.Engine [generated in 0.00064s] ('Mary',)\n"
     ]
    }
   ],
   "source": [
    "mary = session.execute(\n",
    "    select(Customer)\n",
    "    .filter_by(first_name=\"Mary\")\n",
    ").scalar_one()"
   ]
  },
  {
   "cell_type": "code",
   "execution_count": 285,
   "metadata": {},
   "outputs": [
    {
     "name": "stdout",
     "output_type": "stream",
     "text": [
      "2024-03-28 17:45:17,839 INFO sqlalchemy.engine.Engine SELECT customer.address AS customer_address \n",
      "FROM customer \n",
      "WHERE customer.customer_id = ?\n",
      "2024-03-28 17:45:17,840 INFO sqlalchemy.engine.Engine [cached since 0.4594s ago] (2,)\n"
     ]
    },
    {
     "data": {
      "text/plain": [
       "Customer(customer_id=2, first_name='Mary', last_name='Taylor', address='200-139 Jefferson Street, NY', email='mary_taylor@test.com')"
      ]
     },
     "execution_count": 285,
     "metadata": {},
     "output_type": "execute_result"
    }
   ],
   "source": [
    "mary"
   ]
  },
  {
   "cell_type": "code",
   "execution_count": 286,
   "metadata": {},
   "outputs": [],
   "source": [
    "mary.last_name = \"Smith\""
   ]
  },
  {
   "cell_type": "code",
   "execution_count": 287,
   "metadata": {},
   "outputs": [
    {
     "name": "stdout",
     "output_type": "stream",
     "text": [
      "Is instance modified: True\n"
     ]
    }
   ],
   "source": [
    "print(\"Is instance modified:\", session.is_modified(mary))  # True"
   ]
  },
  {
   "cell_type": "code",
   "execution_count": 288,
   "metadata": {},
   "outputs": [
    {
     "name": "stdout",
     "output_type": "stream",
     "text": [
      "Is object dirty: True\n"
     ]
    }
   ],
   "source": [
    "print(\"Is object dirty:\", mary in session.dirty)  # True"
   ]
  },
  {
   "cell_type": "code",
   "execution_count": 289,
   "metadata": {},
   "outputs": [
    {
     "name": "stdout",
     "output_type": "stream",
     "text": [
      "2024-03-28 17:45:17,859 INFO sqlalchemy.engine.Engine UPDATE customer SET last_name=? WHERE customer.customer_id = ?\n",
      "2024-03-28 17:45:17,860 INFO sqlalchemy.engine.Engine [generated in 0.00081s] ('Smith', 2)\n"
     ]
    }
   ],
   "source": [
    "session.flush()"
   ]
  },
  {
   "cell_type": "code",
   "execution_count": 290,
   "metadata": {},
   "outputs": [
    {
     "name": "stdout",
     "output_type": "stream",
     "text": [
      "Is instance modified after flushing: False\n"
     ]
    }
   ],
   "source": [
    "print(\"Is instance modified after flushing:\", session.is_modified(mary))  # False"
   ]
  },
  {
   "cell_type": "code",
   "execution_count": 291,
   "metadata": {},
   "outputs": [
    {
     "name": "stdout",
     "output_type": "stream",
     "text": [
      "Is object dirty after flushing: False\n"
     ]
    }
   ],
   "source": [
    "print(\"Is object dirty after flushing:\", mary in session.dirty)  # False"
   ]
  },
  {
   "cell_type": "code",
   "execution_count": 292,
   "metadata": {},
   "outputs": [
    {
     "data": {
      "text/plain": [
       "Customer(customer_id=2, first_name='Mary', last_name='Smith', address='200-139 Jefferson Street, NY', email='mary_taylor@test.com')"
      ]
     },
     "execution_count": 292,
     "metadata": {},
     "output_type": "execute_result"
    }
   ],
   "source": [
    "mary"
   ]
  },
  {
   "cell_type": "code",
   "execution_count": 293,
   "metadata": {},
   "outputs": [
    {
     "name": "stdout",
     "output_type": "stream",
     "text": [
      "2024-03-28 17:45:17,882 INFO sqlalchemy.engine.Engine COMMIT\n"
     ]
    }
   ],
   "source": [
    "session.commit()"
   ]
  },
  {
   "cell_type": "markdown",
   "metadata": {},
   "source": [
    "Updates using `WHERE`:"
   ]
  },
  {
   "cell_type": "code",
   "execution_count": 294,
   "metadata": {},
   "outputs": [],
   "source": [
    "from sqlalchemy import update"
   ]
  },
  {
   "cell_type": "code",
   "execution_count": 295,
   "metadata": {},
   "outputs": [],
   "source": [
    "stmt = (\n",
    "    update(Customer)\n",
    "    .where(Customer.first_name.in_([\"Alex\", \"Mary\"]))\n",
    "    .filter_by(last_name=\"Smith\")\n",
    "    .values(last_name=\"Taylor\")\n",
    "    .returning(Customer)\n",
    ")"
   ]
  },
  {
   "cell_type": "code",
   "execution_count": 296,
   "metadata": {},
   "outputs": [
    {
     "name": "stdout",
     "output_type": "stream",
     "text": [
      "UPDATE customer SET last_name=:last_name WHERE customer.first_name IN (__[POSTCOMPILE_first_name_1]) AND customer.last_name = :last_name_1 RETURNING customer.customer_id, customer.first_name, customer.last_name, customer.email\n"
     ]
    }
   ],
   "source": [
    "print(stmt)"
   ]
  },
  {
   "cell_type": "code",
   "execution_count": 297,
   "metadata": {},
   "outputs": [
    {
     "name": "stdout",
     "output_type": "stream",
     "text": [
      "{'last_name': 'Taylor', 'first_name_1': ['Alex', 'Mary'], 'last_name_1': 'Smith'}\n"
     ]
    }
   ],
   "source": [
    "print(stmt.compile().params)"
   ]
  },
  {
   "cell_type": "code",
   "execution_count": 298,
   "metadata": {},
   "outputs": [
    {
     "name": "stdout",
     "output_type": "stream",
     "text": [
      "2024-03-28 17:45:17,912 INFO sqlalchemy.engine.Engine BEGIN (implicit)\n",
      "2024-03-28 17:45:17,914 INFO sqlalchemy.engine.Engine UPDATE customer SET last_name=? WHERE customer.first_name IN (?, ?) AND customer.last_name = ? RETURNING customer_id, first_name, last_name, email\n",
      "2024-03-28 17:45:17,914 INFO sqlalchemy.engine.Engine [generated in 0.00057s] ('Taylor', 'Alex', 'Mary', 'Smith')\n"
     ]
    }
   ],
   "source": [
    "customers = session.scalars(stmt)"
   ]
  },
  {
   "cell_type": "code",
   "execution_count": 299,
   "metadata": {},
   "outputs": [
    {
     "name": "stdout",
     "output_type": "stream",
     "text": [
      "2024-03-28 17:45:17,920 INFO sqlalchemy.engine.Engine SELECT customer.address AS customer_address \n",
      "FROM customer \n",
      "WHERE customer.customer_id = ?\n",
      "2024-03-28 17:45:17,921 INFO sqlalchemy.engine.Engine [cached since 0.5403s ago] (1,)\n",
      "Customer(customer_id=1, first_name='Alex', last_name='Taylor', address='618 Oak Lane, CA', email='alex_smith@test.com')\n",
      "2024-03-28 17:45:17,922 INFO sqlalchemy.engine.Engine SELECT customer.address AS customer_address \n",
      "FROM customer \n",
      "WHERE customer.customer_id = ?\n",
      "2024-03-28 17:45:17,922 INFO sqlalchemy.engine.Engine [cached since 0.5417s ago] (2,)\n",
      "Customer(customer_id=2, first_name='Mary', last_name='Taylor', address='200-139 Jefferson Street, NY', email='mary_taylor@test.com')\n"
     ]
    }
   ],
   "source": [
    "for customer in customers:\n",
    "    print(customer)"
   ]
  },
  {
   "cell_type": "code",
   "execution_count": 300,
   "metadata": {},
   "outputs": [
    {
     "name": "stdout",
     "output_type": "stream",
     "text": [
      "2024-03-28 17:45:17,929 INFO sqlalchemy.engine.Engine COMMIT\n"
     ]
    }
   ],
   "source": [
    "session.commit()"
   ]
  },
  {
   "cell_type": "markdown",
   "metadata": {},
   "source": [
    "ORM bulk update by primary key:"
   ]
  },
  {
   "cell_type": "code",
   "execution_count": 301,
   "metadata": {},
   "outputs": [
    {
     "name": "stdout",
     "output_type": "stream",
     "text": [
      "2024-03-28 17:45:17,937 INFO sqlalchemy.engine.Engine BEGIN (implicit)\n",
      "2024-03-28 17:45:17,939 INFO sqlalchemy.engine.Engine UPDATE customer SET last_name=? WHERE customer.customer_id = ?\n",
      "2024-03-28 17:45:17,940 INFO sqlalchemy.engine.Engine [generated in 0.00084s] [('Smith', 1), ('Taylor', 2)]\n"
     ]
    },
    {
     "data": {
      "text/plain": [
       "<sqlalchemy.engine.result.IteratorResult at 0x7f89dcd3dac0>"
      ]
     },
     "execution_count": 301,
     "metadata": {},
     "output_type": "execute_result"
    }
   ],
   "source": [
    "session.execute(\n",
    "    update(Customer),\n",
    "    [\n",
    "        {\"customer_id\": 1, \"last_name\": \"Smith\"},\n",
    "        {\"customer_id\": 2, \"last_name\": \"Taylor\"},\n",
    "    ],\n",
    ")"
   ]
  },
  {
   "cell_type": "code",
   "execution_count": 302,
   "metadata": {},
   "outputs": [
    {
     "name": "stdout",
     "output_type": "stream",
     "text": [
      "2024-03-28 17:45:17,946 INFO sqlalchemy.engine.Engine COMMIT\n"
     ]
    }
   ],
   "source": [
    "session.commit()"
   ]
  },
  {
   "cell_type": "code",
   "execution_count": 303,
   "metadata": {},
   "outputs": [
    {
     "name": "stdout",
     "output_type": "stream",
     "text": [
      "2024-03-28 17:45:17,955 INFO sqlalchemy.engine.Engine BEGIN (implicit)\n",
      "2024-03-28 17:45:17,956 INFO sqlalchemy.engine.Engine SELECT customer.customer_id, customer.first_name, customer.last_name, customer.email \n",
      "FROM customer\n",
      "2024-03-28 17:45:17,956 INFO sqlalchemy.engine.Engine [cached since 0.5816s ago] ()\n",
      "2024-03-28 17:45:17,958 INFO sqlalchemy.engine.Engine SELECT customer.address AS customer_address \n",
      "FROM customer \n",
      "WHERE customer.customer_id = ?\n",
      "2024-03-28 17:45:17,958 INFO sqlalchemy.engine.Engine [cached since 0.5777s ago] (1,)\n",
      "Customer(customer_id=1, first_name='Alex', last_name='Smith', address='618 Oak Lane, CA', email='alex_smith@test.com')\n",
      "2024-03-28 17:45:17,960 INFO sqlalchemy.engine.Engine SELECT customer.address AS customer_address \n",
      "FROM customer \n",
      "WHERE customer.customer_id = ?\n",
      "2024-03-28 17:45:17,960 INFO sqlalchemy.engine.Engine [cached since 0.5794s ago] (2,)\n",
      "Customer(customer_id=2, first_name='Mary', last_name='Taylor', address='200-139 Jefferson Street, NY', email='mary_taylor@test.com')\n"
     ]
    }
   ],
   "source": [
    "customers = session.scalars(select(Customer))\n",
    "for customer in customers:\n",
    "    print(customer)"
   ]
  },
  {
   "cell_type": "markdown",
   "metadata": {},
   "source": [
    "### Differences in Update Approaches: Class Attributes vs. Instance Attributes"
   ]
  },
  {
   "cell_type": "markdown",
   "metadata": {},
   "source": [
    "Updating with class attributes (increment the inventory by one):"
   ]
  },
  {
   "cell_type": "code",
   "execution_count": 304,
   "metadata": {},
   "outputs": [
    {
     "name": "stdout",
     "output_type": "stream",
     "text": [
      "2024-03-28 17:45:17,967 INFO sqlalchemy.engine.Engine SELECT product.product_id AS product_product_id, product.product_name AS product_product_name, product.unit_price AS product_unit_price, product.units_in_stock AS product_units_in_stock, product.type AS product_type \n",
      "FROM product \n",
      "WHERE product.product_id = ?\n",
      "2024-03-28 17:45:17,968 INFO sqlalchemy.engine.Engine [generated in 0.00079s] (1,)\n"
     ]
    }
   ],
   "source": [
    "product = session.get(Product, 1)"
   ]
  },
  {
   "cell_type": "code",
   "execution_count": 305,
   "metadata": {},
   "outputs": [],
   "source": [
    "product.units_in_stock = Product.units_in_stock + 1"
   ]
  },
  {
   "cell_type": "code",
   "execution_count": 306,
   "metadata": {},
   "outputs": [
    {
     "name": "stdout",
     "output_type": "stream",
     "text": [
      "2024-03-28 17:45:17,980 INFO sqlalchemy.engine.Engine UPDATE product SET units_in_stock=(product.units_in_stock + ?) WHERE product.product_id = ?\n",
      "2024-03-28 17:45:17,980 INFO sqlalchemy.engine.Engine [generated in 0.00089s] (1, 1)\n",
      "2024-03-28 17:45:17,982 INFO sqlalchemy.engine.Engine COMMIT\n"
     ]
    }
   ],
   "source": [
    "session.commit()"
   ]
  },
  {
   "cell_type": "markdown",
   "metadata": {},
   "source": [
    "Updating with instance attributes (decrement the inventory by one):"
   ]
  },
  {
   "cell_type": "code",
   "execution_count": 307,
   "metadata": {},
   "outputs": [
    {
     "name": "stdout",
     "output_type": "stream",
     "text": [
      "2024-03-28 17:45:17,989 INFO sqlalchemy.engine.Engine BEGIN (implicit)\n",
      "2024-03-28 17:45:17,990 INFO sqlalchemy.engine.Engine SELECT product.product_id AS product_product_id, product.product_name AS product_product_name, product.unit_price AS product_unit_price, product.units_in_stock AS product_units_in_stock, product.type AS product_type \n",
      "FROM product \n",
      "WHERE product.product_id = ?\n",
      "2024-03-28 17:45:17,990 INFO sqlalchemy.engine.Engine [cached since 0.02352s ago] (1,)\n"
     ]
    }
   ],
   "source": [
    "product = session.get(Product, 1)"
   ]
  },
  {
   "cell_type": "code",
   "execution_count": 308,
   "metadata": {},
   "outputs": [],
   "source": [
    "product.units_in_stock -= 1"
   ]
  },
  {
   "cell_type": "code",
   "execution_count": 309,
   "metadata": {},
   "outputs": [
    {
     "name": "stdout",
     "output_type": "stream",
     "text": [
      "2024-03-28 17:45:18,002 INFO sqlalchemy.engine.Engine UPDATE product SET units_in_stock=? WHERE product.product_id = ?\n",
      "2024-03-28 17:45:18,002 INFO sqlalchemy.engine.Engine [generated in 0.00078s] (5, 1)\n",
      "2024-03-28 17:45:18,003 INFO sqlalchemy.engine.Engine COMMIT\n"
     ]
    }
   ],
   "source": [
    "session.commit()"
   ]
  },
  {
   "cell_type": "markdown",
   "metadata": {},
   "source": [
    "## Deleting Data"
   ]
  },
  {
   "cell_type": "code",
   "execution_count": 310,
   "metadata": {},
   "outputs": [],
   "source": [
    "from sqlalchemy import delete"
   ]
  },
  {
   "cell_type": "markdown",
   "metadata": {},
   "source": [
    "To enable foreign key constraints in SQLite, you need to\n",
    "[activate foreign key support](https://docs.sqlalchemy.org/en/20/dialects/sqlite.html#foreign-key-support):\n"
   ]
  },
  {
   "cell_type": "code",
   "execution_count": 311,
   "metadata": {},
   "outputs": [],
   "source": [
    "from sqlalchemy.engine import Engine\n",
    "from sqlalchemy import event\n",
    "\n",
    "@event.listens_for(Engine, \"connect\")\n",
    "def set_sqlite_pragma(dbapi_connection, connection_record):\n",
    "    cursor = dbapi_connection.cursor()\n",
    "    cursor.execute(\"PRAGMA foreign_keys=ON\")\n",
    "    cursor.close()"
   ]
  },
  {
   "cell_type": "markdown",
   "metadata": {},
   "source": [
    "Delete the first order from our system using an ORM-mapped instance:"
   ]
  },
  {
   "cell_type": "code",
   "execution_count": 312,
   "metadata": {},
   "outputs": [
    {
     "name": "stdout",
     "output_type": "stream",
     "text": [
      "2024-03-28 17:45:18,021 INFO sqlalchemy.engine.Engine BEGIN (implicit)\n",
      "2024-03-28 17:45:18,023 INFO sqlalchemy.engine.Engine SELECT \"order\".order_id AS order_order_id, \"order\".customer_id AS order_customer_id, \"order\".employee_id AS order_employee_id, \"order\".order_datetime AS order_order_datetime, \"order\".is_shipped AS order_is_shipped \n",
      "FROM \"order\" \n",
      "WHERE \"order\".order_id = ?\n",
      "2024-03-28 17:45:18,023 INFO sqlalchemy.engine.Engine [generated in 0.00072s] (1,)\n"
     ]
    }
   ],
   "source": [
    "order = session.get(Order, 1)"
   ]
  },
  {
   "cell_type": "code",
   "execution_count": 313,
   "metadata": {},
   "outputs": [
    {
     "name": "stdout",
     "output_type": "stream",
     "text": [
      "Order in session after delete? True\n",
      "2024-03-28 17:45:18,030 INFO sqlalchemy.engine.Engine DELETE FROM \"order\" WHERE \"order\".order_id = ?\n",
      "2024-03-28 17:45:18,031 INFO sqlalchemy.engine.Engine [generated in 0.00082s] (1,)\n",
      "2024-03-28 17:45:18,032 INFO sqlalchemy.engine.Engine COMMIT\n",
      "Order in session after committing? False\n"
     ]
    }
   ],
   "source": [
    "if order is not None:\n",
    "    session.delete(order)\n",
    "    print(\"Order in session after delete?\", order in session)  # True\n",
    "    session.commit()\n",
    "    print(\"Order in session after committing?\", order in session)  # False"
   ]
  },
  {
   "cell_type": "markdown",
   "metadata": {},
   "source": [
    "Checking results (orders):"
   ]
  },
  {
   "cell_type": "code",
   "execution_count": 314,
   "metadata": {},
   "outputs": [
    {
     "name": "stdout",
     "output_type": "stream",
     "text": [
      "2024-03-28 17:45:18,040 INFO sqlalchemy.engine.Engine BEGIN (implicit)\n",
      "2024-03-28 17:45:18,041 INFO sqlalchemy.engine.Engine SELECT \"order\".order_id, \"order\".customer_id, \"order\".employee_id, \"order\".order_datetime, \"order\".is_shipped \n",
      "FROM \"order\"\n",
      "2024-03-28 17:45:18,041 INFO sqlalchemy.engine.Engine [cached since 0.6173s ago] ()\n",
      "Order(order_id=2, customer_id=1, employee_id=None, order_datetime=datetime.datetime(2024, 3, 28, 17, 45, 17, 401588), is_shipped=False)\n",
      "Order(order_id=3, customer_id=2, employee_id=None, order_datetime=datetime.datetime(2024, 3, 28, 17, 45, 17, 409931), is_shipped=False)\n"
     ]
    }
   ],
   "source": [
    "for order in session.scalars(select(Order)):\n",
    "    print(order)"
   ]
  },
  {
   "cell_type": "markdown",
   "metadata": {},
   "source": [
    "Check order details:"
   ]
  },
  {
   "cell_type": "code",
   "execution_count": 315,
   "metadata": {},
   "outputs": [
    {
     "name": "stdout",
     "output_type": "stream",
     "text": [
      "2024-03-28 17:45:18,048 INFO sqlalchemy.engine.Engine SELECT order_detail.order_id, order_detail.product_id, order_detail.quantity \n",
      "FROM order_detail\n",
      "2024-03-28 17:45:18,048 INFO sqlalchemy.engine.Engine [cached since 0.6145s ago] ()\n",
      "OrderDetail(order_id=2, product_id=5, quantity=1)\n",
      "OrderDetail(order_id=3, product_id=4, quantity=1)\n",
      "OrderDetail(order_id=3, product_id=5, quantity=2)\n"
     ]
    }
   ],
   "source": [
    "for od in session.scalars(select(OrderDetail)):\n",
    "    print(od)"
   ]
  },
  {
   "cell_type": "markdown",
   "metadata": {},
   "source": [
    "Delete all the remaining orders using the `WHERE` clause:\n"
   ]
  },
  {
   "cell_type": "code",
   "execution_count": 316,
   "metadata": {},
   "outputs": [],
   "source": [
    "stmt = delete(Order).where(Order.order_id != 1)"
   ]
  },
  {
   "cell_type": "code",
   "execution_count": 317,
   "metadata": {},
   "outputs": [
    {
     "name": "stdout",
     "output_type": "stream",
     "text": [
      "DELETE FROM \"order\" WHERE \"order\".order_id != :order_id_1\n"
     ]
    }
   ],
   "source": [
    "print(stmt)"
   ]
  },
  {
   "cell_type": "code",
   "execution_count": 318,
   "metadata": {},
   "outputs": [
    {
     "name": "stdout",
     "output_type": "stream",
     "text": [
      "2024-03-28 17:45:18,066 INFO sqlalchemy.engine.Engine DELETE FROM \"order\" WHERE \"order\".order_id != ?\n",
      "2024-03-28 17:45:18,067 INFO sqlalchemy.engine.Engine [generated in 0.00089s] (1,)\n"
     ]
    },
    {
     "data": {
      "text/plain": [
       "<sqlalchemy.engine.cursor.CursorResult at 0x7f89dccf8160>"
      ]
     },
     "execution_count": 318,
     "metadata": {},
     "output_type": "execute_result"
    }
   ],
   "source": [
    "session.execute(stmt)"
   ]
  },
  {
   "cell_type": "code",
   "execution_count": 319,
   "metadata": {},
   "outputs": [
    {
     "name": "stdout",
     "output_type": "stream",
     "text": [
      "2024-03-28 17:45:18,073 INFO sqlalchemy.engine.Engine COMMIT\n"
     ]
    }
   ],
   "source": [
    "session.commit()"
   ]
  },
  {
   "cell_type": "markdown",
   "metadata": {},
   "source": [
    "Checking orders:"
   ]
  },
  {
   "cell_type": "code",
   "execution_count": 320,
   "metadata": {},
   "outputs": [
    {
     "name": "stdout",
     "output_type": "stream",
     "text": [
      "2024-03-28 17:45:18,081 INFO sqlalchemy.engine.Engine BEGIN (implicit)\n",
      "2024-03-28 17:45:18,082 INFO sqlalchemy.engine.Engine SELECT \"order\".order_id, \"order\".customer_id, \"order\".employee_id, \"order\".order_datetime, \"order\".is_shipped \n",
      "FROM \"order\"\n",
      "2024-03-28 17:45:18,082 INFO sqlalchemy.engine.Engine [cached since 0.6582s ago] ()\n"
     ]
    }
   ],
   "source": [
    "for order in session.scalars(select(Order)):\n",
    "    print(order)"
   ]
  },
  {
   "cell_type": "markdown",
   "metadata": {},
   "source": [
    "And order details:"
   ]
  },
  {
   "cell_type": "code",
   "execution_count": 321,
   "metadata": {},
   "outputs": [
    {
     "name": "stdout",
     "output_type": "stream",
     "text": [
      "2024-03-28 17:45:18,088 INFO sqlalchemy.engine.Engine SELECT order_detail.order_id, order_detail.product_id, order_detail.quantity \n",
      "FROM order_detail\n",
      "2024-03-28 17:45:18,088 INFO sqlalchemy.engine.Engine [cached since 0.6547s ago] ()\n"
     ]
    }
   ],
   "source": [
    "for od in session.scalars(select(OrderDetail)):\n",
    "    print(od)"
   ]
  },
  {
   "cell_type": "markdown",
   "metadata": {},
   "source": [
    "Finally, close the session:"
   ]
  },
  {
   "cell_type": "code",
   "execution_count": 322,
   "metadata": {},
   "outputs": [
    {
     "name": "stdout",
     "output_type": "stream",
     "text": [
      "2024-03-28 17:45:18,093 INFO sqlalchemy.engine.Engine ROLLBACK\n"
     ]
    }
   ],
   "source": [
    "session.close()"
   ]
  }
 ],
 "metadata": {
  "kernelspec": {
   "display_name": "mybook_py310",
   "language": "python",
   "name": "python3"
  },
  "language_info": {
   "codemirror_mode": {
    "name": "ipython",
    "version": 3
   },
   "file_extension": ".py",
   "mimetype": "text/x-python",
   "name": "python",
   "nbconvert_exporter": "python",
   "pygments_lexer": "ipython3",
   "version": "3.10.10"
  }
 },
 "nbformat": 4,
 "nbformat_minor": 2
}
