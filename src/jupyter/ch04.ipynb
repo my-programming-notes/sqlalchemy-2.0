{
 "cells": [
  {
   "cell_type": "markdown",
   "metadata": {},
   "source": [
    "# Chapter 4: Creating Data"
   ]
  },
  {
   "cell_type": "markdown",
   "metadata": {},
   "source": [
    "Install the following package:"
   ]
  },
  {
   "cell_type": "markdown",
   "metadata": {},
   "source": [
    "```bash\n",
    "pip install nbformat\n",
    "```"
   ]
  },
  {
   "cell_type": "markdown",
   "metadata": {},
   "source": [
    "Run the table definition program from the previous chapter:"
   ]
  },
  {
   "cell_type": "code",
   "execution_count": 38,
   "metadata": {},
   "outputs": [
    {
     "name": "stdout",
     "output_type": "stream",
     "text": [
      "2024-03-20 08:06:56,016 INFO sqlalchemy.engine.Engine BEGIN (implicit)\n",
      "2024-03-20 08:06:56,017 INFO sqlalchemy.engine.Engine PRAGMA main.table_info(\"employee\")\n",
      "2024-03-20 08:06:56,018 INFO sqlalchemy.engine.Engine [raw sql] ()\n",
      "2024-03-20 08:06:56,019 INFO sqlalchemy.engine.Engine PRAGMA temp.table_info(\"employee\")\n",
      "2024-03-20 08:06:56,019 INFO sqlalchemy.engine.Engine [raw sql] ()\n",
      "2024-03-20 08:06:56,020 INFO sqlalchemy.engine.Engine PRAGMA main.table_info(\"product\")\n",
      "2024-03-20 08:06:56,021 INFO sqlalchemy.engine.Engine [raw sql] ()\n",
      "2024-03-20 08:06:56,022 INFO sqlalchemy.engine.Engine PRAGMA temp.table_info(\"product\")\n",
      "2024-03-20 08:06:56,022 INFO sqlalchemy.engine.Engine [raw sql] ()\n",
      "2024-03-20 08:06:56,023 INFO sqlalchemy.engine.Engine PRAGMA main.table_info(\"customer\")\n",
      "2024-03-20 08:06:56,023 INFO sqlalchemy.engine.Engine [raw sql] ()\n",
      "2024-03-20 08:06:56,024 INFO sqlalchemy.engine.Engine PRAGMA temp.table_info(\"customer\")\n",
      "2024-03-20 08:06:56,025 INFO sqlalchemy.engine.Engine [raw sql] ()\n",
      "2024-03-20 08:06:56,026 INFO sqlalchemy.engine.Engine PRAGMA main.table_info(\"order\")\n",
      "2024-03-20 08:06:56,026 INFO sqlalchemy.engine.Engine [raw sql] ()\n",
      "2024-03-20 08:06:56,027 INFO sqlalchemy.engine.Engine PRAGMA temp.table_info(\"order\")\n",
      "2024-03-20 08:06:56,027 INFO sqlalchemy.engine.Engine [raw sql] ()\n",
      "2024-03-20 08:06:56,028 INFO sqlalchemy.engine.Engine PRAGMA main.table_info(\"order_detail\")\n",
      "2024-03-20 08:06:56,029 INFO sqlalchemy.engine.Engine [raw sql] ()\n",
      "2024-03-20 08:06:56,030 INFO sqlalchemy.engine.Engine PRAGMA temp.table_info(\"order_detail\")\n",
      "2024-03-20 08:06:56,030 INFO sqlalchemy.engine.Engine [raw sql] ()\n",
      "2024-03-20 08:06:56,031 INFO sqlalchemy.engine.Engine \n",
      "CREATE TABLE employee (\n",
      "\temployee_id INTEGER NOT NULL, \n",
      "\tmanager_id INTEGER, \n",
      "\tname VARCHAR(31) NOT NULL, \n",
      "\tis_manager BOOLEAN, \n",
      "\thire_date DATE, \n",
      "\tPRIMARY KEY (employee_id), \n",
      "\tFOREIGN KEY(manager_id) REFERENCES employee (employee_id)\n",
      ")\n",
      "\n",
      "\n",
      "2024-03-20 08:06:56,032 INFO sqlalchemy.engine.Engine [no key 0.00041s] ()\n",
      "2024-03-20 08:06:56,039 INFO sqlalchemy.engine.Engine \n",
      "CREATE TABLE product (\n",
      "\tproduct_id INTEGER NOT NULL, \n",
      "\tproduct_name VARCHAR(255), \n",
      "\tunit_price NUMERIC(12, 2) CHECK (unit_price>0), \n",
      "\tunits_in_stock INTEGER CHECK (units_in_stock>=0), \n",
      "\ttype VARCHAR(9), \n",
      "\tPRIMARY KEY (product_id), \n",
      "\tCONSTRAINT stock_upper_limit CHECK (units_in_stock < 1000000)\n",
      ")\n",
      "\n",
      "\n",
      "2024-03-20 08:06:56,040 INFO sqlalchemy.engine.Engine [no key 0.00052s] ()\n",
      "2024-03-20 08:06:56,045 INFO sqlalchemy.engine.Engine CREATE INDEX ix_product_product_name ON product (product_name)\n",
      "2024-03-20 08:06:56,045 INFO sqlalchemy.engine.Engine [no key 0.00034s] ()\n",
      "2024-03-20 08:06:56,051 INFO sqlalchemy.engine.Engine \n",
      "CREATE TABLE customer (\n",
      "\tcustomer_id INTEGER NOT NULL, \n",
      "\tfirst_name VARCHAR(31), \n",
      "\tlast_name VARCHAR(31), \n",
      "\taddress VARCHAR(255), \n",
      "\temail VARCHAR(127) NOT NULL, \n",
      "\tPRIMARY KEY (customer_id), \n",
      "\tUNIQUE (email)\n",
      ")\n",
      "\n",
      "\n",
      "2024-03-20 08:06:56,051 INFO sqlalchemy.engine.Engine [no key 0.00070s] ()\n",
      "2024-03-20 08:06:56,055 INFO sqlalchemy.engine.Engine CREATE INDEX customer_full_name ON customer (first_name, last_name)\n",
      "2024-03-20 08:06:56,055 INFO sqlalchemy.engine.Engine [no key 0.00070s] ()\n",
      "2024-03-20 08:06:56,059 INFO sqlalchemy.engine.Engine \n",
      "CREATE TABLE \"order\" (\n",
      "\torder_id INTEGER NOT NULL, \n",
      "\tcustomer_id INTEGER NOT NULL, \n",
      "\temployee_id INTEGER, \n",
      "\torder_datetime DATETIME, \n",
      "\tis_shipped BOOLEAN, \n",
      "\tPRIMARY KEY (order_id), \n",
      "\tFOREIGN KEY(customer_id) REFERENCES customer (customer_id), \n",
      "\tFOREIGN KEY(employee_id) REFERENCES employee (employee_id)\n",
      ")\n",
      "\n",
      "\n",
      "2024-03-20 08:06:56,060 INFO sqlalchemy.engine.Engine [no key 0.00051s] ()\n",
      "2024-03-20 08:06:56,063 INFO sqlalchemy.engine.Engine \n",
      "CREATE TABLE order_detail (\n",
      "\torder_id INTEGER NOT NULL, \n",
      "\tproduct_id INTEGER NOT NULL, \n",
      "\tquantity INTEGER, \n",
      "\tPRIMARY KEY (order_id, product_id), \n",
      "\tCONSTRAINT num_of_ordered_item_must_be_positive CHECK (quantity>0), \n",
      "\tFOREIGN KEY(order_id) REFERENCES \"order\" (order_id), \n",
      "\tFOREIGN KEY(product_id) REFERENCES product (product_id)\n",
      ")\n",
      "\n",
      "\n",
      "2024-03-20 08:06:56,064 INFO sqlalchemy.engine.Engine [no key 0.00054s] ()\n",
      "2024-03-20 08:06:56,067 INFO sqlalchemy.engine.Engine COMMIT\n"
     ]
    }
   ],
   "source": [
    "%run -i 'ch03.ipynb'"
   ]
  },
  {
   "cell_type": "markdown",
   "metadata": {},
   "source": [
    "Get the connection:"
   ]
  },
  {
   "cell_type": "code",
   "execution_count": 39,
   "metadata": {},
   "outputs": [],
   "source": [
    "conn = engine.connect()"
   ]
  },
  {
   "cell_type": "markdown",
   "metadata": {},
   "source": [
    "Necessary imports:"
   ]
  },
  {
   "cell_type": "code",
   "execution_count": 40,
   "metadata": {},
   "outputs": [],
   "source": [
    "from datetime import date, timedelta\n",
    "from sqlalchemy import insert"
   ]
  },
  {
   "cell_type": "markdown",
   "metadata": {},
   "source": [
    "Let's start inserting employee records:"
   ]
  },
  {
   "cell_type": "code",
   "execution_count": 41,
   "metadata": {},
   "outputs": [],
   "source": [
    "employee_ids = []"
   ]
  },
  {
   "cell_type": "code",
   "execution_count": 42,
   "metadata": {},
   "outputs": [],
   "source": [
    "stmt = (\n",
    "    insert(employee)\n",
    "    .values(\n",
    "        name=\"Alice\",\n",
    "        is_manager=True,\n",
    "        hire_date=(date.today() - timedelta(days=1)),\n",
    "    )\n",
    ")"
   ]
  },
  {
   "cell_type": "code",
   "execution_count": 43,
   "metadata": {},
   "outputs": [
    {
     "name": "stdout",
     "output_type": "stream",
     "text": [
      "INSERT INTO employee (name, is_manager, hire_date) VALUES (:name, :is_manager, :hire_date)\n"
     ]
    }
   ],
   "source": [
    "print(stmt)"
   ]
  },
  {
   "cell_type": "code",
   "execution_count": 44,
   "metadata": {},
   "outputs": [],
   "source": [
    "compiled = stmt.compile()"
   ]
  },
  {
   "cell_type": "code",
   "execution_count": 45,
   "metadata": {},
   "outputs": [
    {
     "name": "stdout",
     "output_type": "stream",
     "text": [
      "{'name': 'Alice', 'is_manager': True, 'hire_date': datetime.date(2024, 3, 19)}\n"
     ]
    }
   ],
   "source": [
    "print(compiled.params)"
   ]
  },
  {
   "cell_type": "code",
   "execution_count": 46,
   "metadata": {},
   "outputs": [
    {
     "name": "stdout",
     "output_type": "stream",
     "text": [
      "2024-03-20 08:06:56,110 INFO sqlalchemy.engine.Engine BEGIN (implicit)\n",
      "2024-03-20 08:06:56,110 INFO sqlalchemy.engine.Engine INSERT INTO employee (name, is_manager, hire_date) VALUES (?, ?, ?)\n",
      "2024-03-20 08:06:56,111 INFO sqlalchemy.engine.Engine [generated in 0.00104s] ('Alice', 1, '2024-03-19')\n"
     ]
    }
   ],
   "source": [
    "result = conn.execute(stmt)"
   ]
  },
  {
   "cell_type": "code",
   "execution_count": 47,
   "metadata": {},
   "outputs": [
    {
     "name": "stdout",
     "output_type": "stream",
     "text": [
      "(1,)\n"
     ]
    }
   ],
   "source": [
    "print(result.inserted_primary_key)"
   ]
  },
  {
   "cell_type": "code",
   "execution_count": 48,
   "metadata": {},
   "outputs": [],
   "source": [
    "manager_alice_id = result.inserted_primary_key[0]"
   ]
  },
  {
   "cell_type": "code",
   "execution_count": 49,
   "metadata": {},
   "outputs": [],
   "source": [
    "employee_ids.append(manager_alice_id)"
   ]
  },
  {
   "cell_type": "code",
   "execution_count": 50,
   "metadata": {},
   "outputs": [
    {
     "name": "stdout",
     "output_type": "stream",
     "text": [
      "2024-03-20 08:06:56,126 INFO sqlalchemy.engine.Engine COMMIT\n"
     ]
    }
   ],
   "source": [
    "conn.commit()"
   ]
  },
  {
   "cell_type": "markdown",
   "metadata": {},
   "source": [
    "Using the RETURNING clause:"
   ]
  },
  {
   "cell_type": "code",
   "execution_count": 51,
   "metadata": {},
   "outputs": [
    {
     "name": "stdout",
     "output_type": "stream",
     "text": [
      "2024-03-20 08:06:56,133 INFO sqlalchemy.engine.Engine BEGIN (implicit)\n",
      "2024-03-20 08:06:56,134 INFO sqlalchemy.engine.Engine INSERT INTO employee (manager_id, name, is_manager, hire_date) VALUES (?, ?, ?, ?), (?, ?, ?, ?) RETURNING employee_id, name, hire_date\n",
      "2024-03-20 08:06:56,134 INFO sqlalchemy.engine.Engine [generated in 0.00081s (insertmanyvalues) 1/1 (unordered)] (1, 'Bob', 0, '2024-03-20', 1, 'Cathy', 0, '2024-03-20')\n"
     ]
    }
   ],
   "source": [
    "result = conn.execute(\n",
    "    (\n",
    "        insert(employee)\n",
    "        .returning(\n",
    "            employee.c.employee_id,\n",
    "            employee.c.name,\n",
    "            employee.c.hire_date,\n",
    "        )\n",
    "    ),\n",
    "    [\n",
    "        {\"manager_id\": manager_alice_id, \"name\": \"Bob\"},\n",
    "        {\"manager_id\": manager_alice_id, \"name\": \"Cathy\"},\n",
    "    ],\n",
    ")"
   ]
  },
  {
   "cell_type": "code",
   "execution_count": 52,
   "metadata": {},
   "outputs": [
    {
     "name": "stdout",
     "output_type": "stream",
     "text": [
      "2\n"
     ]
    }
   ],
   "source": [
    "print(result.rowcount)"
   ]
  },
  {
   "cell_type": "code",
   "execution_count": 53,
   "metadata": {},
   "outputs": [
    {
     "name": "stdout",
     "output_type": "stream",
     "text": [
      "['employee_id', 'name', 'hire_date']\n"
     ]
    }
   ],
   "source": [
    "print(list(result.keys()))"
   ]
  },
  {
   "cell_type": "code",
   "execution_count": 54,
   "metadata": {},
   "outputs": [
    {
     "name": "stdout",
     "output_type": "stream",
     "text": [
      "(2, 'Bob', datetime.date(2024, 3, 20))\n",
      "(3, 'Cathy', datetime.date(2024, 3, 20))\n"
     ]
    }
   ],
   "source": [
    "for row in result:\n",
    "    print(row)\n",
    "    employee_ids.append(row.employee_id)"
   ]
  },
  {
   "cell_type": "code",
   "execution_count": 55,
   "metadata": {},
   "outputs": [
    {
     "name": "stdout",
     "output_type": "stream",
     "text": [
      "2024-03-20 08:06:56,150 INFO sqlalchemy.engine.Engine COMMIT\n"
     ]
    }
   ],
   "source": [
    "conn.commit()"
   ]
  },
  {
   "cell_type": "markdown",
   "metadata": {},
   "source": [
    "More employees:"
   ]
  },
  {
   "cell_type": "code",
   "execution_count": 56,
   "metadata": {},
   "outputs": [
    {
     "name": "stdout",
     "output_type": "stream",
     "text": [
      "2024-03-20 08:06:56,157 INFO sqlalchemy.engine.Engine BEGIN (implicit)\n",
      "2024-03-20 08:06:56,158 INFO sqlalchemy.engine.Engine INSERT INTO employee (name, is_manager, hire_date) VALUES (?, ?, ?)\n",
      "2024-03-20 08:06:56,158 INFO sqlalchemy.engine.Engine [cached since 0.04856s ago] ('Louis', 1, '2024-02-19')\n",
      "2024-03-20 08:06:56,159 INFO sqlalchemy.engine.Engine INSERT INTO employee (manager_id, name, is_manager, hire_date) VALUES (?, ?, ?, ?)\n",
      "2024-03-20 08:06:56,160 INFO sqlalchemy.engine.Engine [generated in 0.00034s] (4, 'Lilly', 0, '2024-02-29')\n",
      "2024-03-20 08:06:56,160 INFO sqlalchemy.engine.Engine COMMIT\n",
      "2024-03-20 08:06:56,162 INFO sqlalchemy.engine.Engine BEGIN (implicit)\n",
      "2024-03-20 08:06:56,163 INFO sqlalchemy.engine.Engine INSERT INTO employee (name, is_manager, hire_date) VALUES (?, ?, ?)\n",
      "2024-03-20 08:06:56,163 INFO sqlalchemy.engine.Engine [generated in 0.00066s] ('Alice', 0, '2024-03-20')\n",
      "2024-03-20 08:06:56,164 INFO sqlalchemy.engine.Engine COMMIT\n"
     ]
    }
   ],
   "source": [
    "result = conn.execute(\n",
    "    insert(employee)\n",
    "    .values(\n",
    "        name=\"Louis\",\n",
    "        is_manager=True,\n",
    "        hire_date=(date.today() - timedelta(days=30)),\n",
    "    )\n",
    ")\n",
    "manager_louis_id = result.inserted_primary_key[0]\n",
    "employee_ids.append(manager_louis_id)\n",
    "\n",
    "result = conn.execute(\n",
    "    insert(employee)\n",
    "    .values(\n",
    "        name=\"Lilly\",\n",
    "        manager_id=manager_louis_id,\n",
    "        hire_date=(date.today() - timedelta(days=20)),\n",
    "    )\n",
    ")\n",
    "employee_ids.append(result.inserted_primary_key[0])\n",
    "\n",
    "conn.commit()  # commit as you go\n",
    "\n",
    "conn.execute(\n",
    "    insert(employee).values(\n",
    "        name=\"Alice\",\n",
    "    )\n",
    ")\n",
    "conn.commit()  # commit as you go"
   ]
  },
  {
   "cell_type": "markdown",
   "metadata": {},
   "source": [
    "Employee PKs are saved for later use:"
   ]
  },
  {
   "cell_type": "code",
   "execution_count": 57,
   "metadata": {},
   "outputs": [
    {
     "name": "stdout",
     "output_type": "stream",
     "text": [
      "[1, 2, 3, 4, 5]\n"
     ]
    }
   ],
   "source": [
    "print(employee_ids)"
   ]
  },
  {
   "cell_type": "markdown",
   "metadata": {},
   "source": [
    "Input product data:"
   ]
  },
  {
   "cell_type": "code",
   "execution_count": 58,
   "metadata": {},
   "outputs": [],
   "source": [
    "product_data = [\n",
    "    {\n",
    "        \"product_name\": \"phone\",\n",
    "        \"unit_price\": 300.0,\n",
    "        \"units_in_stock\": 5,\n",
    "        \"type\": ProductType.PHONE,\n",
    "    },\n",
    "    {\n",
    "        \"product_name\": \"phone screen protector\",\n",
    "        \"unit_price\": 9.50,\n",
    "        \"units_in_stock\": 10,\n",
    "        \"type\": ProductType.ACCESSORY,\n",
    "    },\n",
    "    {\n",
    "        \"product_name\": \"headphone\",\n",
    "        \"unit_price\": 25.99,\n",
    "        \"units_in_stock\": 10,\n",
    "        \"type\": ProductType.ACCESSORY,\n",
    "    },\n",
    "    {\n",
    "        \"product_name\": \"digital camera\",\n",
    "        \"unit_price\": 45.99,\n",
    "        \"units_in_stock\": 5,\n",
    "        \"type\": ProductType.OTHER,\n",
    "    },\n",
    "    {\n",
    "        \"product_name\": \"memory card 256GB\",\n",
    "        \"unit_price\": 21.99,\n",
    "        \"units_in_stock\": 1,\n",
    "        \"type\": ProductType.ACCESSORY,\n",
    "    },\n",
    "]"
   ]
  },
  {
   "cell_type": "code",
   "execution_count": 59,
   "metadata": {},
   "outputs": [],
   "source": [
    "product_ids = []"
   ]
  },
  {
   "cell_type": "code",
   "execution_count": 60,
   "metadata": {},
   "outputs": [
    {
     "name": "stdout",
     "output_type": "stream",
     "text": [
      "2024-03-20 08:06:56,182 INFO sqlalchemy.engine.Engine BEGIN (implicit)\n",
      "2024-03-20 08:06:56,183 INFO sqlalchemy.engine.Engine INSERT INTO product (product_name, unit_price, units_in_stock, type) VALUES (?, ?, ?, ?), (?, ?, ?, ?), (?, ?, ?, ?), (?, ?, ?, ?), (?, ?, ?, ?) RETURNING product_id, product_name\n",
      "2024-03-20 08:06:56,184 INFO sqlalchemy.engine.Engine [generated in 0.00079s (insertmanyvalues) 1/1 (unordered)] ('phone', 300.0, 5, 'PHONE', 'phone screen protector', 9.5, 10, 'ACCESSORY', 'headphone', 25.99, 10, 'ACCESSORY', 'digital camera', 45.99, 5, 'OTHER', 'memory card 256GB', 21.99, 1, 'ACCESSORY')\n"
     ]
    }
   ],
   "source": [
    "result = conn.execute(\n",
    "    insert(product).returning(\n",
    "        # c: collection of table columns\n",
    "        product.c.product_id, product.c.product_name\n",
    "    ),\n",
    "    product_data,\n",
    ")"
   ]
  },
  {
   "cell_type": "code",
   "execution_count": 61,
   "metadata": {},
   "outputs": [
    {
     "name": "stdout",
     "output_type": "stream",
     "text": [
      "(1, 'phone')\n",
      "(2, 'phone screen protector')\n",
      "(3, 'headphone')\n",
      "(4, 'digital camera')\n",
      "(5, 'memory card 256GB')\n"
     ]
    }
   ],
   "source": [
    "for row in result:\n",
    "    print(row)  # (product_id, product_name)\n",
    "    product_ids.append(row[0])"
   ]
  },
  {
   "cell_type": "code",
   "execution_count": 62,
   "metadata": {},
   "outputs": [
    {
     "name": "stdout",
     "output_type": "stream",
     "text": [
      "2024-03-20 08:06:56,192 INFO sqlalchemy.engine.Engine COMMIT\n"
     ]
    }
   ],
   "source": [
    "conn.commit()"
   ]
  },
  {
   "cell_type": "markdown",
   "metadata": {},
   "source": [
    "Product PKs for later use:"
   ]
  },
  {
   "cell_type": "code",
   "execution_count": 63,
   "metadata": {},
   "outputs": [
    {
     "name": "stdout",
     "output_type": "stream",
     "text": [
      "[1, 2, 3, 4, 5]\n"
     ]
    }
   ],
   "source": [
    "print(product_ids)"
   ]
  },
  {
   "cell_type": "markdown",
   "metadata": {},
   "source": [
    "Input customer data:"
   ]
  },
  {
   "cell_type": "code",
   "execution_count": 64,
   "metadata": {},
   "outputs": [],
   "source": [
    "customer_data = [\n",
    "    {\n",
    "        \"first_name\": \"Alex\",\n",
    "        \"last_name\": \"Smith\",\n",
    "        \"address\": \"618 Oak Lane, CA\",\n",
    "        \"email\": \"alex_smith@test.com\",\n",
    "    },\n",
    "    {\n",
    "        \"first_name\": \"Mary\",\n",
    "        \"last_name\": \"Taylor\",\n",
    "        \"address\": \"200-139 Jefferson Street, NY\",\n",
    "        \"email\": \"mary_taylor@test.com\",\n",
    "    },\n",
    "]"
   ]
  },
  {
   "cell_type": "code",
   "execution_count": 65,
   "metadata": {},
   "outputs": [],
   "source": [
    "customer_ids = []"
   ]
  },
  {
   "cell_type": "code",
   "execution_count": 66,
   "metadata": {},
   "outputs": [
    {
     "name": "stdout",
     "output_type": "stream",
     "text": [
      "2024-03-20 08:06:56,214 INFO sqlalchemy.engine.Engine BEGIN (implicit)\n",
      "2024-03-20 08:06:56,214 INFO sqlalchemy.engine.Engine INSERT INTO customer (first_name, last_name, address, email) VALUES (?, ?, ?, ?), (?, ?, ?, ?) RETURNING customer_id, first_name\n",
      "2024-03-20 08:06:56,215 INFO sqlalchemy.engine.Engine [generated in 0.00076s (insertmanyvalues) 1/1 (unordered)] ('Alex', 'Smith', '618 Oak Lane, CA', 'alex_smith@test.com', 'Mary', 'Taylor', '200-139 Jefferson Street, NY', 'mary_taylor@test.com')\n",
      "(1, 'Alex')\n",
      "(2, 'Mary')\n"
     ]
    }
   ],
   "source": [
    "try:\n",
    "    result = conn.execute(\n",
    "        (\n",
    "            insert(customer)\n",
    "            .returning(\n",
    "                customer.c.customer_id,\n",
    "                customer.c.first_name,\n",
    "            )\n",
    "        ),\n",
    "        customer_data\n",
    "    )\n",
    "    for row in result:\n",
    "        print(row)  # row contains tuples of (customer_id, first_name)\n",
    "        customer_ids.append(row[0])\n",
    "except IntegrityError as e:\n",
    "    print(\"Error creating customers!\", e)"
   ]
  },
  {
   "cell_type": "markdown",
   "metadata": {},
   "source": [
    "Customer PKs:"
   ]
  },
  {
   "cell_type": "code",
   "execution_count": 67,
   "metadata": {},
   "outputs": [
    {
     "name": "stdout",
     "output_type": "stream",
     "text": [
      "[1, 2]\n"
     ]
    }
   ],
   "source": [
    "print(customer_ids)"
   ]
  },
  {
   "cell_type": "code",
   "execution_count": 68,
   "metadata": {},
   "outputs": [
    {
     "name": "stdout",
     "output_type": "stream",
     "text": [
      "2024-03-20 08:06:56,224 INFO sqlalchemy.engine.Engine COMMIT\n"
     ]
    }
   ],
   "source": [
    "conn.commit()"
   ]
  },
  {
   "cell_type": "markdown",
   "metadata": {},
   "source": [
    "Customer and product PKs from previous return values:"
   ]
  },
  {
   "cell_type": "code",
   "execution_count": 69,
   "metadata": {},
   "outputs": [],
   "source": [
    "c1, c2 = customer_ids\n",
    "p1, p2, p3, p4, p5 = product_ids"
   ]
  },
  {
   "cell_type": "markdown",
   "metadata": {},
   "source": [
    "Input order and order details:"
   ]
  },
  {
   "cell_type": "code",
   "execution_count": 70,
   "metadata": {},
   "outputs": [],
   "source": [
    "order_ids = []"
   ]
  },
  {
   "cell_type": "markdown",
   "metadata": {},
   "source": [
    "First customer places 1st order:"
   ]
  },
  {
   "cell_type": "code",
   "execution_count": 71,
   "metadata": {},
   "outputs": [
    {
     "name": "stdout",
     "output_type": "stream",
     "text": [
      "2024-03-20 08:06:56,242 INFO sqlalchemy.engine.Engine BEGIN (implicit)\n",
      "2024-03-20 08:06:56,243 INFO sqlalchemy.engine.Engine INSERT INTO \"order\" (customer_id, order_datetime, is_shipped) VALUES (?, ?, ?)\n",
      "2024-03-20 08:06:56,243 INFO sqlalchemy.engine.Engine [generated in 0.00116s] (1, '2024-03-20 08:06:56.242654', 0)\n",
      "2024-03-20 08:06:56,244 INFO sqlalchemy.engine.Engine INSERT INTO order_detail (order_id, product_id, quantity) VALUES (?, ?, ?)\n",
      "2024-03-20 08:06:56,245 INFO sqlalchemy.engine.Engine [generated in 0.00036s] [(1, 1, 1), (1, 2, 1), (1, 3, 1)]\n",
      "order_detail PKs: [(1, 1), (1, 2), (1, 3)]\n",
      "2024-03-20 08:06:56,246 INFO sqlalchemy.engine.Engine COMMIT\n"
     ]
    }
   ],
   "source": [
    "result = conn.execute(insert(order).values(customer_id=c1))\n",
    "order1_id = result.inserted_primary_key[0]\n",
    "order_ids.append(order1_id)\n",
    "result = conn.execute(\n",
    "    insert(order_detail),\n",
    "    [\n",
    "        # phone\n",
    "        {\"order_id\": order1_id, \"product_id\": p1, \"quantity\": 1},\n",
    "        # phone screen protector\n",
    "        {\"order_id\": order1_id, \"product_id\": p2, \"quantity\": 1},\n",
    "        # headphone\n",
    "        {\"order_id\": order1_id, \"product_id\": p3, \"quantity\": 1},\n",
    "    ]\n",
    ")\n",
    "print(\"order_detail PKs:\", result.inserted_primary_key_rows)\n",
    "conn.commit()  # commit as you go"
   ]
  },
  {
   "cell_type": "markdown",
   "metadata": {},
   "source": [
    "First customer places 2nd order:"
   ]
  },
  {
   "cell_type": "code",
   "execution_count": 72,
   "metadata": {},
   "outputs": [
    {
     "name": "stdout",
     "output_type": "stream",
     "text": [
      "2024-03-20 08:06:56,251 INFO sqlalchemy.engine.Engine BEGIN (implicit)\n",
      "2024-03-20 08:06:56,252 INFO sqlalchemy.engine.Engine INSERT INTO \"order\" (customer_id, order_datetime, is_shipped) VALUES (?, ?, ?)\n",
      "2024-03-20 08:06:56,252 INFO sqlalchemy.engine.Engine [cached since 0.01023s ago] (1, '2024-03-20 08:06:56.251933', 0)\n",
      "2024-03-20 08:06:56,254 INFO sqlalchemy.engine.Engine INSERT INTO order_detail (order_id, product_id, quantity) VALUES (?, ?, ?)\n",
      "2024-03-20 08:06:56,254 INFO sqlalchemy.engine.Engine [generated in 0.00035s] (2, 5, 1)\n",
      "2024-03-20 08:06:56,255 INFO sqlalchemy.engine.Engine COMMIT\n"
     ]
    }
   ],
   "source": [
    "result = conn.execute(insert(order).values(customer_id=c1))\n",
    "order2_id = result.inserted_primary_key[0]\n",
    "order_ids.append(order2_id)\n",
    "conn.execute(\n",
    "    insert(order_detail)\n",
    "    .values(\n",
    "        order_id=order2_id,\n",
    "        product_id=p5,  # memory card\n",
    "        quantity=1,\n",
    "    )\n",
    ")\n",
    "conn.commit()  # commit as you go"
   ]
  },
  {
   "cell_type": "markdown",
   "metadata": {},
   "source": [
    "Second customer places order on camera related products:"
   ]
  },
  {
   "cell_type": "code",
   "execution_count": 73,
   "metadata": {},
   "outputs": [
    {
     "name": "stdout",
     "output_type": "stream",
     "text": [
      "2024-03-20 08:06:56,261 INFO sqlalchemy.engine.Engine BEGIN (implicit)\n",
      "2024-03-20 08:06:56,261 INFO sqlalchemy.engine.Engine INSERT INTO \"order\" (customer_id, order_datetime, is_shipped) VALUES (?, ?, ?)\n",
      "2024-03-20 08:06:56,262 INFO sqlalchemy.engine.Engine [cached since 0.01955s ago] (2, '2024-03-20 08:06:56.261256', 0)\n",
      "2024-03-20 08:06:56,263 INFO sqlalchemy.engine.Engine INSERT INTO order_detail (order_id, product_id, quantity) VALUES (?, ?, ?)\n",
      "2024-03-20 08:06:56,263 INFO sqlalchemy.engine.Engine [cached since 0.01847s ago] [(3, 4, 1), (3, 5, 2)]\n",
      "2024-03-20 08:06:56,263 INFO sqlalchemy.engine.Engine COMMIT\n"
     ]
    }
   ],
   "source": [
    "result = conn.execute(insert(order).values(customer_id=c2))\n",
    "order3_id = result.inserted_primary_key[0]\n",
    "order_ids.append(order3_id)\n",
    "conn.execute(\n",
    "    insert(order_detail),\n",
    "    [\n",
    "        # digital camera\n",
    "        {\"order_id\": order3_id, \"product_id\": p4, \"quantity\": 1},\n",
    "        # memory card (won't be enough for all!)\n",
    "        {\"order_id\": order3_id, \"product_id\": p5, \"quantity\": 2},\n",
    "    ]\n",
    ")\n",
    "conn.commit()  # commit as you go"
   ]
  },
  {
   "cell_type": "markdown",
   "metadata": {},
   "source": [
    "Remember to close the connection when you're done:"
   ]
  },
  {
   "cell_type": "code",
   "execution_count": 74,
   "metadata": {},
   "outputs": [],
   "source": [
    "conn.close()"
   ]
  }
 ],
 "metadata": {
  "kernelspec": {
   "display_name": "mybook_py310",
   "language": "python",
   "name": "python3"
  },
  "language_info": {
   "codemirror_mode": {
    "name": "ipython",
    "version": 3
   },
   "file_extension": ".py",
   "mimetype": "text/x-python",
   "name": "python",
   "nbconvert_exporter": "python",
   "pygments_lexer": "ipython3",
   "version": "3.10.10"
  }
 },
 "nbformat": 4,
 "nbformat_minor": 2
}
