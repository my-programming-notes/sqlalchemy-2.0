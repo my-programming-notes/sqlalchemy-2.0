{
 "cells": [
  {
   "cell_type": "markdown",
   "metadata": {},
   "source": [
    "# Chapter 12: Database Reflection using the `Automap` Extension"
   ]
  },
  {
   "cell_type": "markdown",
   "metadata": {},
   "source": [
    "Note: you will need data from chapter 10."
   ]
  },
  {
   "cell_type": "markdown",
   "metadata": {},
   "source": [
    "Necessary imports:"
   ]
  },
  {
   "cell_type": "code",
   "execution_count": 1,
   "metadata": {},
   "outputs": [],
   "source": [
    "import logging\n",
    "\n",
    "from sqlalchemy import Column, Integer, Table, select, create_engine\n",
    "from sqlalchemy.ext.automap import AutomapBase, automap_base\n",
    "from sqlalchemy.orm import Session, sessionmaker"
   ]
  },
  {
   "cell_type": "markdown",
   "metadata": {},
   "source": [
    "Control logs with this flag (disabled):"
   ]
  },
  {
   "cell_type": "code",
   "execution_count": 2,
   "metadata": {},
   "outputs": [],
   "source": [
    "DEBUG = False"
   ]
  },
  {
   "cell_type": "code",
   "execution_count": 3,
   "metadata": {},
   "outputs": [],
   "source": [
    "if not DEBUG:\n",
    "    logging.disable(logging.INFO)"
   ]
  },
  {
   "cell_type": "markdown",
   "metadata": {},
   "source": [
    "Session maker factory:"
   ]
  },
  {
   "cell_type": "code",
   "execution_count": 4,
   "metadata": {},
   "outputs": [],
   "source": [
    "DATABASE_URL = \"sqlite+pysqlite:///store.db\""
   ]
  },
  {
   "cell_type": "code",
   "execution_count": 5,
   "metadata": {},
   "outputs": [],
   "source": [
    "engine = create_engine(\n",
    "    DATABASE_URL,\n",
    "    echo=True,\n",
    ")"
   ]
  },
  {
   "cell_type": "code",
   "execution_count": 6,
   "metadata": {},
   "outputs": [],
   "source": [
    "SessionMaker = sessionmaker(\n",
    "    bind=engine,\n",
    ")"
   ]
  },
  {
   "cell_type": "code",
   "execution_count": 7,
   "metadata": {},
   "outputs": [],
   "source": [
    "session = SessionMaker()"
   ]
  },
  {
   "cell_type": "markdown",
   "metadata": {},
   "source": [
    "## Database reflection using the `Automap` extension:"
   ]
  },
  {
   "cell_type": "code",
   "execution_count": 8,
   "metadata": {},
   "outputs": [],
   "source": [
    "Base: AutomapBase = automap_base()"
   ]
  },
  {
   "cell_type": "code",
   "execution_count": 9,
   "metadata": {},
   "outputs": [],
   "source": [
    "Base.prepare(autoload_with=engine)  # reflect database"
   ]
  },
  {
   "cell_type": "markdown",
   "metadata": {},
   "source": [
    "Class reflected (by default, the class names are the table names:):"
   ]
  },
  {
   "cell_type": "code",
   "execution_count": 10,
   "metadata": {},
   "outputs": [
    {
     "data": {
      "text/plain": [
       "['order_detail', 'employee', 'order', 'customer', 'product']"
      ]
     },
     "execution_count": 10,
     "metadata": {},
     "output_type": "execute_result"
    }
   ],
   "source": [
    "Base.classes.keys()"
   ]
  },
  {
   "cell_type": "markdown",
   "metadata": {},
   "source": [
    "List order details using the extracted order class:"
   ]
  },
  {
   "cell_type": "code",
   "execution_count": 11,
   "metadata": {},
   "outputs": [],
   "source": [
    "Order = Base.classes.order"
   ]
  },
  {
   "cell_type": "markdown",
   "metadata": {},
   "source": [
    "Print the content of an order:"
   ]
  },
  {
   "cell_type": "code",
   "execution_count": 12,
   "metadata": {},
   "outputs": [
    {
     "name": "stdout",
     "output_type": "stream",
     "text": [
      "# Order: #1\n"
     ]
    }
   ],
   "source": [
    "order = session.scalars(select(Order).filter_by(order_id=1)).one()\n",
    "print(f\"# Order: #{order.order_id}\")"
   ]
  },
  {
   "cell_type": "markdown",
   "metadata": {},
   "source": [
    "Collection-based relationships are by default named \"<classname>_collection\":"
   ]
  },
  {
   "cell_type": "code",
   "execution_count": 13,
   "metadata": {},
   "outputs": [
    {
     "name": "stdout",
     "output_type": "stream",
     "text": [
      "phone x1\n",
      "phone screen protector x1\n",
      "headphone x1\n"
     ]
    }
   ],
   "source": [
    "for order_detail in order.order_detail_collection:\n",
    "    quantity = order_detail.quantity\n",
    "    product_name = order_detail.product.product_name\n",
    "    print(f\"{product_name} x{quantity}\")"
   ]
  },
  {
   "cell_type": "markdown",
   "metadata": {},
   "source": [
    "## Customizing Naming Rules"
   ]
  },
  {
   "cell_type": "markdown",
   "metadata": {},
   "source": [
    "The \"inflect\" library is used to generate correct plural forms:"
   ]
  },
  {
   "cell_type": "code",
   "execution_count": 14,
   "metadata": {},
   "outputs": [],
   "source": [
    "import re\n",
    "import inflect  # pip install inflect"
   ]
  },
  {
   "cell_type": "markdown",
   "metadata": {},
   "source": [
    "This function produces camel-cased class names and is assigned to the\n",
    "`classname_for_table` parameter in `AutomapBase.prepare()`:"
   ]
  },
  {
   "cell_type": "code",
   "execution_count": 15,
   "metadata": {},
   "outputs": [],
   "source": [
    "def camelize_classname(base, tablename, table):\n",
    "    \"\"\"\n",
    "    Produce a 'camelized' class name, e.g.,\n",
    "    'words_and_underscores' is transformed into 'WordsAndUnderscores'.\n",
    "    \"\"\"\n",
    "    return str(tablename[0].upper() +\n",
    "               re.sub(r'_([a-z])', lambda m: m.group(1).upper(), tablename[1:]))"
   ]
  },
  {
   "cell_type": "markdown",
   "metadata": {},
   "source": [
    "This function is assigned to the `name_for_collection_relationship` parameter of\n",
    "`AutomapBase.prepare()` and is used for un-camelizing and pluralizing class\n",
    "names to produce relationship names for collections:"
   ]
  },
  {
   "cell_type": "code",
   "execution_count": 16,
   "metadata": {},
   "outputs": [],
   "source": [
    "_pluralizer = inflect.engine()"
   ]
  },
  {
   "cell_type": "code",
   "execution_count": 17,
   "metadata": {},
   "outputs": [],
   "source": [
    "def pluralize_collection(base, local_cls, referred_cls, constraint):\n",
    "    \"\"\"\n",
    "    Produce an 'uncamelized', 'pluralized' class name, e.g.,\n",
    "    'SomeTerm' becomes 'some_terms'.\n",
    "    \"\"\"\n",
    "    referred_name = referred_cls.__name__\n",
    "    uncamelized = re.sub(r'[A-Z]',\n",
    "                         lambda m: \"_%s\" % m.group(0).lower(),\n",
    "                         referred_name)[1:]\n",
    "    pluralized = _pluralizer.plural(uncamelized)\n",
    "    return pluralized"
   ]
  },
  {
   "cell_type": "markdown",
   "metadata": {},
   "source": [
    "Now it's time to apply these custom naming functions:"
   ]
  },
  {
   "cell_type": "code",
   "execution_count": 18,
   "metadata": {},
   "outputs": [],
   "source": [
    "Base: AutomapBase = automap_base()"
   ]
  },
  {
   "cell_type": "code",
   "execution_count": 19,
   "metadata": {},
   "outputs": [],
   "source": [
    "Base.prepare(\n",
    "    autoload_with=engine,\n",
    "    classname_for_table=camelize_classname,\n",
    "    name_for_collection_relationship=pluralize_collection\n",
    ")"
   ]
  },
  {
   "cell_type": "code",
   "execution_count": 20,
   "metadata": {},
   "outputs": [
    {
     "data": {
      "text/plain": [
       "['OrderDetail', 'Employee', 'Order', 'Customer', 'Product']"
      ]
     },
     "execution_count": 20,
     "metadata": {},
     "output_type": "execute_result"
    }
   ],
   "source": [
    "Base.classes.keys()"
   ]
  },
  {
   "cell_type": "markdown",
   "metadata": {},
   "source": [
    "Repeat the previous example with naming customization:"
   ]
  },
  {
   "cell_type": "code",
   "execution_count": 21,
   "metadata": {},
   "outputs": [
    {
     "name": "stdout",
     "output_type": "stream",
     "text": [
      "# Order: #1\n",
      "phone x1\n",
      "phone screen protector x1\n",
      "headphone x1\n"
     ]
    }
   ],
   "source": [
    "order = session.scalars(\n",
    "    select(Base.classes.Order).filter_by(order_id=1)\n",
    ").one()\n",
    "print(f\"# Order: #{order.order_id}\")\n",
    "for order_detail in order.order_details:\n",
    "    quantity = order_detail.quantity\n",
    "    product_name = order_detail.product.product_name\n",
    "    print(f\"{product_name} x{quantity}\")"
   ]
  },
  {
   "cell_type": "markdown",
   "metadata": {},
   "source": [
    "## Reflecting a View"
   ]
  },
  {
   "cell_type": "markdown",
   "metadata": {},
   "source": [
    "For reflection to work on the view, its primary key must be specified."
   ]
  },
  {
   "cell_type": "code",
   "execution_count": 22,
   "metadata": {},
   "outputs": [],
   "source": [
    "create_view = \"\"\"\n",
    "CREATE VIEW manager AS\n",
    "SELECT\n",
    "    employee_id AS id,\n",
    "    \"name\",\n",
    "    hire_date\n",
    "FROM\n",
    "    employee e\n",
    "WHERE\n",
    "    e.is_manager = TRUE;\n",
    "\"\"\""
   ]
  },
  {
   "cell_type": "code",
   "execution_count": 23,
   "metadata": {},
   "outputs": [],
   "source": [
    "from sqlalchemy import text"
   ]
  },
  {
   "cell_type": "code",
   "execution_count": 24,
   "metadata": {},
   "outputs": [
    {
     "data": {
      "text/plain": [
       "<sqlalchemy.engine.cursor.CursorResult at 0x7fb6c9e6d3c0>"
      ]
     },
     "execution_count": 24,
     "metadata": {},
     "output_type": "execute_result"
    }
   ],
   "source": [
    "session.execute(text(create_view))"
   ]
  },
  {
   "cell_type": "markdown",
   "metadata": {},
   "source": [
    "Reflecting a view with `Automap`:"
   ]
  },
  {
   "cell_type": "code",
   "execution_count": 25,
   "metadata": {},
   "outputs": [],
   "source": [
    "Base: AutomapBase = automap_base()"
   ]
  },
  {
   "cell_type": "markdown",
   "metadata": {},
   "source": [
    "Add table (view) to metadata:"
   ]
  },
  {
   "cell_type": "code",
   "execution_count": 26,
   "metadata": {},
   "outputs": [
    {
     "data": {
      "text/plain": [
       "Table('manager', MetaData(), Column('id', Integer(), table=<manager>, primary_key=True, nullable=False), Column('name', VARCHAR(length=127), table=<manager>), Column('hire_date', DATE(), table=<manager>), schema=None)"
      ]
     },
     "execution_count": 26,
     "metadata": {},
     "output_type": "execute_result"
    }
   ],
   "source": [
    "Table(\n",
    "    \"manager\",\n",
    "    Base.metadata,\n",
    "    # PK is required for reflection to work\n",
    "    Column('id', Integer, primary_key=True),\n",
    "    autoload_with=engine,\n",
    ")"
   ]
  },
  {
   "cell_type": "code",
   "execution_count": 27,
   "metadata": {},
   "outputs": [],
   "source": [
    "Base.prepare(\n",
    "    # autoload_with=engine,\n",
    "    classname_for_table=camelize_classname,\n",
    "    name_for_collection_relationship=pluralize_collection\n",
    ")"
   ]
  },
  {
   "cell_type": "markdown",
   "metadata": {},
   "source": [
    "Classes reflected:"
   ]
  },
  {
   "cell_type": "code",
   "execution_count": 28,
   "metadata": {},
   "outputs": [
    {
     "data": {
      "text/plain": [
       "['Manager']"
      ]
     },
     "execution_count": 28,
     "metadata": {},
     "output_type": "execute_result"
    }
   ],
   "source": [
    "Base.classes.keys()"
   ]
  },
  {
   "cell_type": "code",
   "execution_count": 29,
   "metadata": {},
   "outputs": [],
   "source": [
    "Manager = Base.classes.Manager"
   ]
  },
  {
   "cell_type": "markdown",
   "metadata": {},
   "source": [
    "List managers:"
   ]
  },
  {
   "cell_type": "code",
   "execution_count": 30,
   "metadata": {},
   "outputs": [
    {
     "name": "stdout",
     "output_type": "stream",
     "text": [
      "1 Alice 2024-03-28\n",
      "4 Louis 2024-02-28\n"
     ]
    }
   ],
   "source": [
    "with Session(engine) as session:\n",
    "    for manager in session.scalars(select(Manager)):\n",
    "        print(manager.id, manager.name, manager.hire_date)"
   ]
  },
  {
   "cell_type": "markdown",
   "metadata": {},
   "source": [
    "Delete view:"
   ]
  },
  {
   "cell_type": "code",
   "execution_count": 31,
   "metadata": {},
   "outputs": [],
   "source": [
    "delete_view = \"DROP VIEW manager;\""
   ]
  },
  {
   "cell_type": "code",
   "execution_count": 32,
   "metadata": {},
   "outputs": [
    {
     "data": {
      "text/plain": [
       "<sqlalchemy.engine.cursor.CursorResult at 0x7fb6c938d5a0>"
      ]
     },
     "execution_count": 32,
     "metadata": {},
     "output_type": "execute_result"
    }
   ],
   "source": [
    "session.execute(text(delete_view))"
   ]
  },
  {
   "cell_type": "markdown",
   "metadata": {},
   "source": [
    "Remember to close the session:"
   ]
  },
  {
   "cell_type": "code",
   "execution_count": 33,
   "metadata": {},
   "outputs": [],
   "source": [
    "session.close()"
   ]
  }
 ],
 "metadata": {
  "kernelspec": {
   "display_name": "mybook_py310",
   "language": "python",
   "name": "python3"
  },
  "language_info": {
   "codemirror_mode": {
    "name": "ipython",
    "version": 3
   },
   "file_extension": ".py",
   "mimetype": "text/x-python",
   "name": "python",
   "nbconvert_exporter": "python",
   "pygments_lexer": "ipython3",
   "version": "3.10.10"
  }
 },
 "nbformat": 4,
 "nbformat_minor": 2
}
