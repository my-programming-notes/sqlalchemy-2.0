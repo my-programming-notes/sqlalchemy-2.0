{
 "cells": [
  {
   "cell_type": "markdown",
   "metadata": {},
   "source": [
    "# Chapter 3: Schema and Types"
   ]
  },
  {
   "cell_type": "markdown",
   "metadata": {},
   "source": [
    "Necessary imports:"
   ]
  },
  {
   "cell_type": "code",
   "execution_count": 1,
   "metadata": {},
   "outputs": [],
   "source": [
    "import enum\n",
    "from datetime import date, datetime\n",
    "\n",
    "from sqlalchemy import (Boolean, CheckConstraint, Column, Date, DateTime, Enum,\n",
    "                        ForeignKey, Index, Integer, MetaData, Numeric, String,\n",
    "                        Table, create_engine)"
   ]
  },
  {
   "cell_type": "markdown",
   "metadata": {},
   "source": [
    "Create the metadata object:"
   ]
  },
  {
   "cell_type": "code",
   "execution_count": 2,
   "metadata": {},
   "outputs": [],
   "source": [
    "metadata = MetaData()"
   ]
  },
  {
   "cell_type": "markdown",
   "metadata": {},
   "source": [
    "Define the employee table:"
   ]
  },
  {
   "cell_type": "code",
   "execution_count": 3,
   "metadata": {},
   "outputs": [],
   "source": [
    "employee = Table(\n",
    "    \"employee\",\n",
    "    metadata,\n",
    "    Column(\"employee_id\", Integer, primary_key=True),\n",
    "    Column(\n",
    "        \"manager_id\",\n",
    "        Integer,\n",
    "        ForeignKey(\"employee.employee_id\"),\n",
    "        nullable=True\n",
    "    ),\n",
    "    Column(\"name\", String(31), nullable=False),\n",
    "    Column(\"is_manager\", Boolean, default=False),\n",
    "    Column('hire_date', Date, default=date.today),\n",
    ")"
   ]
  },
  {
   "cell_type": "markdown",
   "metadata": {},
   "source": [
    "Define product types and the product table:"
   ]
  },
  {
   "cell_type": "code",
   "execution_count": 4,
   "metadata": {},
   "outputs": [],
   "source": [
    "class ProductType(enum.Enum):\n",
    "    PHONE = 0\n",
    "    ACCESSORY = 1\n",
    "    OTHER = 2"
   ]
  },
  {
   "cell_type": "code",
   "execution_count": 5,
   "metadata": {},
   "outputs": [],
   "source": [
    "product = Table(\n",
    "    \"product\",\n",
    "    metadata,\n",
    "    Column(\"product_id\", Integer, primary_key=True),\n",
    "    Column(\"product_name\", String(255), index=True),\n",
    "    Column(\n",
    "        \"unit_price\",\n",
    "        Numeric(12, 2),\n",
    "        CheckConstraint(\"unit_price>0\"),\n",
    "    ),\n",
    "    Column(\n",
    "        \"units_in_stock\",\n",
    "        Integer,\n",
    "        CheckConstraint(\"units_in_stock>=0\"),\n",
    "        default=0,\n",
    "    ),\n",
    "    Column(\"type\", Enum(ProductType), default=ProductType.OTHER),\n",
    ")"
   ]
  },
  {
   "cell_type": "markdown",
   "metadata": {},
   "source": [
    "Define the customer table:"
   ]
  },
  {
   "cell_type": "code",
   "execution_count": 6,
   "metadata": {},
   "outputs": [],
   "source": [
    "customer = Table(\n",
    "    \"customer\",\n",
    "    metadata,\n",
    "    Column(\"customer_id\", Integer, primary_key=True),\n",
    "    Column(\"first_name\", String(31)),\n",
    "    Column(\"last_name\", String(31)),\n",
    "    Column(\"address\", String(255)),\n",
    "    Column(\"email\", String(127), unique=True, nullable=False),\n",
    ")"
   ]
  },
  {
   "cell_type": "markdown",
   "metadata": {},
   "source": [
    "Compound index for customer table:\n"
   ]
  },
  {
   "cell_type": "code",
   "execution_count": 7,
   "metadata": {},
   "outputs": [
    {
     "data": {
      "text/plain": [
       "Index('customer_full_name', Column('first_name', String(length=31), table=<customer>), Column('last_name', String(length=31), table=<customer>))"
      ]
     },
     "execution_count": 7,
     "metadata": {},
     "output_type": "execute_result"
    }
   ],
   "source": [
    "Index(\"customer_full_name\", customer.c.first_name, customer.c.last_name)"
   ]
  },
  {
   "cell_type": "markdown",
   "metadata": {},
   "source": [
    "Defining a constraint outside of the `Table()` constructor:"
   ]
  },
  {
   "cell_type": "code",
   "execution_count": 8,
   "metadata": {},
   "outputs": [
    {
     "data": {
      "text/plain": [
       "CheckConstraint(<sqlalchemy.sql.elements.BinaryExpression object at 0x7ff00cf9f3a0>, name='stock_upper_limit', table=Table('product', MetaData(), Column('product_id', Integer(), table=<product>, primary_key=True, nullable=False), Column('product_name', String(length=255), table=<product>), Column('unit_price', Numeric(precision=12, scale=2), CheckConstraint(<sqlalchemy.sql.elements.TextClause object at 0x7ff00cf9f460>), table=<product>), Column('units_in_stock', Integer(), CheckConstraint(<sqlalchemy.sql.elements.TextClause object at 0x7ff00cf9f430>), table=<product>, default=ScalarElementColumnDefault(0)), Column('type', Enum('PHONE', 'ACCESSORY', 'OTHER', name='producttype'), table=<product>, default=ScalarElementColumnDefault(<ProductType.OTHER: 2>)), schema=None))"
      ]
     },
     "execution_count": 8,
     "metadata": {},
     "output_type": "execute_result"
    }
   ],
   "source": [
    "CheckConstraint(\n",
    "    product.c.units_in_stock < 1_000_000,\n",
    "    name=\"stock_upper_limit\",\n",
    ")"
   ]
  },
  {
   "cell_type": "markdown",
   "metadata": {},
   "source": [
    "Define the order table:"
   ]
  },
  {
   "cell_type": "code",
   "execution_count": 9,
   "metadata": {},
   "outputs": [],
   "source": [
    "order = Table(\n",
    "    \"order\",\n",
    "    metadata,\n",
    "    Column(\"order_id\", Integer, primary_key=True),\n",
    "    Column(\n",
    "        \"customer_id\",\n",
    "        Integer,\n",
    "        ForeignKey(\"customer.customer_id\"),\n",
    "        nullable=False,\n",
    "    ),\n",
    "    Column(\n",
    "        \"employee_id\",\n",
    "        Integer,\n",
    "        ForeignKey(\"employee.employee_id\"),\n",
    "        nullable=True,\n",
    "    ),\n",
    "    Column(\"order_datetime\", DateTime, default=datetime.now),\n",
    "    Column(\"is_shipped\", Boolean, default=False),\n",
    ")"
   ]
  },
  {
   "cell_type": "markdown",
   "metadata": {},
   "source": [
    "Define the order detail associative table:"
   ]
  },
  {
   "cell_type": "code",
   "execution_count": 10,
   "metadata": {},
   "outputs": [],
   "source": [
    "order_detail = Table(\n",
    "    \"order_detail\",\n",
    "    metadata,\n",
    "    Column(\n",
    "        \"order_id\",\n",
    "        Integer,\n",
    "        ForeignKey(\"order.order_id\"),\n",
    "        primary_key=True,\n",
    "    ),\n",
    "    Column(\n",
    "        \"product_id\",\n",
    "        Integer,\n",
    "        ForeignKey(\"product.product_id\"),\n",
    "        primary_key=True,\n",
    "    ),\n",
    "    Column(\"quantity\", Integer,  default=1),\n",
    "    CheckConstraint(\"quantity>0\", name=\"num_of_ordered_item_must_be_positive\"),\n",
    ")"
   ]
  },
  {
   "cell_type": "markdown",
   "metadata": {},
   "source": [
    "Enter your database URL (we'll be using SQLite3 with files):"
   ]
  },
  {
   "cell_type": "code",
   "execution_count": 11,
   "metadata": {},
   "outputs": [],
   "source": [
    "DATABASE_URL = \"sqlite+pysqlite:///store.db\""
   ]
  },
  {
   "cell_type": "markdown",
   "metadata": {},
   "source": [
    "Create the `Engine` object:"
   ]
  },
  {
   "cell_type": "code",
   "execution_count": 12,
   "metadata": {},
   "outputs": [],
   "source": [
    "engine = create_engine(\n",
    "    DATABASE_URL,\n",
    "    echo=True,\n",
    ")"
   ]
  },
  {
   "cell_type": "markdown",
   "metadata": {},
   "source": [
    "Create the tables:"
   ]
  },
  {
   "cell_type": "code",
   "execution_count": 13,
   "metadata": {},
   "outputs": [
    {
     "name": "stdout",
     "output_type": "stream",
     "text": [
      "2024-03-19 16:03:51,947 INFO sqlalchemy.engine.Engine BEGIN (implicit)\n",
      "2024-03-19 16:03:51,948 INFO sqlalchemy.engine.Engine PRAGMA main.table_info(\"employee\")\n",
      "2024-03-19 16:03:51,948 INFO sqlalchemy.engine.Engine [raw sql] ()\n",
      "2024-03-19 16:03:51,949 INFO sqlalchemy.engine.Engine PRAGMA temp.table_info(\"employee\")\n",
      "2024-03-19 16:03:51,950 INFO sqlalchemy.engine.Engine [raw sql] ()\n",
      "2024-03-19 16:03:51,951 INFO sqlalchemy.engine.Engine PRAGMA main.table_info(\"product\")\n",
      "2024-03-19 16:03:51,951 INFO sqlalchemy.engine.Engine [raw sql] ()\n",
      "2024-03-19 16:03:51,952 INFO sqlalchemy.engine.Engine PRAGMA temp.table_info(\"product\")\n",
      "2024-03-19 16:03:51,952 INFO sqlalchemy.engine.Engine [raw sql] ()\n",
      "2024-03-19 16:03:51,953 INFO sqlalchemy.engine.Engine PRAGMA main.table_info(\"customer\")\n",
      "2024-03-19 16:03:51,954 INFO sqlalchemy.engine.Engine [raw sql] ()\n",
      "2024-03-19 16:03:51,955 INFO sqlalchemy.engine.Engine PRAGMA temp.table_info(\"customer\")\n",
      "2024-03-19 16:03:51,955 INFO sqlalchemy.engine.Engine [raw sql] ()\n",
      "2024-03-19 16:03:51,956 INFO sqlalchemy.engine.Engine PRAGMA main.table_info(\"order\")\n",
      "2024-03-19 16:03:51,956 INFO sqlalchemy.engine.Engine [raw sql] ()\n",
      "2024-03-19 16:03:51,958 INFO sqlalchemy.engine.Engine PRAGMA temp.table_info(\"order\")\n",
      "2024-03-19 16:03:51,959 INFO sqlalchemy.engine.Engine [raw sql] ()\n",
      "2024-03-19 16:03:51,960 INFO sqlalchemy.engine.Engine PRAGMA main.table_info(\"order_detail\")\n",
      "2024-03-19 16:03:51,960 INFO sqlalchemy.engine.Engine [raw sql] ()\n",
      "2024-03-19 16:03:51,961 INFO sqlalchemy.engine.Engine PRAGMA temp.table_info(\"order_detail\")\n",
      "2024-03-19 16:03:51,961 INFO sqlalchemy.engine.Engine [raw sql] ()\n",
      "2024-03-19 16:03:51,962 INFO sqlalchemy.engine.Engine \n",
      "CREATE TABLE employee (\n",
      "\temployee_id INTEGER NOT NULL, \n",
      "\tmanager_id INTEGER, \n",
      "\tname VARCHAR(31) NOT NULL, \n",
      "\tis_manager BOOLEAN, \n",
      "\thire_date DATE, \n",
      "\tPRIMARY KEY (employee_id), \n",
      "\tFOREIGN KEY(manager_id) REFERENCES employee (employee_id)\n",
      ")\n",
      "\n",
      "\n",
      "2024-03-19 16:03:51,963 INFO sqlalchemy.engine.Engine [no key 0.00036s] ()\n",
      "2024-03-19 16:03:51,968 INFO sqlalchemy.engine.Engine \n",
      "CREATE TABLE product (\n",
      "\tproduct_id INTEGER NOT NULL, \n",
      "\tproduct_name VARCHAR(255), \n",
      "\tunit_price NUMERIC(12, 2) CHECK (unit_price>0), \n",
      "\tunits_in_stock INTEGER CHECK (units_in_stock>=0), \n",
      "\ttype VARCHAR(9), \n",
      "\tPRIMARY KEY (product_id), \n",
      "\tCONSTRAINT stock_upper_limit CHECK (units_in_stock < 1000000)\n",
      ")\n",
      "\n",
      "\n",
      "2024-03-19 16:03:51,968 INFO sqlalchemy.engine.Engine [no key 0.00070s] ()\n",
      "2024-03-19 16:03:51,972 INFO sqlalchemy.engine.Engine CREATE INDEX ix_product_product_name ON product (product_name)\n",
      "2024-03-19 16:03:51,973 INFO sqlalchemy.engine.Engine [no key 0.00065s] ()\n",
      "2024-03-19 16:03:51,977 INFO sqlalchemy.engine.Engine \n",
      "CREATE TABLE customer (\n",
      "\tcustomer_id INTEGER NOT NULL, \n",
      "\tfirst_name VARCHAR(31), \n",
      "\tlast_name VARCHAR(31), \n",
      "\taddress VARCHAR(255), \n",
      "\temail VARCHAR(127) NOT NULL, \n",
      "\tPRIMARY KEY (customer_id), \n",
      "\tUNIQUE (email)\n",
      ")\n",
      "\n",
      "\n",
      "2024-03-19 16:03:51,977 INFO sqlalchemy.engine.Engine [no key 0.00045s] ()\n",
      "2024-03-19 16:03:51,980 INFO sqlalchemy.engine.Engine CREATE INDEX customer_full_name ON customer (first_name, last_name)\n",
      "2024-03-19 16:03:51,981 INFO sqlalchemy.engine.Engine [no key 0.00050s] ()\n",
      "2024-03-19 16:03:51,985 INFO sqlalchemy.engine.Engine \n",
      "CREATE TABLE \"order\" (\n",
      "\torder_id INTEGER NOT NULL, \n",
      "\tcustomer_id INTEGER NOT NULL, \n",
      "\temployee_id INTEGER, \n",
      "\torder_datetime DATETIME, \n",
      "\tis_shipped BOOLEAN, \n",
      "\tPRIMARY KEY (order_id), \n",
      "\tFOREIGN KEY(customer_id) REFERENCES customer (customer_id), \n",
      "\tFOREIGN KEY(employee_id) REFERENCES employee (employee_id)\n",
      ")\n",
      "\n",
      "\n",
      "2024-03-19 16:03:51,985 INFO sqlalchemy.engine.Engine [no key 0.00051s] ()\n",
      "2024-03-19 16:03:51,989 INFO sqlalchemy.engine.Engine \n",
      "CREATE TABLE order_detail (\n",
      "\torder_id INTEGER NOT NULL, \n",
      "\tproduct_id INTEGER NOT NULL, \n",
      "\tquantity INTEGER, \n",
      "\tPRIMARY KEY (order_id, product_id), \n",
      "\tCONSTRAINT num_of_ordered_item_must_be_positive CHECK (quantity>0), \n",
      "\tFOREIGN KEY(order_id) REFERENCES \"order\" (order_id), \n",
      "\tFOREIGN KEY(product_id) REFERENCES product (product_id)\n",
      ")\n",
      "\n",
      "\n",
      "2024-03-19 16:03:51,989 INFO sqlalchemy.engine.Engine [no key 0.00041s] ()\n",
      "2024-03-19 16:03:51,991 INFO sqlalchemy.engine.Engine COMMIT\n"
     ]
    }
   ],
   "source": [
    "metadata.create_all(engine)"
   ]
  },
  {
   "cell_type": "markdown",
   "metadata": {},
   "source": [
    "Verify if the tables are created correctly:\n",
    "\n",
    "```bash\n",
    "$ sqlite3 store.db \n",
    "SQLite version 3.37.2 2022-01-06 13:25:41\n",
    "Enter \".help\" for usage hints.\n",
    "\n",
    "# This command will display the SQL CREATE statements used to define each table in the database, including any indexes, triggers, or views.\n",
    "sqlite> .schema\n",
    "\n",
    "# When you're done:\n",
    "sqlite> .exit\n",
    "```"
   ]
  }
 ],
 "metadata": {
  "kernelspec": {
   "display_name": "mybook_py310",
   "language": "python",
   "name": "python3"
  },
  "language_info": {
   "codemirror_mode": {
    "name": "ipython",
    "version": 3
   },
   "file_extension": ".py",
   "mimetype": "text/x-python",
   "name": "python",
   "nbconvert_exporter": "python",
   "pygments_lexer": "ipython3",
   "version": "3.10.10"
  }
 },
 "nbformat": 4,
 "nbformat_minor": 2
}
