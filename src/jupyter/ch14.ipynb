{
 "cells": [
  {
   "cell_type": "markdown",
   "metadata": {},
   "source": [
    "# Chapter 14: Events"
   ]
  },
  {
   "cell_type": "markdown",
   "metadata": {},
   "source": [
    "Before you start, please comment out the `validate_product_name()` method of the `Product` model first:\n",
    "\n",
    "```python\n",
    "class Product(Base, repr=False):  # type: ignore\n",
    "    __tablename__ = \"product\"\n",
    "\n",
    "    product_id: Mapped[int_pk] = mapped_column(init=False)\n",
    "\n",
    "    ...\n",
    "\n",
    "    # @validates(\"product_name\")\n",
    "    # def validate_product_name(self, key, value: str):\n",
    "    #     print(\"key:\", key, \"value:\", value)\n",
    "    #     return value.title()\n",
    "```"
   ]
  },
  {
   "cell_type": "markdown",
   "metadata": {},
   "source": [
    "Load models from part 3:"
   ]
  },
  {
   "cell_type": "code",
   "execution_count": 1,
   "metadata": {},
   "outputs": [],
   "source": [
    "import sys\n",
    "import os\n",
    "\n",
    "# Get the current working directory\n",
    "current_dir = os.getcwd()\n",
    "\n",
    "# Get the parent directory of the current directory\n",
    "parent_dir = os.path.abspath(os.path.join(current_dir, os.pardir))\n",
    "\n",
    "# Get the sibling directory's path\n",
    "sibling_dir = os.path.join(parent_dir, 'part3')\n",
    "\n",
    "# Add the sibling directory to the Python path\n",
    "sys.path.append(sibling_dir)"
   ]
  },
  {
   "cell_type": "code",
   "execution_count": 2,
   "metadata": {},
   "outputs": [],
   "source": [
    "from models import *"
   ]
  },
  {
   "cell_type": "markdown",
   "metadata": {},
   "source": [
    "## Registering Event Listeners"
   ]
  },
  {
   "cell_type": "code",
   "execution_count": 3,
   "metadata": {},
   "outputs": [],
   "source": [
    "from sqlalchemy import select\n",
    "from sqlalchemy.event import listen, listens_for, remove\n",
    "from sqlalchemy.orm import Session"
   ]
  },
  {
   "cell_type": "markdown",
   "metadata": {},
   "source": [
    "Event listener registration using the `listen()` function:"
   ]
  },
  {
   "cell_type": "code",
   "execution_count": 4,
   "metadata": {},
   "outputs": [],
   "source": [
    "def db_on_connect1(dbapi_connection, connection_record):\n",
    "    print(f\"Connected 1: {dbapi_connection}\")\n",
    "\n",
    "listen(engine, \"connect\", db_on_connect1)"
   ]
  },
  {
   "cell_type": "markdown",
   "metadata": {},
   "source": [
    "Event listener registration using the `listens_for()` decorator:"
   ]
  },
  {
   "cell_type": "code",
   "execution_count": 5,
   "metadata": {},
   "outputs": [],
   "source": [
    "@listens_for(engine, \"connect\")\n",
    "def db_on_connect2(dbapi_connection, connection_record):\n",
    "    print(f\"Connected 2: {dbapi_connection}\")"
   ]
  },
  {
   "cell_type": "markdown",
   "metadata": {},
   "source": [
    "Triggering event listeners for \"connect\" by listing products:"
   ]
  },
  {
   "cell_type": "code",
   "execution_count": 6,
   "metadata": {},
   "outputs": [],
   "source": [
    "def list_products(session: Session):\n",
    "    \"\"\"List all products.\"\"\"\n",
    "    products = session.scalars(select(Product))\n",
    "    print(\"Listing products...\")\n",
    "    for product in products:\n",
    "        print(product)"
   ]
  },
  {
   "cell_type": "code",
   "execution_count": 7,
   "metadata": {},
   "outputs": [
    {
     "name": "stdout",
     "output_type": "stream",
     "text": [
      ">> Session starts!\n",
      "Connected 1: <sqlite3.Connection object at 0x7f1cfa8f5640>\n",
      "Connected 2: <sqlite3.Connection object at 0x7f1cfa8f5640>\n",
      "2024-03-30 15:13:16,785 INFO sqlalchemy.engine.Engine BEGIN (implicit)\n",
      "2024-03-30 15:13:16,803 INFO sqlalchemy.engine.Engine SELECT product.product_id, product.product_name, product.unit_price, product.units_in_stock, product.type \n",
      "FROM product\n",
      "2024-03-30 15:13:16,803 INFO sqlalchemy.engine.Engine [generated in 0.00088s] ()\n",
      "Listing products...\n",
      ">> Session ends!\n",
      "2024-03-30 15:13:16,805 INFO sqlalchemy.engine.Engine ROLLBACK\n"
     ]
    }
   ],
   "source": [
    "with SessionMaker() as session:\n",
    "    print(\">> Session starts!\")\n",
    "    list_products(session)\n",
    "    print(\">> Session ends!\")"
   ]
  },
  {
   "cell_type": "markdown",
   "metadata": {},
   "source": [
    "## ORM events:"
   ]
  },
  {
   "cell_type": "markdown",
   "metadata": {},
   "source": [
    "Defining a listener for mapper events:"
   ]
  },
  {
   "cell_type": "code",
   "execution_count": 8,
   "metadata": {},
   "outputs": [],
   "source": [
    "@listens_for(Product, 'before_insert')\n",
    "@listens_for(Product, 'before_update')\n",
    "def before_insert_update(mapper, connection, target: Product):\n",
    "    print(f\"Input product name: {target.product_name}\")\n",
    "\n",
    "    # converting product name to title case\n",
    "    target.product_name = target.product_name.title()"
   ]
  },
  {
   "cell_type": "markdown",
   "metadata": {},
   "source": [
    "Data for product record:"
   ]
  },
  {
   "cell_type": "code",
   "execution_count": 9,
   "metadata": {},
   "outputs": [],
   "source": [
    "product_data = {\n",
    "    \"product_name\": \"phone screen protector\",\n",
    "    \"unit_price\": 9.50,\n",
    "    \"units_in_stock\": 10,\n",
    "    \"type\": ProductType.ACCESSORY,\n",
    "}"
   ]
  },
  {
   "cell_type": "markdown",
   "metadata": {},
   "source": [
    "Functions for triggering the product event listener:"
   ]
  },
  {
   "cell_type": "code",
   "execution_count": 10,
   "metadata": {},
   "outputs": [],
   "source": [
    "def insert_product(session: Session, data):\n",
    "    product = Product(**data)\n",
    "    session.add(product)\n",
    "    session.commit()\n",
    "\n",
    "    return product.product_id"
   ]
  },
  {
   "cell_type": "code",
   "execution_count": 11,
   "metadata": {},
   "outputs": [],
   "source": [
    "def update_product(session: Session, product_id: int, new_product_name: str):\n",
    "    product = session.get(Product, product_id)\n",
    "    if product is not None:\n",
    "        product.product_name = new_product_name\n",
    "        session.commit()"
   ]
  },
  {
   "cell_type": "markdown",
   "metadata": {},
   "source": [
    "Insert product:"
   ]
  },
  {
   "cell_type": "code",
   "execution_count": 12,
   "metadata": {},
   "outputs": [],
   "source": [
    "session = SessionMaker()"
   ]
  },
  {
   "cell_type": "code",
   "execution_count": 13,
   "metadata": {},
   "outputs": [
    {
     "name": "stdout",
     "output_type": "stream",
     "text": [
      "2024-03-30 15:13:30,632 INFO sqlalchemy.engine.Engine BEGIN (implicit)\n",
      "Input product name: phone screen protector\n",
      "2024-03-30 15:13:30,635 INFO sqlalchemy.engine.Engine INSERT INTO product (product_name, unit_price, units_in_stock, type) VALUES (?, ?, ?, ?)\n",
      "2024-03-30 15:13:30,636 INFO sqlalchemy.engine.Engine [generated in 0.00100s] ('Phone Screen Protector', 9.5, 10, 'ACCESSORY')\n",
      "2024-03-30 15:13:30,637 INFO sqlalchemy.engine.Engine COMMIT\n",
      "2024-03-30 15:13:30,647 INFO sqlalchemy.engine.Engine BEGIN (implicit)\n",
      "2024-03-30 15:13:30,649 INFO sqlalchemy.engine.Engine SELECT product.product_id AS product_product_id, product.product_name AS product_product_name, product.unit_price AS product_unit_price, product.units_in_stock AS product_units_in_stock, product.type AS product_type \n",
      "FROM product \n",
      "WHERE product.product_id = ?\n",
      "2024-03-30 15:13:30,649 INFO sqlalchemy.engine.Engine [generated in 0.00043s] (1,)\n"
     ]
    }
   ],
   "source": [
    "product_id = insert_product(session, product_data)"
   ]
  },
  {
   "cell_type": "code",
   "execution_count": 14,
   "metadata": {},
   "outputs": [
    {
     "name": "stdout",
     "output_type": "stream",
     "text": [
      "2024-03-30 15:13:35,805 INFO sqlalchemy.engine.Engine SELECT product.product_id AS product_product_id, product.product_name AS product_product_name, product.unit_price AS product_unit_price, product.units_in_stock AS product_units_in_stock, product.type AS product_type \n",
      "FROM product \n",
      "WHERE product.product_id = ?\n",
      "2024-03-30 15:13:35,807 INFO sqlalchemy.engine.Engine [generated in 0.00144s] (1,)\n",
      "New product added: Product(product_id=1, product_name='Phone Screen Protector', unit_price=9.50, units_in_stock=10, type='accessory')\n"
     ]
    }
   ],
   "source": [
    "print(\"New product added:\", session.get(Product, product_id))"
   ]
  },
  {
   "cell_type": "markdown",
   "metadata": {},
   "source": [
    "Update product:"
   ]
  },
  {
   "cell_type": "code",
   "execution_count": 15,
   "metadata": {},
   "outputs": [
    {
     "name": "stdout",
     "output_type": "stream",
     "text": [
      "2024-03-30 15:13:39,144 INFO sqlalchemy.engine.Engine SELECT product.product_id AS product_product_id, product.product_name AS product_product_name, product.unit_price AS product_unit_price, product.units_in_stock AS product_units_in_stock, product.type AS product_type \n",
      "FROM product \n",
      "WHERE product.product_id = ?\n",
      "2024-03-30 15:13:39,145 INFO sqlalchemy.engine.Engine [cached since 3.34s ago] (1,)\n",
      "Input product name: phone screen protector 2023\n",
      "2024-03-30 15:13:39,148 INFO sqlalchemy.engine.Engine UPDATE product SET product_name=? WHERE product.product_id = ?\n",
      "2024-03-30 15:13:39,149 INFO sqlalchemy.engine.Engine [generated in 0.00065s] ('Phone Screen Protector 2023', 1)\n",
      "2024-03-30 15:13:39,150 INFO sqlalchemy.engine.Engine COMMIT\n"
     ]
    }
   ],
   "source": [
    "update_product(session, product_id, \"phone screen protector 2023\")"
   ]
  },
  {
   "cell_type": "code",
   "execution_count": 16,
   "metadata": {},
   "outputs": [
    {
     "name": "stdout",
     "output_type": "stream",
     "text": [
      "2024-03-30 15:13:41,841 INFO sqlalchemy.engine.Engine BEGIN (implicit)\n",
      "2024-03-30 15:13:41,841 INFO sqlalchemy.engine.Engine SELECT product.product_id AS product_product_id, product.product_name AS product_product_name, product.unit_price AS product_unit_price, product.units_in_stock AS product_units_in_stock, product.type AS product_type \n",
      "FROM product \n",
      "WHERE product.product_id = ?\n",
      "2024-03-30 15:13:41,842 INFO sqlalchemy.engine.Engine [cached since 6.037s ago] (1,)\n",
      "Product updated to: Product(product_id=1, product_name='Phone Screen Protector 2023', unit_price=9.50, units_in_stock=10, type='accessory')\n"
     ]
    }
   ],
   "source": [
    "print(\"Product updated to:\", session.get(Product, product_id))"
   ]
  },
  {
   "cell_type": "markdown",
   "metadata": {},
   "source": [
    "Remove event listeners:"
   ]
  },
  {
   "cell_type": "code",
   "execution_count": 17,
   "metadata": {},
   "outputs": [],
   "source": [
    "remove(Product, 'before_insert', before_insert_update)\n",
    "remove(Product, 'before_update', before_insert_update)"
   ]
  },
  {
   "cell_type": "code",
   "execution_count": 18,
   "metadata": {},
   "outputs": [],
   "source": [
    "product_data[\"product_name\"] = 'test'"
   ]
  },
  {
   "cell_type": "markdown",
   "metadata": {},
   "source": [
    "Check that the event listeners are actually removed:"
   ]
  },
  {
   "cell_type": "code",
   "execution_count": 19,
   "metadata": {},
   "outputs": [
    {
     "name": "stdout",
     "output_type": "stream",
     "text": [
      "2024-03-30 15:13:47,683 INFO sqlalchemy.engine.Engine INSERT INTO product (product_name, unit_price, units_in_stock, type) VALUES (?, ?, ?, ?)\n",
      "2024-03-30 15:13:47,684 INFO sqlalchemy.engine.Engine [cached since 17.05s ago] ('test', 9.5, 10, 'ACCESSORY')\n",
      "2024-03-30 15:13:47,685 INFO sqlalchemy.engine.Engine COMMIT\n",
      "2024-03-30 15:13:47,698 INFO sqlalchemy.engine.Engine BEGIN (implicit)\n",
      "2024-03-30 15:13:47,699 INFO sqlalchemy.engine.Engine SELECT product.product_id AS product_product_id, product.product_name AS product_product_name, product.unit_price AS product_unit_price, product.units_in_stock AS product_units_in_stock, product.type AS product_type \n",
      "FROM product \n",
      "WHERE product.product_id = ?\n",
      "2024-03-30 15:13:47,699 INFO sqlalchemy.engine.Engine [cached since 17.05s ago] (2,)\n"
     ]
    }
   ],
   "source": [
    "product_id = insert_product(session, product_data)"
   ]
  },
  {
   "cell_type": "code",
   "execution_count": 20,
   "metadata": {},
   "outputs": [
    {
     "name": "stdout",
     "output_type": "stream",
     "text": [
      "2024-03-30 15:13:50,076 INFO sqlalchemy.engine.Engine SELECT product.product_id AS product_product_id, product.product_name AS product_product_name, product.unit_price AS product_unit_price, product.units_in_stock AS product_units_in_stock, product.type AS product_type \n",
      "FROM product \n",
      "WHERE product.product_id = ?\n",
      "2024-03-30 15:13:50,076 INFO sqlalchemy.engine.Engine [cached since 14.27s ago] (2,)\n",
      "New product added: Product(product_id=2, product_name='test', unit_price=9.50, units_in_stock=10, type='accessory')\n"
     ]
    }
   ],
   "source": [
    "print(\"New product added:\", session.get(Product, product_id))"
   ]
  },
  {
   "cell_type": "code",
   "execution_count": 21,
   "metadata": {},
   "outputs": [
    {
     "name": "stdout",
     "output_type": "stream",
     "text": [
      "2024-03-30 15:13:52,162 INFO sqlalchemy.engine.Engine SELECT product.product_id AS product_product_id, product.product_name AS product_product_name, product.unit_price AS product_unit_price, product.units_in_stock AS product_units_in_stock, product.type AS product_type \n",
      "FROM product \n",
      "WHERE product.product_id = ?\n",
      "2024-03-30 15:13:52,163 INFO sqlalchemy.engine.Engine [cached since 16.36s ago] (2,)\n",
      "2024-03-30 15:13:52,165 INFO sqlalchemy.engine.Engine UPDATE product SET product_name=? WHERE product.product_id = ?\n",
      "2024-03-30 15:13:52,165 INFO sqlalchemy.engine.Engine [cached since 13.02s ago] ('test updated', 2)\n",
      "2024-03-30 15:13:52,166 INFO sqlalchemy.engine.Engine COMMIT\n"
     ]
    }
   ],
   "source": [
    "update_product(session, product_id, \"test updated\")"
   ]
  },
  {
   "cell_type": "code",
   "execution_count": 22,
   "metadata": {},
   "outputs": [
    {
     "name": "stdout",
     "output_type": "stream",
     "text": [
      "2024-03-30 15:13:54,264 INFO sqlalchemy.engine.Engine BEGIN (implicit)\n",
      "2024-03-30 15:13:54,265 INFO sqlalchemy.engine.Engine SELECT product.product_id AS product_product_id, product.product_name AS product_product_name, product.unit_price AS product_unit_price, product.units_in_stock AS product_units_in_stock, product.type AS product_type \n",
      "FROM product \n",
      "WHERE product.product_id = ?\n",
      "2024-03-30 15:13:54,266 INFO sqlalchemy.engine.Engine [cached since 18.46s ago] (2,)\n",
      "Product updated to: Product(product_id=2, product_name='test updated', unit_price=9.50, units_in_stock=10, type='accessory')\n"
     ]
    }
   ],
   "source": [
    "print(\"Product updated to:\", session.get(Product, product_id))"
   ]
  },
  {
   "cell_type": "code",
   "execution_count": 23,
   "metadata": {},
   "outputs": [
    {
     "name": "stdout",
     "output_type": "stream",
     "text": [
      "2024-03-30 15:13:58,507 INFO sqlalchemy.engine.Engine ROLLBACK\n"
     ]
    }
   ],
   "source": [
    "session.close()"
   ]
  },
  {
   "cell_type": "markdown",
   "metadata": {},
   "source": [
    "Uncomment the `validate_product_name()` method:\n",
    "\n",
    "```python\n",
    "class Product(Base, repr=False):\n",
    "    ...\n",
    "    @validates(\"product_name\")\n",
    "    def validate_product_name(self, key, value: str): ❶\n",
    "        return value.title()\n",
    "```\n"
   ]
  },
  {
   "cell_type": "markdown",
   "metadata": {},
   "source": [
    "Restart the kernel!!!"
   ]
  },
  {
   "cell_type": "code",
   "execution_count": 1,
   "metadata": {},
   "outputs": [],
   "source": [
    "import sys\n",
    "import os\n",
    "\n",
    "# Get the current working directory\n",
    "current_dir = os.getcwd()\n",
    "\n",
    "# Get the parent directory of the current directory\n",
    "parent_dir = os.path.abspath(os.path.join(current_dir, os.pardir))\n",
    "\n",
    "# Get the sibling directory's path\n",
    "sibling_dir = os.path.join(parent_dir, 'part3')\n",
    "\n",
    "# Add the sibling directory to the Python path\n",
    "sys.path.append(sibling_dir)"
   ]
  },
  {
   "cell_type": "code",
   "execution_count": 2,
   "metadata": {},
   "outputs": [],
   "source": [
    "from models import *"
   ]
  },
  {
   "cell_type": "code",
   "execution_count": 3,
   "metadata": {},
   "outputs": [],
   "source": [
    "session = SessionMaker()"
   ]
  },
  {
   "cell_type": "code",
   "execution_count": 4,
   "metadata": {},
   "outputs": [],
   "source": [
    "from sqlalchemy import select\n",
    "from sqlalchemy.event import listen, listens_for, remove\n",
    "from sqlalchemy.orm import Session"
   ]
  },
  {
   "cell_type": "markdown",
   "metadata": {},
   "source": [
    "Test the listener with product insertion:"
   ]
  },
  {
   "cell_type": "code",
   "execution_count": 5,
   "metadata": {},
   "outputs": [],
   "source": [
    "def insert_product(session: Session, data):\n",
    "    product = Product(**data)\n",
    "    session.add(product)\n",
    "    session.commit()\n",
    "\n",
    "    return product.product_id"
   ]
  },
  {
   "cell_type": "code",
   "execution_count": 6,
   "metadata": {},
   "outputs": [],
   "source": [
    "product_data = {\n",
    "    \"product_name\": \"phone screen protector\",\n",
    "    \"unit_price\": 9.50,\n",
    "    \"units_in_stock\": 10,\n",
    "    \"type\": ProductType.ACCESSORY,\n",
    "}"
   ]
  },
  {
   "cell_type": "code",
   "execution_count": 7,
   "metadata": {},
   "outputs": [
    {
     "name": "stdout",
     "output_type": "stream",
     "text": [
      "key: product_name value: phone screen protector\n",
      "2024-03-30 15:14:19,538 INFO sqlalchemy.engine.Engine BEGIN (implicit)\n",
      "2024-03-30 15:14:19,541 INFO sqlalchemy.engine.Engine INSERT INTO product (product_name, unit_price, units_in_stock, type) VALUES (?, ?, ?, ?)\n",
      "2024-03-30 15:14:19,542 INFO sqlalchemy.engine.Engine [generated in 0.00089s] ('Phone Screen Protector', 9.5, 10, 'ACCESSORY')\n",
      "2024-03-30 15:14:19,543 INFO sqlalchemy.engine.Engine COMMIT\n",
      "2024-03-30 15:14:19,557 INFO sqlalchemy.engine.Engine BEGIN (implicit)\n",
      "2024-03-30 15:14:19,562 INFO sqlalchemy.engine.Engine SELECT product.product_id AS product_product_id, product.product_name AS product_product_name, product.unit_price AS product_unit_price, product.units_in_stock AS product_units_in_stock, product.type AS product_type \n",
      "FROM product \n",
      "WHERE product.product_id = ?\n",
      "2024-03-30 15:14:19,562 INFO sqlalchemy.engine.Engine [generated in 0.00092s] (3,)\n"
     ]
    }
   ],
   "source": [
    "product_id_2 = insert_product(session, product_data)"
   ]
  },
  {
   "cell_type": "code",
   "execution_count": 8,
   "metadata": {},
   "outputs": [
    {
     "name": "stdout",
     "output_type": "stream",
     "text": [
      "2024-03-30 15:14:22,744 INFO sqlalchemy.engine.Engine SELECT product.product_id AS product_product_id, product.product_name AS product_product_name, product.unit_price AS product_unit_price, product.units_in_stock AS product_units_in_stock, product.type AS product_type \n",
      "FROM product \n",
      "WHERE product.product_id = ?\n",
      "2024-03-30 15:14:22,745 INFO sqlalchemy.engine.Engine [generated in 0.00174s] (3,)\n",
      "New product added: Product(product_id=3, product_name='Phone Screen Protector', unit_price=9.50, units_in_stock=10, type='accessory')\n"
     ]
    }
   ],
   "source": [
    "print(\"New product added:\", session.get(Product, product_id_2))"
   ]
  },
  {
   "cell_type": "markdown",
   "metadata": {},
   "source": [
    "Email Validation Function:"
   ]
  },
  {
   "cell_type": "markdown",
   "metadata": {},
   "source": [
    "Add the `validate_email()` method to the `Customer` model:\n",
    "\n",
    "```python\n",
    "class Customer(Base):\n",
    "    ...\n",
    "\n",
    "    @validates(\"email\")\n",
    "    def validate_email(self, key, value):\n",
    "        if not is_email_valid(value):\n",
    "            raise ValueError(\"Email validation failed!\")\n",
    "        return value\n",
    "```"
   ]
  },
  {
   "cell_type": "markdown",
   "metadata": {},
   "source": [
    "Testing the email validator with customer data:"
   ]
  },
  {
   "cell_type": "code",
   "execution_count": 9,
   "metadata": {},
   "outputs": [],
   "source": [
    "customer_data = {\n",
    "    \"first_name\": \"Alex\",\n",
    "    \"last_name\": \"Smith\",\n",
    "    \"address\": \"618 Oak Lane, CA\",\n",
    "    \"email\": \"alex_smith@test.com\",\n",
    "}"
   ]
  },
  {
   "cell_type": "code",
   "execution_count": 10,
   "metadata": {},
   "outputs": [],
   "source": [
    "def insert_customer(session: Session, data):\n",
    "    customer = Customer(**data)\n",
    "    session.add(customer)\n",
    "    session.commit()\n",
    "\n",
    "    return customer.customer_id"
   ]
  },
  {
   "cell_type": "code",
   "execution_count": 11,
   "metadata": {},
   "outputs": [
    {
     "name": "stdout",
     "output_type": "stream",
     "text": [
      "2024-03-30 15:14:32,607 INFO sqlalchemy.engine.Engine INSERT INTO customer (first_name, last_name, address, email) VALUES (?, ?, ?, ?)\n",
      "2024-03-30 15:14:32,608 INFO sqlalchemy.engine.Engine [generated in 0.00093s] ('Alex', 'Smith', '618 Oak Lane, CA', 'alex_smith@test.com')\n",
      "2024-03-30 15:14:32,609 INFO sqlalchemy.engine.Engine COMMIT\n",
      "2024-03-30 15:14:32,625 INFO sqlalchemy.engine.Engine BEGIN (implicit)\n",
      "2024-03-30 15:14:32,626 INFO sqlalchemy.engine.Engine SELECT customer.customer_id AS customer_customer_id, customer.first_name AS customer_first_name, customer.last_name AS customer_last_name, customer.email AS customer_email \n",
      "FROM customer \n",
      "WHERE customer.customer_id = ?\n",
      "2024-03-30 15:14:32,627 INFO sqlalchemy.engine.Engine [generated in 0.00054s] (1,)\n"
     ]
    }
   ],
   "source": [
    "customer_id = insert_customer(session, customer_data)"
   ]
  },
  {
   "cell_type": "code",
   "execution_count": 12,
   "metadata": {},
   "outputs": [
    {
     "name": "stdout",
     "output_type": "stream",
     "text": [
      "2024-03-30 15:14:34,915 INFO sqlalchemy.engine.Engine SELECT customer.customer_id AS customer_customer_id, customer.first_name AS customer_first_name, customer.last_name AS customer_last_name, customer.email AS customer_email \n",
      "FROM customer \n",
      "WHERE customer.customer_id = ?\n",
      "2024-03-30 15:14:34,916 INFO sqlalchemy.engine.Engine [generated in 0.00140s] (1,)\n",
      "Customer inserted: 2024-03-30 15:14:34,919 INFO sqlalchemy.engine.Engine SELECT customer.address AS customer_address \n",
      "FROM customer \n",
      "WHERE customer.customer_id = ?\n",
      "2024-03-30 15:14:34,920 INFO sqlalchemy.engine.Engine [generated in 0.00066s] (1,)\n",
      "Customer(customer_id=1, first_name='Alex', last_name='Smith', address='618 Oak Lane, CA', email='alex_smith@test.com')\n"
     ]
    }
   ],
   "source": [
    "print(\"Customer inserted:\", session.get(Customer, customer_id))"
   ]
  },
  {
   "cell_type": "code",
   "execution_count": 13,
   "metadata": {},
   "outputs": [
    {
     "name": "stdout",
     "output_type": "stream",
     "text": [
      "A value error occurred: Email validation failed!\n"
     ]
    }
   ],
   "source": [
    "try:\n",
    "    customer_data[\"email\"] = \"not_valid\"\n",
    "    customer_id = insert_customer(session, customer_data)\n",
    "except ValueError as e:\n",
    "    print(\"A value error occurred:\", e)"
   ]
  }
 ],
 "metadata": {
  "kernelspec": {
   "display_name": "mybook_py310",
   "language": "python",
   "name": "python3"
  },
  "language_info": {
   "codemirror_mode": {
    "name": "ipython",
    "version": 3
   },
   "file_extension": ".py",
   "mimetype": "text/x-python",
   "name": "python",
   "nbconvert_exporter": "python",
   "pygments_lexer": "ipython3",
   "version": "3.10.10"
  }
 },
 "nbformat": 4,
 "nbformat_minor": 2
}
