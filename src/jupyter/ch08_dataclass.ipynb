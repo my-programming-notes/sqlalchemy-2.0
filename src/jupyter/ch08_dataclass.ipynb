{
 "cells": [
  {
   "cell_type": "markdown",
   "metadata": {},
   "source": [
    "# Dataclass Integration"
   ]
  },
  {
   "cell_type": "markdown",
   "metadata": {},
   "source": [
    "We would be using ORM models with Python dataclass integration. Use this file to reset tables."
   ]
  },
  {
   "cell_type": "markdown",
   "metadata": {},
   "source": [
    "Postponed Evaluation of Annotations:"
   ]
  },
  {
   "cell_type": "code",
   "execution_count": 30,
   "metadata": {},
   "outputs": [],
   "source": [
    "from __future__ import annotations  # PEP-563"
   ]
  },
  {
   "cell_type": "markdown",
   "metadata": {},
   "source": [
    "Necessary imports:"
   ]
  },
  {
   "cell_type": "code",
   "execution_count": 31,
   "metadata": {},
   "outputs": [],
   "source": [
    "import datetime\n",
    "import enum\n",
    "from decimal import Decimal\n",
    "from typing import Annotated\n",
    "\n",
    "from sqlalchemy import (CheckConstraint, ForeignKey, Index, Numeric, String,\n",
    "                        create_engine)\n",
    "from sqlalchemy.ext.associationproxy import AssociationProxy, association_proxy\n",
    "from sqlalchemy.orm import (DeclarativeBase, Mapped, MappedAsDataclass,\n",
    "                            mapped_column, query_expression, relationship,\n",
    "                            sessionmaker)"
   ]
  },
  {
   "cell_type": "markdown",
   "metadata": {},
   "source": [
    "SQLite database:"
   ]
  },
  {
   "cell_type": "code",
   "execution_count": 32,
   "metadata": {},
   "outputs": [],
   "source": [
    "DATABASE_URL = \"sqlite+pysqlite:///store.db\""
   ]
  },
  {
   "cell_type": "code",
   "execution_count": 33,
   "metadata": {},
   "outputs": [],
   "source": [
    "engine = create_engine(\n",
    "    DATABASE_URL,\n",
    "    echo=True,\n",
    ")"
   ]
  },
  {
   "cell_type": "markdown",
   "metadata": {},
   "source": [
    "Not used yet, included for convenience:"
   ]
  },
  {
   "cell_type": "code",
   "execution_count": 34,
   "metadata": {},
   "outputs": [],
   "source": [
    "SessionMaker = sessionmaker(\n",
    "    bind=engine,\n",
    "    expire_on_commit=True,  # default\n",
    "    autoflush=True,  # default\n",
    ")"
   ]
  },
  {
   "cell_type": "markdown",
   "metadata": {},
   "source": [
    "Base class with Python dataclass integration:"
   ]
  },
  {
   "cell_type": "code",
   "execution_count": 35,
   "metadata": {},
   "outputs": [],
   "source": [
    "class Base(MappedAsDataclass, DeclarativeBase):\n",
    "    pass"
   ]
  },
  {
   "cell_type": "markdown",
   "metadata": {},
   "source": [
    "Product type enumeration:"
   ]
  },
  {
   "cell_type": "code",
   "execution_count": 36,
   "metadata": {},
   "outputs": [],
   "source": [
    "class ProductType(enum.Enum):\n",
    "    PHONE = 0\n",
    "    ACCESSORY = 1\n",
    "    OTHER = 2"
   ]
  },
  {
   "cell_type": "markdown",
   "metadata": {},
   "source": [
    "Define re-usable types:"
   ]
  },
  {
   "cell_type": "code",
   "execution_count": 37,
   "metadata": {},
   "outputs": [],
   "source": [
    "int_pk = Annotated[\n",
    "    int,\n",
    "    mapped_column(\n",
    "        primary_key=True,\n",
    "    )\n",
    "]\n",
    "date_auto = Annotated[\n",
    "    datetime.date,\n",
    "    mapped_column(\n",
    "        default=datetime.date.today,\n",
    "    )\n",
    "]\n",
    "timestamp_auto = Annotated[\n",
    "    datetime.datetime,\n",
    "    mapped_column(\n",
    "        default=datetime.datetime.now,\n",
    "    ),\n",
    "]\n",
    "str_127 = Annotated[\n",
    "    str,\n",
    "    mapped_column(\n",
    "        String(127),\n",
    "    )\n",
    "]\n",
    "str_255 = Annotated[\n",
    "    str,\n",
    "    mapped_column(\n",
    "        String(255),\n",
    "    )\n",
    "]\n",
    "num_12_2 = Annotated[\n",
    "    Decimal,\n",
    "    mapped_column(\n",
    "        Numeric(12, 2),\n",
    "    )\n",
    "]"
   ]
  },
  {
   "cell_type": "markdown",
   "metadata": {},
   "source": [
    "We need to set default value for columns and configure options like `init=False` and `repr=False` for Python dataclass integration."
   ]
  },
  {
   "cell_type": "markdown",
   "metadata": {},
   "source": [
    "Employee:"
   ]
  },
  {
   "cell_type": "code",
   "execution_count": 38,
   "metadata": {},
   "outputs": [],
   "source": [
    "class Employee(Base):\n",
    "    __tablename__ = \"employee\"\n",
    "\n",
    "    employee_id: Mapped[int_pk] = mapped_column(init=False)\n",
    "\n",
    "    manager_id: Mapped[int | None] = mapped_column(\n",
    "        ForeignKey(\"employee.employee_id\"),\n",
    "        default=None,\n",
    "    )\n",
    "\n",
    "    name: Mapped[str_127] = mapped_column(\n",
    "        CheckConstraint(\n",
    "            \"length(name)>0\",\n",
    "            name=\"name_length_must_be_at_least_one_character\",\n",
    "        ),\n",
    "        default=\"\",\n",
    "    )\n",
    "    is_manager: Mapped[bool] = mapped_column(default=False)\n",
    "    hire_date: Mapped[date_auto] = mapped_column(default=None)\n",
    "\n",
    "    # self-referential relationship: manager/employees\n",
    "    manager: Mapped[Employee] = relationship(\n",
    "        back_populates=\"employees\",\n",
    "        remote_side=[employee_id],\n",
    "        init=False,\n",
    "        repr=False,\n",
    "    )\n",
    "    employees: Mapped[list[Employee]] = relationship(\n",
    "        back_populates=\"manager\",\n",
    "        init=False,\n",
    "        repr=False,\n",
    "    )\n",
    "\n",
    "    orders: Mapped[list[Order]] = relationship(\n",
    "        back_populates=\"employee\",\n",
    "        init=False,\n",
    "        repr=False,\n",
    "    )"
   ]
  },
  {
   "cell_type": "markdown",
   "metadata": {},
   "source": [
    "Customer:"
   ]
  },
  {
   "cell_type": "code",
   "execution_count": 39,
   "metadata": {},
   "outputs": [],
   "source": [
    "class Customer(Base):\n",
    "    __tablename__ = \"customer\"\n",
    "\n",
    "    customer_id: Mapped[int_pk] = mapped_column(init=False)\n",
    "\n",
    "    first_name: Mapped[str_127]\n",
    "    last_name: Mapped[str_127]\n",
    "    address: Mapped[str_255] = mapped_column(\n",
    "        # deferring will cause this column to be\n",
    "        # updated by session.merge() every time!\n",
    "        deferred=True,  # lazy load this column\n",
    "        deferred_group=\"customer_attributes\",\n",
    "    )\n",
    "    email: Mapped[str_127] = mapped_column(unique=True)\n",
    "\n",
    "    order_count: Mapped[int] = query_expression(repr=False)\n",
    "\n",
    "    __table_args__ = (\n",
    "        Index(\"customer_full_name\", \"first_name\", \"last_name\"),\n",
    "    )\n",
    "\n",
    "    orders: Mapped[list[Order]] = relationship(\n",
    "        # lazy loading (default): \"select\" (named since a SELECT is emitted)\n",
    "        # eager loading: \"selectin\", \"joined\"\n",
    "        lazy=\"select\",\n",
    "        back_populates=\"customer\",\n",
    "        init=False,\n",
    "        repr=False,\n",
    "        order_by=\"desc(Order.order_id)\",\n",
    "    )"
   ]
  },
  {
   "cell_type": "markdown",
   "metadata": {},
   "source": [
    "Order:"
   ]
  },
  {
   "cell_type": "code",
   "execution_count": 40,
   "metadata": {},
   "outputs": [],
   "source": [
    "class Order(Base):\n",
    "    __tablename__ = \"order\"\n",
    "\n",
    "    order_id: Mapped[int_pk] = mapped_column(init=False)\n",
    "\n",
    "    customer_id: Mapped[int] = mapped_column(\n",
    "        ForeignKey(\"customer.customer_id\"),\n",
    "        default=None,\n",
    "    )\n",
    "    employee_id: Mapped[int | None] = mapped_column(\n",
    "        ForeignKey(\"employee.employee_id\"),\n",
    "        default=None,\n",
    "    )\n",
    "\n",
    "    order_datetime: Mapped[timestamp_auto] = mapped_column(init=False)\n",
    "    is_shipped: Mapped[bool] = mapped_column(default=False)\n",
    "\n",
    "    customer: Mapped[Customer] = relationship(\n",
    "        back_populates=\"orders\",\n",
    "        init=False,\n",
    "        repr=False,\n",
    "    )\n",
    "    employee: Mapped[Employee | None] = relationship(\n",
    "        back_populates=\"orders\",\n",
    "        init=False,\n",
    "        repr=False,\n",
    "    )\n",
    "\n",
    "    # relationship with associative table:\n",
    "    order_details: Mapped[list[OrderDetail]] = relationship(\n",
    "        back_populates=\"order\",\n",
    "        init=False,\n",
    "        repr=False,\n",
    "        # cascade delete and delete orphan (matches database FK constraint)\n",
    "        cascade=\"all, delete-orphan\",\n",
    "        # indicates cascade rule already set on FK\n",
    "        # and does not load unloaded children\n",
    "        passive_deletes=True,\n",
    "    )\n",
    "\n",
    "    # many-to-many relationship with `Product`, bypassing `OrderDetail`\n",
    "    products: Mapped[list[Product]] = relationship(\n",
    "        init=False,\n",
    "        repr=False,\n",
    "        secondary=\"order_detail\",\n",
    "        back_populates=\"orders\",\n",
    "        viewonly=True,  # avoid conflicting changes between relations\n",
    "    )\n",
    "\n",
    "    product_names: AssociationProxy[list[str]] = association_proxy(\n",
    "        \"products\",\n",
    "        \"product_name\",\n",
    "        init=False,\n",
    "        repr=False,\n",
    "    )"
   ]
  },
  {
   "cell_type": "markdown",
   "metadata": {},
   "source": [
    "OrderDetail:"
   ]
  },
  {
   "cell_type": "code",
   "execution_count": 41,
   "metadata": {},
   "outputs": [],
   "source": [
    "class OrderDetail(Base):\n",
    "    \"\"\"\n",
    "    Association object pattern.\n",
    "    This uses the associative table between Order and Product.\n",
    "    \"\"\"\n",
    "    __tablename__ = \"order_detail\"\n",
    "\n",
    "    order_id: Mapped[int] = mapped_column(\n",
    "        # database side: ON DELETE CASCADE\n",
    "        ForeignKey(\"order.order_id\", ondelete=\"CASCADE\"),\n",
    "        primary_key=True,\n",
    "        default=None,\n",
    "    )\n",
    "    product_id: Mapped[int] = mapped_column(\n",
    "        ForeignKey(\"product.product_id\"),\n",
    "        primary_key=True,\n",
    "        default=None,\n",
    "    )\n",
    "\n",
    "    quantity: Mapped[int] = mapped_column(\n",
    "        CheckConstraint(\n",
    "            \"quantity>0\",\n",
    "            name=\"num_of_ordered_item_must_be_positive\",\n",
    "        ),\n",
    "        default=1,\n",
    "    )\n",
    "\n",
    "    order: Mapped[Order] = relationship(\n",
    "        back_populates=\"order_details\",\n",
    "        init=False,\n",
    "        repr=False,\n",
    "    )\n",
    "\n",
    "    product: Mapped[Product] = relationship(\n",
    "        back_populates=\"order_details\",\n",
    "        init=False,\n",
    "        repr=False,\n",
    "    )"
   ]
  },
  {
   "cell_type": "markdown",
   "metadata": {},
   "source": [
    "Product (note that a custom `__repr__()` method is defined):"
   ]
  },
  {
   "cell_type": "code",
   "execution_count": 42,
   "metadata": {},
   "outputs": [],
   "source": [
    "class Product(Base, repr=False):  # type: ignore\n",
    "    __tablename__ = \"product\"\n",
    "\n",
    "    product_id: Mapped[int_pk] = mapped_column(init=False)\n",
    "\n",
    "    product_name: Mapped[str_255] = mapped_column(index=True)\n",
    "    unit_price: Mapped[num_12_2] = mapped_column(\n",
    "        CheckConstraint(\"unit_price>0\"))\n",
    "    units_in_stock: Mapped[int] = mapped_column(\n",
    "        CheckConstraint(\"units_in_stock>=0\"),\n",
    "        default=0,\n",
    "    )\n",
    "    # enum: directly use `ProductType` here:\n",
    "    type: Mapped[ProductType] = mapped_column(\n",
    "        default=ProductType.OTHER,\n",
    "    )\n",
    "\n",
    "    order_details: Mapped[list[OrderDetail]] = relationship(\n",
    "        init=False,\n",
    "        repr=False,\n",
    "        back_populates=\"product\",\n",
    "    )\n",
    "\n",
    "    # many-to-many relationship to `Order`, bypassing `OrderDetail`\n",
    "    orders: Mapped[list[Order]] = relationship(\n",
    "        init=False,\n",
    "        secondary=\"order_detail\",\n",
    "        back_populates=\"products\",\n",
    "        viewonly=True,\n",
    "    )\n",
    "\n",
    "    # customize repr:\n",
    "    def __repr__(self) -> str:\n",
    "        return (\n",
    "            \"Product(\"\n",
    "            f\"product_id={self.product_id}, \"\n",
    "            f\"product_name='{self.product_name}', \"\n",
    "            f\"unit_price={self.unit_price}, \"\n",
    "            f\"units_in_stock={self.units_in_stock}, \"\n",
    "            f\"type='{self.type.name.lower()}'\"\n",
    "            \")\"\n",
    "        )"
   ]
  },
  {
   "cell_type": "markdown",
   "metadata": {},
   "source": [
    "Drop and re-create all tables:"
   ]
  },
  {
   "cell_type": "code",
   "execution_count": 43,
   "metadata": {},
   "outputs": [
    {
     "name": "stdout",
     "output_type": "stream",
     "text": [
      "2024-03-25 20:46:00,975 INFO sqlalchemy.engine.Engine BEGIN (implicit)\n",
      "2024-03-25 20:46:00,975 INFO sqlalchemy.engine.Engine PRAGMA main.table_info(\"employee\")\n",
      "2024-03-25 20:46:00,976 INFO sqlalchemy.engine.Engine [raw sql] ()\n",
      "2024-03-25 20:46:00,976 INFO sqlalchemy.engine.Engine PRAGMA main.table_info(\"customer\")\n",
      "2024-03-25 20:46:00,977 INFO sqlalchemy.engine.Engine [raw sql] ()\n",
      "2024-03-25 20:46:00,978 INFO sqlalchemy.engine.Engine PRAGMA main.table_info(\"order\")\n",
      "2024-03-25 20:46:00,978 INFO sqlalchemy.engine.Engine [raw sql] ()\n",
      "2024-03-25 20:46:00,979 INFO sqlalchemy.engine.Engine PRAGMA main.table_info(\"order_detail\")\n",
      "2024-03-25 20:46:00,979 INFO sqlalchemy.engine.Engine [raw sql] ()\n",
      "2024-03-25 20:46:00,980 INFO sqlalchemy.engine.Engine PRAGMA main.table_info(\"product\")\n",
      "2024-03-25 20:46:00,980 INFO sqlalchemy.engine.Engine [raw sql] ()\n",
      "2024-03-25 20:46:00,981 INFO sqlalchemy.engine.Engine \n",
      "DROP TABLE order_detail\n",
      "2024-03-25 20:46:00,982 INFO sqlalchemy.engine.Engine [no key 0.00036s] ()\n",
      "2024-03-25 20:46:00,984 INFO sqlalchemy.engine.Engine \n",
      "DROP TABLE \"order\"\n",
      "2024-03-25 20:46:00,984 INFO sqlalchemy.engine.Engine [no key 0.00033s] ()\n",
      "2024-03-25 20:46:00,987 INFO sqlalchemy.engine.Engine \n",
      "DROP TABLE product\n",
      "2024-03-25 20:46:00,988 INFO sqlalchemy.engine.Engine [no key 0.00044s] ()\n",
      "2024-03-25 20:46:00,990 INFO sqlalchemy.engine.Engine \n",
      "DROP TABLE customer\n",
      "2024-03-25 20:46:00,991 INFO sqlalchemy.engine.Engine [no key 0.00038s] ()\n",
      "2024-03-25 20:46:00,993 INFO sqlalchemy.engine.Engine \n",
      "DROP TABLE employee\n",
      "2024-03-25 20:46:00,993 INFO sqlalchemy.engine.Engine [no key 0.00047s] ()\n",
      "2024-03-25 20:46:00,996 INFO sqlalchemy.engine.Engine COMMIT\n"
     ]
    }
   ],
   "source": [
    "Base.metadata.drop_all(engine)"
   ]
  },
  {
   "cell_type": "code",
   "execution_count": 44,
   "metadata": {},
   "outputs": [
    {
     "name": "stdout",
     "output_type": "stream",
     "text": [
      "2024-03-25 20:46:01,001 INFO sqlalchemy.engine.Engine BEGIN (implicit)\n",
      "2024-03-25 20:46:01,002 INFO sqlalchemy.engine.Engine PRAGMA main.table_info(\"employee\")\n",
      "2024-03-25 20:46:01,002 INFO sqlalchemy.engine.Engine [raw sql] ()\n",
      "2024-03-25 20:46:01,003 INFO sqlalchemy.engine.Engine PRAGMA temp.table_info(\"employee\")\n",
      "2024-03-25 20:46:01,003 INFO sqlalchemy.engine.Engine [raw sql] ()\n",
      "2024-03-25 20:46:01,004 INFO sqlalchemy.engine.Engine PRAGMA main.table_info(\"customer\")\n",
      "2024-03-25 20:46:01,004 INFO sqlalchemy.engine.Engine [raw sql] ()\n",
      "2024-03-25 20:46:01,005 INFO sqlalchemy.engine.Engine PRAGMA temp.table_info(\"customer\")\n",
      "2024-03-25 20:46:01,005 INFO sqlalchemy.engine.Engine [raw sql] ()\n",
      "2024-03-25 20:46:01,006 INFO sqlalchemy.engine.Engine PRAGMA main.table_info(\"order\")\n",
      "2024-03-25 20:46:01,007 INFO sqlalchemy.engine.Engine [raw sql] ()\n",
      "2024-03-25 20:46:01,007 INFO sqlalchemy.engine.Engine PRAGMA temp.table_info(\"order\")\n",
      "2024-03-25 20:46:01,008 INFO sqlalchemy.engine.Engine [raw sql] ()\n",
      "2024-03-25 20:46:01,008 INFO sqlalchemy.engine.Engine PRAGMA main.table_info(\"order_detail\")\n",
      "2024-03-25 20:46:01,009 INFO sqlalchemy.engine.Engine [raw sql] ()\n",
      "2024-03-25 20:46:01,009 INFO sqlalchemy.engine.Engine PRAGMA temp.table_info(\"order_detail\")\n",
      "2024-03-25 20:46:01,010 INFO sqlalchemy.engine.Engine [raw sql] ()\n",
      "2024-03-25 20:46:01,010 INFO sqlalchemy.engine.Engine PRAGMA main.table_info(\"product\")\n",
      "2024-03-25 20:46:01,011 INFO sqlalchemy.engine.Engine [raw sql] ()\n",
      "2024-03-25 20:46:01,011 INFO sqlalchemy.engine.Engine PRAGMA temp.table_info(\"product\")\n",
      "2024-03-25 20:46:01,012 INFO sqlalchemy.engine.Engine [raw sql] ()\n",
      "2024-03-25 20:46:01,013 INFO sqlalchemy.engine.Engine \n",
      "CREATE TABLE employee (\n",
      "\temployee_id INTEGER NOT NULL, \n",
      "\tmanager_id INTEGER, \n",
      "\tname VARCHAR(127) NOT NULL CONSTRAINT name_length_must_be_at_least_one_character CHECK (length(name)>0), \n",
      "\tis_manager BOOLEAN NOT NULL, \n",
      "\thire_date DATE NOT NULL, \n",
      "\tPRIMARY KEY (employee_id), \n",
      "\tFOREIGN KEY(manager_id) REFERENCES employee (employee_id)\n",
      ")\n",
      "\n",
      "\n",
      "2024-03-25 20:46:01,014 INFO sqlalchemy.engine.Engine [no key 0.00037s] ()\n",
      "2024-03-25 20:46:01,016 INFO sqlalchemy.engine.Engine \n",
      "CREATE TABLE customer (\n",
      "\tcustomer_id INTEGER NOT NULL, \n",
      "\tfirst_name VARCHAR(127) NOT NULL, \n",
      "\tlast_name VARCHAR(127) NOT NULL, \n",
      "\taddress VARCHAR(255) NOT NULL, \n",
      "\temail VARCHAR(127) NOT NULL, \n",
      "\tPRIMARY KEY (customer_id), \n",
      "\tUNIQUE (email)\n",
      ")\n",
      "\n",
      "\n",
      "2024-03-25 20:46:01,017 INFO sqlalchemy.engine.Engine [no key 0.00038s] ()\n",
      "2024-03-25 20:46:01,019 INFO sqlalchemy.engine.Engine CREATE INDEX customer_full_name ON customer (first_name, last_name)\n",
      "2024-03-25 20:46:01,019 INFO sqlalchemy.engine.Engine [no key 0.00064s] ()\n",
      "2024-03-25 20:46:01,022 INFO sqlalchemy.engine.Engine \n",
      "CREATE TABLE product (\n",
      "\tproduct_id INTEGER NOT NULL, \n",
      "\tproduct_name VARCHAR(255) NOT NULL, \n",
      "\tunit_price NUMERIC(12, 2) NOT NULL CHECK (unit_price>0), \n",
      "\tunits_in_stock INTEGER NOT NULL CHECK (units_in_stock>=0), \n",
      "\ttype VARCHAR(9) NOT NULL, \n",
      "\tPRIMARY KEY (product_id)\n",
      ")\n",
      "\n",
      "\n",
      "2024-03-25 20:46:01,023 INFO sqlalchemy.engine.Engine [no key 0.00090s] ()\n",
      "2024-03-25 20:46:01,026 INFO sqlalchemy.engine.Engine CREATE INDEX ix_product_product_name ON product (product_name)\n",
      "2024-03-25 20:46:01,026 INFO sqlalchemy.engine.Engine [no key 0.00043s] ()\n",
      "2024-03-25 20:46:01,029 INFO sqlalchemy.engine.Engine \n",
      "CREATE TABLE \"order\" (\n",
      "\torder_id INTEGER NOT NULL, \n",
      "\tcustomer_id INTEGER NOT NULL, \n",
      "\temployee_id INTEGER, \n",
      "\torder_datetime DATETIME NOT NULL, \n",
      "\tis_shipped BOOLEAN NOT NULL, \n",
      "\tPRIMARY KEY (order_id), \n",
      "\tFOREIGN KEY(customer_id) REFERENCES customer (customer_id), \n",
      "\tFOREIGN KEY(employee_id) REFERENCES employee (employee_id)\n",
      ")\n",
      "\n",
      "\n",
      "2024-03-25 20:46:01,029 INFO sqlalchemy.engine.Engine [no key 0.00040s] ()\n",
      "2024-03-25 20:46:01,032 INFO sqlalchemy.engine.Engine \n",
      "CREATE TABLE order_detail (\n",
      "\torder_id INTEGER NOT NULL, \n",
      "\tproduct_id INTEGER NOT NULL, \n",
      "\tquantity INTEGER NOT NULL CONSTRAINT num_of_ordered_item_must_be_positive CHECK (quantity>0), \n",
      "\tPRIMARY KEY (order_id, product_id), \n",
      "\tFOREIGN KEY(order_id) REFERENCES \"order\" (order_id) ON DELETE CASCADE, \n",
      "\tFOREIGN KEY(product_id) REFERENCES product (product_id)\n",
      ")\n",
      "\n",
      "\n",
      "2024-03-25 20:46:01,032 INFO sqlalchemy.engine.Engine [no key 0.00050s] ()\n",
      "2024-03-25 20:46:01,035 INFO sqlalchemy.engine.Engine COMMIT\n"
     ]
    }
   ],
   "source": [
    "Base.metadata.create_all(engine)"
   ]
  }
 ],
 "metadata": {
  "kernelspec": {
   "display_name": "mybook_py310",
   "language": "python",
   "name": "python3"
  },
  "language_info": {
   "codemirror_mode": {
    "name": "ipython",
    "version": 3
   },
   "file_extension": ".py",
   "mimetype": "text/x-python",
   "name": "python",
   "nbconvert_exporter": "python",
   "pygments_lexer": "ipython3",
   "version": "3.10.10"
  }
 },
 "nbformat": 4,
 "nbformat_minor": 2
}
