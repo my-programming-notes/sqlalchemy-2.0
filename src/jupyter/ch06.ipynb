{
 "cells": [
  {
   "cell_type": "markdown",
   "metadata": {},
   "source": [
    "# Chapter 6: Updating and Deleting Data"
   ]
  },
  {
   "cell_type": "markdown",
   "metadata": {},
   "source": [
    "For a database reset, delete \"store.db\" and re-run ch04.ipynb."
   ]
  },
  {
   "cell_type": "code",
   "execution_count": 218,
   "metadata": {},
   "outputs": [
    {
     "name": "stdout",
     "output_type": "stream",
     "text": [
      "2024-03-22 11:50:17,832 INFO sqlalchemy.engine.Engine BEGIN (implicit)\n",
      "2024-03-22 11:50:17,832 INFO sqlalchemy.engine.Engine PRAGMA main.table_info(\"employee\")\n",
      "2024-03-22 11:50:17,833 INFO sqlalchemy.engine.Engine [raw sql] ()\n",
      "2024-03-22 11:50:17,834 INFO sqlalchemy.engine.Engine PRAGMA main.table_info(\"product\")\n",
      "2024-03-22 11:50:17,834 INFO sqlalchemy.engine.Engine [raw sql] ()\n",
      "2024-03-22 11:50:17,835 INFO sqlalchemy.engine.Engine PRAGMA main.table_info(\"customer\")\n",
      "2024-03-22 11:50:17,835 INFO sqlalchemy.engine.Engine [raw sql] ()\n",
      "2024-03-22 11:50:17,836 INFO sqlalchemy.engine.Engine PRAGMA main.table_info(\"order\")\n",
      "2024-03-22 11:50:17,836 INFO sqlalchemy.engine.Engine [raw sql] ()\n",
      "2024-03-22 11:50:17,836 INFO sqlalchemy.engine.Engine PRAGMA main.table_info(\"order_detail\")\n",
      "2024-03-22 11:50:17,837 INFO sqlalchemy.engine.Engine [raw sql] ()\n",
      "2024-03-22 11:50:17,837 INFO sqlalchemy.engine.Engine COMMIT\n"
     ]
    }
   ],
   "source": [
    "%run -i 'ch03.ipynb'"
   ]
  },
  {
   "cell_type": "markdown",
   "metadata": {},
   "source": [
    "Necessary imports for this chapter:"
   ]
  },
  {
   "cell_type": "code",
   "execution_count": 219,
   "metadata": {},
   "outputs": [],
   "source": [
    "from sqlalchemy import Connection, bindparam, delete, insert, select, update\n",
    "from sqlalchemy.exc import IntegrityError, SQLAlchemyError, StatementError"
   ]
  },
  {
   "cell_type": "markdown",
   "metadata": {},
   "source": [
    "Get a connection:"
   ]
  },
  {
   "cell_type": "code",
   "execution_count": 220,
   "metadata": {},
   "outputs": [],
   "source": [
    "conn = engine.connect()"
   ]
  },
  {
   "cell_type": "markdown",
   "metadata": {},
   "source": [
    "Function for reducing product inventory:"
   ]
  },
  {
   "cell_type": "code",
   "execution_count": 221,
   "metadata": {},
   "outputs": [],
   "source": [
    "def decrement_product(\n",
    "        conn: Connection,\n",
    "        product_id: int,\n",
    "        quantity: int = 1,\n",
    "):\n",
    "    stmt = (\n",
    "        update(product)\n",
    "        .where(product.c.product_id == product_id)\n",
    "        .values(units_in_stock=product.c.units_in_stock - quantity)\n",
    "    )\n",
    "    conn.execute(stmt)\n",
    "    conn.commit()"
   ]
  },
  {
   "cell_type": "markdown",
   "metadata": {},
   "source": [
    "Reduce the stock of cameras by one:"
   ]
  },
  {
   "cell_type": "code",
   "execution_count": 222,
   "metadata": {},
   "outputs": [
    {
     "name": "stdout",
     "output_type": "stream",
     "text": [
      "2024-03-22 11:50:17,874 INFO sqlalchemy.engine.Engine BEGIN (implicit)\n",
      "2024-03-22 11:50:17,875 INFO sqlalchemy.engine.Engine UPDATE product SET units_in_stock=(product.units_in_stock - ?) WHERE product.product_id = ?\n",
      "2024-03-22 11:50:17,876 INFO sqlalchemy.engine.Engine [generated in 0.00200s] (1, 4)\n",
      "2024-03-22 11:50:17,877 INFO sqlalchemy.engine.Engine COMMIT\n"
     ]
    }
   ],
   "source": [
    "decrement_product(conn, 4)  # camera ID = 4"
   ]
  },
  {
   "cell_type": "markdown",
   "metadata": {},
   "source": [
    "Checking the result (with an additional query):"
   ]
  },
  {
   "cell_type": "code",
   "execution_count": 223,
   "metadata": {},
   "outputs": [
    {
     "name": "stdout",
     "output_type": "stream",
     "text": [
      "2024-03-22 11:50:17,886 INFO sqlalchemy.engine.Engine BEGIN (implicit)\n",
      "2024-03-22 11:50:17,887 INFO sqlalchemy.engine.Engine SELECT product.units_in_stock \n",
      "FROM product \n",
      "WHERE product.product_id = ?\n",
      "2024-03-22 11:50:17,887 INFO sqlalchemy.engine.Engine [generated in 0.00160s] (4,)\n"
     ]
    }
   ],
   "source": [
    "stmt = (\n",
    "    select(product.c.units_in_stock)\n",
    "    .where(product.c.product_id == 4)\n",
    ")\n",
    "result = conn.scalar(stmt)"
   ]
  },
  {
   "cell_type": "code",
   "execution_count": 224,
   "metadata": {},
   "outputs": [
    {
     "name": "stdout",
     "output_type": "stream",
     "text": [
      "4\n"
     ]
    }
   ],
   "source": [
    "print(result)"
   ]
  },
  {
   "cell_type": "markdown",
   "metadata": {},
   "source": [
    "Using RETURNING with UPDATE:"
   ]
  },
  {
   "cell_type": "code",
   "execution_count": 225,
   "metadata": {},
   "outputs": [],
   "source": [
    "def decrement_product_and_return(\n",
    "    conn: Connection,\n",
    "    product_id: int,\n",
    "    quantity: int = 1,\n",
    "):\n",
    "    stmt = (\n",
    "        update(product)\n",
    "        .where(product.c.product_id == product_id)\n",
    "        .values(units_in_stock=product.c.units_in_stock - quantity)\n",
    "        .returning(product.c.product_name, product.c.units_in_stock)\n",
    "    )\n",
    "\n",
    "    print(\"STMT:\", stmt)\n",
    "\n",
    "    result = conn.execute(stmt)\n",
    "    decremented = result.first()\n",
    "    conn.commit()\n",
    "\n",
    "    return decremented"
   ]
  },
  {
   "cell_type": "code",
   "execution_count": 226,
   "metadata": {},
   "outputs": [
    {
     "name": "stdout",
     "output_type": "stream",
     "text": [
      "STMT: UPDATE product SET units_in_stock=(product.units_in_stock - :units_in_stock_1) WHERE product.product_id = :product_id_1 RETURNING product.product_name, product.units_in_stock\n",
      "2024-03-22 11:50:17,907 INFO sqlalchemy.engine.Engine UPDATE product SET units_in_stock=(product.units_in_stock - ?) WHERE product.product_id = ? RETURNING product_name, units_in_stock\n",
      "2024-03-22 11:50:17,907 INFO sqlalchemy.engine.Engine [generated in 0.00094s] (1, 4)\n",
      "2024-03-22 11:50:17,908 INFO sqlalchemy.engine.Engine COMMIT\n"
     ]
    }
   ],
   "source": [
    "decremented_product = decrement_product_and_return(conn, 4)"
   ]
  },
  {
   "cell_type": "code",
   "execution_count": 227,
   "metadata": {},
   "outputs": [
    {
     "name": "stdout",
     "output_type": "stream",
     "text": [
      "('digital camera', 3)\n"
     ]
    }
   ],
   "source": [
    "print(decremented_product)"
   ]
  },
  {
   "cell_type": "markdown",
   "metadata": {},
   "source": [
    "Update multiple rows at once with \"executemany\":"
   ]
  },
  {
   "cell_type": "code",
   "execution_count": 228,
   "metadata": {},
   "outputs": [],
   "source": [
    "def restore_inventory(conn: Connection):\n",
    "    stmt = (\n",
    "        update(product)\n",
    "        .where(product.c.product_id == bindparam(\"id\"))\n",
    "        .values(units_in_stock=bindparam(\"units\"))\n",
    "    )\n",
    "\n",
    "    result = conn.execute(\n",
    "        stmt,\n",
    "        [\n",
    "            {\"id\": 1, \"units\": 5},\n",
    "            {\"id\": 2, \"units\": 10},\n",
    "            {\"id\": 3, \"units\": 10},\n",
    "            {\"id\": 4, \"units\": 5},\n",
    "            {\"id\": 5, \"units\": 1},\n",
    "        ],\n",
    "    )\n",
    "    conn.commit()\n",
    "    print(f\"Matching rows: {result.rowcount}\")"
   ]
  },
  {
   "cell_type": "code",
   "execution_count": 229,
   "metadata": {},
   "outputs": [
    {
     "name": "stdout",
     "output_type": "stream",
     "text": [
      "2024-03-22 11:50:17,927 INFO sqlalchemy.engine.Engine BEGIN (implicit)\n",
      "2024-03-22 11:50:17,928 INFO sqlalchemy.engine.Engine UPDATE product SET units_in_stock=? WHERE product.product_id = ?\n",
      "2024-03-22 11:50:17,928 INFO sqlalchemy.engine.Engine [generated in 0.00111s] [(5, 1), (10, 2), (10, 3), (5, 4), (1, 5)]\n",
      "2024-03-22 11:50:17,929 INFO sqlalchemy.engine.Engine COMMIT\n",
      "Matching rows: 5\n"
     ]
    }
   ],
   "source": [
    "restore_inventory(conn)"
   ]
  },
  {
   "cell_type": "markdown",
   "metadata": {},
   "source": [
    "## Common Exceptions and Error Handling"
   ]
  },
  {
   "cell_type": "markdown",
   "metadata": {},
   "source": [
    "IntegrityError:"
   ]
  },
  {
   "cell_type": "code",
   "execution_count": 230,
   "metadata": {},
   "outputs": [],
   "source": [
    "def update_exception(conn: Connection):\n",
    "    stmt = update(product).values(units_in_stock=-1)\n",
    "    conn.execute(stmt)"
   ]
  },
  {
   "cell_type": "markdown",
   "metadata": {},
   "source": [
    "This will result in an error (uncomment to see):"
   ]
  },
  {
   "cell_type": "code",
   "execution_count": 231,
   "metadata": {},
   "outputs": [],
   "source": [
    "# update_exception(conn)"
   ]
  },
  {
   "cell_type": "markdown",
   "metadata": {},
   "source": [
    "Adding error handling:"
   ]
  },
  {
   "cell_type": "code",
   "execution_count": 232,
   "metadata": {},
   "outputs": [
    {
     "name": "stdout",
     "output_type": "stream",
     "text": [
      "2024-03-22 11:50:17,945 INFO sqlalchemy.engine.Engine BEGIN (implicit)\n",
      "2024-03-22 11:50:17,946 INFO sqlalchemy.engine.Engine UPDATE product SET units_in_stock=?\n",
      "2024-03-22 11:50:17,946 INFO sqlalchemy.engine.Engine [generated in 0.00096s] (-1,)\n",
      "Some IntegrityError occurred!\n",
      "(sqlite3.IntegrityError) CHECK constraint failed: units_in_stock>=0\n",
      "[SQL: UPDATE product SET units_in_stock=?]\n",
      "[parameters: (-1,)]\n",
      "(Background on this error at: https://sqlalche.me/e/20/gkpj)\n"
     ]
    }
   ],
   "source": [
    "try:\n",
    "    update_exception(conn)\n",
    "except SQLAlchemyError as e:\n",
    "    print(f\"Some {type(e).__name__} occurred!\")\n",
    "    print(e)"
   ]
  },
  {
   "cell_type": "markdown",
   "metadata": {},
   "source": [
    "The `IntegrityError` class extends `StatementError`, so you can be more specific and do the following:"
   ]
  },
  {
   "cell_type": "code",
   "execution_count": 233,
   "metadata": {},
   "outputs": [
    {
     "name": "stdout",
     "output_type": "stream",
     "text": [
      "2024-03-22 11:50:17,952 INFO sqlalchemy.engine.Engine UPDATE product SET units_in_stock=?\n",
      "2024-03-22 11:50:17,952 INFO sqlalchemy.engine.Engine [cached since 0.006846s ago] (-1,)\n",
      "# StatementError type: IntegrityError\n",
      "statement: UPDATE product SET units_in_stock=?\n",
      "params: (-1,)\n",
      "orig: CHECK constraint failed: units_in_stock>=0\n"
     ]
    }
   ],
   "source": [
    "try:\n",
    "    update_exception(conn)\n",
    "except StatementError as e:\n",
    "    print(\"# StatementError type:\", type(e).__name__)\n",
    "    print(\"statement:\", e.statement)\n",
    "    print(\"params:\", e.params)\n",
    "    print(\"orig:\", e.orig)\n",
    "except SQLAlchemyError as e:\n",
    "    print(\"# Exception type:\", type(e).__name__)\n",
    "    print(e)"
   ]
  },
  {
   "cell_type": "markdown",
   "metadata": {},
   "source": [
    "Of course, you can handle the `IntegrityError` directly:"
   ]
  },
  {
   "cell_type": "code",
   "execution_count": 234,
   "metadata": {},
   "outputs": [
    {
     "name": "stdout",
     "output_type": "stream",
     "text": [
      "2024-03-22 11:50:17,958 INFO sqlalchemy.engine.Engine UPDATE product SET units_in_stock=?\n",
      "2024-03-22 11:50:17,958 INFO sqlalchemy.engine.Engine [cached since 0.01281s ago] (-1,)\n",
      "An IntegrityError occurred!\n"
     ]
    }
   ],
   "source": [
    "try:\n",
    "    update_exception(conn)\n",
    "except IntegrityError as e:\n",
    "    print('An IntegrityError occurred!')\n",
    "    # TODO: handle your integrity errors here\n",
    "except StatementError as e:\n",
    "    print(\"# StatementError type:\", type(e).__name__)\n",
    "    print(\"statement:\", e.statement)\n",
    "    print(\"params:\", e.params)\n",
    "    print(\"orig:\", e.orig)\n",
    "except SQLAlchemyError as e:\n",
    "    print(\"# Exception type:\", type(e).__name__)\n",
    "    print(e)"
   ]
  },
  {
   "cell_type": "markdown",
   "metadata": {},
   "source": [
    "To reuse this connection, you need to rollback the current transaction:"
   ]
  },
  {
   "cell_type": "code",
   "execution_count": 235,
   "metadata": {},
   "outputs": [
    {
     "name": "stdout",
     "output_type": "stream",
     "text": [
      "2024-03-22 11:50:17,963 INFO sqlalchemy.engine.Engine ROLLBACK\n"
     ]
    }
   ],
   "source": [
    "conn.rollback() # necessary if you want to reuse the same connection"
   ]
  },
  {
   "cell_type": "markdown",
   "metadata": {},
   "source": [
    "Closing the connection:"
   ]
  },
  {
   "cell_type": "code",
   "execution_count": 236,
   "metadata": {},
   "outputs": [],
   "source": [
    "conn.close()"
   ]
  },
  {
   "cell_type": "markdown",
   "metadata": {},
   "source": [
    "## Transactions"
   ]
  },
  {
   "cell_type": "markdown",
   "metadata": {},
   "source": [
    "commit as you go:"
   ]
  },
  {
   "cell_type": "code",
   "execution_count": 237,
   "metadata": {},
   "outputs": [
    {
     "name": "stdout",
     "output_type": "stream",
     "text": [
      "2024-03-22 11:50:17,972 INFO sqlalchemy.engine.Engine BEGIN (implicit)\n",
      "2024-03-22 11:50:17,973 INFO sqlalchemy.engine.Engine INSERT INTO employee (name, is_manager, hire_date) VALUES (?, ?, ?)\n",
      "2024-03-22 11:50:17,973 INFO sqlalchemy.engine.Engine [generated in 0.00095s] ('Amelia', 0, '2024-03-22')\n",
      "2024-03-22 11:50:17,974 INFO sqlalchemy.engine.Engine COMMIT\n",
      "2024-03-22 11:50:17,976 INFO sqlalchemy.engine.Engine BEGIN (implicit)\n",
      "2024-03-22 11:50:17,977 INFO sqlalchemy.engine.Engine INSERT INTO employee (name, is_manager, hire_date) VALUES (?, ?, ?)\n",
      "2024-03-22 11:50:17,977 INFO sqlalchemy.engine.Engine [cached since 0.005331s ago] ('Brian', 0, '2024-03-22')\n",
      "2024-03-22 11:50:17,978 INFO sqlalchemy.engine.Engine ROLLBACK\n",
      "2024-03-22 11:50:17,979 INFO sqlalchemy.engine.Engine BEGIN (implicit)\n",
      "2024-03-22 11:50:17,979 INFO sqlalchemy.engine.Engine INSERT INTO employee (name, is_manager, hire_date) VALUES (?, ?, ?)\n",
      "2024-03-22 11:50:17,980 INFO sqlalchemy.engine.Engine [cached since 0.00799s ago] ('Charlotte', 0, '2024-03-22')\n",
      "2024-03-22 11:50:17,981 INFO sqlalchemy.engine.Engine COMMIT\n"
     ]
    }
   ],
   "source": [
    "with engine.connect() as conn:\n",
    "    stmt = insert(employee).values(name=\"Amelia\")\n",
    "    conn.execute(stmt)  # transaction 1 begins automatically\n",
    "    conn.commit()  # transaction 1 committed, Amelia is hired!\n",
    "\n",
    "    stmt = insert(employee).values(name=\"Brian\")\n",
    "    conn.execute(stmt)  # new transaction 2 begins\n",
    "    conn.rollback()  # transaction 2 is rolled back\n",
    "\n",
    "    stmt = insert(employee).values(name=\"Charlotte\")\n",
    "    conn.execute(stmt)  # another new transaction 3 begins\n",
    "    conn.commit()  # transaction 3 committed, Charlotte is hired!"
   ]
  },
  {
   "cell_type": "markdown",
   "metadata": {},
   "source": [
    "Begin once (`Engine.begin()`):"
   ]
  },
  {
   "cell_type": "code",
   "execution_count": 238,
   "metadata": {},
   "outputs": [
    {
     "name": "stdout",
     "output_type": "stream",
     "text": [
      "2024-03-22 11:50:17,988 INFO sqlalchemy.engine.Engine BEGIN (implicit)\n",
      "2024-03-22 11:50:17,988 INFO sqlalchemy.engine.Engine INSERT INTO employee (name, is_manager, hire_date) VALUES (?, ?, ?)\n",
      "2024-03-22 11:50:17,989 INFO sqlalchemy.engine.Engine [cached since 0.01683s ago] ('Daniel', 0, '2024-03-22')\n",
      "2024-03-22 11:50:17,990 INFO sqlalchemy.engine.Engine INSERT INTO employee (name, is_manager, hire_date) VALUES (?, ?, ?)\n",
      "2024-03-22 11:50:17,990 INFO sqlalchemy.engine.Engine [cached since 0.01789s ago] ('Emily', 0, '2024-03-22')\n",
      "2024-03-22 11:50:17,990 INFO sqlalchemy.engine.Engine COMMIT\n"
     ]
    }
   ],
   "source": [
    "with engine.begin() as conn:\n",
    "    stmt = insert(employee).values(name=\"Daniel\")\n",
    "    conn.execute(stmt)\n",
    "    stmt = insert(employee).values(name=\"Emily\")\n",
    "    conn.execute(stmt)\n",
    "    # the transaction is committed implicitly at the end of this block"
   ]
  },
  {
   "cell_type": "markdown",
   "metadata": {},
   "source": [
    "Example: Order Processing"
   ]
  },
  {
   "cell_type": "code",
   "execution_count": 239,
   "metadata": {},
   "outputs": [],
   "source": [
    "conn = engine.connect()"
   ]
  },
  {
   "cell_type": "code",
   "execution_count": 240,
   "metadata": {},
   "outputs": [],
   "source": [
    "def process_order(conn: Connection, order_id: int):\n",
    "    print(f\"# Processing order {order_id}.\")\n",
    "\n",
    "    # check if the order is already processed\n",
    "    stmt = (\n",
    "        select(order.c.is_shipped)\n",
    "        .where(order.c.order_id == order_id)\n",
    "    )\n",
    "    is_shipped = conn.scalar(stmt)\n",
    "    if is_shipped:\n",
    "        print(\"The order is already shipped.\")\n",
    "        return\n",
    "\n",
    "    # order is not shipped, process it\n",
    "    # get the order details: (product_id, quantity)\n",
    "    stmt = (\n",
    "        select(order_detail.c.product_id, order_detail.c.quantity)\n",
    "        .where(order_detail.c.order_id == order_id)\n",
    "    )\n",
    "    result = conn.execute(stmt)\n",
    "\n",
    "    # process each product ordered\n",
    "    update_success = True\n",
    "    for product_id, quantity in result:\n",
    "        print(f\"Processing product {product_id} x{quantity}.\")\n",
    "        try:\n",
    "            stmt_update = (\n",
    "                update(product)\n",
    "                .where(product.c.product_id == product_id)\n",
    "                # you can also check for negative values\n",
    "                .values(units_in_stock=product.c.units_in_stock - quantity)\n",
    "            )\n",
    "            conn.execute(stmt_update)\n",
    "        except IntegrityError as e:\n",
    "            print(\"An error occurred while updating product's units in stock!\")\n",
    "            print(e.orig)\n",
    "\n",
    "            # to continue using the same connection for further operations,\n",
    "            # roll back the current transaction\n",
    "            print(\"Rolling back transaction...\")\n",
    "            conn.rollback()\n",
    "\n",
    "            update_success = False\n",
    "            break\n",
    "\n",
    "    if update_success:\n",
    "        stmt_update = (\n",
    "            update(order)\n",
    "            .where(order.c.order_id == order_id)\n",
    "            .values(is_shipped=True)\n",
    "        )\n",
    "        conn.execute(stmt_update)\n",
    "\n",
    "        # commit explicitly in commit-as-you-go\n",
    "        conn.commit()"
   ]
  },
  {
   "cell_type": "code",
   "execution_count": 241,
   "metadata": {},
   "outputs": [
    {
     "name": "stdout",
     "output_type": "stream",
     "text": [
      "# Processing order 1.\n",
      "2024-03-22 11:50:18,008 INFO sqlalchemy.engine.Engine BEGIN (implicit)\n",
      "2024-03-22 11:50:18,009 INFO sqlalchemy.engine.Engine SELECT \"order\".is_shipped \n",
      "FROM \"order\" \n",
      "WHERE \"order\".order_id = ?\n",
      "2024-03-22 11:50:18,009 INFO sqlalchemy.engine.Engine [generated in 0.00127s] (1,)\n",
      "2024-03-22 11:50:18,010 INFO sqlalchemy.engine.Engine SELECT order_detail.product_id, order_detail.quantity \n",
      "FROM order_detail \n",
      "WHERE order_detail.order_id = ?\n",
      "2024-03-22 11:50:18,010 INFO sqlalchemy.engine.Engine [generated in 0.00030s] (1,)\n",
      "Processing product 1 x1.\n",
      "2024-03-22 11:50:18,011 INFO sqlalchemy.engine.Engine UPDATE product SET units_in_stock=(product.units_in_stock - ?) WHERE product.product_id = ?\n",
      "2024-03-22 11:50:18,011 INFO sqlalchemy.engine.Engine [cached since 0.1372s ago] (1, 1)\n",
      "Processing product 2 x1.\n",
      "2024-03-22 11:50:18,012 INFO sqlalchemy.engine.Engine UPDATE product SET units_in_stock=(product.units_in_stock - ?) WHERE product.product_id = ?\n",
      "2024-03-22 11:50:18,012 INFO sqlalchemy.engine.Engine [cached since 0.1382s ago] (1, 2)\n",
      "Processing product 3 x1.\n",
      "2024-03-22 11:50:18,013 INFO sqlalchemy.engine.Engine UPDATE product SET units_in_stock=(product.units_in_stock - ?) WHERE product.product_id = ?\n",
      "2024-03-22 11:50:18,013 INFO sqlalchemy.engine.Engine [cached since 0.1389s ago] (1, 3)\n",
      "2024-03-22 11:50:18,014 INFO sqlalchemy.engine.Engine UPDATE \"order\" SET is_shipped=? WHERE \"order\".order_id = ?\n",
      "2024-03-22 11:50:18,014 INFO sqlalchemy.engine.Engine [generated in 0.00029s] (1, 1)\n",
      "2024-03-22 11:50:18,014 INFO sqlalchemy.engine.Engine COMMIT\n"
     ]
    }
   ],
   "source": [
    "process_order(conn, 1)  # success"
   ]
  },
  {
   "cell_type": "code",
   "execution_count": 242,
   "metadata": {},
   "outputs": [
    {
     "name": "stdout",
     "output_type": "stream",
     "text": [
      "# Processing order 2.\n",
      "2024-03-22 11:50:18,021 INFO sqlalchemy.engine.Engine BEGIN (implicit)\n",
      "2024-03-22 11:50:18,021 INFO sqlalchemy.engine.Engine SELECT \"order\".is_shipped \n",
      "FROM \"order\" \n",
      "WHERE \"order\".order_id = ?\n",
      "2024-03-22 11:50:18,021 INFO sqlalchemy.engine.Engine [cached since 0.01361s ago] (2,)\n",
      "2024-03-22 11:50:18,022 INFO sqlalchemy.engine.Engine SELECT order_detail.product_id, order_detail.quantity \n",
      "FROM order_detail \n",
      "WHERE order_detail.order_id = ?\n",
      "2024-03-22 11:50:18,023 INFO sqlalchemy.engine.Engine [cached since 0.01267s ago] (2,)\n",
      "Processing product 5 x1.\n",
      "2024-03-22 11:50:18,023 INFO sqlalchemy.engine.Engine UPDATE product SET units_in_stock=(product.units_in_stock - ?) WHERE product.product_id = ?\n",
      "2024-03-22 11:50:18,024 INFO sqlalchemy.engine.Engine [cached since 0.15s ago] (1, 5)\n",
      "2024-03-22 11:50:18,024 INFO sqlalchemy.engine.Engine UPDATE \"order\" SET is_shipped=? WHERE \"order\".order_id = ?\n",
      "2024-03-22 11:50:18,025 INFO sqlalchemy.engine.Engine [cached since 0.01114s ago] (1, 2)\n",
      "2024-03-22 11:50:18,025 INFO sqlalchemy.engine.Engine COMMIT\n"
     ]
    }
   ],
   "source": [
    "process_order(conn, 2)  # success"
   ]
  },
  {
   "cell_type": "code",
   "execution_count": 243,
   "metadata": {},
   "outputs": [
    {
     "name": "stdout",
     "output_type": "stream",
     "text": [
      "# Processing order 3.\n",
      "2024-03-22 11:50:18,032 INFO sqlalchemy.engine.Engine BEGIN (implicit)\n",
      "2024-03-22 11:50:18,032 INFO sqlalchemy.engine.Engine SELECT \"order\".is_shipped \n",
      "FROM \"order\" \n",
      "WHERE \"order\".order_id = ?\n",
      "2024-03-22 11:50:18,033 INFO sqlalchemy.engine.Engine [cached since 0.02471s ago] (3,)\n",
      "2024-03-22 11:50:18,033 INFO sqlalchemy.engine.Engine SELECT order_detail.product_id, order_detail.quantity \n",
      "FROM order_detail \n",
      "WHERE order_detail.order_id = ?\n",
      "2024-03-22 11:50:18,034 INFO sqlalchemy.engine.Engine [cached since 0.02387s ago] (3,)\n",
      "Processing product 4 x1.\n",
      "2024-03-22 11:50:18,035 INFO sqlalchemy.engine.Engine UPDATE product SET units_in_stock=(product.units_in_stock - ?) WHERE product.product_id = ?\n",
      "2024-03-22 11:50:18,035 INFO sqlalchemy.engine.Engine [cached since 0.161s ago] (1, 4)\n",
      "Processing product 5 x2.\n",
      "2024-03-22 11:50:18,036 INFO sqlalchemy.engine.Engine UPDATE product SET units_in_stock=(product.units_in_stock - ?) WHERE product.product_id = ?\n",
      "2024-03-22 11:50:18,036 INFO sqlalchemy.engine.Engine [cached since 0.1622s ago] (2, 5)\n",
      "An error occurred while updating product's units in stock!\n",
      "CHECK constraint failed: units_in_stock>=0\n",
      "Rolling back transaction...\n",
      "2024-03-22 11:50:18,037 INFO sqlalchemy.engine.Engine ROLLBACK\n"
     ]
    }
   ],
   "source": [
    "process_order(conn, 3)  # this will fail"
   ]
  },
  {
   "cell_type": "markdown",
   "metadata": {},
   "source": [
    "Function for printing order and product status:"
   ]
  },
  {
   "cell_type": "code",
   "execution_count": 244,
   "metadata": {},
   "outputs": [],
   "source": [
    "def print_order_and_product_status(conn: Connection):\n",
    "    print(\"# Order status:\")\n",
    "    stmt = (\n",
    "        select(order.c.order_id, order.c.is_shipped)\n",
    "        .order_by(order.c.order_id)\n",
    "    )\n",
    "    for row in conn.execute(stmt):\n",
    "        print(f\"Order#{row.order_id}, shipped: {row.is_shipped}\")\n",
    "\n",
    "    print(\"# Product status:\")\n",
    "    stmt = (\n",
    "        select(\n",
    "            product.c.product_id,\n",
    "            product.c.product_name,\n",
    "            product.c.units_in_stock\n",
    "        )\n",
    "        .order_by(product.c.product_id)\n",
    "    )\n",
    "    for row in conn.execute(stmt):\n",
    "        print(f\"Product#{row[0]} {row[1]}: {row[2]}\")"
   ]
  },
  {
   "cell_type": "code",
   "execution_count": 245,
   "metadata": {},
   "outputs": [
    {
     "name": "stdout",
     "output_type": "stream",
     "text": [
      "# Order status:\n",
      "2024-03-22 11:50:18,046 INFO sqlalchemy.engine.Engine BEGIN (implicit)\n",
      "2024-03-22 11:50:18,047 INFO sqlalchemy.engine.Engine SELECT \"order\".order_id, \"order\".is_shipped \n",
      "FROM \"order\" ORDER BY \"order\".order_id\n",
      "2024-03-22 11:50:18,047 INFO sqlalchemy.engine.Engine [generated in 0.00088s] ()\n",
      "Order#1, shipped: True\n",
      "Order#2, shipped: True\n",
      "Order#3, shipped: False\n",
      "# Product status:\n",
      "2024-03-22 11:50:18,048 INFO sqlalchemy.engine.Engine SELECT product.product_id, product.product_name, product.units_in_stock \n",
      "FROM product ORDER BY product.product_id\n",
      "2024-03-22 11:50:18,048 INFO sqlalchemy.engine.Engine [generated in 0.00026s] ()\n",
      "Product#1 phone: 4\n",
      "Product#2 phone screen protector: 9\n",
      "Product#3 headphone: 9\n",
      "Product#4 digital camera: 5\n",
      "Product#5 memory card 256GB: 0\n"
     ]
    }
   ],
   "source": [
    "print_order_and_product_status(conn)"
   ]
  },
  {
   "cell_type": "markdown",
   "metadata": {},
   "source": [
    "## Deleting Data\n"
   ]
  },
  {
   "cell_type": "code",
   "execution_count": 246,
   "metadata": {},
   "outputs": [],
   "source": [
    "def delete_employee(conn: Connection, name: str):\n",
    "    stmt = (\n",
    "        delete(employee)\n",
    "        .where(employee.c.name == name)\n",
    "    )\n",
    "\n",
    "    result = conn.execute(stmt)\n",
    "    print(\"Employees selected for deletion:\", result.rowcount)\n",
    "\n",
    "    conn.commit()"
   ]
  },
  {
   "cell_type": "code",
   "execution_count": 247,
   "metadata": {},
   "outputs": [
    {
     "name": "stdout",
     "output_type": "stream",
     "text": [
      "2024-03-22 11:50:18,057 INFO sqlalchemy.engine.Engine DELETE FROM employee WHERE employee.name = ?\n",
      "2024-03-22 11:50:18,058 INFO sqlalchemy.engine.Engine [generated in 0.00054s] ('Amelia',)\n",
      "Employees selected for deletion: 1\n",
      "2024-03-22 11:50:18,059 INFO sqlalchemy.engine.Engine COMMIT\n"
     ]
    }
   ],
   "source": [
    "delete_employee(conn, \"Amelia\")"
   ]
  },
  {
   "cell_type": "markdown",
   "metadata": {},
   "source": [
    "Using RETURNING with DELETE:"
   ]
  },
  {
   "cell_type": "code",
   "execution_count": 248,
   "metadata": {},
   "outputs": [],
   "source": [
    "stmt = (\n",
    "    delete(employee)\n",
    "    .where(\n",
    "        employee.c.is_manager == False,\n",
    "        employee.c.manager_id == None,\n",
    "    )\n",
    "    .returning(\n",
    "        employee.c.employee_id,\n",
    "        employee.c.name,\n",
    "    )\n",
    ")"
   ]
  },
  {
   "cell_type": "code",
   "execution_count": 249,
   "metadata": {},
   "outputs": [
    {
     "name": "stdout",
     "output_type": "stream",
     "text": [
      "DELETE FROM employee WHERE employee.is_manager = false AND employee.manager_id IS NULL RETURNING employee.employee_id, employee.name\n"
     ]
    }
   ],
   "source": [
    "print(stmt)"
   ]
  },
  {
   "cell_type": "code",
   "execution_count": 250,
   "metadata": {},
   "outputs": [
    {
     "name": "stdout",
     "output_type": "stream",
     "text": [
      "2024-03-22 11:50:18,074 INFO sqlalchemy.engine.Engine BEGIN (implicit)\n",
      "2024-03-22 11:50:18,074 INFO sqlalchemy.engine.Engine DELETE FROM employee WHERE employee.is_manager = 0 AND employee.manager_id IS NULL RETURNING employee_id, name\n",
      "2024-03-22 11:50:18,075 INFO sqlalchemy.engine.Engine [generated in 0.00103s] ()\n",
      "Employees selected for deletion: 4\n"
     ]
    }
   ],
   "source": [
    "result = conn.execute(stmt)\n",
    "rows = result.all()\n",
    "print(\"Employees selected for deletion:\", len(rows))  # rowcount doesn't work for SQLite3, so..."
   ]
  },
  {
   "cell_type": "code",
   "execution_count": 251,
   "metadata": {},
   "outputs": [
    {
     "name": "stdout",
     "output_type": "stream",
     "text": [
      "2024-03-22 11:50:18,079 INFO sqlalchemy.engine.Engine COMMIT\n"
     ]
    }
   ],
   "source": [
    "for row in result:\n",
    "    print(row)\n",
    "\n",
    "conn.commit()"
   ]
  },
  {
   "cell_type": "markdown",
   "metadata": {},
   "source": [
    "Remember to close the connection, as always:"
   ]
  },
  {
   "cell_type": "code",
   "execution_count": 252,
   "metadata": {},
   "outputs": [],
   "source": [
    "conn.close()"
   ]
  }
 ],
 "metadata": {
  "kernelspec": {
   "display_name": "mybook_py310",
   "language": "python",
   "name": "python3"
  },
  "language_info": {
   "codemirror_mode": {
    "name": "ipython",
    "version": 3
   },
   "file_extension": ".py",
   "mimetype": "text/x-python",
   "name": "python",
   "nbconvert_exporter": "python",
   "pygments_lexer": "ipython3",
   "version": "3.10.10"
  }
 },
 "nbformat": 4,
 "nbformat_minor": 2
}
