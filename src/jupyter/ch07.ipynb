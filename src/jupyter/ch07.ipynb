{
 "cells": [
  {
   "cell_type": "markdown",
   "metadata": {},
   "source": [
    "# Chapter 7: Reflection"
   ]
  },
  {
   "cell_type": "markdown",
   "metadata": {},
   "source": [
    "To reset your database, remove \"store.db\" and re-run ch04.ipynb & ch06.ipynb."
   ]
  },
  {
   "cell_type": "markdown",
   "metadata": {},
   "source": [
    "Necessary imports:"
   ]
  },
  {
   "cell_type": "code",
   "execution_count": 18,
   "metadata": {},
   "outputs": [],
   "source": [
    "from sqlalchemy import MetaData, Table, create_engine, select, update"
   ]
  },
  {
   "cell_type": "markdown",
   "metadata": {},
   "source": [
    "Create a metadata object to store schema information:"
   ]
  },
  {
   "cell_type": "code",
   "execution_count": 19,
   "metadata": {},
   "outputs": [],
   "source": [
    "metadata = MetaData()"
   ]
  },
  {
   "cell_type": "code",
   "execution_count": 20,
   "metadata": {},
   "outputs": [],
   "source": [
    "DATABASE_URL = \"sqlite+pysqlite:///store.db\""
   ]
  },
  {
   "cell_type": "markdown",
   "metadata": {},
   "source": [
    "Create the engine object:"
   ]
  },
  {
   "cell_type": "code",
   "execution_count": 21,
   "metadata": {},
   "outputs": [],
   "source": [
    "engine = create_engine(\n",
    "    DATABASE_URL,\n",
    ")"
   ]
  },
  {
   "cell_type": "markdown",
   "metadata": {},
   "source": [
    "Reflect the product table:"
   ]
  },
  {
   "cell_type": "code",
   "execution_count": 22,
   "metadata": {},
   "outputs": [],
   "source": [
    "product = Table(\"product\", metadata, autoload_with=engine)"
   ]
  },
  {
   "cell_type": "code",
   "execution_count": 23,
   "metadata": {},
   "outputs": [
    {
     "name": "stdout",
     "output_type": "stream",
     "text": [
      "Product table columns: ['product_id', 'product_name', 'unit_price', 'units_in_stock', 'type']\n"
     ]
    }
   ],
   "source": [
    "print(\"Product table columns:\", [c.name for c in product.columns])"
   ]
  },
  {
   "cell_type": "markdown",
   "metadata": {},
   "source": [
    "Note that the product table does not contain foreign keys, so only a single table is reflected:"
   ]
  },
  {
   "cell_type": "code",
   "execution_count": 24,
   "metadata": {},
   "outputs": [
    {
     "name": "stdout",
     "output_type": "stream",
     "text": [
      "Tables in metadata: dict_keys(['product'])\n"
     ]
    }
   ],
   "source": [
    "print(\"Tables in metadata:\", metadata.tables.keys())"
   ]
  },
  {
   "cell_type": "markdown",
   "metadata": {},
   "source": [
    "List products:"
   ]
  },
  {
   "cell_type": "code",
   "execution_count": 25,
   "metadata": {},
   "outputs": [
    {
     "name": "stdout",
     "output_type": "stream",
     "text": [
      "(1, 'phone', Decimal('300.00'), 4, 'PHONE')\n",
      "(2, 'phone screen protector', Decimal('9.50'), 9, 'ACCESSORY')\n",
      "(3, 'headphone', Decimal('25.99'), 9, 'ACCESSORY')\n",
      "(4, 'digital camera', Decimal('45.99'), 5, 'OTHER')\n",
      "(5, 'memory card 256GB', Decimal('21.99'), 0, 'ACCESSORY')\n"
     ]
    }
   ],
   "source": [
    "with engine.connect() as conn:\n",
    "    stmt = (\n",
    "        select(product)\n",
    "        .order_by(product.c.product_id)\n",
    "    )\n",
    "    for row in conn.execute(stmt):\n",
    "        print(row)"
   ]
  },
  {
   "cell_type": "markdown",
   "metadata": {},
   "source": [
    "Reflecting the order table:"
   ]
  },
  {
   "cell_type": "code",
   "execution_count": 26,
   "metadata": {},
   "outputs": [],
   "source": [
    "metadata = MetaData()\n",
    "engine = create_engine(\n",
    "    DATABASE_URL,\n",
    ")\n",
    "\n",
    "order = Table(\"order\", metadata, autoload_with=engine)"
   ]
  },
  {
   "cell_type": "markdown",
   "metadata": {},
   "source": [
    "Check which tables are loaded (note that multiple tables are loaded due to FK columns):"
   ]
  },
  {
   "cell_type": "code",
   "execution_count": 27,
   "metadata": {},
   "outputs": [
    {
     "name": "stdout",
     "output_type": "stream",
     "text": [
      "Tables loaded: ['order', 'customer', 'employee']\n"
     ]
    }
   ],
   "source": [
    "print(\"Tables loaded:\", [key for key in metadata.tables.keys()])"
   ]
  },
  {
   "cell_type": "code",
   "execution_count": 28,
   "metadata": {},
   "outputs": [
    {
     "name": "stdout",
     "output_type": "stream",
     "text": [
      "Order table columns: ['order_id', 'customer_id', 'employee_id', 'order_datetime', 'is_shipped']\n"
     ]
    }
   ],
   "source": [
    "print(\"Order table columns:\", [c.name for c in order.columns])"
   ]
  },
  {
   "cell_type": "markdown",
   "metadata": {},
   "source": [
    "Employee table:"
   ]
  },
  {
   "cell_type": "code",
   "execution_count": 29,
   "metadata": {},
   "outputs": [],
   "source": [
    "# employee `Table` object\n",
    "employee = metadata.tables[\"employee\"]"
   ]
  },
  {
   "cell_type": "code",
   "execution_count": 30,
   "metadata": {},
   "outputs": [
    {
     "name": "stdout",
     "output_type": "stream",
     "text": [
      "employee table columns: ['employee_id', 'manager_id', 'name', 'is_manager', 'hire_date']\n"
     ]
    }
   ],
   "source": [
    "print(\"employee table columns:\", [c.name for c in employee.columns])"
   ]
  },
  {
   "cell_type": "markdown",
   "metadata": {},
   "source": [
    "Assigning an employee to handle issues with an order:"
   ]
  },
  {
   "cell_type": "code",
   "execution_count": 31,
   "metadata": {},
   "outputs": [
    {
     "name": "stdout",
     "output_type": "stream",
     "text": [
      "Employee that should handle the issue: #2\n",
      "The order with a problem: #3\n",
      "Updated order: #3, assigned employee ID: #2.\n"
     ]
    }
   ],
   "source": [
    "with engine.connect() as conn:\n",
    "    # find a suitable employee\n",
    "    stmt1 = (\n",
    "        select(employee.c.employee_id)\n",
    "        .where(\n",
    "            employee.c.is_manager == False,\n",
    "            employee.c.manager_id != None,\n",
    "        )\n",
    "    )\n",
    "    employee_id = conn.scalar(stmt1)\n",
    "    print(f\"Employee that should handle the issue: #{employee_id}\")\n",
    "\n",
    "    # find the problematic order (the 3rd order)\n",
    "    # and assign it to the employee\n",
    "    stmt2 = (\n",
    "        select(order.c.order_id)\n",
    "        .where(order.c.is_shipped == False)\n",
    "    )\n",
    "    order_id = conn.scalar(stmt2)\n",
    "    print(f\"The order with a problem: #{order_id}\")\n",
    "\n",
    "    # assign the order to the employee\n",
    "    stmt3 = (\n",
    "        update(order)\n",
    "        .where(order.c.order_id == order_id)\n",
    "        .values(employee_id=employee_id)\n",
    "        .returning(order.c.order_id, order.c.employee_id)\n",
    "    )\n",
    "    updated_order = conn.execute(stmt3).first()\n",
    "    print(\n",
    "        f\"Updated order: #{updated_order.order_id}, \"\n",
    "        f\"assigned employee ID: #{updated_order.employee_id}.\"\n",
    "    )\n",
    "\n",
    "    conn.commit()"
   ]
  },
  {
   "cell_type": "markdown",
   "metadata": {},
   "source": [
    "Reflecting All Tables:"
   ]
  },
  {
   "cell_type": "code",
   "execution_count": 32,
   "metadata": {},
   "outputs": [],
   "source": [
    "metadata = MetaData()\n",
    "engine = create_engine(\n",
    "    DATABASE_URL,\n",
    ")\n",
    "\n",
    "metadata.reflect(bind=engine)"
   ]
  },
  {
   "cell_type": "code",
   "execution_count": 33,
   "metadata": {},
   "outputs": [
    {
     "name": "stdout",
     "output_type": "stream",
     "text": [
      "Tables in metadata: dict_keys(['customer', 'employee', 'order', 'order_detail', 'product'])\n"
     ]
    }
   ],
   "source": [
    "print(\"Tables in metadata:\", metadata.tables.keys())"
   ]
  },
  {
   "cell_type": "markdown",
   "metadata": {},
   "source": [
    "List products:"
   ]
  },
  {
   "cell_type": "code",
   "execution_count": 34,
   "metadata": {},
   "outputs": [
    {
     "name": "stdout",
     "output_type": "stream",
     "text": [
      "(1, 'phone', Decimal('300.00'), 4, 'PHONE')\n",
      "(2, 'phone screen protector', Decimal('9.50'), 9, 'ACCESSORY')\n",
      "(3, 'headphone', Decimal('25.99'), 9, 'ACCESSORY')\n",
      "(4, 'digital camera', Decimal('45.99'), 5, 'OTHER')\n",
      "(5, 'memory card 256GB', Decimal('21.99'), 0, 'ACCESSORY')\n"
     ]
    }
   ],
   "source": [
    "product = metadata.tables[\"product\"]\n",
    "\n",
    "with engine.connect() as conn:\n",
    "    stmt = (\n",
    "        select(product)\n",
    "        .order_by(product.c.product_id)\n",
    "    )\n",
    "    for row in conn.execute(stmt):\n",
    "        print(row)"
   ]
  }
 ],
 "metadata": {
  "kernelspec": {
   "display_name": "mybook_py310",
   "language": "python",
   "name": "python3"
  },
  "language_info": {
   "codemirror_mode": {
    "name": "ipython",
    "version": 3
   },
   "file_extension": ".py",
   "mimetype": "text/x-python",
   "name": "python",
   "nbconvert_exporter": "python",
   "pygments_lexer": "ipython3",
   "version": "3.10.10"
  }
 },
 "nbformat": 4,
 "nbformat_minor": 2
}
