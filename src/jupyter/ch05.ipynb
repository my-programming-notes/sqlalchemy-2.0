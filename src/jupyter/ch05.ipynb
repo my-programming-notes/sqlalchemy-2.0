{
 "cells": [
  {
   "cell_type": "markdown",
   "metadata": {},
   "source": [
    "# Chapter 5: Reading Data"
   ]
  },
  {
   "cell_type": "code",
   "execution_count": 1368,
   "metadata": {},
   "outputs": [
    {
     "name": "stdout",
     "output_type": "stream",
     "text": [
      "2024-03-21 10:46:57,589 INFO sqlalchemy.engine.Engine BEGIN (implicit)\n",
      "2024-03-21 10:46:57,589 INFO sqlalchemy.engine.Engine PRAGMA main.table_info(\"employee\")\n",
      "2024-03-21 10:46:57,590 INFO sqlalchemy.engine.Engine [raw sql] ()\n",
      "2024-03-21 10:46:57,591 INFO sqlalchemy.engine.Engine PRAGMA main.table_info(\"product\")\n",
      "2024-03-21 10:46:57,591 INFO sqlalchemy.engine.Engine [raw sql] ()\n",
      "2024-03-21 10:46:57,591 INFO sqlalchemy.engine.Engine PRAGMA main.table_info(\"customer\")\n",
      "2024-03-21 10:46:57,592 INFO sqlalchemy.engine.Engine [raw sql] ()\n",
      "2024-03-21 10:46:57,592 INFO sqlalchemy.engine.Engine PRAGMA main.table_info(\"order\")\n",
      "2024-03-21 10:46:57,593 INFO sqlalchemy.engine.Engine [raw sql] ()\n",
      "2024-03-21 10:46:57,593 INFO sqlalchemy.engine.Engine PRAGMA main.table_info(\"order_detail\")\n",
      "2024-03-21 10:46:57,594 INFO sqlalchemy.engine.Engine [raw sql] ()\n",
      "2024-03-21 10:46:57,594 INFO sqlalchemy.engine.Engine COMMIT\n"
     ]
    }
   ],
   "source": [
    "%run -i 'ch03.ipynb'"
   ]
  },
  {
   "cell_type": "code",
   "execution_count": 1369,
   "metadata": {},
   "outputs": [
    {
     "data": {
      "text/plain": [
       "'sqlite+pysqlite:///store.db'"
      ]
     },
     "execution_count": 1369,
     "metadata": {},
     "output_type": "execute_result"
    }
   ],
   "source": [
    "DATABASE_URL"
   ]
  },
  {
   "cell_type": "code",
   "execution_count": 1370,
   "metadata": {},
   "outputs": [],
   "source": [
    "conn = engine.connect()"
   ]
  },
  {
   "cell_type": "markdown",
   "metadata": {},
   "source": [
    "Necessary imports:"
   ]
  },
  {
   "cell_type": "code",
   "execution_count": 1371,
   "metadata": {},
   "outputs": [],
   "source": [
    "from typing import Sequence\n",
    "\n",
    "from sqlalchemy import (Connection, Row, String, and_, asc, between, cast,\n",
    "                        distinct, func, not_, or_, select, text)"
   ]
  },
  {
   "cell_type": "markdown",
   "metadata": {},
   "source": [
    "Target `Table`:"
   ]
  },
  {
   "cell_type": "code",
   "execution_count": 1372,
   "metadata": {},
   "outputs": [
    {
     "data": {
      "text/plain": [
       "Table('employee', MetaData(), Column('employee_id', Integer(), table=<employee>, primary_key=True, nullable=False), Column('manager_id', Integer(), ForeignKey('employee.employee_id'), table=<employee>), Column('name', String(length=31), table=<employee>, nullable=False), Column('is_manager', Boolean(), table=<employee>, default=ScalarElementColumnDefault(False)), Column('hire_date', Date(), table=<employee>, default=CallableColumnDefault(<function date.today at 0x7f8331a7e8c0>)), schema=None)"
      ]
     },
     "execution_count": 1372,
     "metadata": {},
     "output_type": "execute_result"
    }
   ],
   "source": [
    "employee"
   ]
  },
  {
   "cell_type": "markdown",
   "metadata": {},
   "source": [
    "A `Select` construct:"
   ]
  },
  {
   "cell_type": "code",
   "execution_count": 1373,
   "metadata": {},
   "outputs": [],
   "source": [
    "stmt = (\n",
    "    select(employee)\n",
    ")"
   ]
  },
  {
   "cell_type": "code",
   "execution_count": 1374,
   "metadata": {},
   "outputs": [
    {
     "data": {
      "text/plain": [
       "<sqlalchemy.sql.selectable.Select object at 0x7f8331986920>"
      ]
     },
     "execution_count": 1374,
     "metadata": {},
     "output_type": "execute_result"
    }
   ],
   "source": [
    "stmt"
   ]
  },
  {
   "cell_type": "code",
   "execution_count": 1375,
   "metadata": {},
   "outputs": [
    {
     "name": "stdout",
     "output_type": "stream",
     "text": [
      "SELECT employee.employee_id, employee.manager_id, employee.name, employee.is_manager, employee.hire_date \n",
      "FROM employee\n"
     ]
    }
   ],
   "source": [
    "print(stmt)"
   ]
  },
  {
   "cell_type": "code",
   "execution_count": 1376,
   "metadata": {},
   "outputs": [
    {
     "name": "stdout",
     "output_type": "stream",
     "text": [
      "2024-03-21 10:46:57,652 INFO sqlalchemy.engine.Engine BEGIN (implicit)\n",
      "2024-03-21 10:46:57,652 INFO sqlalchemy.engine.Engine SELECT employee.employee_id, employee.manager_id, employee.name, employee.is_manager, employee.hire_date \n",
      "FROM employee\n",
      "2024-03-21 10:46:57,653 INFO sqlalchemy.engine.Engine [generated in 0.00119s] ()\n"
     ]
    }
   ],
   "source": [
    "result = conn.execute(stmt)"
   ]
  },
  {
   "cell_type": "code",
   "execution_count": 1377,
   "metadata": {},
   "outputs": [
    {
     "data": {
      "text/plain": [
       "<sqlalchemy.engine.cursor.CursorResult at 0x7f8331ad2080>"
      ]
     },
     "execution_count": 1377,
     "metadata": {},
     "output_type": "execute_result"
    }
   ],
   "source": [
    "result"
   ]
  },
  {
   "cell_type": "markdown",
   "metadata": {},
   "source": [
    "`rowcount` is not supported for SQLite 3 (you can use PostgreSQL as recommended):\n",
    "\n",
    "As required by the Python DB API Spec, the rowcount attribute “is -1 in case no executeXX() has been performed on the cursor or the rowcount of the last operation is not determinable by the interface”.\n",
    "This includes SELECT statements because we cannot determine the number of rows a query produced until all rows were fetched."
   ]
  },
  {
   "cell_type": "code",
   "execution_count": 1378,
   "metadata": {},
   "outputs": [
    {
     "data": {
      "text/plain": [
       "-1"
      ]
     },
     "execution_count": 1378,
     "metadata": {},
     "output_type": "execute_result"
    }
   ],
   "source": [
    "result.rowcount"
   ]
  },
  {
   "cell_type": "markdown",
   "metadata": {},
   "source": [
    "You can still get the count of rows with:"
   ]
  },
  {
   "cell_type": "code",
   "execution_count": 1379,
   "metadata": {},
   "outputs": [
    {
     "name": "stdout",
     "output_type": "stream",
     "text": [
      "6\n"
     ]
    }
   ],
   "source": [
    "employee_rows = result.all()\n",
    "print(len(employee_rows))"
   ]
  },
  {
   "cell_type": "code",
   "execution_count": 1380,
   "metadata": {},
   "outputs": [
    {
     "name": "stdout",
     "output_type": "stream",
     "text": [
      "(1, None, 'Alice', True, datetime.date(2024, 3, 20))\n",
      "(2, 1, 'Bob', False, datetime.date(2024, 3, 21))\n",
      "(3, 1, 'Cathy', False, datetime.date(2024, 3, 21))\n",
      "(4, None, 'Louis', True, datetime.date(2024, 2, 20))\n",
      "(5, 4, 'Lilly', False, datetime.date(2024, 3, 1))\n",
      "(6, None, 'Alice', False, datetime.date(2024, 3, 21))\n"
     ]
    }
   ],
   "source": [
    "for row in employee_rows:\n",
    "    print(row)"
   ]
  },
  {
   "cell_type": "markdown",
   "metadata": {},
   "source": [
    "Limiting returned columns:"
   ]
  },
  {
   "cell_type": "code",
   "execution_count": 1381,
   "metadata": {},
   "outputs": [],
   "source": [
    "stmt = (\n",
    "    select(employee.c.name, employee.columns.hire_date)\n",
    ")"
   ]
  },
  {
   "cell_type": "code",
   "execution_count": 1382,
   "metadata": {},
   "outputs": [
    {
     "name": "stdout",
     "output_type": "stream",
     "text": [
      "SELECT employee.name, employee.hire_date \n",
      "FROM employee\n"
     ]
    }
   ],
   "source": [
    "print(stmt)"
   ]
  },
  {
   "cell_type": "code",
   "execution_count": 1383,
   "metadata": {},
   "outputs": [
    {
     "name": "stdout",
     "output_type": "stream",
     "text": [
      "2024-03-21 10:46:57,703 INFO sqlalchemy.engine.Engine SELECT employee.name, employee.hire_date \n",
      "FROM employee\n",
      "2024-03-21 10:46:57,704 INFO sqlalchemy.engine.Engine [generated in 0.00080s] ()\n",
      "('Alice', datetime.date(2024, 3, 20))\n",
      "('Bob', datetime.date(2024, 3, 21))\n",
      "('Cathy', datetime.date(2024, 3, 21))\n",
      "('Louis', datetime.date(2024, 2, 20))\n",
      "('Lilly', datetime.date(2024, 3, 1))\n",
      "('Alice', datetime.date(2024, 3, 21))\n"
     ]
    }
   ],
   "source": [
    "result = conn.execute(stmt)\n",
    "for row in result:\n",
    "    print(row)"
   ]
  },
  {
   "cell_type": "markdown",
   "metadata": {},
   "source": [
    "Sorting the result set:"
   ]
  },
  {
   "cell_type": "code",
   "execution_count": 1384,
   "metadata": {},
   "outputs": [],
   "source": [
    "stmt = (\n",
    "    select(employee.c.name, employee.c.hire_date)\n",
    "    .order_by(asc(employee.c.hire_date))\n",
    ")"
   ]
  },
  {
   "cell_type": "code",
   "execution_count": 1385,
   "metadata": {},
   "outputs": [
    {
     "name": "stdout",
     "output_type": "stream",
     "text": [
      "SELECT employee.name, employee.hire_date \n",
      "FROM employee ORDER BY employee.hire_date ASC\n"
     ]
    }
   ],
   "source": [
    "print(stmt)"
   ]
  },
  {
   "cell_type": "code",
   "execution_count": 1386,
   "metadata": {},
   "outputs": [
    {
     "name": "stdout",
     "output_type": "stream",
     "text": [
      "2024-03-21 10:46:57,722 INFO sqlalchemy.engine.Engine SELECT employee.name, employee.hire_date \n",
      "FROM employee ORDER BY employee.hire_date ASC\n",
      "2024-03-21 10:46:57,722 INFO sqlalchemy.engine.Engine [generated in 0.00077s] ()\n",
      "('Louis', datetime.date(2024, 2, 20))\n",
      "('Lilly', datetime.date(2024, 3, 1))\n",
      "('Alice', datetime.date(2024, 3, 20))\n",
      "('Bob', datetime.date(2024, 3, 21))\n",
      "('Cathy', datetime.date(2024, 3, 21))\n",
      "('Alice', datetime.date(2024, 3, 21))\n"
     ]
    }
   ],
   "source": [
    "result = conn.execute(stmt)\n",
    "for row in result:\n",
    "    print(row)"
   ]
  },
  {
   "cell_type": "markdown",
   "metadata": {},
   "source": [
    "Limiting the result set:"
   ]
  },
  {
   "cell_type": "code",
   "execution_count": 1387,
   "metadata": {},
   "outputs": [],
   "source": [
    "num = 3\n",
    "\n",
    "stmt = (\n",
    "    select(employee.c.name, employee.c.hire_date)\n",
    "    .order_by(asc(employee.c.hire_date))\n",
    "    .limit(num)\n",
    ")"
   ]
  },
  {
   "cell_type": "code",
   "execution_count": 1388,
   "metadata": {},
   "outputs": [
    {
     "name": "stdout",
     "output_type": "stream",
     "text": [
      "SELECT employee.name, employee.hire_date \n",
      "FROM employee ORDER BY employee.hire_date ASC\n",
      " LIMIT :param_1\n"
     ]
    }
   ],
   "source": [
    "print(stmt)"
   ]
  },
  {
   "cell_type": "code",
   "execution_count": 1389,
   "metadata": {},
   "outputs": [
    {
     "name": "stdout",
     "output_type": "stream",
     "text": [
      "2024-03-21 10:46:57,739 INFO sqlalchemy.engine.Engine SELECT employee.name, employee.hire_date \n",
      "FROM employee ORDER BY employee.hire_date ASC\n",
      " LIMIT ? OFFSET ?\n",
      "2024-03-21 10:46:57,739 INFO sqlalchemy.engine.Engine [generated in 0.00059s] (3, 0)\n",
      "('Louis', datetime.date(2024, 2, 20))\n",
      "('Lilly', datetime.date(2024, 3, 1))\n",
      "('Alice', datetime.date(2024, 3, 20))\n"
     ]
    }
   ],
   "source": [
    "result = conn.execute(stmt)\n",
    "for row in result:\n",
    "    print(row)"
   ]
  },
  {
   "cell_type": "markdown",
   "metadata": {},
   "source": [
    "Labeling columns:"
   ]
  },
  {
   "cell_type": "code",
   "execution_count": 1390,
   "metadata": {},
   "outputs": [],
   "source": [
    "stmt = (\n",
    "    select(\n",
    "        employee.c.name,\n",
    "        (\"hire date: \" + cast(employee.c.hire_date, String))\n",
    "        .label(\"hired_on\")\n",
    "    )\n",
    ")"
   ]
  },
  {
   "cell_type": "code",
   "execution_count": 1391,
   "metadata": {},
   "outputs": [
    {
     "name": "stdout",
     "output_type": "stream",
     "text": [
      "SELECT employee.name, :param_1 || CAST(employee.hire_date AS VARCHAR) AS hired_on \n",
      "FROM employee\n"
     ]
    }
   ],
   "source": [
    "print(stmt)"
   ]
  },
  {
   "cell_type": "code",
   "execution_count": 1392,
   "metadata": {},
   "outputs": [
    {
     "name": "stdout",
     "output_type": "stream",
     "text": [
      "2024-03-21 10:46:57,752 INFO sqlalchemy.engine.Engine SELECT employee.name, ? || CAST(employee.hire_date AS VARCHAR) AS hired_on \n",
      "FROM employee\n",
      "2024-03-21 10:46:57,753 INFO sqlalchemy.engine.Engine [generated in 0.00062s] ('hire date: ',)\n"
     ]
    }
   ],
   "source": [
    "result = conn.execute(stmt)"
   ]
  },
  {
   "cell_type": "code",
   "execution_count": 1393,
   "metadata": {},
   "outputs": [
    {
     "name": "stdout",
     "output_type": "stream",
     "text": [
      "keys: RMKeyView(['name', 'hired_on'])\n"
     ]
    }
   ],
   "source": [
    "print(\"keys:\", result.keys())"
   ]
  },
  {
   "cell_type": "code",
   "execution_count": 1394,
   "metadata": {},
   "outputs": [
    {
     "name": "stdout",
     "output_type": "stream",
     "text": [
      "Alice, hire date: 2024-03-20\n",
      "  Bob, hire date: 2024-03-21\n",
      "Cathy, hire date: 2024-03-21\n",
      "Louis, hire date: 2024-02-20\n",
      "Lilly, hire date: 2024-03-01\n",
      "Alice, hire date: 2024-03-21\n"
     ]
    }
   ],
   "source": [
    "for row in result:\n",
    "    print(f\"{row.name:>5}, {row.hired_on}\")"
   ]
  },
  {
   "cell_type": "markdown",
   "metadata": {},
   "source": [
    "Filtering:"
   ]
  },
  {
   "cell_type": "code",
   "execution_count": 1395,
   "metadata": {},
   "outputs": [],
   "source": [
    "stmt = (\n",
    "    select(employee)\n",
    "    .where(employee.c.is_manager == True)\n",
    ")"
   ]
  },
  {
   "cell_type": "code",
   "execution_count": 1396,
   "metadata": {},
   "outputs": [
    {
     "name": "stdout",
     "output_type": "stream",
     "text": [
      "SELECT employee.employee_id, employee.manager_id, employee.name, employee.is_manager, employee.hire_date \n",
      "FROM employee \n",
      "WHERE employee.is_manager = true\n"
     ]
    }
   ],
   "source": [
    "print(stmt)"
   ]
  },
  {
   "cell_type": "code",
   "execution_count": 1397,
   "metadata": {},
   "outputs": [
    {
     "name": "stdout",
     "output_type": "stream",
     "text": [
      "2024-03-21 10:46:57,772 INFO sqlalchemy.engine.Engine SELECT employee.employee_id, employee.manager_id, employee.name, employee.is_manager, employee.hire_date \n",
      "FROM employee \n",
      "WHERE employee.is_manager = 1\n",
      "2024-03-21 10:46:57,773 INFO sqlalchemy.engine.Engine [generated in 0.00078s] ()\n",
      "(1, None, 'Alice', True, datetime.date(2024, 3, 20))\n",
      "(4, None, 'Louis', True, datetime.date(2024, 2, 20))\n"
     ]
    }
   ],
   "source": [
    "result = conn.execute(stmt)\n",
    "for row in result:\n",
    "    print(row)"
   ]
  },
  {
   "cell_type": "markdown",
   "metadata": {},
   "source": [
    "Multiple filters:"
   ]
  },
  {
   "cell_type": "code",
   "execution_count": 1398,
   "metadata": {},
   "outputs": [],
   "source": [
    "stmt = (\n",
    "    select(employee)\n",
    "    .where(employee.c.is_manager == True)\n",
    "    .where(employee.c.name == \"Alice\")\n",
    ")"
   ]
  },
  {
   "cell_type": "code",
   "execution_count": 1399,
   "metadata": {},
   "outputs": [
    {
     "name": "stdout",
     "output_type": "stream",
     "text": [
      "SELECT employee.employee_id, employee.manager_id, employee.name, employee.is_manager, employee.hire_date \n",
      "FROM employee \n",
      "WHERE employee.is_manager = true AND employee.name = :name_1\n"
     ]
    }
   ],
   "source": [
    "print(stmt)"
   ]
  },
  {
   "cell_type": "code",
   "execution_count": 1400,
   "metadata": {},
   "outputs": [
    {
     "name": "stdout",
     "output_type": "stream",
     "text": [
      "2024-03-21 10:46:57,787 INFO sqlalchemy.engine.Engine SELECT employee.employee_id, employee.manager_id, employee.name, employee.is_manager, employee.hire_date \n",
      "FROM employee \n",
      "WHERE employee.is_manager = 1 AND employee.name = ?\n",
      "2024-03-21 10:46:57,787 INFO sqlalchemy.engine.Engine [generated in 0.00064s] ('Alice',)\n",
      "(1, None, 'Alice', True, datetime.date(2024, 3, 20))\n"
     ]
    }
   ],
   "source": [
    "result = conn.execute(stmt)\n",
    "for row in result:\n",
    "    print(row)"
   ]
  },
  {
   "cell_type": "markdown",
   "metadata": {},
   "source": [
    "Another way to write this would be:"
   ]
  },
  {
   "cell_type": "code",
   "execution_count": 1401,
   "metadata": {},
   "outputs": [],
   "source": [
    "stmt = (\n",
    "    select(employee)\n",
    "    .where(\n",
    "        employee.c.is_manager == True,\n",
    "        employee.c.name == \"Alice\",\n",
    "    )\n",
    ")"
   ]
  },
  {
   "cell_type": "code",
   "execution_count": 1402,
   "metadata": {},
   "outputs": [
    {
     "name": "stdout",
     "output_type": "stream",
     "text": [
      "SELECT employee.employee_id, employee.manager_id, employee.name, employee.is_manager, employee.hire_date \n",
      "FROM employee \n",
      "WHERE employee.is_manager = true AND employee.name = :name_1\n"
     ]
    }
   ],
   "source": [
    "print(stmt)"
   ]
  },
  {
   "cell_type": "markdown",
   "metadata": {},
   "source": [
    "Conjunctions: AND, OR"
   ]
  },
  {
   "cell_type": "code",
   "execution_count": 1403,
   "metadata": {},
   "outputs": [],
   "source": [
    "from sqlalchemy import and_, or_"
   ]
  },
  {
   "cell_type": "markdown",
   "metadata": {},
   "source": [
    "Rewrite the previous example using AND:"
   ]
  },
  {
   "cell_type": "code",
   "execution_count": 1404,
   "metadata": {},
   "outputs": [],
   "source": [
    "stmt = (\n",
    "    select(employee)\n",
    "    .where(\n",
    "        and_(employee.c.is_manager == True,\n",
    "              employee.c.name == \"Alice\",)\n",
    "    )\n",
    ")"
   ]
  },
  {
   "cell_type": "code",
   "execution_count": 1405,
   "metadata": {},
   "outputs": [
    {
     "name": "stdout",
     "output_type": "stream",
     "text": [
      "SELECT employee.employee_id, employee.manager_id, employee.name, employee.is_manager, employee.hire_date \n",
      "FROM employee \n",
      "WHERE employee.is_manager = true AND employee.name = :name_1\n"
     ]
    }
   ],
   "source": [
    "print(stmt)"
   ]
  },
  {
   "cell_type": "markdown",
   "metadata": {},
   "source": [
    "Using OR:"
   ]
  },
  {
   "cell_type": "code",
   "execution_count": 1406,
   "metadata": {},
   "outputs": [],
   "source": [
    "stmt = (\n",
    "    select(employee)\n",
    "    .where(\n",
    "        and_(\n",
    "            employee.c.is_manager == True,\n",
    "            or_(\n",
    "                employee.c.name == \"Alice\",\n",
    "                employee.c.name == \"Louis\",\n",
    "            )\n",
    "        )\n",
    "    )\n",
    ")"
   ]
  },
  {
   "cell_type": "code",
   "execution_count": 1407,
   "metadata": {},
   "outputs": [
    {
     "name": "stdout",
     "output_type": "stream",
     "text": [
      "SELECT employee.employee_id, employee.manager_id, employee.name, employee.is_manager, employee.hire_date \n",
      "FROM employee \n",
      "WHERE employee.is_manager = true AND (employee.name = :name_1 OR employee.name = :name_2)\n"
     ]
    }
   ],
   "source": [
    "print(stmt)"
   ]
  },
  {
   "cell_type": "code",
   "execution_count": 1408,
   "metadata": {},
   "outputs": [
    {
     "name": "stdout",
     "output_type": "stream",
     "text": [
      "2024-03-21 10:46:57,823 INFO sqlalchemy.engine.Engine SELECT employee.employee_id, employee.manager_id, employee.name, employee.is_manager, employee.hire_date \n",
      "FROM employee \n",
      "WHERE employee.is_manager = 1 AND (employee.name = ? OR employee.name = ?)\n",
      "2024-03-21 10:46:57,824 INFO sqlalchemy.engine.Engine [generated in 0.00092s] ('Alice', 'Louis')\n",
      "(1, None, 'Alice', True, datetime.date(2024, 3, 20))\n",
      "(4, None, 'Louis', True, datetime.date(2024, 2, 20))\n"
     ]
    }
   ],
   "source": [
    "result = conn.execute(stmt)\n",
    "for row in result:\n",
    "    print(row)"
   ]
  },
  {
   "cell_type": "markdown",
   "metadata": {},
   "source": [
    "Negation: NOT"
   ]
  },
  {
   "cell_type": "code",
   "execution_count": 1409,
   "metadata": {},
   "outputs": [],
   "source": [
    "stmt = (\n",
    "    select(employee)\n",
    "    .where(\n",
    "        and_(\n",
    "            employee.c.is_manager == True,\n",
    "            not_(employee.c.name == \"Alice\"),\n",
    "        )\n",
    "    )\n",
    ")"
   ]
  },
  {
   "cell_type": "code",
   "execution_count": 1410,
   "metadata": {},
   "outputs": [
    {
     "name": "stdout",
     "output_type": "stream",
     "text": [
      "SELECT employee.employee_id, employee.manager_id, employee.name, employee.is_manager, employee.hire_date \n",
      "FROM employee \n",
      "WHERE employee.is_manager = true AND employee.name != :name_1\n"
     ]
    }
   ],
   "source": [
    "print(stmt)"
   ]
  },
  {
   "cell_type": "code",
   "execution_count": 1411,
   "metadata": {},
   "outputs": [
    {
     "data": {
      "text/plain": [
       "{'name_1': 'Alice'}"
      ]
     },
     "execution_count": 1411,
     "metadata": {},
     "output_type": "execute_result"
    }
   ],
   "source": [
    "stmt.compile().params"
   ]
  },
  {
   "cell_type": "code",
   "execution_count": 1412,
   "metadata": {},
   "outputs": [
    {
     "name": "stdout",
     "output_type": "stream",
     "text": [
      "2024-03-21 10:46:57,842 INFO sqlalchemy.engine.Engine SELECT employee.employee_id, employee.manager_id, employee.name, employee.is_manager, employee.hire_date \n",
      "FROM employee \n",
      "WHERE employee.is_manager = 1 AND employee.name != ?\n",
      "2024-03-21 10:46:57,842 INFO sqlalchemy.engine.Engine [generated in 0.00060s] ('Alice',)\n",
      "(4, None, 'Louis', True, datetime.date(2024, 2, 20))\n"
     ]
    }
   ],
   "source": [
    "result = conn.execute(stmt)\n",
    "for row in result:\n",
    "    print(row)"
   ]
  },
  {
   "cell_type": "markdown",
   "metadata": {},
   "source": [
    "Searching for \"Alice\""
   ]
  },
  {
   "cell_type": "code",
   "execution_count": 1413,
   "metadata": {},
   "outputs": [
    {
     "name": "stdout",
     "output_type": "stream",
     "text": [
      "2024-03-21 10:46:57,848 INFO sqlalchemy.engine.Engine SELECT employee.employee_id, employee.manager_id, employee.name, employee.is_manager, employee.hire_date \n",
      "FROM employee \n",
      "WHERE employee.name = ?\n",
      "2024-03-21 10:46:57,849 INFO sqlalchemy.engine.Engine [generated in 0.00091s] ('Alice',)\n",
      "(1, None, 'Alice', True, datetime.date(2024, 3, 20))\n",
      "(6, None, 'Alice', False, datetime.date(2024, 3, 21))\n"
     ]
    }
   ],
   "source": [
    "def get_all_alices(conn: Connection):\n",
    "    stmt = (\n",
    "        select(employee)\n",
    "        .where(\n",
    "            employee.c.name == \"Alice\"\n",
    "        )\n",
    "    )\n",
    "    result = conn.execute(stmt)\n",
    "\n",
    "    return result.all()\n",
    "\n",
    "for row in get_all_alices(conn):\n",
    "    print(row)"
   ]
  },
  {
   "cell_type": "markdown",
   "metadata": {},
   "source": [
    "BETWEEN (prices between 10 and 100):"
   ]
  },
  {
   "cell_type": "code",
   "execution_count": 1414,
   "metadata": {},
   "outputs": [],
   "source": [
    "stmt = (\n",
    "    select(\n",
    "        product.c.product_name,\n",
    "        product.c.unit_price,\n",
    "    )\n",
    "    .where(\n",
    "        product.c.unit_price.between(10, 100)\n",
    "    )\n",
    ")"
   ]
  },
  {
   "cell_type": "code",
   "execution_count": 1415,
   "metadata": {},
   "outputs": [
    {
     "name": "stdout",
     "output_type": "stream",
     "text": [
      "SELECT product.product_name, product.unit_price \n",
      "FROM product \n",
      "WHERE product.unit_price BETWEEN :unit_price_1 AND :unit_price_2\n"
     ]
    }
   ],
   "source": [
    "print(stmt)"
   ]
  },
  {
   "cell_type": "code",
   "execution_count": 1416,
   "metadata": {},
   "outputs": [
    {
     "name": "stdout",
     "output_type": "stream",
     "text": [
      "{'unit_price_1': 10, 'unit_price_2': 100}\n"
     ]
    }
   ],
   "source": [
    "print(stmt.compile().params)"
   ]
  },
  {
   "cell_type": "code",
   "execution_count": 1417,
   "metadata": {},
   "outputs": [
    {
     "name": "stdout",
     "output_type": "stream",
     "text": [
      "2024-03-21 10:46:57,868 INFO sqlalchemy.engine.Engine SELECT product.product_name, product.unit_price \n",
      "FROM product \n",
      "WHERE product.unit_price BETWEEN ? AND ?\n",
      "2024-03-21 10:46:57,869 INFO sqlalchemy.engine.Engine [generated in 0.00092s] (10, 100)\n",
      "headphone         : $25.99\n",
      "digital camera    : $45.99\n",
      "memory card 256GB : $21.99\n"
     ]
    }
   ],
   "source": [
    "result = conn.execute(stmt)\n",
    "for row in result:\n",
    "    print(f\"{row[0]:<18}: ${float(row[1])}\")"
   ]
  },
  {
   "cell_type": "markdown",
   "metadata": {},
   "source": [
    "DISTINCT:"
   ]
  },
  {
   "cell_type": "code",
   "execution_count": 1418,
   "metadata": {},
   "outputs": [],
   "source": [
    "stmt = (\n",
    "    select(employee.c.name.distinct())\n",
    "    .order_by(employee.c.name)\n",
    ")"
   ]
  },
  {
   "cell_type": "code",
   "execution_count": 1419,
   "metadata": {},
   "outputs": [
    {
     "name": "stdout",
     "output_type": "stream",
     "text": [
      "SELECT DISTINCT employee.name \n",
      "FROM employee ORDER BY employee.name\n"
     ]
    }
   ],
   "source": [
    "print(stmt)"
   ]
  },
  {
   "cell_type": "code",
   "execution_count": 1420,
   "metadata": {},
   "outputs": [
    {
     "name": "stdout",
     "output_type": "stream",
     "text": [
      "2024-03-21 10:46:57,882 INFO sqlalchemy.engine.Engine SELECT DISTINCT employee.name \n",
      "FROM employee ORDER BY employee.name\n",
      "2024-03-21 10:46:57,883 INFO sqlalchemy.engine.Engine [generated in 0.00091s] ()\n"
     ]
    }
   ],
   "source": [
    "result = conn.scalars(stmt)"
   ]
  },
  {
   "cell_type": "code",
   "execution_count": 1421,
   "metadata": {},
   "outputs": [
    {
     "name": "stdout",
     "output_type": "stream",
     "text": [
      "Alice\n",
      "Bob\n",
      "Cathy\n",
      "Lilly\n",
      "Louis\n"
     ]
    }
   ],
   "source": [
    "for name in result:\n",
    "    print(name)"
   ]
  },
  {
   "cell_type": "markdown",
   "metadata": {},
   "source": [
    "IN:"
   ]
  },
  {
   "cell_type": "code",
   "execution_count": 1422,
   "metadata": {},
   "outputs": [],
   "source": [
    "columns = [product.c.product_name, product.c.type]\n",
    "stmt = (\n",
    "    select(*columns)\n",
    "    .where(product.c.type.in_([ProductType.PHONE, ProductType.ACCESSORY]))\n",
    ")"
   ]
  },
  {
   "cell_type": "code",
   "execution_count": 1423,
   "metadata": {},
   "outputs": [
    {
     "name": "stdout",
     "output_type": "stream",
     "text": [
      "SELECT product.product_name, product.type \n",
      "FROM product \n",
      "WHERE product.type IN (__[POSTCOMPILE_type_1])\n"
     ]
    }
   ],
   "source": [
    "print(stmt)"
   ]
  },
  {
   "cell_type": "code",
   "execution_count": 1424,
   "metadata": {},
   "outputs": [
    {
     "name": "stdout",
     "output_type": "stream",
     "text": [
      "{'type_1': [<ProductType.PHONE: 0>, <ProductType.ACCESSORY: 1>]}\n"
     ]
    }
   ],
   "source": [
    "print(stmt.compile().params)"
   ]
  },
  {
   "cell_type": "code",
   "execution_count": 1425,
   "metadata": {},
   "outputs": [
    {
     "name": "stdout",
     "output_type": "stream",
     "text": [
      "2024-03-21 10:46:57,906 INFO sqlalchemy.engine.Engine SELECT product.product_name, product.type \n",
      "FROM product \n",
      "WHERE product.type IN (?, ?)\n",
      "2024-03-21 10:46:57,906 INFO sqlalchemy.engine.Engine [generated in 0.00105s] ('PHONE', 'ACCESSORY')\n",
      "PHONE    : phone\n",
      "ACCESSORY: phone screen protector\n",
      "ACCESSORY: headphone\n",
      "ACCESSORY: memory card 256GB\n"
     ]
    }
   ],
   "source": [
    "for row in conn.execute(stmt):\n",
    "    print(f\"{(row[1].name):<9}: {row.product_name}\")"
   ]
  },
  {
   "cell_type": "markdown",
   "metadata": {},
   "source": [
    "LIKE/ILIKE:"
   ]
  },
  {
   "cell_type": "code",
   "execution_count": 1426,
   "metadata": {},
   "outputs": [],
   "source": [
    "stmt = (\n",
    "    select(product.c.product_name)\n",
    "    .where(product.c.product_name.ilike(\"%phone%\"))\n",
    ")"
   ]
  },
  {
   "cell_type": "code",
   "execution_count": 1427,
   "metadata": {},
   "outputs": [
    {
     "name": "stdout",
     "output_type": "stream",
     "text": [
      "SELECT product.product_name \n",
      "FROM product \n",
      "WHERE lower(product.product_name) LIKE lower(:product_name_1)\n"
     ]
    }
   ],
   "source": [
    "print(stmt)"
   ]
  },
  {
   "cell_type": "code",
   "execution_count": 1428,
   "metadata": {},
   "outputs": [
    {
     "name": "stdout",
     "output_type": "stream",
     "text": [
      "{'product_name_1': '%phone%'}\n"
     ]
    }
   ],
   "source": [
    "print(stmt.compile().params)"
   ]
  },
  {
   "cell_type": "code",
   "execution_count": 1429,
   "metadata": {},
   "outputs": [
    {
     "name": "stdout",
     "output_type": "stream",
     "text": [
      "2024-03-21 10:46:57,925 INFO sqlalchemy.engine.Engine SELECT product.product_name \n",
      "FROM product \n",
      "WHERE lower(product.product_name) LIKE lower(?)\n",
      "2024-03-21 10:46:57,925 INFO sqlalchemy.engine.Engine [generated in 0.00066s] ('%phone%',)\n",
      "phone\n",
      "phone screen protector\n",
      "headphone\n"
     ]
    }
   ],
   "source": [
    "for product_name in conn.scalars(stmt):\n",
    "    print(product_name)"
   ]
  },
  {
   "cell_type": "markdown",
   "metadata": {},
   "source": [
    "Joins:"
   ]
  },
  {
   "cell_type": "code",
   "execution_count": 1430,
   "metadata": {},
   "outputs": [],
   "source": [
    "order_id = 1"
   ]
  },
  {
   "cell_type": "code",
   "execution_count": 1431,
   "metadata": {},
   "outputs": [
    {
     "name": "stdout",
     "output_type": "stream",
     "text": [
      "2024-03-21 10:46:57,939 INFO sqlalchemy.engine.Engine SELECT product.product_name, product.unit_price, order_detail.quantity, \"order\".order_datetime \n",
      "FROM order_detail JOIN \"order\" ON \"order\".order_id = order_detail.order_id JOIN product ON product.product_id = order_detail.product_id \n",
      "WHERE \"order\".order_id = ?\n",
      "2024-03-21 10:46:57,939 INFO sqlalchemy.engine.Engine [generated in 0.00095s] (1,)\n",
      "2024-03-21 10:46:44 phone                 :  300.00 *1\n",
      "2024-03-21 10:46:44 phone screen protector:    9.50 *1\n",
      "2024-03-21 10:46:44 headphone             :   25.99 *1\n"
     ]
    }
   ],
   "source": [
    "columns = [\n",
    "    product.c.product_name,\n",
    "    product.c.unit_price,\n",
    "    order_detail.c.quantity,\n",
    "    order.c.order_datetime,\n",
    "]\n",
    "\n",
    "stmt = (\n",
    "    select(*columns)\n",
    "    .select_from(order_detail)\n",
    "    .join(order)\n",
    "    .join(product)\n",
    "    .where(order.c.order_id == order_id)\n",
    ")\n",
    "\n",
    "result = conn.execute(stmt)\n",
    "\n",
    "for row in result:\n",
    "    print(\n",
    "        f'{row.order_datetime.strftime(\"%Y-%m-%d %H:%M:%S\")} '\n",
    "        f'{row.product_name:<22}: '\n",
    "        f'{row.unit_price:>7} *{row.quantity}'\n",
    "    )"
   ]
  },
  {
   "cell_type": "code",
   "execution_count": 1432,
   "metadata": {},
   "outputs": [
    {
     "name": "stdout",
     "output_type": "stream",
     "text": [
      "SELECT product.product_name, product.unit_price, order_detail.quantity, \"order\".order_datetime \n",
      "FROM order_detail JOIN \"order\" ON \"order\".order_id = order_detail.order_id JOIN product ON product.product_id = order_detail.product_id \n",
      "WHERE \"order\".order_id = :order_id_1\n"
     ]
    }
   ],
   "source": [
    "print(stmt)"
   ]
  },
  {
   "cell_type": "markdown",
   "metadata": {},
   "source": [
    "You can also rewrite the above `Select` construct with `Select.join_from()`:"
   ]
  },
  {
   "cell_type": "code",
   "execution_count": 1433,
   "metadata": {},
   "outputs": [],
   "source": [
    "stmt = (\n",
    "    select(*columns)\n",
    "    .join_from(order, order_detail)\n",
    "    .join_from(order_detail, product)\n",
    "    .where(order.c.order_id == order_id)\n",
    ")"
   ]
  },
  {
   "cell_type": "code",
   "execution_count": 1434,
   "metadata": {},
   "outputs": [
    {
     "name": "stdout",
     "output_type": "stream",
     "text": [
      "SELECT product.product_name, product.unit_price, order_detail.quantity, \"order\".order_datetime \n",
      "FROM \"order\" JOIN order_detail ON \"order\".order_id = order_detail.order_id JOIN product ON product.product_id = order_detail.product_id \n",
      "WHERE \"order\".order_id = :order_id_1\n"
     ]
    }
   ],
   "source": [
    "print(stmt)"
   ]
  },
  {
   "cell_type": "markdown",
   "metadata": {},
   "source": [
    "To specify the ON clause explicitly:"
   ]
  },
  {
   "cell_type": "code",
   "execution_count": 1435,
   "metadata": {},
   "outputs": [],
   "source": [
    "stmt = (\n",
    "    select(*columns)\n",
    "    .select_from(order_detail)\n",
    "    .join(order, order_detail.c.order_id == order.c.order_id)\n",
    "    .join(product, order_detail.c.product_id == product.c.product_id)\n",
    "    .where(order.c.order_id == order_id)\n",
    ")"
   ]
  },
  {
   "cell_type": "code",
   "execution_count": 1436,
   "metadata": {},
   "outputs": [
    {
     "name": "stdout",
     "output_type": "stream",
     "text": [
      "SELECT product.product_name, product.unit_price, order_detail.quantity, \"order\".order_datetime \n",
      "FROM order_detail JOIN \"order\" ON order_detail.order_id = \"order\".order_id JOIN product ON order_detail.product_id = product.product_id \n",
      "WHERE \"order\".order_id = :order_id_1\n"
     ]
    }
   ],
   "source": [
    "print(stmt)"
   ]
  },
  {
   "cell_type": "markdown",
   "metadata": {},
   "source": [
    "Aliases and Self-Joins:"
   ]
  },
  {
   "cell_type": "code",
   "execution_count": 1437,
   "metadata": {},
   "outputs": [
    {
     "name": "stdout",
     "output_type": "stream",
     "text": [
      "2024-03-21 10:46:57,973 INFO sqlalchemy.engine.Engine SELECT employee.employee_id, employee.name, manager.name AS manager_name, manager.employee_id AS manager_id \n",
      "FROM employee LEFT OUTER JOIN employee AS manager ON employee.manager_id = manager.employee_id\n",
      "2024-03-21 10:46:57,974 INFO sqlalchemy.engine.Engine [generated in 0.00074s] ()\n",
      "Alice(1) has no manager.\n",
      "Bob(2)'s manager is Alice(1).\n",
      "Cathy(3)'s manager is Alice(1).\n",
      "Louis(4) has no manager.\n",
      "Lilly(5)'s manager is Louis(4).\n",
      "Alice(6) has no manager.\n"
     ]
    }
   ],
   "source": [
    "manager = employee.alias(\"manager\")\n",
    "\n",
    "columns = [\n",
    "    employee.c.employee_id,\n",
    "    employee.c.name,\n",
    "    manager.c.name.label(\"manager_name\"),\n",
    "    manager.c.employee_id.label(\"manager_id\"),\n",
    "]\n",
    "\n",
    "stmt = (\n",
    "    select(*columns)\n",
    "    .select_from(employee)\n",
    "    .join(\n",
    "        manager,\n",
    "        employee.c.manager_id == manager.c.employee_id,\n",
    "        isouter=True,\n",
    "    )\n",
    ")\n",
    "\n",
    "result = conn.execute(stmt)\n",
    "for row in result:\n",
    "    if row.manager_name is not None:\n",
    "        print(f\"{row.name}({row.employee_id})'s manager is \"\n",
    "                f\"{row.manager_name}({row.manager_id}).\")\n",
    "    else:\n",
    "        print(f\"{row.name}({row.employee_id}) has no manager.\")"
   ]
  },
  {
   "cell_type": "code",
   "execution_count": 1438,
   "metadata": {},
   "outputs": [
    {
     "name": "stdout",
     "output_type": "stream",
     "text": [
      "SELECT employee.employee_id, employee.name, manager.name AS manager_name, manager.employee_id AS manager_id \n",
      "FROM employee LEFT OUTER JOIN employee AS manager ON employee.manager_id = manager.employee_id\n"
     ]
    }
   ],
   "source": [
    "print(stmt)"
   ]
  },
  {
   "cell_type": "markdown",
   "metadata": {},
   "source": [
    "SQL Functions:"
   ]
  },
  {
   "cell_type": "markdown",
   "metadata": {},
   "source": [
    "COUNT:"
   ]
  },
  {
   "cell_type": "code",
   "execution_count": 1439,
   "metadata": {},
   "outputs": [],
   "source": [
    "stmt = (\n",
    "    select(func.count())\n",
    "    .select_from(employee)\n",
    ")"
   ]
  },
  {
   "cell_type": "code",
   "execution_count": 1440,
   "metadata": {},
   "outputs": [
    {
     "name": "stdout",
     "output_type": "stream",
     "text": [
      "SELECT count(*) AS count_1 \n",
      "FROM employee\n"
     ]
    }
   ],
   "source": [
    "print(stmt)"
   ]
  },
  {
   "cell_type": "code",
   "execution_count": 1441,
   "metadata": {},
   "outputs": [
    {
     "name": "stdout",
     "output_type": "stream",
     "text": [
      "2024-03-21 10:46:57,992 INFO sqlalchemy.engine.Engine SELECT count(*) AS count_1 \n",
      "FROM employee\n",
      "2024-03-21 10:46:57,993 INFO sqlalchemy.engine.Engine [generated in 0.00083s] ()\n",
      "We have 6 employees.\n"
     ]
    }
   ],
   "source": [
    "count = conn.scalar(stmt)\n",
    "print(f\"We have {count} employees.\")"
   ]
  },
  {
   "cell_type": "markdown",
   "metadata": {},
   "source": [
    "MAX:"
   ]
  },
  {
   "cell_type": "code",
   "execution_count": 1442,
   "metadata": {},
   "outputs": [],
   "source": [
    "stmt = (\n",
    "    select(func.max(product.c.unit_price))\n",
    ")"
   ]
  },
  {
   "cell_type": "code",
   "execution_count": 1443,
   "metadata": {},
   "outputs": [
    {
     "name": "stdout",
     "output_type": "stream",
     "text": [
      "SELECT max(product.unit_price) AS max_1 \n",
      "FROM product\n"
     ]
    }
   ],
   "source": [
    "print(stmt)"
   ]
  },
  {
   "cell_type": "code",
   "execution_count": 1444,
   "metadata": {},
   "outputs": [
    {
     "name": "stdout",
     "output_type": "stream",
     "text": [
      "2024-03-21 10:46:58,008 INFO sqlalchemy.engine.Engine SELECT max(product.unit_price) AS max_1 \n",
      "FROM product\n",
      "2024-03-21 10:46:58,009 INFO sqlalchemy.engine.Engine [generated in 0.00085s] ()\n",
      "The most expensive product costs $300.00.\n"
     ]
    }
   ],
   "source": [
    "max_price = conn.scalar(stmt)\n",
    "print(f\"The most expensive product costs ${max_price}.\")"
   ]
  },
  {
   "cell_type": "markdown",
   "metadata": {},
   "source": [
    "GROUP BY, HAVING:"
   ]
  },
  {
   "cell_type": "code",
   "execution_count": 1445,
   "metadata": {},
   "outputs": [],
   "source": [
    "def list_all_managers_with_employee_count(\n",
    "        conn: Connection,\n",
    "        max_subordinates=4,\n",
    "):\n",
    "    manager = employee.alias(\"manager\")\n",
    "    stmt = (\n",
    "        select(\n",
    "            manager.c.name,\n",
    "            func.count(employee.c.employee_id).label(\"count\"),\n",
    "        )\n",
    "        .join(employee, employee.c.manager_id == manager.c.employee_id)\n",
    "        .group_by(manager.c.employee_id)\n",
    "        .having(func.count(employee.c.employee_id) < max_subordinates)\n",
    "        .order_by(func.count(employee.c.employee_id))\n",
    "    )\n",
    "\n",
    "    result = conn.execute(stmt)\n",
    "    for row in result:\n",
    "        print(f\"{row.name}: {row.count}\")"
   ]
  },
  {
   "cell_type": "code",
   "execution_count": 1446,
   "metadata": {},
   "outputs": [
    {
     "name": "stdout",
     "output_type": "stream",
     "text": [
      "2024-03-21 10:46:58,021 INFO sqlalchemy.engine.Engine SELECT manager.name, count(employee.employee_id) AS count \n",
      "FROM employee AS manager JOIN employee ON employee.manager_id = manager.employee_id GROUP BY manager.employee_id \n",
      "HAVING count(employee.employee_id) < ? ORDER BY count(employee.employee_id)\n",
      "2024-03-21 10:46:58,022 INFO sqlalchemy.engine.Engine [generated in 0.00116s] (4,)\n",
      "Louis: 1\n",
      "Alice: 2\n"
     ]
    }
   ],
   "source": [
    "list_all_managers_with_employee_count(conn)"
   ]
  },
  {
   "cell_type": "code",
   "execution_count": 1447,
   "metadata": {},
   "outputs": [
    {
     "name": "stdout",
     "output_type": "stream",
     "text": [
      "2024-03-21 10:46:58,028 INFO sqlalchemy.engine.Engine SELECT manager.name, count(employee.employee_id) AS count \n",
      "FROM employee AS manager JOIN employee ON employee.manager_id = manager.employee_id GROUP BY manager.employee_id \n",
      "HAVING count(employee.employee_id) < ? ORDER BY count(employee.employee_id)\n",
      "2024-03-21 10:46:58,029 INFO sqlalchemy.engine.Engine [cached since 0.007531s ago] (2,)\n",
      "Louis: 1\n"
     ]
    }
   ],
   "source": [
    "list_all_managers_with_employee_count(conn, 2)"
   ]
  },
  {
   "cell_type": "markdown",
   "metadata": {},
   "source": [
    "Raw SQL Queries:"
   ]
  },
  {
   "cell_type": "code",
   "execution_count": 1448,
   "metadata": {},
   "outputs": [
    {
     "name": "stdout",
     "output_type": "stream",
     "text": [
      "2024-03-21 10:46:58,035 INFO sqlalchemy.engine.Engine SELECT customer_id, first_name FROM customer\n",
      "2024-03-21 10:46:58,036 INFO sqlalchemy.engine.Engine [generated in 0.00081s] ()\n",
      "1 Alex\n",
      "2 Mary\n"
     ]
    }
   ],
   "source": [
    "t = text(\"SELECT customer_id, first_name FROM customer\")\n",
    "result = conn.execute(t)\n",
    "for row in result:\n",
    "    print(row.customer_id, row.first_name)"
   ]
  },
  {
   "cell_type": "markdown",
   "metadata": {},
   "source": [
    "Using bind parameters:"
   ]
  },
  {
   "cell_type": "code",
   "execution_count": 1449,
   "metadata": {},
   "outputs": [],
   "source": [
    "customer_id = 1\n",
    "\n",
    "t = (\n",
    "    text(\n",
    "        \"SELECT customer_id, first_name \"\n",
    "        \"FROM customer \"\n",
    "        \"WHERE customer_id=:id\"\n",
    "    )\n",
    "    .bindparams(id=customer_id)\n",
    ")"
   ]
  },
  {
   "cell_type": "code",
   "execution_count": 1450,
   "metadata": {},
   "outputs": [
    {
     "name": "stdout",
     "output_type": "stream",
     "text": [
      "2024-03-21 10:46:58,046 INFO sqlalchemy.engine.Engine SELECT customer_id, first_name FROM customer WHERE customer_id=?\n",
      "2024-03-21 10:46:58,047 INFO sqlalchemy.engine.Engine [generated in 0.00080s] (1,)\n",
      "(1, 'Alex')\n"
     ]
    }
   ],
   "source": [
    "result = conn.execute(t).first()\n",
    "print(result)"
   ]
  },
  {
   "cell_type": "code",
   "execution_count": 1451,
   "metadata": {},
   "outputs": [],
   "source": [
    "t = (\n",
    "    select(customer.c.customer_id, customer.c.first_name)\n",
    "    .where(\n",
    "        text(\"customer_id=:id\")\n",
    "        .bindparams(id=customer_id)\n",
    "    )\n",
    ")"
   ]
  },
  {
   "cell_type": "code",
   "execution_count": 1452,
   "metadata": {},
   "outputs": [
    {
     "name": "stdout",
     "output_type": "stream",
     "text": [
      "SELECT customer.customer_id, customer.first_name \n",
      "FROM customer \n",
      "WHERE customer_id=:id\n"
     ]
    }
   ],
   "source": [
    "print(t)"
   ]
  },
  {
   "cell_type": "markdown",
   "metadata": {},
   "source": [
    "Constructing Conditional Queries:"
   ]
  },
  {
   "cell_type": "code",
   "execution_count": 1453,
   "metadata": {},
   "outputs": [],
   "source": [
    "def get_orders_for_customers(\n",
    "        conn: Connection,\n",
    "        name: str | None = None,\n",
    "        is_shipped: bool = False,\n",
    "        details: bool = True\n",
    ") -> Sequence[Row]:\n",
    "    print(f\"> Params: name={name}, is_shipped={is_shipped}, details={details}\")\n",
    "\n",
    "    # put columns in an individual array, so we can extend it later\n",
    "    columns = [\n",
    "        customer.c.first_name,\n",
    "        customer.c.last_name,\n",
    "        order.c.order_id,\n",
    "        order.c.is_shipped,\n",
    "    ]\n",
    "    # these two tables are always needed, so join them first\n",
    "    joined = customer.join(order)\n",
    "\n",
    "    # if details are required, more columns and tables are incorporated\n",
    "    if details:\n",
    "        columns.extend([\n",
    "            product.c.product_name,\n",
    "            order_detail.c.quantity,\n",
    "            product.c.unit_price,\n",
    "        ])\n",
    "        joined = joined.join(order_detail).join(product)\n",
    "\n",
    "    # the rows are filtered by the shipping status\n",
    "    stmt = (\n",
    "        select(*columns)\n",
    "        .select_from(joined)\n",
    "        .where(order.c.is_shipped == is_shipped)\n",
    "    )\n",
    "\n",
    "    # and also filtered by first name\n",
    "    if name is not None:\n",
    "        stmt = stmt.where(customer.c.first_name == name)\n",
    "\n",
    "    # print(\"SQL:\", stmt)\n",
    "\n",
    "    result = conn.execute(stmt)\n",
    "\n",
    "    return result.all()"
   ]
  },
  {
   "cell_type": "code",
   "execution_count": 1454,
   "metadata": {},
   "outputs": [],
   "source": [
    "def print_orders_for_customers(orders: Sequence[Row]) -> None:\n",
    "    order_id = None\n",
    "    for row in orders:\n",
    "        current_order_id = row.order_id\n",
    "        if order_id is None or order_id != current_order_id:\n",
    "            order_id = current_order_id\n",
    "            print(f\"{row.first_name} {row.last_name} \"\n",
    "                  f\"has an order with ID:{current_order_id}\")\n",
    "        if hasattr(row, \"product_name\"):\n",
    "            print(f\"- {row.product_name}: ${row.unit_price} *{row.quantity}\")"
   ]
  },
  {
   "cell_type": "markdown",
   "metadata": {},
   "source": [
    "Display all orders that have not been shipped, including details:"
   ]
  },
  {
   "cell_type": "code",
   "execution_count": 1455,
   "metadata": {},
   "outputs": [
    {
     "name": "stdout",
     "output_type": "stream",
     "text": [
      "> Params: name=None, is_shipped=False, details=True\n",
      "2024-03-21 10:46:58,074 INFO sqlalchemy.engine.Engine SELECT customer.first_name, customer.last_name, \"order\".order_id, \"order\".is_shipped, product.product_name, order_detail.quantity, product.unit_price \n",
      "FROM customer JOIN \"order\" ON customer.customer_id = \"order\".customer_id JOIN order_detail ON \"order\".order_id = order_detail.order_id JOIN product ON product.product_id = order_detail.product_id \n",
      "WHERE \"order\".is_shipped = 0\n",
      "2024-03-21 10:46:58,075 INFO sqlalchemy.engine.Engine [generated in 0.00072s] ()\n",
      "Alex Smith has an order with ID:1\n",
      "- phone: $300.00 *1\n",
      "- phone screen protector: $9.50 *1\n",
      "- headphone: $25.99 *1\n",
      "Alex Smith has an order with ID:2\n",
      "- memory card 256GB: $21.99 *1\n",
      "Mary Taylor has an order with ID:3\n",
      "- digital camera: $45.99 *1\n",
      "- memory card 256GB: $21.99 *2\n"
     ]
    }
   ],
   "source": [
    "orders = get_orders_for_customers(\n",
    "    conn, None, is_shipped=False, details=True,\n",
    ")\n",
    "print_orders_for_customers(orders)"
   ]
  },
  {
   "cell_type": "markdown",
   "metadata": {},
   "source": [
    "Display orders for Alex that have not been shipped, including details:"
   ]
  },
  {
   "cell_type": "code",
   "execution_count": 1456,
   "metadata": {},
   "outputs": [
    {
     "name": "stdout",
     "output_type": "stream",
     "text": [
      "> Params: name=Alex, is_shipped=False, details=True\n",
      "2024-03-21 10:46:58,081 INFO sqlalchemy.engine.Engine SELECT customer.first_name, customer.last_name, \"order\".order_id, \"order\".is_shipped, product.product_name, order_detail.quantity, product.unit_price \n",
      "FROM customer JOIN \"order\" ON customer.customer_id = \"order\".customer_id JOIN order_detail ON \"order\".order_id = order_detail.order_id JOIN product ON product.product_id = order_detail.product_id \n",
      "WHERE \"order\".is_shipped = 0 AND customer.first_name = ?\n",
      "2024-03-21 10:46:58,081 INFO sqlalchemy.engine.Engine [generated in 0.00075s] ('Alex',)\n",
      "Alex Smith has an order with ID:1\n",
      "- phone: $300.00 *1\n",
      "- phone screen protector: $9.50 *1\n",
      "- headphone: $25.99 *1\n",
      "Alex Smith has an order with ID:2\n",
      "- memory card 256GB: $21.99 *1\n"
     ]
    }
   ],
   "source": [
    "orders = get_orders_for_customers(\n",
    "    conn, \"Alex\", is_shipped=False, details=True,\n",
    ")\n",
    "print_orders_for_customers(orders)"
   ]
  },
  {
   "cell_type": "markdown",
   "metadata": {},
   "source": [
    "Repeat, this time without including details:"
   ]
  },
  {
   "cell_type": "code",
   "execution_count": 1457,
   "metadata": {},
   "outputs": [
    {
     "name": "stdout",
     "output_type": "stream",
     "text": [
      "> Params: name=Alex, is_shipped=False, details=False\n",
      "2024-03-21 10:46:58,087 INFO sqlalchemy.engine.Engine SELECT customer.first_name, customer.last_name, \"order\".order_id, \"order\".is_shipped \n",
      "FROM customer JOIN \"order\" ON customer.customer_id = \"order\".customer_id \n",
      "WHERE \"order\".is_shipped = 0 AND customer.first_name = ?\n",
      "2024-03-21 10:46:58,088 INFO sqlalchemy.engine.Engine [generated in 0.00064s] ('Alex',)\n",
      "Alex Smith has an order with ID:1\n",
      "Alex Smith has an order with ID:2\n"
     ]
    }
   ],
   "source": [
    "orders = get_orders_for_customers(\n",
    "    conn, \"Alex\", is_shipped=False, details=False,\n",
    ")\n",
    "print_orders_for_customers(orders)"
   ]
  },
  {
   "cell_type": "markdown",
   "metadata": {},
   "source": [
    "Finally, display all shipped orders for Alex, excluding details (this should be empty):"
   ]
  },
  {
   "cell_type": "code",
   "execution_count": 1458,
   "metadata": {},
   "outputs": [
    {
     "name": "stdout",
     "output_type": "stream",
     "text": [
      "> Params: name=Alex, is_shipped=True, details=False\n",
      "2024-03-21 10:46:58,094 INFO sqlalchemy.engine.Engine SELECT customer.first_name, customer.last_name, \"order\".order_id, \"order\".is_shipped \n",
      "FROM customer JOIN \"order\" ON customer.customer_id = \"order\".customer_id \n",
      "WHERE \"order\".is_shipped = 1 AND customer.first_name = ?\n",
      "2024-03-21 10:46:58,095 INFO sqlalchemy.engine.Engine [generated in 0.00067s] ('Alex',)\n"
     ]
    }
   ],
   "source": [
    "orders = get_orders_for_customers(\n",
    "    conn, \"Alex\", is_shipped=True, details=False,\n",
    ")\n",
    "print_orders_for_customers(orders)"
   ]
  },
  {
   "cell_type": "markdown",
   "metadata": {},
   "source": [
    "Close the connection after you're done:"
   ]
  },
  {
   "cell_type": "code",
   "execution_count": 1459,
   "metadata": {},
   "outputs": [
    {
     "name": "stdout",
     "output_type": "stream",
     "text": [
      "2024-03-21 10:46:58,100 INFO sqlalchemy.engine.Engine ROLLBACK\n"
     ]
    }
   ],
   "source": [
    "conn.close()"
   ]
  }
 ],
 "metadata": {
  "kernelspec": {
   "display_name": "mybook_py310",
   "language": "python",
   "name": "python3"
  },
  "language_info": {
   "codemirror_mode": {
    "name": "ipython",
    "version": 3
   },
   "file_extension": ".py",
   "mimetype": "text/x-python",
   "name": "python",
   "nbconvert_exporter": "python",
   "pygments_lexer": "ipython3",
   "version": "3.10.10"
  }
 },
 "nbformat": 4,
 "nbformat_minor": 2
}
