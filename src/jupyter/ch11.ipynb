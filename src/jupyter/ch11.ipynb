{
 "cells": [
  {
   "cell_type": "markdown",
   "metadata": {},
   "source": [
    "# Chapter 11: ORM API Features for Querying"
   ]
  },
  {
   "cell_type": "markdown",
   "metadata": {},
   "source": [
    "Note: if you encounter strange errors, delete \"store.db\" and run all commands one-by-one."
   ]
  },
  {
   "cell_type": "markdown",
   "metadata": {},
   "source": [
    "Let's reset the database for this chapter (you need to change the database URL accordingly in \"models.py\"):"
   ]
  },
  {
   "cell_type": "code",
   "execution_count": 1,
   "metadata": {},
   "outputs": [
    {
     "name": "stdout",
     "output_type": "stream",
     "text": [
      "2024-03-29 14:22:19,677 INFO sqlalchemy.engine.Engine BEGIN (implicit)\n",
      "2024-03-29 14:22:19,678 INFO sqlalchemy.engine.Engine PRAGMA main.table_info(\"employee\")\n",
      "2024-03-29 14:22:19,679 INFO sqlalchemy.engine.Engine [raw sql] ()\n",
      "2024-03-29 14:22:19,679 INFO sqlalchemy.engine.Engine PRAGMA temp.table_info(\"employee\")\n",
      "2024-03-29 14:22:19,680 INFO sqlalchemy.engine.Engine [raw sql] ()\n",
      "2024-03-29 14:22:19,680 INFO sqlalchemy.engine.Engine PRAGMA main.table_info(\"customer\")\n",
      "2024-03-29 14:22:19,681 INFO sqlalchemy.engine.Engine [raw sql] ()\n",
      "2024-03-29 14:22:19,682 INFO sqlalchemy.engine.Engine PRAGMA temp.table_info(\"customer\")\n",
      "2024-03-29 14:22:19,682 INFO sqlalchemy.engine.Engine [raw sql] ()\n",
      "2024-03-29 14:22:19,683 INFO sqlalchemy.engine.Engine PRAGMA main.table_info(\"order\")\n",
      "2024-03-29 14:22:19,683 INFO sqlalchemy.engine.Engine [raw sql] ()\n",
      "2024-03-29 14:22:19,684 INFO sqlalchemy.engine.Engine PRAGMA temp.table_info(\"order\")\n",
      "2024-03-29 14:22:19,685 INFO sqlalchemy.engine.Engine [raw sql] ()\n",
      "2024-03-29 14:22:19,685 INFO sqlalchemy.engine.Engine PRAGMA main.table_info(\"order_detail\")\n",
      "2024-03-29 14:22:19,686 INFO sqlalchemy.engine.Engine [raw sql] ()\n",
      "2024-03-29 14:22:19,687 INFO sqlalchemy.engine.Engine PRAGMA temp.table_info(\"order_detail\")\n",
      "2024-03-29 14:22:19,687 INFO sqlalchemy.engine.Engine [raw sql] ()\n",
      "2024-03-29 14:22:19,688 INFO sqlalchemy.engine.Engine PRAGMA main.table_info(\"product\")\n",
      "2024-03-29 14:22:19,688 INFO sqlalchemy.engine.Engine [raw sql] ()\n",
      "2024-03-29 14:22:19,689 INFO sqlalchemy.engine.Engine PRAGMA temp.table_info(\"product\")\n",
      "2024-03-29 14:22:19,689 INFO sqlalchemy.engine.Engine [raw sql] ()\n",
      "2024-03-29 14:22:19,690 INFO sqlalchemy.engine.Engine COMMIT\n",
      "2024-03-29 14:22:19,690 INFO sqlalchemy.engine.Engine BEGIN (implicit)\n",
      "2024-03-29 14:22:19,691 INFO sqlalchemy.engine.Engine PRAGMA main.table_info(\"employee\")\n",
      "2024-03-29 14:22:19,691 INFO sqlalchemy.engine.Engine [raw sql] ()\n",
      "2024-03-29 14:22:19,692 INFO sqlalchemy.engine.Engine PRAGMA temp.table_info(\"employee\")\n",
      "2024-03-29 14:22:19,692 INFO sqlalchemy.engine.Engine [raw sql] ()\n",
      "2024-03-29 14:22:19,693 INFO sqlalchemy.engine.Engine PRAGMA main.table_info(\"customer\")\n",
      "2024-03-29 14:22:19,693 INFO sqlalchemy.engine.Engine [raw sql] ()\n",
      "2024-03-29 14:22:19,693 INFO sqlalchemy.engine.Engine PRAGMA temp.table_info(\"customer\")\n",
      "2024-03-29 14:22:19,694 INFO sqlalchemy.engine.Engine [raw sql] ()\n",
      "2024-03-29 14:22:19,694 INFO sqlalchemy.engine.Engine PRAGMA main.table_info(\"order\")\n",
      "2024-03-29 14:22:19,695 INFO sqlalchemy.engine.Engine [raw sql] ()\n",
      "2024-03-29 14:22:19,695 INFO sqlalchemy.engine.Engine PRAGMA temp.table_info(\"order\")\n",
      "2024-03-29 14:22:19,696 INFO sqlalchemy.engine.Engine [raw sql] ()\n",
      "2024-03-29 14:22:19,696 INFO sqlalchemy.engine.Engine PRAGMA main.table_info(\"order_detail\")\n",
      "2024-03-29 14:22:19,697 INFO sqlalchemy.engine.Engine [raw sql] ()\n",
      "2024-03-29 14:22:19,697 INFO sqlalchemy.engine.Engine PRAGMA temp.table_info(\"order_detail\")\n",
      "2024-03-29 14:22:19,697 INFO sqlalchemy.engine.Engine [raw sql] ()\n",
      "2024-03-29 14:22:19,698 INFO sqlalchemy.engine.Engine PRAGMA main.table_info(\"product\")\n",
      "2024-03-29 14:22:19,698 INFO sqlalchemy.engine.Engine [raw sql] ()\n",
      "2024-03-29 14:22:19,699 INFO sqlalchemy.engine.Engine PRAGMA temp.table_info(\"product\")\n",
      "2024-03-29 14:22:19,699 INFO sqlalchemy.engine.Engine [raw sql] ()\n",
      "2024-03-29 14:22:19,700 INFO sqlalchemy.engine.Engine \n",
      "CREATE TABLE employee (\n",
      "\temployee_id INTEGER NOT NULL, \n",
      "\tmanager_id INTEGER, \n",
      "\tname VARCHAR(127) NOT NULL CONSTRAINT name_length_must_be_at_least_one_character CHECK (length(name)>0), \n",
      "\tis_manager BOOLEAN NOT NULL, \n",
      "\thire_date DATE NOT NULL, \n",
      "\tPRIMARY KEY (employee_id), \n",
      "\tFOREIGN KEY(manager_id) REFERENCES employee (employee_id)\n",
      ")\n",
      "\n",
      "\n",
      "2024-03-29 14:22:19,701 INFO sqlalchemy.engine.Engine [no key 0.00047s] ()\n",
      "2024-03-29 14:22:19,717 INFO sqlalchemy.engine.Engine \n",
      "CREATE TABLE customer (\n",
      "\tcustomer_id INTEGER NOT NULL, \n",
      "\tfirst_name VARCHAR(127) NOT NULL, \n",
      "\tlast_name VARCHAR(127) NOT NULL, \n",
      "\taddress VARCHAR(255) NOT NULL, \n",
      "\temail VARCHAR(127) NOT NULL, \n",
      "\tPRIMARY KEY (customer_id), \n",
      "\tUNIQUE (email)\n",
      ")\n",
      "\n",
      "\n",
      "2024-03-29 14:22:19,718 INFO sqlalchemy.engine.Engine [no key 0.00057s] ()\n",
      "2024-03-29 14:22:19,724 INFO sqlalchemy.engine.Engine CREATE INDEX customer_full_name ON customer (first_name, last_name)\n",
      "2024-03-29 14:22:19,725 INFO sqlalchemy.engine.Engine [no key 0.00070s] ()\n",
      "2024-03-29 14:22:19,730 INFO sqlalchemy.engine.Engine \n",
      "CREATE TABLE product (\n",
      "\tproduct_id INTEGER NOT NULL, \n",
      "\tproduct_name VARCHAR(255) NOT NULL, \n",
      "\tunit_price NUMERIC(12, 2) NOT NULL CHECK (unit_price>0), \n",
      "\tunits_in_stock INTEGER NOT NULL CHECK (units_in_stock>=0), \n",
      "\ttype VARCHAR(9) NOT NULL, \n",
      "\tPRIMARY KEY (product_id)\n",
      ")\n",
      "\n",
      "\n",
      "2024-03-29 14:22:19,730 INFO sqlalchemy.engine.Engine [no key 0.00040s] ()\n",
      "2024-03-29 14:22:19,735 INFO sqlalchemy.engine.Engine CREATE INDEX ix_product_product_name ON product (product_name)\n",
      "2024-03-29 14:22:19,735 INFO sqlalchemy.engine.Engine [no key 0.00043s] ()\n",
      "2024-03-29 14:22:19,739 INFO sqlalchemy.engine.Engine \n",
      "CREATE TABLE \"order\" (\n",
      "\torder_id INTEGER NOT NULL, \n",
      "\tcustomer_id INTEGER NOT NULL, \n",
      "\temployee_id INTEGER, \n",
      "\torder_datetime DATETIME NOT NULL, \n",
      "\tis_shipped BOOLEAN NOT NULL, \n",
      "\tPRIMARY KEY (order_id), \n",
      "\tFOREIGN KEY(customer_id) REFERENCES customer (customer_id), \n",
      "\tFOREIGN KEY(employee_id) REFERENCES employee (employee_id)\n",
      ")\n",
      "\n",
      "\n",
      "2024-03-29 14:22:19,740 INFO sqlalchemy.engine.Engine [no key 0.00044s] ()\n",
      "2024-03-29 14:22:19,743 INFO sqlalchemy.engine.Engine \n",
      "CREATE TABLE order_detail (\n",
      "\torder_id INTEGER NOT NULL, \n",
      "\tproduct_id INTEGER NOT NULL, \n",
      "\tquantity INTEGER NOT NULL CONSTRAINT num_of_ordered_item_must_be_positive CHECK (quantity>0), \n",
      "\tPRIMARY KEY (order_id, product_id), \n",
      "\tFOREIGN KEY(order_id) REFERENCES \"order\" (order_id) ON DELETE CASCADE, \n",
      "\tFOREIGN KEY(product_id) REFERENCES product (product_id)\n",
      ")\n",
      "\n",
      "\n",
      "2024-03-29 14:22:19,743 INFO sqlalchemy.engine.Engine [no key 0.00043s] ()\n",
      "2024-03-29 14:22:19,745 INFO sqlalchemy.engine.Engine COMMIT\n"
     ]
    }
   ],
   "source": [
    "%run ../part2/models.py"
   ]
  },
  {
   "cell_type": "code",
   "execution_count": 2,
   "metadata": {},
   "outputs": [
    {
     "name": "stdout",
     "output_type": "stream",
     "text": [
      "2024-03-29 14:22:19,776 INFO sqlalchemy.engine.Engine BEGIN (implicit)\n",
      "2024-03-29 14:22:19,777 INFO sqlalchemy.engine.Engine INSERT INTO employee (manager_id, name, is_manager, hire_date) VALUES (?, ?, ?, ?)\n",
      "2024-03-29 14:22:19,778 INFO sqlalchemy.engine.Engine [generated in 0.00041s] (None, 'Alice', 1, '2024-03-28')\n",
      "2024-03-29 14:22:19,779 INFO sqlalchemy.engine.Engine INSERT INTO employee (manager_id, name, is_manager, hire_date) VALUES (?, ?, ?, ?) RETURNING employee_id\n",
      "2024-03-29 14:22:19,779 INFO sqlalchemy.engine.Engine [generated in 0.00010s (insertmanyvalues) 1/2 (ordered; batch not supported)] (1, 'Bob', 0, '2024-03-29')\n",
      "2024-03-29 14:22:19,780 INFO sqlalchemy.engine.Engine INSERT INTO employee (manager_id, name, is_manager, hire_date) VALUES (?, ?, ?, ?) RETURNING employee_id\n",
      "2024-03-29 14:22:19,780 INFO sqlalchemy.engine.Engine [insertmanyvalues 2/2 (ordered; batch not supported)] (1, 'Cathy', 0, '2024-03-29')\n",
      "2024-03-29 14:22:19,781 INFO sqlalchemy.engine.Engine INSERT INTO employee (manager_id, name, is_manager, hire_date) VALUES (?, ?, ?, ?)\n",
      "2024-03-29 14:22:19,781 INFO sqlalchemy.engine.Engine [cached since 0.004135s ago] (None, 'Louis', 1, '2024-02-28')\n",
      "2024-03-29 14:22:19,782 INFO sqlalchemy.engine.Engine INSERT INTO employee (manager_id, name, is_manager, hire_date) VALUES (?, ?, ?, ?)\n",
      "2024-03-29 14:22:19,783 INFO sqlalchemy.engine.Engine [cached since 0.00537s ago] (4, 'Lilly', 0, '2024-03-09')\n",
      "2024-03-29 14:22:19,784 INFO sqlalchemy.engine.Engine INSERT INTO employee (manager_id, name, is_manager, hire_date) VALUES (?, ?, ?, ?)\n",
      "2024-03-29 14:22:19,785 INFO sqlalchemy.engine.Engine [generated in 0.00048s] (None, 'Alice', 0, '2024-03-29')\n",
      "2024-03-29 14:22:19,785 INFO sqlalchemy.engine.Engine COMMIT\n",
      "2024-03-29 14:22:19,788 INFO sqlalchemy.engine.Engine BEGIN (implicit)\n",
      "2024-03-29 14:22:19,790 INFO sqlalchemy.engine.Engine SELECT employee.employee_id AS employee_employee_id, employee.manager_id AS employee_manager_id, employee.name AS employee_name, employee.is_manager AS employee_is_manager, employee.hire_date AS employee_hire_date \n",
      "FROM employee \n",
      "WHERE employee.employee_id = ?\n",
      "2024-03-29 14:22:19,790 INFO sqlalchemy.engine.Engine [generated in 0.00052s] (1,)\n",
      "2024-03-29 14:22:19,791 INFO sqlalchemy.engine.Engine SELECT employee.employee_id AS employee_employee_id, employee.manager_id AS employee_manager_id, employee.name AS employee_name, employee.is_manager AS employee_is_manager, employee.hire_date AS employee_hire_date \n",
      "FROM employee \n",
      "WHERE employee.employee_id = ?\n",
      "2024-03-29 14:22:19,792 INFO sqlalchemy.engine.Engine [cached since 0.002494s ago] (2,)\n",
      "2024-03-29 14:22:19,793 INFO sqlalchemy.engine.Engine SELECT employee.employee_id AS employee_employee_id, employee.manager_id AS employee_manager_id, employee.name AS employee_name, employee.is_manager AS employee_is_manager, employee.hire_date AS employee_hire_date \n",
      "FROM employee \n",
      "WHERE employee.employee_id = ?\n",
      "2024-03-29 14:22:19,793 INFO sqlalchemy.engine.Engine [cached since 0.003569s ago] (3,)\n",
      "2024-03-29 14:22:19,794 INFO sqlalchemy.engine.Engine SELECT employee.employee_id AS employee_employee_id, employee.manager_id AS employee_manager_id, employee.name AS employee_name, employee.is_manager AS employee_is_manager, employee.hire_date AS employee_hire_date \n",
      "FROM employee \n",
      "WHERE employee.employee_id = ?\n",
      "2024-03-29 14:22:19,794 INFO sqlalchemy.engine.Engine [cached since 0.004968s ago] (4,)\n",
      "2024-03-29 14:22:19,795 INFO sqlalchemy.engine.Engine SELECT employee.employee_id AS employee_employee_id, employee.manager_id AS employee_manager_id, employee.name AS employee_name, employee.is_manager AS employee_is_manager, employee.hire_date AS employee_hire_date \n",
      "FROM employee \n",
      "WHERE employee.employee_id = ?\n",
      "2024-03-29 14:22:19,796 INFO sqlalchemy.engine.Engine [cached since 0.006362s ago] (5,)\n",
      "2024-03-29 14:22:19,797 INFO sqlalchemy.engine.Engine SELECT employee.employee_id AS employee_employee_id, employee.manager_id AS employee_manager_id, employee.name AS employee_name, employee.is_manager AS employee_is_manager, employee.hire_date AS employee_hire_date \n",
      "FROM employee \n",
      "WHERE employee.employee_id = ?\n",
      "2024-03-29 14:22:19,797 INFO sqlalchemy.engine.Engine [cached since 0.007583s ago] (6,)\n",
      "# Employees IDs: [1, 2, 3, 4, 5, 6]\n",
      "2024-03-29 14:22:19,799 INFO sqlalchemy.engine.Engine INSERT INTO product (product_name, unit_price, units_in_stock, type) VALUES (?, ?, ?, ?) RETURNING product_id, product_name, unit_price, units_in_stock, type\n",
      "2024-03-29 14:22:19,800 INFO sqlalchemy.engine.Engine [generated in 0.00009s (insertmanyvalues) 1/5 (ordered; batch not supported)] ('phone', 300.0, 5, 'PHONE')\n",
      "2024-03-29 14:22:19,801 INFO sqlalchemy.engine.Engine INSERT INTO product (product_name, unit_price, units_in_stock, type) VALUES (?, ?, ?, ?) RETURNING product_id, product_name, unit_price, units_in_stock, type\n",
      "2024-03-29 14:22:19,801 INFO sqlalchemy.engine.Engine [insertmanyvalues 2/5 (ordered; batch not supported)] ('phone screen protector', 9.5, 10, 'ACCESSORY')\n",
      "2024-03-29 14:22:19,802 INFO sqlalchemy.engine.Engine INSERT INTO product (product_name, unit_price, units_in_stock, type) VALUES (?, ?, ?, ?) RETURNING product_id, product_name, unit_price, units_in_stock, type\n",
      "2024-03-29 14:22:19,802 INFO sqlalchemy.engine.Engine [insertmanyvalues 3/5 (ordered; batch not supported)] ('headphone', 25.99, 10, 'ACCESSORY')\n",
      "2024-03-29 14:22:19,803 INFO sqlalchemy.engine.Engine INSERT INTO product (product_name, unit_price, units_in_stock, type) VALUES (?, ?, ?, ?) RETURNING product_id, product_name, unit_price, units_in_stock, type\n",
      "2024-03-29 14:22:19,803 INFO sqlalchemy.engine.Engine [insertmanyvalues 4/5 (ordered; batch not supported)] ('digital camera', 45.99, 5, 'OTHER')\n",
      "2024-03-29 14:22:19,804 INFO sqlalchemy.engine.Engine INSERT INTO product (product_name, unit_price, units_in_stock, type) VALUES (?, ?, ?, ?) RETURNING product_id, product_name, unit_price, units_in_stock, type\n",
      "2024-03-29 14:22:19,804 INFO sqlalchemy.engine.Engine [insertmanyvalues 5/5 (ordered; batch not supported)] ('memory card 256GB', 21.99, 1, 'ACCESSORY')\n",
      "Product(product_id=1, product_name='phone', unit_price=300.00, units_in_stock=5, type='phone')\n",
      "Product(product_id=2, product_name='phone screen protector', unit_price=9.50, units_in_stock=10, type='accessory')\n",
      "Product(product_id=3, product_name='headphone', unit_price=25.99, units_in_stock=10, type='accessory')\n",
      "Product(product_id=4, product_name='digital camera', unit_price=45.99, units_in_stock=5, type='other')\n",
      "Product(product_id=5, product_name='memory card 256GB', unit_price=21.99, units_in_stock=1, type='accessory')\n",
      "2024-03-29 14:22:19,805 INFO sqlalchemy.engine.Engine COMMIT\n",
      "# Product IDs: [1, 2, 3, 4, 5]\n",
      "2024-03-29 14:22:19,807 INFO sqlalchemy.engine.Engine BEGIN (implicit)\n",
      "2024-03-29 14:22:19,808 INFO sqlalchemy.engine.Engine INSERT INTO customer (first_name, last_name, address, email) VALUES (?, ?, ?, ?)\n",
      "2024-03-29 14:22:19,809 INFO sqlalchemy.engine.Engine [generated in 0.00064s] ('Alex', 'Smith', '618 Oak Lane, CA', 'alex_smith@test.com')\n",
      "2024-03-29 14:22:19,810 INFO sqlalchemy.engine.Engine INSERT INTO customer (first_name, last_name, address, email) VALUES (?, ?, ?, ?)\n",
      "2024-03-29 14:22:19,811 INFO sqlalchemy.engine.Engine [cached since 0.002435s ago] ('Mary', 'Taylor', '200-139 Jefferson Street, NY', 'mary_taylor@test.com')\n",
      "2024-03-29 14:22:19,811 INFO sqlalchemy.engine.Engine COMMIT\n",
      "# Customer IDs: [1, 2]\n",
      "2024-03-29 14:22:19,813 INFO sqlalchemy.engine.Engine BEGIN (implicit)\n",
      "2024-03-29 14:22:19,814 INFO sqlalchemy.engine.Engine INSERT INTO \"order\" (customer_id, employee_id, order_datetime, is_shipped) VALUES (?, ?, ?, ?)\n",
      "2024-03-29 14:22:19,815 INFO sqlalchemy.engine.Engine [generated in 0.00046s] (1, None, '2024-03-29 14:22:19.814764', 0)\n",
      "2024-03-29 14:22:19,816 INFO sqlalchemy.engine.Engine INSERT INTO order_detail (order_id, product_id, quantity) VALUES (?, ?, ?)\n",
      "2024-03-29 14:22:19,816 INFO sqlalchemy.engine.Engine [generated in 0.00030s] [(1, 1, 1), (1, 2, 1), (1, 3, 1)]\n",
      "2024-03-29 14:22:19,817 INFO sqlalchemy.engine.Engine INSERT INTO \"order\" (customer_id, employee_id, order_datetime, is_shipped) VALUES (?, ?, ?, ?)\n",
      "2024-03-29 14:22:19,817 INFO sqlalchemy.engine.Engine [cached since 0.003263s ago] (1, None, '2024-03-29 14:22:19.817572', 0)\n",
      "2024-03-29 14:22:19,818 INFO sqlalchemy.engine.Engine INSERT INTO order_detail (order_id, product_id, quantity) VALUES (?, ?, ?)\n",
      "2024-03-29 14:22:19,819 INFO sqlalchemy.engine.Engine [generated in 0.00045s] (2, 5, 1)\n",
      "2024-03-29 14:22:19,819 INFO sqlalchemy.engine.Engine INSERT INTO \"order\" (customer_id, employee_id, order_datetime, is_shipped) VALUES (?, ?, ?, ?)\n",
      "2024-03-29 14:22:19,820 INFO sqlalchemy.engine.Engine [cached since 0.005568s ago] (2, None, '2024-03-29 14:22:19.819909', 0)\n",
      "2024-03-29 14:22:19,821 INFO sqlalchemy.engine.Engine INSERT INTO order_detail (order_id, product_id, quantity) VALUES (?, ?, ?)\n",
      "2024-03-29 14:22:19,821 INFO sqlalchemy.engine.Engine [cached since 0.005208s ago] [(3, 4, 1), (3, 5, 2)]\n",
      "2024-03-29 14:22:19,823 INFO sqlalchemy.engine.Engine COMMIT\n",
      "2024-03-29 14:22:19,825 INFO sqlalchemy.engine.Engine BEGIN (implicit)\n",
      "2024-03-29 14:22:19,826 INFO sqlalchemy.engine.Engine SELECT \"order\".order_id AS order_order_id, \"order\".customer_id AS order_customer_id, \"order\".employee_id AS order_employee_id, \"order\".order_datetime AS order_order_datetime, \"order\".is_shipped AS order_is_shipped \n",
      "FROM \"order\" \n",
      "WHERE \"order\".order_id = ?\n",
      "2024-03-29 14:22:19,826 INFO sqlalchemy.engine.Engine [generated in 0.00051s] (3,)\n",
      "# Order IDs: [1, 2, 3]\n",
      "2024-03-29 14:22:19,828 INFO sqlalchemy.engine.Engine ROLLBACK\n"
     ]
    }
   ],
   "source": [
    "%run ../part2/insert.py"
   ]
  },
  {
   "cell_type": "markdown",
   "metadata": {},
   "source": [
    "## ORM Loader Options"
   ]
  },
  {
   "cell_type": "markdown",
   "metadata": {},
   "source": [
    "Load models and other necessary symbols:"
   ]
  },
  {
   "cell_type": "code",
   "execution_count": 3,
   "metadata": {},
   "outputs": [],
   "source": [
    "import sys\n",
    "import os\n",
    "\n",
    "# Get the current working directory\n",
    "current_dir = os.getcwd()\n",
    "\n",
    "# Get the parent directory of the current directory\n",
    "parent_dir = os.path.abspath(os.path.join(current_dir, os.pardir))\n",
    "\n",
    "# Get the sibling directory's path\n",
    "sibling_dir = os.path.join(parent_dir, 'part2')\n",
    "\n",
    "# Add the sibling directory to the Python path\n",
    "sys.path.append(sibling_dir)"
   ]
  },
  {
   "cell_type": "code",
   "execution_count": 4,
   "metadata": {},
   "outputs": [],
   "source": [
    "from models import *"
   ]
  },
  {
   "cell_type": "markdown",
   "metadata": {},
   "source": [
    "Create a session object:"
   ]
  },
  {
   "cell_type": "code",
   "execution_count": 5,
   "metadata": {},
   "outputs": [],
   "source": [
    "session = SessionMaker()"
   ]
  },
  {
   "cell_type": "markdown",
   "metadata": {},
   "source": [
    "### Column Loading Options"
   ]
  },
  {
   "cell_type": "markdown",
   "metadata": {},
   "source": [
    "Necessary imports:"
   ]
  },
  {
   "cell_type": "code",
   "execution_count": 6,
   "metadata": {},
   "outputs": [],
   "source": [
    "import logging\n",
    "import threading\n",
    "\n",
    "from models import Customer, Employee, Order, OrderDetail, SessionMaker\n",
    "from sqlalchemy import select, update\n",
    "from sqlalchemy.exc import SQLAlchemyError\n",
    "from sqlalchemy.orm import (Session, defer, load_only, selectinload, undefer,\n",
    "                            undefer_group)"
   ]
  },
  {
   "cell_type": "markdown",
   "metadata": {},
   "source": [
    "Using the `load_only()` loader option:"
   ]
  },
  {
   "cell_type": "code",
   "execution_count": 7,
   "metadata": {},
   "outputs": [],
   "source": [
    "stmt = (\n",
    "    select(Employee)\n",
    "    .filter_by(employee_id=1)\n",
    "    .options(load_only(Employee.name))\n",
    ")"
   ]
  },
  {
   "cell_type": "markdown",
   "metadata": {},
   "source": [
    "The generated SQL selects only the primary key and \"name\" columns:"
   ]
  },
  {
   "cell_type": "code",
   "execution_count": 8,
   "metadata": {},
   "outputs": [
    {
     "name": "stdout",
     "output_type": "stream",
     "text": [
      "SELECT employee.employee_id, employee.name \n",
      "FROM employee \n",
      "WHERE employee.employee_id = :employee_id_1\n"
     ]
    }
   ],
   "source": [
    "print(stmt)"
   ]
  },
  {
   "cell_type": "code",
   "execution_count": 9,
   "metadata": {},
   "outputs": [
    {
     "name": "stdout",
     "output_type": "stream",
     "text": [
      "2024-03-29 14:22:19,858 INFO sqlalchemy.engine.Engine BEGIN (implicit)\n",
      "2024-03-29 14:22:19,859 INFO sqlalchemy.engine.Engine SELECT employee.employee_id, employee.name \n",
      "FROM employee \n",
      "WHERE employee.employee_id = ?\n",
      "2024-03-29 14:22:19,860 INFO sqlalchemy.engine.Engine [generated in 0.00052s] (1,)\n"
     ]
    }
   ],
   "source": [
    "employee = session.scalar(stmt)"
   ]
  },
  {
   "cell_type": "markdown",
   "metadata": {},
   "source": [
    "When an unloaded attribute is accessed, lazy loading is triggered. In this case,\n",
    "it fetches the \"hire_date\" column, emitting the following SQL:"
   ]
  },
  {
   "cell_type": "code",
   "execution_count": 10,
   "metadata": {},
   "outputs": [
    {
     "name": "stdout",
     "output_type": "stream",
     "text": [
      "# Accessing employee.hire_date (using lazy loading):\n",
      "2024-03-29 14:22:19,864 INFO sqlalchemy.engine.Engine SELECT employee.hire_date AS employee_hire_date \n",
      "FROM employee \n",
      "WHERE employee.employee_id = ?\n",
      "2024-03-29 14:22:19,865 INFO sqlalchemy.engine.Engine [generated in 0.00064s] (1,)\n",
      "Alice is hired on 2024-03-28.\n"
     ]
    }
   ],
   "source": [
    "if employee is not None:\n",
    "    print(\"# Accessing employee.hire_date (using lazy loading):\")\n",
    "    print(f\"{employee.name} is hired on {employee.hire_date}.\")"
   ]
  },
  {
   "cell_type": "markdown",
   "metadata": {},
   "source": [
    "Remove the instance from the session, since we're going to load the same row again later:"
   ]
  },
  {
   "cell_type": "code",
   "execution_count": 11,
   "metadata": {},
   "outputs": [],
   "source": [
    "session.expunge(employee)"
   ]
  },
  {
   "cell_type": "markdown",
   "metadata": {},
   "source": [
    "Using the `defer()` loader option:"
   ]
  },
  {
   "cell_type": "code",
   "execution_count": 12,
   "metadata": {},
   "outputs": [],
   "source": [
    "stmt = (\n",
    "    select(Employee)\n",
    "    .filter_by(employee_id=1)\n",
    "    .options(\n",
    "        defer(Employee.hire_date),\n",
    "        defer(Employee.manager_id),\n",
    "        defer(Employee.is_manager),\n",
    "    )\n",
    ")"
   ]
  },
  {
   "cell_type": "code",
   "execution_count": 13,
   "metadata": {},
   "outputs": [
    {
     "name": "stdout",
     "output_type": "stream",
     "text": [
      "SELECT employee.employee_id, employee.name \n",
      "FROM employee \n",
      "WHERE employee.employee_id = :employee_id_1\n"
     ]
    }
   ],
   "source": [
    "print(stmt)"
   ]
  },
  {
   "cell_type": "code",
   "execution_count": 14,
   "metadata": {},
   "outputs": [
    {
     "name": "stdout",
     "output_type": "stream",
     "text": [
      "2024-03-29 14:22:19,882 INFO sqlalchemy.engine.Engine SELECT employee.employee_id, employee.name \n",
      "FROM employee \n",
      "WHERE employee.employee_id = ?\n",
      "2024-03-29 14:22:19,882 INFO sqlalchemy.engine.Engine [generated in 0.00068s] (1,)\n"
     ]
    }
   ],
   "source": [
    "employee = session.scalar(stmt)"
   ]
  },
  {
   "cell_type": "code",
   "execution_count": 15,
   "metadata": {},
   "outputs": [
    {
     "name": "stdout",
     "output_type": "stream",
     "text": [
      "# Loading deferred column:\n",
      "2024-03-29 14:22:19,887 INFO sqlalchemy.engine.Engine SELECT employee.hire_date AS employee_hire_date \n",
      "FROM employee \n",
      "WHERE employee.employee_id = ?\n",
      "2024-03-29 14:22:19,888 INFO sqlalchemy.engine.Engine [generated in 0.00069s] (1,)\n",
      "Alice is hired on 2024-03-28.\n"
     ]
    }
   ],
   "source": [
    "if employee is not None:\n",
    "    print(\"# Loading deferred column:\")\n",
    "    print(f\"{employee.name} is hired on {employee.hire_date}.\")"
   ]
  },
  {
   "cell_type": "code",
   "execution_count": 16,
   "metadata": {},
   "outputs": [],
   "source": [
    "session.expunge(employee)"
   ]
  },
  {
   "cell_type": "markdown",
   "metadata": {},
   "source": [
    "Configuring Deferral on Column Mappings:"
   ]
  },
  {
   "cell_type": "markdown",
   "metadata": {},
   "source": [
    "```python\n",
    "class Customer(Base):\n",
    "    __tablename__ = \"customer\"\n",
    "\n",
    "    address: Mapped[str_255] = mapped_column(\n",
    "        deferred=True,\n",
    "        deferred_group=\"customer_attributes\",\n",
    "    )\n",
    "    ...\n",
    "```"
   ]
  },
  {
   "cell_type": "code",
   "execution_count": 17,
   "metadata": {},
   "outputs": [],
   "source": [
    "stmt = select(Customer)"
   ]
  },
  {
   "cell_type": "markdown",
   "metadata": {},
   "source": [
    "The \"address\" column is excluded from the initial fetch:"
   ]
  },
  {
   "cell_type": "code",
   "execution_count": 18,
   "metadata": {},
   "outputs": [
    {
     "name": "stdout",
     "output_type": "stream",
     "text": [
      "SELECT customer.customer_id, customer.first_name, customer.last_name, customer.email \n",
      "FROM customer\n"
     ]
    }
   ],
   "source": [
    "print(stmt)"
   ]
  },
  {
   "cell_type": "markdown",
   "metadata": {},
   "source": [
    "`undefer()` and `undefer_group()`:"
   ]
  },
  {
   "cell_type": "markdown",
   "metadata": {},
   "source": [
    "Applying the `undefer()` loader option to a deferred column:"
   ]
  },
  {
   "cell_type": "code",
   "execution_count": 19,
   "metadata": {},
   "outputs": [],
   "source": [
    "stmt = select(Customer).options(undefer(Customer.address))"
   ]
  },
  {
   "cell_type": "markdown",
   "metadata": {},
   "source": [
    "`Customer.address` is now eagerly loaded:"
   ]
  },
  {
   "cell_type": "code",
   "execution_count": 20,
   "metadata": {},
   "outputs": [
    {
     "name": "stdout",
     "output_type": "stream",
     "text": [
      "SELECT customer.customer_id, customer.first_name, customer.last_name, customer.address, customer.email \n",
      "FROM customer\n"
     ]
    }
   ],
   "source": [
    "print(stmt)"
   ]
  },
  {
   "cell_type": "markdown",
   "metadata": {},
   "source": [
    "Alternatively, you can use `undefer_group()` with the target group name to\n",
    "achieve the same effect:"
   ]
  },
  {
   "cell_type": "code",
   "execution_count": 21,
   "metadata": {},
   "outputs": [],
   "source": [
    "stmt = select(Customer).options(undefer_group(\"customer_attributes\"))"
   ]
  },
  {
   "cell_type": "code",
   "execution_count": 22,
   "metadata": {},
   "outputs": [
    {
     "name": "stdout",
     "output_type": "stream",
     "text": [
      "SELECT customer.customer_id, customer.first_name, customer.last_name, customer.address, customer.email \n",
      "FROM customer\n"
     ]
    }
   ],
   "source": [
    "print(stmt)"
   ]
  },
  {
   "cell_type": "markdown",
   "metadata": {},
   "source": [
    "To undefer all deferred columns at once, you can use a wildcard:"
   ]
  },
  {
   "cell_type": "code",
   "execution_count": 23,
   "metadata": {},
   "outputs": [],
   "source": [
    "stmt = select(Customer).options(undefer(\"*\"))"
   ]
  },
  {
   "cell_type": "code",
   "execution_count": 24,
   "metadata": {},
   "outputs": [
    {
     "name": "stdout",
     "output_type": "stream",
     "text": [
      "SELECT NULL AS anon_1, customer.customer_id, customer.first_name, customer.last_name, customer.address, customer.email \n",
      "FROM customer\n"
     ]
    }
   ],
   "source": [
    "print(stmt)"
   ]
  },
  {
   "cell_type": "markdown",
   "metadata": {},
   "source": [
    "Enabling `raiseload` on deferred columns:"
   ]
  },
  {
   "cell_type": "code",
   "execution_count": 25,
   "metadata": {},
   "outputs": [],
   "source": [
    "stmt = (\n",
    "    select(Employee)\n",
    "    .filter_by(employee_id=1)\n",
    "    .options(load_only(Employee.name, raiseload=True))\n",
    ")"
   ]
  },
  {
   "cell_type": "code",
   "execution_count": 26,
   "metadata": {},
   "outputs": [
    {
     "name": "stdout",
     "output_type": "stream",
     "text": [
      "SELECT employee.employee_id, employee.name \n",
      "FROM employee \n",
      "WHERE employee.employee_id = :employee_id_1\n"
     ]
    }
   ],
   "source": [
    "print(stmt)"
   ]
  },
  {
   "cell_type": "code",
   "execution_count": 27,
   "metadata": {},
   "outputs": [
    {
     "name": "stdout",
     "output_type": "stream",
     "text": [
      "2024-03-29 14:22:19,938 INFO sqlalchemy.engine.Engine SELECT employee.employee_id, employee.name \n",
      "FROM employee \n",
      "WHERE employee.employee_id = ?\n",
      "2024-03-29 14:22:19,939 INFO sqlalchemy.engine.Engine [generated in 0.00058s] (1,)\n"
     ]
    }
   ],
   "source": [
    "employee = session.scalar(stmt)"
   ]
  },
  {
   "cell_type": "code",
   "execution_count": 28,
   "metadata": {},
   "outputs": [
    {
     "name": "stdout",
     "output_type": "stream",
     "text": [
      "Accessing employee name: Alice\n"
     ]
    }
   ],
   "source": [
    "print(\"Accessing employee name:\", employee.name)"
   ]
  },
  {
   "cell_type": "markdown",
   "metadata": {},
   "source": [
    "An error occurs due to `raiseload=True`:"
   ]
  },
  {
   "cell_type": "code",
   "execution_count": 29,
   "metadata": {},
   "outputs": [
    {
     "name": "stdout",
     "output_type": "stream",
     "text": [
      "'Employee.hire_date' is not available due to raiseload=True\n"
     ]
    }
   ],
   "source": [
    "try:\n",
    "    print(\"Accessing other columns:\", employee.hire_date)\n",
    "except Exception as e:\n",
    "    print(e)"
   ]
  },
  {
   "cell_type": "code",
   "execution_count": 30,
   "metadata": {},
   "outputs": [],
   "source": [
    "session.expunge(employee)"
   ]
  },
  {
   "cell_type": "markdown",
   "metadata": {},
   "source": [
    "### Relationship Loading Techniques"
   ]
  },
  {
   "cell_type": "markdown",
   "metadata": {},
   "source": [
    "Relationship loading strategies include: lazy loading (the default behavior), select IN\n",
    "eager loading, joined eager loading, and raise loading, and others."
   ]
  },
  {
   "cell_type": "markdown",
   "metadata": {},
   "source": [
    "You can configure loading strategies with the `lazy` parameter in\n",
    "`relationship()`."
   ]
  },
  {
   "cell_type": "markdown",
   "metadata": {},
   "source": [
    "`lazy=\"select\"` is the default lazy loading strategy, other possible values\n",
    "include `\"selectin\"` and `\"joined\"`:"
   ]
  },
  {
   "cell_type": "markdown",
   "metadata": {},
   "source": [
    "```python\n",
    "class Customer(Base):\n",
    "\n",
    "    orders: Mapped[list[Order]] = relationship(\n",
    "        lazy=\"select\",\n",
    "        back_populates=\"customer\",\n",
    "        init=False,\n",
    "        repr=False,\n",
    "        order_by=\"desc(Order.order_id)\",\n",
    "    )\n",
    "    ...\n",
    "```"
   ]
  },
  {
   "cell_type": "markdown",
   "metadata": {},
   "source": [
    "Eagerly loading relationships using `Select.options()`:"
   ]
  },
  {
   "cell_type": "code",
   "execution_count": 31,
   "metadata": {},
   "outputs": [],
   "source": [
    "stmt = (\n",
    "    select(Order)\n",
    "    .options(\n",
    "        selectinload(Order.order_details)\n",
    "        .joinedload(OrderDetail.product)\n",
    "    )\n",
    "    .filter_by(order_id=1)\n",
    ")"
   ]
  },
  {
   "cell_type": "code",
   "execution_count": 32,
   "metadata": {},
   "outputs": [
    {
     "name": "stdout",
     "output_type": "stream",
     "text": [
      "SELECT \"order\".order_id, \"order\".customer_id, \"order\".employee_id, \"order\".order_datetime, \"order\".is_shipped \n",
      "FROM \"order\" \n",
      "WHERE \"order\".order_id = :order_id_1\n"
     ]
    }
   ],
   "source": [
    "print(stmt)"
   ]
  },
  {
   "cell_type": "markdown",
   "metadata": {},
   "source": [
    "The SQL emitted eagerly loads both order details and products:"
   ]
  },
  {
   "cell_type": "code",
   "execution_count": 33,
   "metadata": {},
   "outputs": [
    {
     "name": "stdout",
     "output_type": "stream",
     "text": [
      "2024-03-29 14:22:19,963 INFO sqlalchemy.engine.Engine SELECT \"order\".order_id, \"order\".customer_id, \"order\".employee_id, \"order\".order_datetime, \"order\".is_shipped \n",
      "FROM \"order\" \n",
      "WHERE \"order\".order_id = ?\n",
      "2024-03-29 14:22:19,964 INFO sqlalchemy.engine.Engine [generated in 0.00072s] (1,)\n",
      "2024-03-29 14:22:19,970 INFO sqlalchemy.engine.Engine SELECT order_detail.order_id AS order_detail_order_id, order_detail.product_id AS order_detail_product_id, order_detail.quantity AS order_detail_quantity, product_1.product_id AS product_1_product_id, product_1.product_name AS product_1_product_name, product_1.unit_price AS product_1_unit_price, product_1.units_in_stock AS product_1_units_in_stock, product_1.type AS product_1_type \n",
      "FROM order_detail LEFT OUTER JOIN product AS product_1 ON product_1.product_id = order_detail.product_id \n",
      "WHERE order_detail.order_id IN (?)\n",
      "2024-03-29 14:22:19,978 INFO sqlalchemy.engine.Engine [generated in 0.00861s] (1,)\n"
     ]
    }
   ],
   "source": [
    "order = session.scalar(stmt)"
   ]
  },
  {
   "cell_type": "markdown",
   "metadata": {},
   "source": [
    "```sql\n",
    "SELECT\n",
    "    order_detail.order_id AS order_detail_order_id,\n",
    "    order_detail.product_id AS order_detail_product_id,\n",
    "    order_detail.quantity AS order_detail_quantity,\n",
    "    product_1.product_id AS product_1_product_id,\n",
    "    product_1.product_name AS product_1_product_name,\n",
    "    product_1.unit_price AS product_1_unit_price,\n",
    "    product_1.units_in_stock AS product_1_units_in_stock,\n",
    "    product_1.type AS product_1_type\n",
    "FROM\n",
    "    order_detail\n",
    "LEFT OUTER JOIN product AS product_1\n",
    "ON\n",
    "    product_1.product_id = order_detail.product_id\n",
    "WHERE\n",
    "    order_detail.order_id IN (1)\n",
    "```"
   ]
  },
  {
   "cell_type": "code",
   "execution_count": 34,
   "metadata": {},
   "outputs": [
    {
     "name": "stdout",
     "output_type": "stream",
     "text": [
      "# Accessing related data does not trigger lazy loading: \n",
      "Content of order #1:\n",
      "phone x1\n",
      "phone screen protector x1\n",
      "headphone x1\n"
     ]
    }
   ],
   "source": [
    "if order is not None:\n",
    "    print(\"# Accessing related data does not trigger lazy loading: \")\n",
    "    print(f\"Content of order #{order.order_id}:\")\n",
    "    for od in order.order_details:\n",
    "        print(f\"{od.product.product_name} x{od.quantity}\")"
   ]
  },
  {
   "cell_type": "code",
   "execution_count": 35,
   "metadata": {},
   "outputs": [],
   "source": [
    "session.expunge(order)"
   ]
  },
  {
   "cell_type": "markdown",
   "metadata": {},
   "source": [
    "### The \"N + 1\" problem"
   ]
  },
  {
   "cell_type": "markdown",
   "metadata": {},
   "source": [
    "An example of the \"N + 1\" problem:"
   ]
  },
  {
   "cell_type": "code",
   "execution_count": 36,
   "metadata": {},
   "outputs": [
    {
     "name": "stdout",
     "output_type": "stream",
     "text": [
      "2024-03-29 14:22:19,999 INFO sqlalchemy.engine.Engine SELECT customer.customer_id, customer.first_name, customer.last_name, customer.email \n",
      "FROM customer\n",
      "2024-03-29 14:22:20,000 INFO sqlalchemy.engine.Engine [generated in 0.00126s] ()\n",
      "> Customer: #1\n",
      "2024-03-29 14:22:20,005 INFO sqlalchemy.engine.Engine SELECT \"order\".order_id AS order_order_id, \"order\".customer_id AS order_customer_id, \"order\".employee_id AS order_employee_id, \"order\".order_datetime AS order_order_datetime, \"order\".is_shipped AS order_is_shipped \n",
      "FROM \"order\" \n",
      "WHERE ? = \"order\".customer_id ORDER BY \"order\".order_id DESC\n",
      "2024-03-29 14:22:20,006 INFO sqlalchemy.engine.Engine [generated in 0.00072s] (1,)\n",
      ">   order #2 at 2024-03-29 14:22:19.817572\n",
      ">   order #1 at 2024-03-29 14:22:19.814764\n",
      "> Customer: #2\n",
      "2024-03-29 14:22:20,007 INFO sqlalchemy.engine.Engine SELECT \"order\".order_id AS order_order_id, \"order\".customer_id AS order_customer_id, \"order\".employee_id AS order_employee_id, \"order\".order_datetime AS order_order_datetime, \"order\".is_shipped AS order_is_shipped \n",
      "FROM \"order\" \n",
      "WHERE ? = \"order\".customer_id ORDER BY \"order\".order_id DESC\n",
      "2024-03-29 14:22:20,007 INFO sqlalchemy.engine.Engine [cached since 0.002573s ago] (2,)\n",
      ">   order #3 at 2024-03-29 14:22:19.819909\n"
     ]
    }
   ],
   "source": [
    "# the 1 part of the \"N+1\" problem\n",
    "customers = session.scalars(select(Customer))\n",
    "\n",
    "for customer in customers:\n",
    "    print(f\"> Customer: #{customer.customer_id}\")\n",
    "    for order in customer.orders:  # the N part of the \"N+1\" problem\n",
    "        print(f\">   order #{order.order_id} at {order.order_datetime}\")"
   ]
  },
  {
   "cell_type": "code",
   "execution_count": 37,
   "metadata": {},
   "outputs": [],
   "source": [
    "session.expunge_all()"
   ]
  },
  {
   "cell_type": "markdown",
   "metadata": {},
   "source": [
    "Tackling the N+1 problem with eager loading:"
   ]
  },
  {
   "cell_type": "code",
   "execution_count": 38,
   "metadata": {},
   "outputs": [
    {
     "name": "stdout",
     "output_type": "stream",
     "text": [
      "2024-03-29 14:22:20,019 INFO sqlalchemy.engine.Engine SELECT customer.customer_id, customer.first_name, customer.last_name, customer.email \n",
      "FROM customer\n",
      "2024-03-29 14:22:20,019 INFO sqlalchemy.engine.Engine [generated in 0.00098s] ()\n",
      "2024-03-29 14:22:20,022 INFO sqlalchemy.engine.Engine SELECT \"order\".customer_id AS order_customer_id, \"order\".order_id AS order_order_id, \"order\".employee_id AS order_employee_id, \"order\".order_datetime AS order_order_datetime, \"order\".is_shipped AS order_is_shipped \n",
      "FROM \"order\" \n",
      "WHERE \"order\".customer_id IN (?, ?) ORDER BY \"order\".order_id DESC\n",
      "2024-03-29 14:22:20,022 INFO sqlalchemy.engine.Engine [generated in 0.00052s] (1, 2)\n",
      "> Customer: #1\n",
      ">   order #2 at 2024-03-29 14:22:19.817572\n",
      ">   order #1 at 2024-03-29 14:22:19.814764\n",
      "> Customer: #2\n",
      ">   order #3 at 2024-03-29 14:22:19.819909\n"
     ]
    }
   ],
   "source": [
    "customers = session.scalars(select(Customer).options(selectinload(Customer.orders)))\n",
    "for customer in customers:\n",
    "    print(f\"> Customer: #{customer.customer_id}\")\n",
    "    for order in customer.orders:\n",
    "        print(f\">   order #{order.order_id} at {order.order_datetime}\")"
   ]
  },
  {
   "cell_type": "code",
   "execution_count": 39,
   "metadata": {},
   "outputs": [],
   "source": [
    "session.expunge_all()"
   ]
  },
  {
   "cell_type": "markdown",
   "metadata": {},
   "source": [
    "Tackling the N+1 problem with a join:"
   ]
  },
  {
   "cell_type": "code",
   "execution_count": 40,
   "metadata": {},
   "outputs": [
    {
     "name": "stdout",
     "output_type": "stream",
     "text": [
      "2024-03-29 14:22:20,034 INFO sqlalchemy.engine.Engine SELECT customer.customer_id, \"order\".order_id, \"order\".order_datetime \n",
      "FROM customer JOIN \"order\" ON customer.customer_id = \"order\".customer_id ORDER BY customer.customer_id, \"order\".order_id\n",
      "2024-03-29 14:22:20,036 INFO sqlalchemy.engine.Engine [generated in 0.00194s] ()\n",
      "> Customer: #1\n",
      ">   order #1 at 2024-03-29 14:22:19.814764\n",
      ">   order #2 at 2024-03-29 14:22:19.817572\n",
      "> Customer: #2\n",
      ">   order #3 at 2024-03-29 14:22:19.819909\n"
     ]
    }
   ],
   "source": [
    "stmt = (\n",
    "    select(\n",
    "        Customer.customer_id,\n",
    "        Order.order_id,\n",
    "        Order.order_datetime,\n",
    "    )\n",
    "    .select_from(Customer)\n",
    "    .join(Customer.orders)\n",
    "    .order_by(Customer.customer_id, Order.order_id)\n",
    ")\n",
    "results = session.execute(stmt)\n",
    "\n",
    "current_customer_id = None\n",
    "for row in results:\n",
    "    customer_id = row.customer_id\n",
    "    if current_customer_id != customer_id:\n",
    "        current_customer_id = customer_id\n",
    "        print(f\"> Customer: #{current_customer_id}\")\n",
    "    print(f\">   order #{row.order_id} at {row.order_datetime}\")"
   ]
  },
  {
   "cell_type": "code",
   "execution_count": 41,
   "metadata": {},
   "outputs": [],
   "source": [
    "session.expunge_all()"
   ]
  },
  {
   "cell_type": "markdown",
   "metadata": {},
   "source": [
    "## ORM Execution Options"
   ]
  },
  {
   "cell_type": "markdown",
   "metadata": {},
   "source": [
    "Function modifying order shipping status in another thread:"
   ]
  },
  {
   "cell_type": "code",
   "execution_count": 42,
   "metadata": {},
   "outputs": [],
   "source": [
    "def change_shipping_status(customer_id, status):\n",
    "    with SessionMaker() as session:\n",
    "        s1 = (\n",
    "            select(Order.order_id)\n",
    "            .where(Order.customer_id == customer_id)\n",
    "            .order_by(Order.order_datetime)\n",
    "            .limit(1)\n",
    "        )\n",
    "        order_id = session.scalar(s1)\n",
    "        if order_id is not None:\n",
    "            s2 = (\n",
    "                update(Order)\n",
    "                .where(Order.order_id == order_id)\n",
    "                .values(is_shipped=status)\n",
    "            )\n",
    "            session.execute(s2)\n",
    "            session.commit()"
   ]
  },
  {
   "cell_type": "markdown",
   "metadata": {},
   "source": [
    "Demonstrating the usage of the `populate_existing` execution option:"
   ]
  },
  {
   "cell_type": "code",
   "execution_count": 43,
   "metadata": {},
   "outputs": [],
   "source": [
    "TARGET_CUSTOMER_ID = 2"
   ]
  },
  {
   "cell_type": "code",
   "execution_count": 44,
   "metadata": {},
   "outputs": [],
   "source": [
    "stmt = (\n",
    "    select(Customer)\n",
    "    .where(Customer.customer_id == TARGET_CUSTOMER_ID)\n",
    "    .options(selectinload(Customer.orders))\n",
    ")"
   ]
  },
  {
   "cell_type": "markdown",
   "metadata": {},
   "source": [
    "Initial loading populates the identity map:"
   ]
  },
  {
   "cell_type": "code",
   "execution_count": 45,
   "metadata": {},
   "outputs": [
    {
     "name": "stdout",
     "output_type": "stream",
     "text": [
      "(1) Initial loading:\n",
      "2024-03-29 14:22:20,062 INFO sqlalchemy.engine.Engine SELECT customer.customer_id, customer.first_name, customer.last_name, customer.email \n",
      "FROM customer \n",
      "WHERE customer.customer_id = ?\n",
      "2024-03-29 14:22:20,062 INFO sqlalchemy.engine.Engine [generated in 0.00069s] (2,)\n",
      "2024-03-29 14:22:20,064 INFO sqlalchemy.engine.Engine SELECT \"order\".customer_id AS order_customer_id, \"order\".order_id AS order_order_id, \"order\".employee_id AS order_employee_id, \"order\".order_datetime AS order_order_datetime, \"order\".is_shipped AS order_is_shipped \n",
      "FROM \"order\" \n",
      "WHERE \"order\".customer_id IN (?) ORDER BY \"order\".order_id DESC\n",
      "2024-03-29 14:22:20,064 INFO sqlalchemy.engine.Engine [cached since 0.04216s ago] (2,)\n",
      "Original: [Order(order_id=3, customer_id=2, employee_id=None, order_datetime=datetime.datetime(2024, 3, 29, 14, 22, 19, 819909), is_shipped=False)]\n"
     ]
    }
   ],
   "source": [
    "print(\"(1) Initial loading:\")\n",
    "customer = session.scalar(stmt)\n",
    "if customer is not None:\n",
    "    print(\"Original:\", customer.orders)"
   ]
  },
  {
   "cell_type": "markdown",
   "metadata": {},
   "source": [
    "Change customer order's shipping status to true in another thread:"
   ]
  },
  {
   "cell_type": "code",
   "execution_count": 46,
   "metadata": {},
   "outputs": [
    {
     "name": "stdout",
     "output_type": "stream",
     "text": [
      "2024-03-29 14:22:20,070 INFO sqlalchemy.engine.Engine BEGIN (implicit)\n",
      "2024-03-29 14:22:20,071 INFO sqlalchemy.engine.Engine SELECT \"order\".order_id \n",
      "FROM \"order\" \n",
      "WHERE \"order\".customer_id = ? ORDER BY \"order\".order_datetime\n",
      " LIMIT ? OFFSET ?\n",
      "2024-03-29 14:22:20,072 INFO sqlalchemy.engine.Engine [generated in 0.00039s] (2, 1, 0)\n",
      "2024-03-29 14:22:20,073 INFO sqlalchemy.engine.Engine UPDATE \"order\" SET is_shipped=? WHERE \"order\".order_id = ?\n",
      "2024-03-29 14:22:20,074 INFO sqlalchemy.engine.Engine [generated in 0.00042s] (1, 3)\n",
      "2024-03-29 14:22:20,075 INFO sqlalchemy.engine.Engine COMMIT\n"
     ]
    }
   ],
   "source": [
    "worker_thread = threading.Thread(\n",
    "    target=change_shipping_status,\n",
    "    args=(TARGET_CUSTOMER_ID, True),\n",
    ")\n",
    "worker_thread.start()\n",
    "worker_thread.join()"
   ]
  },
  {
   "cell_type": "markdown",
   "metadata": {},
   "source": [
    "Normal loading will not refresh the orders in the identity map:"
   ]
  },
  {
   "cell_type": "code",
   "execution_count": 47,
   "metadata": {},
   "outputs": [
    {
     "name": "stdout",
     "output_type": "stream",
     "text": [
      "(2) Normal loading after the update in another thread:\n",
      "2024-03-29 14:22:20,082 INFO sqlalchemy.engine.Engine SELECT customer.customer_id, customer.first_name, customer.last_name, customer.email \n",
      "FROM customer \n",
      "WHERE customer.customer_id = ?\n",
      "2024-03-29 14:22:20,082 INFO sqlalchemy.engine.Engine [cached since 0.02087s ago] (2,)\n",
      "2024-03-29 14:22:20,084 INFO sqlalchemy.engine.Engine SELECT \"order\".customer_id AS order_customer_id, \"order\".order_id AS order_order_id, \"order\".employee_id AS order_employee_id, \"order\".order_datetime AS order_order_datetime, \"order\".is_shipped AS order_is_shipped \n",
      "FROM \"order\" \n",
      "WHERE \"order\".customer_id IN (?) ORDER BY \"order\".order_id DESC\n",
      "2024-03-29 14:22:20,084 INFO sqlalchemy.engine.Engine [cached since 0.06211s ago] (2,)\n",
      "Updated but not refreshed: [Order(order_id=3, customer_id=2, employee_id=None, order_datetime=datetime.datetime(2024, 3, 29, 14, 22, 19, 819909), is_shipped=False)]\n"
     ]
    }
   ],
   "source": [
    "print(\"(2) Normal loading after the update in another thread:\")\n",
    "customer = session.scalar(stmt)\n",
    "if customer is not None:\n",
    "    print(\"Updated but not refreshed:\", customer.orders)"
   ]
  },
  {
   "cell_type": "markdown",
   "metadata": {},
   "source": [
    "But with populate_existing, it reloads and you can see the changes:"
   ]
  },
  {
   "cell_type": "code",
   "execution_count": 48,
   "metadata": {},
   "outputs": [
    {
     "name": "stdout",
     "output_type": "stream",
     "text": [
      "(3) Loading with populate existing enabled:\n",
      "2024-03-29 14:22:20,090 INFO sqlalchemy.engine.Engine SELECT customer.customer_id, customer.first_name, customer.last_name, customer.email \n",
      "FROM customer \n",
      "WHERE customer.customer_id = ?\n",
      "2024-03-29 14:22:20,091 INFO sqlalchemy.engine.Engine [generated in 0.00075s] (2,)\n",
      "2024-03-29 14:22:20,092 INFO sqlalchemy.engine.Engine SELECT \"order\".customer_id AS order_customer_id, \"order\".order_id AS order_order_id, \"order\".employee_id AS order_employee_id, \"order\".order_datetime AS order_order_datetime, \"order\".is_shipped AS order_is_shipped \n",
      "FROM \"order\" \n",
      "WHERE \"order\".customer_id IN (?) ORDER BY \"order\".order_id DESC\n",
      "2024-03-29 14:22:20,092 INFO sqlalchemy.engine.Engine [cached since 0.07032s ago] (2,)\n",
      "Updated and refreshed: [Order(order_id=3, customer_id=2, employee_id=None, order_datetime=datetime.datetime(2024, 3, 29, 14, 22, 19, 819909), is_shipped=True)]\n"
     ]
    }
   ],
   "source": [
    "print(\"(3) Loading with populate existing enabled:\")\n",
    "stmt = stmt.execution_options(populate_existing=True)\n",
    "customer = session.scalar(stmt)\n",
    "if customer is not None:\n",
    "    print(\"Updated and refreshed:\", customer.orders)"
   ]
  },
  {
   "cell_type": "markdown",
   "metadata": {},
   "source": [
    "This example serves solely to illustrate the `populate_existing` execution\n",
    "option. It is important to keep in mind that the recommended approach for\n",
    "obtaining updated status is to simply commit the session (and re-query).\n",
    "Alternatively, you can expire session objects to achieve the same result."
   ]
  },
  {
   "cell_type": "markdown",
   "metadata": {},
   "source": [
    "Remember to close the session:"
   ]
  },
  {
   "cell_type": "code",
   "execution_count": 49,
   "metadata": {},
   "outputs": [
    {
     "name": "stdout",
     "output_type": "stream",
     "text": [
      "2024-03-29 14:22:20,098 INFO sqlalchemy.engine.Engine ROLLBACK\n"
     ]
    }
   ],
   "source": [
    "session.close()"
   ]
  }
 ],
 "metadata": {
  "kernelspec": {
   "display_name": "mybook_py310",
   "language": "python",
   "name": "python3"
  },
  "language_info": {
   "codemirror_mode": {
    "name": "ipython",
    "version": 3
   },
   "file_extension": ".py",
   "mimetype": "text/x-python",
   "name": "python",
   "nbconvert_exporter": "python",
   "pygments_lexer": "ipython3",
   "version": "3.10.10"
  }
 },
 "nbformat": 4,
 "nbformat_minor": 2
}
