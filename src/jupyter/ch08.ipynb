{
 "cells": [
  {
   "cell_type": "markdown",
   "metadata": {},
   "source": [
    "# Chapter 8: Defining ORM Data Models"
   ]
  },
  {
   "cell_type": "markdown",
   "metadata": {},
   "source": [
    "Note: use models from \"ch08_dataclass.ipynb\" for later chapters."
   ]
  },
  {
   "cell_type": "markdown",
   "metadata": {},
   "source": [
    "Define function to remove database file:"
   ]
  },
  {
   "cell_type": "code",
   "execution_count": 834,
   "metadata": {},
   "outputs": [],
   "source": [
    "import os\n",
    "\n",
    "def remove_file(file_name):\n",
    "    if os.path.exists(file_name):\n",
    "        os.remove(file_name)\n",
    "        print(f\"{file_name} has been removed.\")\n",
    "    else:\n",
    "        print(f\"{file_name} does not exist.\")\n"
   ]
  },
  {
   "cell_type": "code",
   "execution_count": 835,
   "metadata": {},
   "outputs": [
    {
     "name": "stdout",
     "output_type": "stream",
     "text": [
      "store.db has been removed.\n"
     ]
    }
   ],
   "source": [
    "remove_file(\"store.db\")"
   ]
  },
  {
   "cell_type": "markdown",
   "metadata": {},
   "source": [
    "Postponed Evaluation of Annotations:"
   ]
  },
  {
   "cell_type": "code",
   "execution_count": 836,
   "metadata": {},
   "outputs": [],
   "source": [
    "from __future__ import annotations  # PEP-563"
   ]
  },
  {
   "cell_type": "markdown",
   "metadata": {},
   "source": [
    "Necessary imports:"
   ]
  },
  {
   "cell_type": "code",
   "execution_count": 837,
   "metadata": {},
   "outputs": [],
   "source": [
    "import datetime\n",
    "import enum\n",
    "from decimal import Decimal\n",
    "from typing import Annotated\n",
    "\n",
    "from sqlalchemy import (CheckConstraint, ForeignKey, Index, Numeric, String,\n",
    "                        create_engine)\n",
    "from sqlalchemy.ext.associationproxy import AssociationProxy, association_proxy\n",
    "from sqlalchemy.orm import (DeclarativeBase, Mapped, MappedAsDataclass,\n",
    "                            mapped_column, query_expression, relationship,\n",
    "                            sessionmaker)"
   ]
  },
  {
   "cell_type": "markdown",
   "metadata": {},
   "source": [
    "Database URL and engine settings:"
   ]
  },
  {
   "cell_type": "code",
   "execution_count": 838,
   "metadata": {},
   "outputs": [],
   "source": [
    "DATABASE_URL = \"sqlite+pysqlite:///store.db\""
   ]
  },
  {
   "cell_type": "code",
   "execution_count": 839,
   "metadata": {},
   "outputs": [],
   "source": [
    "engine = create_engine(\n",
    "    DATABASE_URL,\n",
    "    echo=True,\n",
    ")"
   ]
  },
  {
   "cell_type": "markdown",
   "metadata": {},
   "source": [
    "Base class for declarative mapping:"
   ]
  },
  {
   "cell_type": "code",
   "execution_count": 840,
   "metadata": {},
   "outputs": [],
   "source": [
    "class Base(DeclarativeBase):\n",
    "    pass"
   ]
  },
  {
   "cell_type": "code",
   "execution_count": 841,
   "metadata": {},
   "outputs": [
    {
     "data": {
      "text/plain": [
       "MetaData()"
      ]
     },
     "execution_count": 841,
     "metadata": {},
     "output_type": "execute_result"
    }
   ],
   "source": [
    "Base.metadata"
   ]
  },
  {
   "cell_type": "markdown",
   "metadata": {},
   "source": [
    "Defining the product table:"
   ]
  },
  {
   "cell_type": "code",
   "execution_count": 842,
   "metadata": {},
   "outputs": [],
   "source": [
    "from sqlalchemy.types import Integer"
   ]
  },
  {
   "cell_type": "code",
   "execution_count": 843,
   "metadata": {},
   "outputs": [],
   "source": [
    "class ProductType(enum.Enum):\n",
    "    PHONE = 0\n",
    "    ACCESSORY = 1\n",
    "    OTHER = 2"
   ]
  },
  {
   "cell_type": "code",
   "execution_count": 844,
   "metadata": {},
   "outputs": [],
   "source": [
    "class Product(Base):\n",
    "    __tablename__ = \"product\"\n",
    "\n",
    "    product_id: Mapped[int] = mapped_column(\n",
    "        \"id\",\n",
    "        Integer,\n",
    "        primary_key=True,\n",
    "    )\n",
    "    product_name: Mapped[str] = mapped_column(\n",
    "        String(255),\n",
    "        index=True,\n",
    "    )\n",
    "    unit_price: Mapped[Decimal] = mapped_column(\n",
    "        Numeric(12, 2),\n",
    "        CheckConstraint(\"unit_price>0\"),\n",
    "    )\n",
    "    units_in_stock: Mapped[int] = mapped_column(\n",
    "        CheckConstraint(\"units_in_stock>=0\"),\n",
    "        default=0,\n",
    "    )\n",
    "    type: Mapped[ProductType] = mapped_column(\n",
    "        default=ProductType.OTHER,\n",
    "    )"
   ]
  },
  {
   "cell_type": "markdown",
   "metadata": {},
   "source": [
    "The automatically generated `Table` object:"
   ]
  },
  {
   "cell_type": "code",
   "execution_count": 845,
   "metadata": {},
   "outputs": [
    {
     "data": {
      "text/plain": [
       "Table('product', MetaData(), Column('id', Integer(), table=<product>, primary_key=True, nullable=False), Column('product_name', String(length=255), table=<product>, nullable=False), Column('unit_price', Numeric(precision=12, scale=2), CheckConstraint(<sqlalchemy.sql.elements.TextClause object at 0x7f1612deeb90>), table=<product>, nullable=False), Column('units_in_stock', Integer(), CheckConstraint(<sqlalchemy.sql.elements.TextClause object at 0x7f1612def100>), table=<product>, nullable=False, default=ScalarElementColumnDefault(0)), Column('type', Enum('PHONE', 'ACCESSORY', 'OTHER', name='producttype'), table=<product>, nullable=False, default=ScalarElementColumnDefault(<ProductType.OTHER: 2>)), schema=None)"
      ]
     },
     "execution_count": 845,
     "metadata": {},
     "output_type": "execute_result"
    }
   ],
   "source": [
    "Product.__table__"
   ]
  },
  {
   "cell_type": "markdown",
   "metadata": {},
   "source": [
    "Create the table with `Metadata.create_all()`:"
   ]
  },
  {
   "cell_type": "code",
   "execution_count": 846,
   "metadata": {},
   "outputs": [
    {
     "name": "stdout",
     "output_type": "stream",
     "text": [
      "2024-03-25 20:52:21,312 INFO sqlalchemy.engine.Engine BEGIN (implicit)\n",
      "2024-03-25 20:52:21,313 INFO sqlalchemy.engine.Engine PRAGMA main.table_info(\"product\")\n",
      "2024-03-25 20:52:21,313 INFO sqlalchemy.engine.Engine [raw sql] ()\n",
      "2024-03-25 20:52:21,316 INFO sqlalchemy.engine.Engine PRAGMA temp.table_info(\"product\")\n",
      "2024-03-25 20:52:21,316 INFO sqlalchemy.engine.Engine [raw sql] ()\n",
      "2024-03-25 20:52:21,318 INFO sqlalchemy.engine.Engine \n",
      "CREATE TABLE product (\n",
      "\tid INTEGER NOT NULL, \n",
      "\tproduct_name VARCHAR(255) NOT NULL, \n",
      "\tunit_price NUMERIC(12, 2) NOT NULL CHECK (unit_price>0), \n",
      "\tunits_in_stock INTEGER NOT NULL CHECK (units_in_stock>=0), \n",
      "\ttype VARCHAR(9) NOT NULL, \n",
      "\tPRIMARY KEY (id)\n",
      ")\n",
      "\n",
      "\n",
      "2024-03-25 20:52:21,319 INFO sqlalchemy.engine.Engine [no key 0.00074s] ()\n",
      "2024-03-25 20:52:21,322 INFO sqlalchemy.engine.Engine CREATE INDEX ix_product_product_name ON product (product_name)\n",
      "2024-03-25 20:52:21,323 INFO sqlalchemy.engine.Engine [no key 0.00046s] ()\n",
      "2024-03-25 20:52:21,325 INFO sqlalchemy.engine.Engine COMMIT\n"
     ]
    }
   ],
   "source": [
    "Base.metadata.create_all(engine)"
   ]
  },
  {
   "cell_type": "markdown",
   "metadata": {},
   "source": [
    "Let's remove the database file to test other settings:"
   ]
  },
  {
   "cell_type": "code",
   "execution_count": 847,
   "metadata": {},
   "outputs": [],
   "source": [
    "engine.dispose()"
   ]
  },
  {
   "cell_type": "code",
   "execution_count": 848,
   "metadata": {},
   "outputs": [
    {
     "name": "stdout",
     "output_type": "stream",
     "text": [
      "store.db has been removed.\n"
     ]
    }
   ],
   "source": [
    "remove_file(\"store.db\")"
   ]
  },
  {
   "cell_type": "markdown",
   "metadata": {},
   "source": [
    "Customizing the type map (integer to small integer):"
   ]
  },
  {
   "cell_type": "code",
   "execution_count": 849,
   "metadata": {},
   "outputs": [],
   "source": [
    "from sqlalchemy.types import SmallInteger"
   ]
  },
  {
   "cell_type": "markdown",
   "metadata": {},
   "source": [
    "Redefine the base class:"
   ]
  },
  {
   "cell_type": "code",
   "execution_count": 850,
   "metadata": {},
   "outputs": [],
   "source": [
    "class Base(DeclarativeBase):\n",
    "    type_annotation_map = {\n",
    "        int: SmallInteger,\n",
    "    }"
   ]
  },
  {
   "cell_type": "markdown",
   "metadata": {},
   "source": [
    "Using the new base class (note that we're using `server_default` for `units_in_stock` here):"
   ]
  },
  {
   "cell_type": "code",
   "execution_count": 851,
   "metadata": {},
   "outputs": [],
   "source": [
    "class Product(Base):\n",
    "    __tablename__ = \"product\"\n",
    "\n",
    "    product_id: Mapped[int] = mapped_column(\n",
    "        \"id\",\n",
    "        Integer,\n",
    "        primary_key=True,\n",
    "    )\n",
    "\n",
    "    units_in_stock: Mapped[int] = mapped_column(\n",
    "        CheckConstraint(\"units_in_stock>=0\"),\n",
    "        server_default=\"0.0\",\n",
    "    )"
   ]
  },
  {
   "cell_type": "code",
   "execution_count": 852,
   "metadata": {},
   "outputs": [
    {
     "name": "stdout",
     "output_type": "stream",
     "text": [
      "2024-03-25 20:52:21,354 INFO sqlalchemy.engine.Engine BEGIN (implicit)\n",
      "2024-03-25 20:52:21,355 INFO sqlalchemy.engine.Engine PRAGMA main.table_info(\"product\")\n",
      "2024-03-25 20:52:21,355 INFO sqlalchemy.engine.Engine [raw sql] ()\n",
      "2024-03-25 20:52:21,356 INFO sqlalchemy.engine.Engine PRAGMA temp.table_info(\"product\")\n",
      "2024-03-25 20:52:21,356 INFO sqlalchemy.engine.Engine [raw sql] ()\n",
      "2024-03-25 20:52:21,357 INFO sqlalchemy.engine.Engine \n",
      "CREATE TABLE product (\n",
      "\tid INTEGER NOT NULL, \n",
      "\tunits_in_stock SMALLINT DEFAULT '0.0' NOT NULL CHECK (units_in_stock>=0), \n",
      "\tPRIMARY KEY (id)\n",
      ")\n",
      "\n",
      "\n",
      "2024-03-25 20:52:21,357 INFO sqlalchemy.engine.Engine [no key 0.00028s] ()\n",
      "2024-03-25 20:52:21,359 INFO sqlalchemy.engine.Engine COMMIT\n"
     ]
    }
   ],
   "source": [
    "Base.metadata.create_all(engine)"
   ]
  },
  {
   "cell_type": "code",
   "execution_count": 853,
   "metadata": {},
   "outputs": [],
   "source": [
    "engine.dispose()"
   ]
  },
  {
   "cell_type": "code",
   "execution_count": 854,
   "metadata": {},
   "outputs": [
    {
     "name": "stdout",
     "output_type": "stream",
     "text": [
      "store.db has been removed.\n"
     ]
    }
   ],
   "source": [
    "remove_file(\"store.db\")"
   ]
  },
  {
   "cell_type": "markdown",
   "metadata": {},
   "source": [
    "## Defining Reusable Types with `Annotated`"
   ]
  },
  {
   "cell_type": "markdown",
   "metadata": {},
   "source": [
    "Defining a reusable type for integer primary keys:"
   ]
  },
  {
   "cell_type": "code",
   "execution_count": 855,
   "metadata": {},
   "outputs": [],
   "source": [
    "int_pk = Annotated[int, mapped_column(primary_key=True)]"
   ]
  },
  {
   "cell_type": "markdown",
   "metadata": {},
   "source": [
    "Defining other reusable types:"
   ]
  },
  {
   "cell_type": "code",
   "execution_count": 856,
   "metadata": {},
   "outputs": [],
   "source": [
    "# date with default set to today\n",
    "date_auto = Annotated[datetime.date,\n",
    "                      mapped_column(default=datetime.date.today)]\n",
    "\n",
    "# timestamp with default set to now\n",
    "timestamp_auto = Annotated[datetime.datetime,\n",
    "                           mapped_column(default=datetime.datetime.now)]\n",
    "\n",
    "# strings with different length\n",
    "str_127 = Annotated[str, mapped_column(String(127))]\n",
    "str_255 = Annotated[str, mapped_column(String(255))]\n",
    "\n",
    "# a number with specified precision and scale\n",
    "num_12_2 = Annotated[Decimal, mapped_column(Numeric(12, 2))]"
   ]
  },
  {
   "cell_type": "markdown",
   "metadata": {},
   "source": [
    "Get a new base class:"
   ]
  },
  {
   "cell_type": "code",
   "execution_count": 857,
   "metadata": {},
   "outputs": [],
   "source": [
    "class Base(DeclarativeBase):\n",
    "    pass"
   ]
  },
  {
   "cell_type": "markdown",
   "metadata": {},
   "source": [
    "Product table:"
   ]
  },
  {
   "cell_type": "code",
   "execution_count": 858,
   "metadata": {},
   "outputs": [],
   "source": [
    "class Product(Base):\n",
    "    __tablename__ = \"product\"\n",
    "\n",
    "    product_id: Mapped[int_pk]\n",
    "    product_name: Mapped[str_255] = mapped_column(\n",
    "        index=True,\n",
    "    )\n",
    "    unit_price: Mapped[num_12_2] = mapped_column(\n",
    "        CheckConstraint(\"unit_price>0\"),\n",
    "    )\n",
    "    units_in_stock: Mapped[int] = mapped_column(\n",
    "        CheckConstraint(\"units_in_stock>=0\"),\n",
    "        default=0,\n",
    "    )\n",
    "    type: Mapped[ProductType] = mapped_column(\n",
    "        default=ProductType.OTHER,\n",
    "    )"
   ]
  },
  {
   "cell_type": "markdown",
   "metadata": {},
   "source": [
    "Employee table:"
   ]
  },
  {
   "cell_type": "code",
   "execution_count": 859,
   "metadata": {},
   "outputs": [],
   "source": [
    "class Employee(Base):\n",
    "    __tablename__ = \"employee\"\n",
    "\n",
    "    employee_id: Mapped[int_pk]\n",
    "\n",
    "    manager_id: Mapped[int | None] = mapped_column(\n",
    "        ForeignKey(\"employee.employee_id\"),\n",
    "        default=None,\n",
    "    )\n",
    "\n",
    "    name: Mapped[str_127] = mapped_column(\n",
    "        CheckConstraint(\n",
    "            \"length(name)>0\",\n",
    "            name=\"name_length_must_be_at_least_one_character\",\n",
    "        ),\n",
    "        default=\"\",\n",
    "    )\n",
    "    is_manager: Mapped[bool] = mapped_column(default=False)\n",
    "    hire_date: Mapped[date_auto]"
   ]
  },
  {
   "cell_type": "markdown",
   "metadata": {},
   "source": [
    "Customer table:"
   ]
  },
  {
   "cell_type": "code",
   "execution_count": 860,
   "metadata": {},
   "outputs": [],
   "source": [
    "class Customer(Base):\n",
    "    __tablename__ = \"customer\"\n",
    "\n",
    "    customer_id: Mapped[int_pk]\n",
    "\n",
    "    first_name: Mapped[str_127]\n",
    "    last_name: Mapped[str_127]\n",
    "    address: Mapped[str_255]\n",
    "    email: Mapped[str_127] = mapped_column(unique=True)\n",
    "\n",
    "    __table_args__ = (\n",
    "        Index(\"customer_full_name\", \"first_name\", \"last_name\"),\n",
    "    )"
   ]
  },
  {
   "cell_type": "markdown",
   "metadata": {},
   "source": [
    "Order table:"
   ]
  },
  {
   "cell_type": "code",
   "execution_count": 861,
   "metadata": {},
   "outputs": [],
   "source": [
    "class Order(Base):\n",
    "    __tablename__ = \"order\"\n",
    "\n",
    "    order_id: Mapped[int_pk]\n",
    "\n",
    "    customer_id: Mapped[int] = mapped_column(\n",
    "        ForeignKey(\"customer.customer_id\"),\n",
    "        default=None,\n",
    "    )\n",
    "    employee_id: Mapped[int | None] = mapped_column(\n",
    "        ForeignKey(\"employee.employee_id\"),\n",
    "        default=None,\n",
    "    )\n",
    "\n",
    "    order_datetime: Mapped[timestamp_auto]\n",
    "    is_shipped: Mapped[bool] = mapped_column(default=False)\n",
    "\n",
    "    order_details: Mapped[list[OrderDetail]] = relationship(\n",
    "        back_populates=\"order\",\n",
    "        cascade=\"all, delete-orphan\",\n",
    "        passive_deletes=True,\n",
    "    )"
   ]
  },
  {
   "cell_type": "markdown",
   "metadata": {},
   "source": [
    "Order detail table:"
   ]
  },
  {
   "cell_type": "code",
   "execution_count": 862,
   "metadata": {},
   "outputs": [],
   "source": [
    "class OrderDetail(Base):\n",
    "\n",
    "    __tablename__ = \"order_detail\"\n",
    "\n",
    "    order_id: Mapped[int] = mapped_column(\n",
    "        ForeignKey(\"order.order_id\", ondelete=\"CASCADE\"),\n",
    "        primary_key=True,\n",
    "        default=None,\n",
    "    )\n",
    "    product_id: Mapped[int] = mapped_column(\n",
    "        ForeignKey(\"product.product_id\"),\n",
    "        primary_key=True,\n",
    "        default=None,\n",
    "    )\n",
    "\n",
    "    quantity: Mapped[int] = mapped_column(\n",
    "        CheckConstraint(\n",
    "            \"quantity>0\",\n",
    "            name=\"num_of_ordered_item_must_be_positive\",\n",
    "        ),\n",
    "        default=1,\n",
    "    )"
   ]
  },
  {
   "cell_type": "markdown",
   "metadata": {},
   "source": [
    "Creating the tables:"
   ]
  },
  {
   "cell_type": "code",
   "execution_count": 863,
   "metadata": {},
   "outputs": [
    {
     "name": "stdout",
     "output_type": "stream",
     "text": [
      "2024-03-25 20:52:21,415 INFO sqlalchemy.engine.Engine BEGIN (implicit)\n",
      "2024-03-25 20:52:21,415 INFO sqlalchemy.engine.Engine PRAGMA main.table_info(\"product\")\n",
      "2024-03-25 20:52:21,416 INFO sqlalchemy.engine.Engine [raw sql] ()\n",
      "2024-03-25 20:52:21,416 INFO sqlalchemy.engine.Engine PRAGMA temp.table_info(\"product\")\n",
      "2024-03-25 20:52:21,416 INFO sqlalchemy.engine.Engine [raw sql] ()\n",
      "2024-03-25 20:52:21,417 INFO sqlalchemy.engine.Engine PRAGMA main.table_info(\"employee\")\n",
      "2024-03-25 20:52:21,417 INFO sqlalchemy.engine.Engine [raw sql] ()\n",
      "2024-03-25 20:52:21,418 INFO sqlalchemy.engine.Engine PRAGMA temp.table_info(\"employee\")\n",
      "2024-03-25 20:52:21,418 INFO sqlalchemy.engine.Engine [raw sql] ()\n",
      "2024-03-25 20:52:21,418 INFO sqlalchemy.engine.Engine PRAGMA main.table_info(\"customer\")\n",
      "2024-03-25 20:52:21,419 INFO sqlalchemy.engine.Engine [raw sql] ()\n",
      "2024-03-25 20:52:21,419 INFO sqlalchemy.engine.Engine PRAGMA temp.table_info(\"customer\")\n",
      "2024-03-25 20:52:21,419 INFO sqlalchemy.engine.Engine [raw sql] ()\n",
      "2024-03-25 20:52:21,420 INFO sqlalchemy.engine.Engine PRAGMA main.table_info(\"order\")\n",
      "2024-03-25 20:52:21,420 INFO sqlalchemy.engine.Engine [raw sql] ()\n",
      "2024-03-25 20:52:21,421 INFO sqlalchemy.engine.Engine PRAGMA temp.table_info(\"order\")\n",
      "2024-03-25 20:52:21,421 INFO sqlalchemy.engine.Engine [raw sql] ()\n",
      "2024-03-25 20:52:21,421 INFO sqlalchemy.engine.Engine PRAGMA main.table_info(\"order_detail\")\n",
      "2024-03-25 20:52:21,422 INFO sqlalchemy.engine.Engine [raw sql] ()\n",
      "2024-03-25 20:52:21,422 INFO sqlalchemy.engine.Engine PRAGMA temp.table_info(\"order_detail\")\n",
      "2024-03-25 20:52:21,422 INFO sqlalchemy.engine.Engine [raw sql] ()\n",
      "2024-03-25 20:52:21,423 INFO sqlalchemy.engine.Engine \n",
      "CREATE TABLE product (\n",
      "\tproduct_id INTEGER NOT NULL, \n",
      "\tproduct_name VARCHAR(255) NOT NULL, \n",
      "\tunit_price NUMERIC(12, 2) NOT NULL CHECK (unit_price>0), \n",
      "\tunits_in_stock INTEGER NOT NULL CHECK (units_in_stock>=0), \n",
      "\ttype VARCHAR(9) NOT NULL, \n",
      "\tPRIMARY KEY (product_id)\n",
      ")\n",
      "\n",
      "\n",
      "2024-03-25 20:52:21,423 INFO sqlalchemy.engine.Engine [no key 0.00028s] ()\n",
      "2024-03-25 20:52:21,426 INFO sqlalchemy.engine.Engine CREATE INDEX ix_product_product_name ON product (product_name)\n",
      "2024-03-25 20:52:21,426 INFO sqlalchemy.engine.Engine [no key 0.00043s] ()\n",
      "2024-03-25 20:52:21,429 INFO sqlalchemy.engine.Engine \n",
      "CREATE TABLE employee (\n",
      "\temployee_id INTEGER NOT NULL, \n",
      "\tmanager_id INTEGER, \n",
      "\tname VARCHAR(127) NOT NULL CONSTRAINT name_length_must_be_at_least_one_character CHECK (length(name)>0), \n",
      "\tis_manager BOOLEAN NOT NULL, \n",
      "\thire_date DATE NOT NULL, \n",
      "\tPRIMARY KEY (employee_id), \n",
      "\tFOREIGN KEY(manager_id) REFERENCES employee (employee_id)\n",
      ")\n",
      "\n",
      "\n",
      "2024-03-25 20:52:21,429 INFO sqlalchemy.engine.Engine [no key 0.00033s] ()\n",
      "2024-03-25 20:52:21,432 INFO sqlalchemy.engine.Engine \n",
      "CREATE TABLE customer (\n",
      "\tcustomer_id INTEGER NOT NULL, \n",
      "\tfirst_name VARCHAR(127) NOT NULL, \n",
      "\tlast_name VARCHAR(127) NOT NULL, \n",
      "\taddress VARCHAR(255) NOT NULL, \n",
      "\temail VARCHAR(127) NOT NULL, \n",
      "\tPRIMARY KEY (customer_id), \n",
      "\tUNIQUE (email)\n",
      ")\n",
      "\n",
      "\n",
      "2024-03-25 20:52:21,432 INFO sqlalchemy.engine.Engine [no key 0.00029s] ()\n",
      "2024-03-25 20:52:21,434 INFO sqlalchemy.engine.Engine CREATE INDEX customer_full_name ON customer (first_name, last_name)\n",
      "2024-03-25 20:52:21,435 INFO sqlalchemy.engine.Engine [no key 0.00032s] ()\n",
      "2024-03-25 20:52:21,437 INFO sqlalchemy.engine.Engine \n",
      "CREATE TABLE \"order\" (\n",
      "\torder_id INTEGER NOT NULL, \n",
      "\tcustomer_id INTEGER NOT NULL, \n",
      "\temployee_id INTEGER, \n",
      "\torder_datetime DATETIME NOT NULL, \n",
      "\tis_shipped BOOLEAN NOT NULL, \n",
      "\tPRIMARY KEY (order_id), \n",
      "\tFOREIGN KEY(customer_id) REFERENCES customer (customer_id), \n",
      "\tFOREIGN KEY(employee_id) REFERENCES employee (employee_id)\n",
      ")\n",
      "\n",
      "\n",
      "2024-03-25 20:52:21,437 INFO sqlalchemy.engine.Engine [no key 0.00033s] ()\n",
      "2024-03-25 20:52:21,440 INFO sqlalchemy.engine.Engine \n",
      "CREATE TABLE order_detail (\n",
      "\torder_id INTEGER NOT NULL, \n",
      "\tproduct_id INTEGER NOT NULL, \n",
      "\tquantity INTEGER NOT NULL CONSTRAINT num_of_ordered_item_must_be_positive CHECK (quantity>0), \n",
      "\tPRIMARY KEY (order_id, product_id), \n",
      "\tFOREIGN KEY(order_id) REFERENCES \"order\" (order_id) ON DELETE CASCADE, \n",
      "\tFOREIGN KEY(product_id) REFERENCES product (product_id)\n",
      ")\n",
      "\n",
      "\n",
      "2024-03-25 20:52:21,440 INFO sqlalchemy.engine.Engine [no key 0.00028s] ()\n",
      "2024-03-25 20:52:21,442 INFO sqlalchemy.engine.Engine COMMIT\n"
     ]
    }
   ],
   "source": [
    "Base.metadata.create_all(engine)"
   ]
  },
  {
   "cell_type": "code",
   "execution_count": 864,
   "metadata": {},
   "outputs": [],
   "source": [
    "engine.dispose()"
   ]
  },
  {
   "cell_type": "code",
   "execution_count": 865,
   "metadata": {},
   "outputs": [
    {
     "name": "stdout",
     "output_type": "stream",
     "text": [
      "store.db has been removed.\n"
     ]
    }
   ],
   "source": [
    "remove_file(\"store.db\")"
   ]
  },
  {
   "cell_type": "markdown",
   "metadata": {},
   "source": [
    "## Defining Relationships\n"
   ]
  },
  {
   "cell_type": "markdown",
   "metadata": {},
   "source": [
    "Start from a clean base:"
   ]
  },
  {
   "cell_type": "code",
   "execution_count": 866,
   "metadata": {},
   "outputs": [],
   "source": [
    "class Base(DeclarativeBase):\n",
    "    pass"
   ]
  },
  {
   "cell_type": "markdown",
   "metadata": {},
   "source": [
    "One-to-many, many-to-many:"
   ]
  },
  {
   "cell_type": "code",
   "execution_count": 867,
   "metadata": {},
   "outputs": [],
   "source": [
    "class Product(Base):\n",
    "    __tablename__ = \"product\"\n",
    "\n",
    "    product_id: Mapped[int_pk]\n",
    "    product_name: Mapped[str_255] = mapped_column(\n",
    "        index=True,\n",
    "    )\n",
    "    unit_price: Mapped[num_12_2] = mapped_column(\n",
    "        CheckConstraint(\"unit_price>0\"),\n",
    "    )\n",
    "    units_in_stock: Mapped[int] = mapped_column(\n",
    "        CheckConstraint(\"units_in_stock>=0\"),\n",
    "        default=0,\n",
    "    )\n",
    "    type: Mapped[ProductType] = mapped_column(\n",
    "        default=ProductType.OTHER,\n",
    "    )\n",
    "\n",
    "    # one-to-many relationship with association objects `OrderDetail`\n",
    "    order_details: Mapped[list[OrderDetail]] = relationship(\n",
    "        back_populates=\"product\",\n",
    "    )\n",
    "\n",
    "    # many-to-many relationship to `Order`, bypassing `OrderDetail`\n",
    "    orders: Mapped[list[Order]] = relationship(\n",
    "        secondary=\"order_detail\",\n",
    "        back_populates=\"products\",\n",
    "        viewonly=True,\n",
    "    )"
   ]
  },
  {
   "cell_type": "markdown",
   "metadata": {},
   "source": [
    "Self-referential relationship (one-to-many):"
   ]
  },
  {
   "cell_type": "code",
   "execution_count": 868,
   "metadata": {},
   "outputs": [],
   "source": [
    "class Employee(Base):\n",
    "    __tablename__ = \"employee\"\n",
    "\n",
    "    employee_id: Mapped[int_pk]\n",
    "\n",
    "    manager_id: Mapped[int | None] = mapped_column(\n",
    "        ForeignKey(\"employee.employee_id\"),\n",
    "        default=None,\n",
    "    )\n",
    "\n",
    "    name: Mapped[str_127] = mapped_column(\n",
    "        CheckConstraint(\n",
    "            \"length(name)>0\",\n",
    "            name=\"name_length_must_be_at_least_one_character\",\n",
    "        ),\n",
    "        default=\"\",\n",
    "    )\n",
    "    is_manager: Mapped[bool] = mapped_column(default=False)\n",
    "    hire_date: Mapped[date_auto]\n",
    "\n",
    "    # self-referential relationship between manager and employees\n",
    "    manager: Mapped[Employee] = relationship(\n",
    "        back_populates=\"employees\",\n",
    "        remote_side=[Employee.employee_id],\n",
    "    )\n",
    "\n",
    "    employees: Mapped[list[Employee]] = relationship(\n",
    "        back_populates=\"manager\",\n",
    "    )"
   ]
  },
  {
   "cell_type": "code",
   "execution_count": 869,
   "metadata": {},
   "outputs": [],
   "source": [
    "class Customer(Base):\n",
    "    __tablename__ = \"customer\"\n",
    "\n",
    "    customer_id: Mapped[int_pk]\n",
    "\n",
    "    first_name: Mapped[str_127]\n",
    "    last_name: Mapped[str_127]\n",
    "    address: Mapped[str_255]\n",
    "    email: Mapped[str_127] = mapped_column(unique=True)\n",
    "\n",
    "    __table_args__ = (\n",
    "        Index(\"customer_full_name\", \"first_name\", \"last_name\"),\n",
    "    )\n",
    "\n",
    "    orders: Mapped[list[Order]] = relationship(\n",
    "        back_populates=\"customer\",\n",
    "    )"
   ]
  },
  {
   "cell_type": "markdown",
   "metadata": {},
   "source": [
    "Association proxy (`Order.product_names`):"
   ]
  },
  {
   "cell_type": "code",
   "execution_count": 870,
   "metadata": {},
   "outputs": [],
   "source": [
    "from sqlalchemy.ext.associationproxy import AssociationProxy, association_proxy"
   ]
  },
  {
   "cell_type": "code",
   "execution_count": 871,
   "metadata": {},
   "outputs": [],
   "source": [
    "class Order(Base):\n",
    "    __tablename__ = \"order\"\n",
    "\n",
    "    order_id: Mapped[int_pk]\n",
    "\n",
    "    customer_id: Mapped[int] = mapped_column(\n",
    "        ForeignKey(\"customer.customer_id\"),\n",
    "        default=None,\n",
    "    )\n",
    "    employee_id: Mapped[int | None] = mapped_column(\n",
    "        ForeignKey(\"employee.employee_id\"),\n",
    "        default=None,\n",
    "    )\n",
    "\n",
    "    order_datetime: Mapped[timestamp_auto]\n",
    "    is_shipped: Mapped[bool] = mapped_column(default=False)\n",
    "\n",
    "    customer: Mapped[Customer] = relationship(\n",
    "        back_populates=\"orders\",\n",
    "    )\n",
    "\n",
    "    # one-to-many relationship with association objects `OrderDetail`\n",
    "    order_details: Mapped[list[OrderDetail]] = relationship(\n",
    "        back_populates=\"order\",\n",
    "        cascade=\"all, delete-orphan\",\n",
    "        passive_deletes=True,\n",
    "    )\n",
    "\n",
    "    # many-to-many relationship with `Product`, bypassing `OrderDetail` class\n",
    "    products: Mapped[list[Product]] = relationship(\n",
    "        secondary=\"order_detail\",\n",
    "        back_populates=\"orders\",\n",
    "        viewonly=True,  # avoid conflicting changes between relations\n",
    "    )\n",
    "\n",
    "    product_names: AssociationProxy[list[str]] = association_proxy(\n",
    "        \"products\",\n",
    "        \"product_name\",\n",
    "    )"
   ]
  },
  {
   "cell_type": "markdown",
   "metadata": {},
   "source": [
    "Association class:"
   ]
  },
  {
   "cell_type": "code",
   "execution_count": 872,
   "metadata": {},
   "outputs": [],
   "source": [
    "class OrderDetail(Base):\n",
    "\n",
    "    __tablename__ = \"order_detail\"\n",
    "\n",
    "    order_id: Mapped[int] = mapped_column(\n",
    "        ForeignKey(\"order.order_id\", ondelete=\"CASCADE\"),\n",
    "        primary_key=True,\n",
    "        default=None,\n",
    "    )\n",
    "    product_id: Mapped[int] = mapped_column(\n",
    "        ForeignKey(\"product.product_id\"),\n",
    "        primary_key=True,\n",
    "        default=None,\n",
    "    )\n",
    "\n",
    "    quantity: Mapped[int] = mapped_column(\n",
    "        CheckConstraint(\n",
    "            \"quantity>0\",\n",
    "            name=\"num_of_ordered_item_must_be_positive\",\n",
    "        ),\n",
    "        default=1,\n",
    "    )\n",
    "\n",
    "    # many-to-one relationship\n",
    "    order: Mapped[Order] = relationship(\n",
    "        back_populates=\"order_details\",\n",
    "    )\n",
    "\n",
    "    # many-to-one relationship\n",
    "    product: Mapped[Product] = relationship(\n",
    "        back_populates=\"order_details\",\n",
    "    )"
   ]
  },
  {
   "cell_type": "markdown",
   "metadata": {},
   "source": [
    "One-to-one relationship (for explanation only, not included in our system):"
   ]
  },
  {
   "cell_type": "code",
   "execution_count": 873,
   "metadata": {},
   "outputs": [],
   "source": [
    "class Parent(Base):\n",
    "    __tablename__ = \"parent_table\"\n",
    "\n",
    "    id: Mapped[int_pk]\n",
    "\n",
    "    # one-to-many relationship with only one child\n",
    "    child: Mapped[Child] = relationship(back_populates=\"parent\")\n",
    "\n",
    "\n",
    "class Child(Base):\n",
    "    __tablename__ = \"child_table\"\n",
    "\n",
    "    id: Mapped[int_pk]\n",
    "    parent_id: Mapped[int] = mapped_column(ForeignKey(\"parent_table.id\"))\n",
    "\n",
    "    # still a many-to-one relationship\n",
    "    parent: Mapped[Parent] = relationship(back_populates=\"child\")"
   ]
  },
  {
   "cell_type": "code",
   "execution_count": 874,
   "metadata": {},
   "outputs": [
    {
     "name": "stdout",
     "output_type": "stream",
     "text": [
      "2024-03-25 20:52:21,501 INFO sqlalchemy.engine.Engine BEGIN (implicit)\n",
      "2024-03-25 20:52:21,502 INFO sqlalchemy.engine.Engine PRAGMA main.table_info(\"product\")\n",
      "2024-03-25 20:52:21,502 INFO sqlalchemy.engine.Engine [raw sql] ()\n",
      "2024-03-25 20:52:21,503 INFO sqlalchemy.engine.Engine PRAGMA temp.table_info(\"product\")\n",
      "2024-03-25 20:52:21,503 INFO sqlalchemy.engine.Engine [raw sql] ()\n",
      "2024-03-25 20:52:21,504 INFO sqlalchemy.engine.Engine PRAGMA main.table_info(\"employee\")\n",
      "2024-03-25 20:52:21,504 INFO sqlalchemy.engine.Engine [raw sql] ()\n",
      "2024-03-25 20:52:21,505 INFO sqlalchemy.engine.Engine PRAGMA temp.table_info(\"employee\")\n",
      "2024-03-25 20:52:21,505 INFO sqlalchemy.engine.Engine [raw sql] ()\n",
      "2024-03-25 20:52:21,505 INFO sqlalchemy.engine.Engine PRAGMA main.table_info(\"customer\")\n",
      "2024-03-25 20:52:21,506 INFO sqlalchemy.engine.Engine [raw sql] ()\n",
      "2024-03-25 20:52:21,506 INFO sqlalchemy.engine.Engine PRAGMA temp.table_info(\"customer\")\n",
      "2024-03-25 20:52:21,506 INFO sqlalchemy.engine.Engine [raw sql] ()\n",
      "2024-03-25 20:52:21,507 INFO sqlalchemy.engine.Engine PRAGMA main.table_info(\"order\")\n",
      "2024-03-25 20:52:21,507 INFO sqlalchemy.engine.Engine [raw sql] ()\n",
      "2024-03-25 20:52:21,507 INFO sqlalchemy.engine.Engine PRAGMA temp.table_info(\"order\")\n",
      "2024-03-25 20:52:21,508 INFO sqlalchemy.engine.Engine [raw sql] ()\n",
      "2024-03-25 20:52:21,508 INFO sqlalchemy.engine.Engine PRAGMA main.table_info(\"order_detail\")\n",
      "2024-03-25 20:52:21,508 INFO sqlalchemy.engine.Engine [raw sql] ()\n",
      "2024-03-25 20:52:21,509 INFO sqlalchemy.engine.Engine PRAGMA temp.table_info(\"order_detail\")\n",
      "2024-03-25 20:52:21,509 INFO sqlalchemy.engine.Engine [raw sql] ()\n",
      "2024-03-25 20:52:21,509 INFO sqlalchemy.engine.Engine PRAGMA main.table_info(\"parent_table\")\n",
      "2024-03-25 20:52:21,510 INFO sqlalchemy.engine.Engine [raw sql] ()\n",
      "2024-03-25 20:52:21,510 INFO sqlalchemy.engine.Engine PRAGMA temp.table_info(\"parent_table\")\n",
      "2024-03-25 20:52:21,510 INFO sqlalchemy.engine.Engine [raw sql] ()\n",
      "2024-03-25 20:52:21,511 INFO sqlalchemy.engine.Engine PRAGMA main.table_info(\"child_table\")\n",
      "2024-03-25 20:52:21,511 INFO sqlalchemy.engine.Engine [raw sql] ()\n",
      "2024-03-25 20:52:21,511 INFO sqlalchemy.engine.Engine PRAGMA temp.table_info(\"child_table\")\n",
      "2024-03-25 20:52:21,512 INFO sqlalchemy.engine.Engine [raw sql] ()\n",
      "2024-03-25 20:52:21,513 INFO sqlalchemy.engine.Engine \n",
      "CREATE TABLE product (\n",
      "\tproduct_id INTEGER NOT NULL, \n",
      "\tproduct_name VARCHAR(255) NOT NULL, \n",
      "\tunit_price NUMERIC(12, 2) NOT NULL CHECK (unit_price>0), \n",
      "\tunits_in_stock INTEGER NOT NULL CHECK (units_in_stock>=0), \n",
      "\ttype VARCHAR(9) NOT NULL, \n",
      "\tPRIMARY KEY (product_id)\n",
      ")\n",
      "\n",
      "\n",
      "2024-03-25 20:52:21,513 INFO sqlalchemy.engine.Engine [no key 0.00024s] ()\n",
      "2024-03-25 20:52:21,515 INFO sqlalchemy.engine.Engine CREATE INDEX ix_product_product_name ON product (product_name)\n",
      "2024-03-25 20:52:21,516 INFO sqlalchemy.engine.Engine [no key 0.00029s] ()\n",
      "2024-03-25 20:52:21,518 INFO sqlalchemy.engine.Engine \n",
      "CREATE TABLE employee (\n",
      "\temployee_id INTEGER NOT NULL, \n",
      "\tmanager_id INTEGER, \n",
      "\tname VARCHAR(127) NOT NULL CONSTRAINT name_length_must_be_at_least_one_character CHECK (length(name)>0), \n",
      "\tis_manager BOOLEAN NOT NULL, \n",
      "\thire_date DATE NOT NULL, \n",
      "\tPRIMARY KEY (employee_id), \n",
      "\tFOREIGN KEY(manager_id) REFERENCES employee (employee_id)\n",
      ")\n",
      "\n",
      "\n",
      "2024-03-25 20:52:21,519 INFO sqlalchemy.engine.Engine [no key 0.00038s] ()\n",
      "2024-03-25 20:52:21,521 INFO sqlalchemy.engine.Engine \n",
      "CREATE TABLE customer (\n",
      "\tcustomer_id INTEGER NOT NULL, \n",
      "\tfirst_name VARCHAR(127) NOT NULL, \n",
      "\tlast_name VARCHAR(127) NOT NULL, \n",
      "\taddress VARCHAR(255) NOT NULL, \n",
      "\temail VARCHAR(127) NOT NULL, \n",
      "\tPRIMARY KEY (customer_id), \n",
      "\tUNIQUE (email)\n",
      ")\n",
      "\n",
      "\n",
      "2024-03-25 20:52:21,522 INFO sqlalchemy.engine.Engine [no key 0.00040s] ()\n",
      "2024-03-25 20:52:21,525 INFO sqlalchemy.engine.Engine CREATE INDEX customer_full_name ON customer (first_name, last_name)\n",
      "2024-03-25 20:52:21,525 INFO sqlalchemy.engine.Engine [no key 0.00041s] ()\n",
      "2024-03-25 20:52:21,528 INFO sqlalchemy.engine.Engine \n",
      "CREATE TABLE parent_table (\n",
      "\tid INTEGER NOT NULL, \n",
      "\tPRIMARY KEY (id)\n",
      ")\n",
      "\n",
      "\n",
      "2024-03-25 20:52:21,528 INFO sqlalchemy.engine.Engine [no key 0.00036s] ()\n",
      "2024-03-25 20:52:21,530 INFO sqlalchemy.engine.Engine \n",
      "CREATE TABLE \"order\" (\n",
      "\torder_id INTEGER NOT NULL, \n",
      "\tcustomer_id INTEGER NOT NULL, \n",
      "\temployee_id INTEGER, \n",
      "\torder_datetime DATETIME NOT NULL, \n",
      "\tis_shipped BOOLEAN NOT NULL, \n",
      "\tPRIMARY KEY (order_id), \n",
      "\tFOREIGN KEY(customer_id) REFERENCES customer (customer_id), \n",
      "\tFOREIGN KEY(employee_id) REFERENCES employee (employee_id)\n",
      ")\n",
      "\n",
      "\n",
      "2024-03-25 20:52:21,531 INFO sqlalchemy.engine.Engine [no key 0.00043s] ()\n",
      "2024-03-25 20:52:21,533 INFO sqlalchemy.engine.Engine \n",
      "CREATE TABLE child_table (\n",
      "\tid INTEGER NOT NULL, \n",
      "\tparent_id INTEGER NOT NULL, \n",
      "\tPRIMARY KEY (id), \n",
      "\tFOREIGN KEY(parent_id) REFERENCES parent_table (id)\n",
      ")\n",
      "\n",
      "\n",
      "2024-03-25 20:52:21,534 INFO sqlalchemy.engine.Engine [no key 0.00062s] ()\n",
      "2024-03-25 20:52:21,536 INFO sqlalchemy.engine.Engine \n",
      "CREATE TABLE order_detail (\n",
      "\torder_id INTEGER NOT NULL, \n",
      "\tproduct_id INTEGER NOT NULL, \n",
      "\tquantity INTEGER NOT NULL CONSTRAINT num_of_ordered_item_must_be_positive CHECK (quantity>0), \n",
      "\tPRIMARY KEY (order_id, product_id), \n",
      "\tFOREIGN KEY(order_id) REFERENCES \"order\" (order_id) ON DELETE CASCADE, \n",
      "\tFOREIGN KEY(product_id) REFERENCES product (product_id)\n",
      ")\n",
      "\n",
      "\n",
      "2024-03-25 20:52:21,537 INFO sqlalchemy.engine.Engine [no key 0.00046s] ()\n",
      "2024-03-25 20:52:21,539 INFO sqlalchemy.engine.Engine COMMIT\n"
     ]
    }
   ],
   "source": [
    "Base.metadata.create_all(engine)"
   ]
  }
 ],
 "metadata": {
  "kernelspec": {
   "display_name": "mybook_py310",
   "language": "python",
   "name": "python3"
  },
  "language_info": {
   "codemirror_mode": {
    "name": "ipython",
    "version": 3
   },
   "file_extension": ".py",
   "mimetype": "text/x-python",
   "name": "python",
   "nbconvert_exporter": "python",
   "pygments_lexer": "ipython3",
   "version": "3.10.10"
  }
 },
 "nbformat": 4,
 "nbformat_minor": 2
}
